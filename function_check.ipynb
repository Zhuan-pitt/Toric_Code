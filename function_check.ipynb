{
 "cells": [
  {
   "cell_type": "code",
   "execution_count": 1,
   "metadata": {},
   "outputs": [],
   "source": [
    "import numpy as np\n",
    "from matplotlib import pyplot\n",
    "from scipy import linalg\n",
    "import copy\n",
    "import iMPS\n",
    "from scipy.sparse import linalg\n",
    "import funcs"
   ]
  },
  {
   "attachments": {},
   "cell_type": "markdown",
   "metadata": {},
   "source": [
    "correlation function\n"
   ]
  },
  {
   "cell_type": "code",
   "execution_count": 2,
   "metadata": {},
   "outputs": [
    {
     "name": "stdout",
     "output_type": "stream",
     "text": [
      "(0.86591449928742+2.2810350840748262e-17j)\n"
     ]
    }
   ],
   "source": [
    "np.random.seed(0)\n",
    "\n",
    "A = np.zeros([3,3,2],dtype = 'complex')\n",
    "\n",
    "A = A+np.random.random([3,3,2])\n",
    "\n",
    "A = A+np.random.random([3,3,2])*1j\n",
    "\n",
    "x = np.array([[0,1],[1,0]])\n",
    "x = x.reshape([1,1,2,2])\n",
    "\n",
    "trans1 = funcs.col_contract343(A,x,A)\n",
    "\n",
    "trans2 = funcs.col_contract343(A,x,A)\n",
    "\n",
    "trans = funcs.col_contract33(A,A)\n",
    "\n",
    "lam,v = np.linalg.eig(trans.transpose()) \n",
    "index = lam.argsort()[::-1]\n",
    "Gl = v[:,index[0]]\n",
    "\n",
    "lam,v = np.linalg.eig(trans) \n",
    "index = lam.argsort()[::-1]\n",
    "Gr = v[:,index[0]]\n",
    "\n",
    "cor = Gl@trans1@trans@trans@trans2@Gr/(Gl@trans@trans@trans@trans@Gr)\n",
    "print(cor)"
   ]
  },
  {
   "cell_type": "code",
   "execution_count": 3,
   "metadata": {},
   "outputs": [
    {
     "name": "stdout",
     "output_type": "stream",
     "text": [
      "(0.8659144992874195-1.3920188117035088e-19j)\n"
     ]
    }
   ],
   "source": [
    "MPS = iMPS.iMPS()\n",
    "MPS.construct_from_tensor_list([A])\n",
    "\n",
    "\n",
    "trans1 = funcs.col_contract343(MPS.B[0],x,MPS.B[0])\n",
    "\n",
    "trans2 = funcs.col_contract343(MPS.B[0],x,MPS.B[0])\n",
    "\n",
    "trans = funcs.col_contract33(MPS.B[0],MPS.B[0])\n",
    "\n",
    "lam,v = np.linalg.eig(trans.transpose()) \n",
    "index = lam.argsort()[::-1]\n",
    "Gl = v[:,index[0]]\n",
    "\n",
    "lam,v = np.linalg.eig(trans) \n",
    "index = lam.argsort()[::-1]\n",
    "Gr = v[:,index[0]]\n",
    "\n",
    "cor = Gl@trans1@trans@trans@trans2@Gr/(Gl@trans@trans@trans@trans@Gr)\n",
    "print(cor)"
   ]
  },
  {
   "cell_type": "code",
   "execution_count": 2,
   "metadata": {},
   "outputs": [
    {
     "data": {
      "text/plain": [
       "True"
      ]
     },
     "execution_count": 2,
     "metadata": {},
     "output_type": "execute_result"
    }
   ],
   "source": [
    "M = np.zeros([9,9],dtype='complex')\n",
    "M += np.random.random([9,9])\n",
    "M = M+M.transpose()\n",
    "\n",
    "M += np.random.random([9,9])*1j\n",
    "M = M+M.transpose().conj()\n",
    "\n",
    "\n",
    "funcs.is_hermitian_upto_a_phase(M)"
   ]
  },
  {
   "cell_type": "code",
   "execution_count": 3,
   "metadata": {},
   "outputs": [],
   "source": [
    "np.random.seed(0)\n",
    "A = np.random.normal(0,1,[9,9])\n",
    "A = A@A.transpose()\n",
    "X = funcs.sqrthm(A,1e-10)\n",
    "assert (np.linalg.norm(X@X.transpose().conj()-A))<1e-5"
   ]
  },
  {
   "cell_type": "code",
   "execution_count": 4,
   "metadata": {},
   "outputs": [
    {
     "name": "stdout",
     "output_type": "stream",
     "text": [
      "1\n"
     ]
    }
   ],
   "source": [
    "np.random.seed(0)\n",
    "A = np.random.random([3,3,4])\n",
    "A = A+np.transpose(A,[1,0,2])\n",
    "B = np.random.random([3,3,4])\n",
    "B = B+np.transpose(B,[1,0,2])\n",
    "MPS = iMPS.iMPS()\n",
    "MPS.construct_from_tensor_list([A,B])"
   ]
  },
  {
   "cell_type": "code",
   "execution_count": 5,
   "metadata": {},
   "outputs": [
    {
     "data": {
      "text/plain": [
       "True"
      ]
     },
     "execution_count": 5,
     "metadata": {},
     "output_type": "execute_result"
    }
   ],
   "source": [
    "trans = MPS.transfer_matrix()\n",
    "isinstance(trans,linalg.LinearOperator)\n",
    "#isinstance(trans,np.ndarray)"
   ]
  },
  {
   "cell_type": "code",
   "execution_count": 6,
   "metadata": {},
   "outputs": [],
   "source": [
    "\n",
    "trans = MPS.transfer_matrix()\n",
    "vr = np.eye(MPS.chi[0])\n",
    "vr = np.reshape(vr,[MPS.chi[0]**2,])\n",
    "V = trans.dot(vr)\n",
    "assert np.linalg.norm(V-vr*V[0]) <=1e-12, f'not right canonical, error = {np.linalg.norm(V-vr)}'\n",
    "\n",
    "\n",
    "vl = MPS.s[0]@MPS.s[0].conj().transpose()\n",
    "vl = np.reshape(vl,[MPS.chi[0]**2,])\n",
    "V = trans.rmatvec(vl)\n",
    "  \n",
    "assert np.linalg.norm(V-vl*V[0]/vl[0]) <=1e-12, f'not left canonical, error = {np.linalg.norm(V-vl)}'\n",
    "            "
   ]
  },
  {
   "cell_type": "code",
   "execution_count": 7,
   "metadata": {},
   "outputs": [],
   "source": [
    "gammaB = MPS.B[1]\n",
    "transB = funcs.col_contract33(gammaB,gammaB)\n",
    "vr = np.eye(MPS.chi[0])\n",
    "vr = np.reshape(vr,[MPS.chi[0]**2,])\n",
    "V = transB.dot(vr)\n",
    "assert np.linalg.norm(V-vr*V[0]) <=1e-12, f'not right canonical, error = {np.linalg.norm(V-vr)}'\n",
    "\n",
    "gammaA = MPS.B[0]\n",
    "transA = funcs.col_contract33(gammaA,gammaA)\n",
    "vl = MPS.s[0]@MPS.s[0].conj().transpose()\n",
    "vl = np.reshape(vl,[MPS.chi[0]**2,])\n",
    "V = vl@transA\n",
    "  \n",
    "vl2 = MPS.s[1]@MPS.s[1].conj().transpose()\n",
    "vl2 = np.reshape(vl2,[MPS.chi[1]**2,])\n",
    "assert np.linalg.norm(V-vl2*V[0]/vl2[0]) <=1e-12, f'not left canonical, error = {np.linalg.norm(V-vr)}'"
   ]
  },
  {
   "cell_type": "code",
   "execution_count": 8,
   "metadata": {},
   "outputs": [
    {
     "data": {
      "text/plain": [
       "(9,)"
      ]
     },
     "execution_count": 8,
     "metadata": {},
     "output_type": "execute_result"
    }
   ],
   "source": [
    "V.shape"
   ]
  },
  {
   "attachments": {},
   "cell_type": "markdown",
   "metadata": {},
   "source": [
    "Test on Toric code"
   ]
  },
  {
   "cell_type": "code",
   "execution_count": 9,
   "metadata": {},
   "outputs": [
    {
     "name": "stderr",
     "output_type": "stream",
     "text": [
      "/Users/lizhuan/opt/anaconda3/lib/python3.9/site-packages/numpy/core/_asarray.py:102: ComplexWarning: Casting complex values to real discards the imaginary part\n",
      "  return array(a, dtype, copy=False, order=order)\n"
     ]
    },
    {
     "data": {
      "image/png": "[encoded data removed]",
      "text/plain": [
       "<Figure size 432x288 with 1 Axes>"
      ]
     },
     "metadata": {
      "needs_background": "light"
     },
     "output_type": "display_data"
    }
   ],
   "source": [
    "for h in np.arange(0.3,0.301,0.01):\n",
    "    trans = funcs.single_trans(h)\n",
    "    MPO = iMPS.iMPO()\n",
    "    MPO.construct_from_tensor_list([trans])\n",
    "\n",
    "    B = np.zeros([1,1,4])\n",
    "    B[0,0] =np.random.random([2,2]).reshape([4,])\n",
    "    MPS = iMPS.iMPS()\n",
    "    MPS.construct_from_tensor_list([B])\n",
    "    MPS_power = iMPS.MPS_power_method(MPS,MPO,50)\n",
    "    MPS_power.update(0,20)\n",
    "    pyplot.plot(MPS_power.E_history)\n",
    "    #print(MPS.transfer_matrix(0))\n",
    "#B[1,1] = np.random.random([2,2]).reshape([4,])\n"
   ]
  },
  {
   "cell_type": "code",
   "execution_count": 10,
   "metadata": {},
   "outputs": [],
   "source": [
    "eigs=[]\n",
    "\n",
    "for h in np.arange(0.,0.3,0.01):   \n",
    "    \n",
    "    B = np.zeros([1,1,4])\n",
    "    B[0,0] =np.array([[np.exp(h),0],[0,np.exp(-h)]]).reshape([4,])\n",
    "    MPS = iMPS.iMPS()\n",
    "    MPS.construct_from_tensor_list([B])\n",
    "    MPS.svd_threshold =1e-10\n",
    "        \n",
    "     \n",
    "    trans = funcs.single_trans(h)\n",
    "    MPO = iMPS.iMPO()\n",
    "    MPO.construct_from_tensor_list([trans])\n",
    "    MPS_power = iMPS.MPS_power_method(MPS,MPO,20)\n",
    "    MPS_power.update(0,200)\n",
    "    #print(MPS.chi[0])\n",
    "    eigs.append(MPS_power.E_history[-1])"
   ]
  },
  {
   "cell_type": "code",
   "execution_count": 11,
   "metadata": {},
   "outputs": [
    {
     "name": "stderr",
     "output_type": "stream",
     "text": [
      "/Users/lizhuan/opt/anaconda3/lib/python3.9/site-packages/numpy/core/_asarray.py:102: ComplexWarning: Casting complex values to real discards the imaginary part\n",
      "  return array(a, dtype, copy=False, order=order)\n"
     ]
    },
    {
     "data": {
      "text/plain": [
       "[<matplotlib.lines.Line2D at 0x7fd02dac1f70>]"
      ]
     },
     "execution_count": 11,
     "metadata": {},
     "output_type": "execute_result"
    },
    {
     "data": {
      "image/png": "[encoded data removed]",
      "text/plain": [
       "<Figure size 432x288 with 1 Axes>"
      ]
     },
     "metadata": {
      "needs_background": "light"
     },
     "output_type": "display_data"
    }
   ],
   "source": [
    "pyplot.plot(np.arange(0.,0.3,0.01),eigs)"
   ]
  },
  {
   "cell_type": "code",
   "execution_count": 15,
   "metadata": {},
   "outputs": [
    {
     "data": {
      "text/plain": [
       "[(1.999999999999997-1.2650479815970684e-47j),\n",
       " (2.0004000241795463-2.0301379871118128e-18j),\n",
       " (2.001600529636439+1.0435455354950106e-18j),\n",
       " (2.0036026952606103-1.1081987534362217e-18j),\n",
       " (2.0064085066778437+6.808039269327873e-18j),\n",
       " (2.0100207314890537+7.6749419796843555e-19j),\n",
       " (2.0144428952929423-1.430242173287957e-18j),\n",
       " (2.019679263171416-6.734178120575937e-19j),\n",
       " (2.0386092673348317+3.534114402315605e-13j),\n",
       " (2.0489312046996786+9.769474797279463e-14j),\n",
       " (2.060506227921261-7.263814811336939e-16j),\n",
       " (2.073343048092676-5.6643957545376e-15j),\n",
       " (2.0874558905210767+3.629920008345034e-15j),\n",
       " (2.102859653703115-9.67930582611086e-15j),\n",
       " (2.1195717059605577+1.3531000340495865e-14j),\n",
       " (2.137610886639798+9.784015791929917e-15j),\n",
       " (2.1569982618048336-3.952322889216627e-15j),\n",
       " (2.1777572447210525-2.1754548974747448e-15j),\n",
       " (2.199913855439273+7.126253157654987e-16j),\n",
       " (2.2234970558642613-7.026515937089691e-16j),\n",
       " (2.2485391409965603-5.49089410038345e-16j),\n",
       " (2.2750761958510433+9.128614430002159e-16j),\n",
       " (2.303148625946036+4.2092124020293365e-16j),\n",
       " (2.3393417763224487+6.532017524211233e-17j),\n",
       " (2.381790411466009-4.036823236322908e-15j),\n",
       " (2.4187879209029535+4.4426717873044526e-15j),\n",
       " (2.4582985455305133-1.304415808943818e-14j),\n",
       " (2.5005143762976885-6.896749647351941e-16j),\n",
       " (2.5456517680217905+7.575329996770636e-16j),\n",
       " (2.593956855855005-9.806847685146491e-15j)]"
      ]
     },
     "execution_count": 15,
     "metadata": {},
     "output_type": "execute_result"
    }
   ],
   "source": [
    "eigs"
   ]
  },
  {
   "cell_type": "code",
   "execution_count": null,
   "metadata": {},
   "outputs": [],
   "source": []
  }
 ],
 "metadata": {
  "kernelspec": {
   "display_name": "base",
   "language": "python",
   "name": "python3"
  },
  "language_info": {
   "codemirror_mode": {
    "name": "ipython",
    "version": 3
   },
   "file_extension": ".py",
   "mimetype": "text/x-python",
   "name": "python",
   "nbconvert_exporter": "python",
   "pygments_lexer": "ipython3",
   "version": "3.9.7"
  },
  "orig_nbformat": 4,
  "vscode": {
   "interpreter": {
    "hash": "a477bac5059954408e464007e59c6ff8c80bc3de84912130ad7e386887dbf516"
   }
  }
 },
 "nbformat": 4,
 "nbformat_minor": 2
}
