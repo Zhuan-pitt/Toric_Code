{
 "cells": [
  {
   "cell_type": "code",
   "execution_count": 1,
   "metadata": {},
   "outputs": [],
   "source": [
    "import numpy as np\n",
    "from matplotlib import pyplot\n",
    "from scipy import linalg\n",
    "import copy\n",
    "import iMPS\n",
    "from scipy.sparse import linalg\n",
    "import funcs"
   ]
  },
  {
   "cell_type": "code",
   "execution_count": 2,
   "metadata": {},
   "outputs": [
    {
     "data": {
      "text/plain": [
       "True"
      ]
     },
     "execution_count": 2,
     "metadata": {},
     "output_type": "execute_result"
    }
   ],
   "source": [
    "M = np.zeros([9,9],dtype='complex')\n",
    "M += np.random.random([9,9])\n",
    "M = M+M.transpose()\n",
    "\n",
    "M += np.random.random([9,9])*1j\n",
    "M = M+M.transpose().conj()\n",
    "\n",
    "\n",
    "funcs.is_hermitian_upto_a_phase(M)"
   ]
  },
  {
   "cell_type": "code",
   "execution_count": 3,
   "metadata": {},
   "outputs": [],
   "source": [
    "np.random.seed(0)\n",
    "A = np.random.normal(0,1,[9,9])\n",
    "A = A@A.transpose()\n",
    "X = funcs.sqrthm(A,1e-10)\n",
    "assert (np.linalg.norm(X@X.transpose().conj()-A))<1e-5"
   ]
  },
  {
   "cell_type": "code",
   "execution_count": 4,
   "metadata": {},
   "outputs": [],
   "source": [
    "np.random.seed(0)\n",
    "A = np.random.random([3,3,4])\n",
    "A = A+np.transpose(A,[1,0,2])\n",
    "B = np.random.random([3,3,4])\n",
    "B = B+np.transpose(B,[1,0,2])\n",
    "MPS = iMPS.iMPS()\n",
    "MPS.construct_from_tensor_list([A,B])"
   ]
  },
  {
   "cell_type": "code",
   "execution_count": 5,
   "metadata": {},
   "outputs": [
    {
     "data": {
      "text/plain": [
       "True"
      ]
     },
     "execution_count": 5,
     "metadata": {},
     "output_type": "execute_result"
    }
   ],
   "source": [
    "trans = MPS.transfer_matrix()\n",
    "isinstance(trans,linalg.LinearOperator)\n",
    "#isinstance(trans,np.ndarray)"
   ]
  },
  {
   "cell_type": "code",
   "execution_count": 6,
   "metadata": {},
   "outputs": [],
   "source": [
    "\n",
    "trans = MPS.transfer_matrix()\n",
    "vr = np.eye(MPS.chi[0])\n",
    "vr = np.reshape(vr,[MPS.chi[0]**2,])\n",
    "V = trans.dot(vr)\n",
    "assert np.linalg.norm(V-vr*V[0]) <=1e-12, f'not right canonical, error = {np.linalg.norm(V-vr)}'\n",
    "\n",
    "\n",
    "vl = MPS.s[0]@MPS.s[0].conj().transpose()\n",
    "vl = np.reshape(vl,[MPS.chi[0]**2,])\n",
    "V = trans.rmatvec(vl)\n",
    "  \n",
    "assert np.linalg.norm(V-vl*V[0]/vl[0]) <=1e-12, f'not left canonical, error = {np.linalg.norm(V-vl)}'\n",
    "            "
   ]
  },
  {
   "cell_type": "code",
   "execution_count": 7,
   "metadata": {},
   "outputs": [],
   "source": [
    "gammaB = MPS.B[1]\n",
    "transB = funcs.col_contract33(gammaB,gammaB)\n",
    "vr = np.eye(MPS.chi[0])\n",
    "vr = np.reshape(vr,[MPS.chi[0]**2,])\n",
    "V = trans.dot(vr)\n",
    "assert np.linalg.norm(V-vr*V[0]) <=1e-12, f'not right canonical, error = {np.linalg.norm(V-vr)}'\n",
    "\n",
    "gammaA = MPS.B[0]\n",
    "transA = funcs.col_contract33(gammaA,gammaA)\n",
    "vl = MPS.s[0]@MPS.s[0].conj().transpose()\n",
    "vl = np.reshape(vl,[MPS.chi[0]**2,])\n",
    "V = vl@transA\n",
    "  \n",
    "vl2 = MPS.s[1]@MPS.s[1].conj().transpose()\n",
    "vl2 = np.reshape(vl2,[MPS.chi[1]**2,])\n",
    "assert np.linalg.norm(V-vl2*V[0]/vl2[0]) <=1e-12, f'not left canonical, error = {np.linalg.norm(V-vr)}'"
   ]
  },
  {
   "cell_type": "code",
   "execution_count": null,
   "metadata": {},
   "outputs": [
    {
     "data": {
      "text/plain": [
       "(144,)"
      ]
     },
     "execution_count": 8,
     "metadata": {},
     "output_type": "execute_result"
    }
   ],
   "source": [
    "V.shape"
   ]
  },
  {
   "attachments": {},
   "cell_type": "markdown",
   "metadata": {},
   "source": [
    "Test on Toric code"
   ]
  },
  {
   "cell_type": "code",
   "execution_count": null,
   "metadata": {},
   "outputs": [
    {
     "name": "stderr",
     "output_type": "stream",
     "text": [
      "/Users/lizhuan/opt/anaconda3/lib/python3.9/site-packages/numpy/core/_asarray.py:102: ComplexWarning: Casting complex values to real discards the imaginary part\n",
      "  return array(a, dtype, copy=False, order=order)\n"
     ]
    },
    {
     "data": {
      "image/png": "[encoded data removed]",
      "text/plain": [
       "<Figure size 432x288 with 1 Axes>"
      ]
     },
     "metadata": {
      "needs_background": "light"
     },
     "output_type": "display_data"
    }
   ],
   "source": [
    "for h in np.arange(0.3,0.301,0.01):\n",
    "    trans = funcs.single_trans(h)\n",
    "    MPO = iMPS.iMPO()\n",
    "    MPO.construct_from_tensor_list([trans])\n",
    "\n",
    "    B = np.zeros([1,1,4])\n",
    "    B[0,0] =np.random.random([2,2]).reshape([4,])\n",
    "    MPS = iMPS.iMPS()\n",
    "    MPS.construct_from_tensor_list([B])\n",
    "    MPS_power = iMPS.MPS_power_method(MPS,MPO,50)\n",
    "    MPS_power.update(0,20)\n",
    "    pyplot.plot(MPS_power.E_history)\n",
    "    #print(MPS.transfer_matrix(0))\n",
    "#B[1,1] = np.random.random([2,2]).reshape([4,])\n"
   ]
  },
  {
   "cell_type": "code",
   "execution_count": 9,
   "metadata": {},
   "outputs": [],
   "source": [
    "eigs=[]\n",
    "\n",
    "for h in np.arange(0.,0.3,0.01):   \n",
    "    \n",
    "    B = np.zeros([1,1,4])\n",
    "    B[0,0] =np.array([[np.exp(h),0],[0,np.exp(-h)]]).reshape([4,])\n",
    "    MPS = iMPS.iMPS()\n",
    "    MPS.construct_from_tensor_list([B])\n",
    "    MPS.svd_threshold =1e-10\n",
    "        \n",
    "     \n",
    "    trans = funcs.single_trans(h)\n",
    "    MPO = iMPS.iMPO()\n",
    "    MPO.construct_from_tensor_list([trans])\n",
    "    MPS_power = iMPS.MPS_power_method(MPS,MPO,20)\n",
    "    MPS_power.update(0,200)\n",
    "    #print(MPS.chi[0])\n",
    "    eigs.append(MPS_power.E_history[-1])"
   ]
  },
  {
   "cell_type": "code",
   "execution_count": 10,
   "metadata": {},
   "outputs": [
    {
     "name": "stderr",
     "output_type": "stream",
     "text": [
      "/Users/lizhuan/opt/anaconda3/lib/python3.9/site-packages/numpy/core/_asarray.py:102: ComplexWarning: Casting complex values to real discards the imaginary part\n",
      "  return array(a, dtype, copy=False, order=order)\n"
     ]
    },
    {
     "data": {
      "text/plain": [
       "[<matplotlib.lines.Line2D at 0x7f9783120700>]"
      ]
     },
     "execution_count": 10,
     "metadata": {},
     "output_type": "execute_result"
    },
    {
     "data": {
      "image/png": "[encoded data removed]",
      "text/plain": [
       "<Figure size 432x288 with 1 Axes>"
      ]
     },
     "metadata": {
      "needs_background": "light"
     },
     "output_type": "display_data"
    }
   ],
   "source": [
    "pyplot.plot(np.arange(0.,0.3,0.01),eigs)"
   ]
  },
  {
   "cell_type": "code",
   "execution_count": null,
   "metadata": {},
   "outputs": [
    {
     "data": {
      "text/plain": [
       "array([2.        , 2.00040002, 2.00160053, 2.0036027 , 2.00640851,\n",
       "       2.01002073, 2.0144429 , 2.01967926, 2.03860927, 2.0489312 ,\n",
       "       2.06050623, 2.07334305, 2.08745589, 2.10285965, 2.11957171,\n",
       "       2.13761089, 2.15699826, 2.17775724, 2.19991386, 2.22349706,\n",
       "       2.24853914, 2.2750762 , 2.30314863, 2.33934178, 2.38179041,\n",
       "       2.41878792, 2.45829855, 2.50051438, 2.54565177, 2.59395686])"
      ]
     },
     "execution_count": 12,
     "metadata": {},
     "output_type": "execute_result"
    }
   ],
   "source": [
    "np.real(eigs)"
   ]
  },
  {
   "cell_type": "code",
   "execution_count": null,
   "metadata": {},
   "outputs": [],
   "source": []
  }
 ],
 "metadata": {
  "kernelspec": {
   "display_name": "base",
   "language": "python",
   "name": "python3"
  },
  "language_info": {
   "codemirror_mode": {
    "name": "ipython",
    "version": 3
   },
   "file_extension": ".py",
   "mimetype": "text/x-python",
   "name": "python",
   "nbconvert_exporter": "python",
   "pygments_lexer": "ipython3",
   "version": "3.9.7"
  },
  "orig_nbformat": 4,
  "vscode": {
   "interpreter": {
    "hash": "a477bac5059954408e464007e59c6ff8c80bc3de84912130ad7e386887dbf516"
   }
  }
 },
 "nbformat": 4,
 "nbformat_minor": 2
}
