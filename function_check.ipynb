{
 "cells": [
  {
   "cell_type": "code",
   "execution_count": 1,
   "metadata": {},
   "outputs": [],
   "source": [
    "import numpy as np\n",
    "from matplotlib import pyplot\n",
    "from scipy import linalg\n",
    "import copy\n",
    "import iMPS\n",
    "from scipy.sparse import linalg\n",
    "import funcs"
   ]
  },
  {
   "cell_type": "code",
   "execution_count": 58,
   "metadata": {},
   "outputs": [
    {
     "ename": "KeyError",
     "evalue": "0.0",
     "output_type": "error",
     "traceback": [
      "\u001b[0;31m---------------------------------------------------------------------------\u001b[0m",
      "\u001b[0;31mKeyError\u001b[0m                                  Traceback (most recent call last)",
      "\u001b[0;32m/var/folders/rt/_3xs3p494rzgxflmk081k97m0000gn/T/ipykernel_3442/212324926.py\u001b[0m in \u001b[0;36m<module>\u001b[0;34m\u001b[0m\n\u001b[1;32m     31\u001b[0m \u001b[0;34m\u001b[0m\u001b[0m\n\u001b[1;32m     32\u001b[0m \u001b[0;34m\u001b[0m\u001b[0m\n\u001b[0;32m---> 33\u001b[0;31m     \u001b[0mT1\u001b[0m \u001b[0;34m=\u001b[0m \u001b[0mfuncs\u001b[0m\u001b[0;34m.\u001b[0m\u001b[0msingle_T\u001b[0m\u001b[0;34m(\u001b[0m\u001b[0mh1\u001b[0m\u001b[0;34m,\u001b[0m\u001b[0mh2\u001b[0m\u001b[0;34m)\u001b[0m\u001b[0;34m\u001b[0m\u001b[0;34m\u001b[0m\u001b[0m\n\u001b[0m\u001b[1;32m     34\u001b[0m     \u001b[0mMPO3\u001b[0m \u001b[0;34m=\u001b[0m \u001b[0miMPS\u001b[0m\u001b[0;34m.\u001b[0m\u001b[0miMPO\u001b[0m\u001b[0;34m(\u001b[0m\u001b[0;34m)\u001b[0m\u001b[0;34m\u001b[0m\u001b[0;34m\u001b[0m\u001b[0m\n\u001b[1;32m     35\u001b[0m     \u001b[0mMPO3\u001b[0m\u001b[0;34m.\u001b[0m\u001b[0mconstruct_from_tensor_list\u001b[0m\u001b[0;34m(\u001b[0m\u001b[0;34m[\u001b[0m\u001b[0mT1\u001b[0m\u001b[0;34m]\u001b[0m\u001b[0;34m)\u001b[0m\u001b[0;34m\u001b[0m\u001b[0;34m\u001b[0m\u001b[0m\n",
      "\u001b[0;32m~/Desktop/Mixed state topological order/Toric_Code/funcs.py\u001b[0m in \u001b[0;36msingle_T\u001b[0;34m(h, u1, u2)\u001b[0m\n\u001b[1;32m    225\u001b[0m \u001b[0;34m\u001b[0m\u001b[0m\n\u001b[1;32m    226\u001b[0m     \u001b[0meZ\u001b[0m \u001b[0;34m=\u001b[0m \u001b[0mlinalg\u001b[0m\u001b[0;34m.\u001b[0m\u001b[0mexpm\u001b[0m\u001b[0;34m(\u001b[0m\u001b[0mnp\u001b[0m\u001b[0;34m.\u001b[0m\u001b[0marray\u001b[0m\u001b[0;34m(\u001b[0m\u001b[0;34m[\u001b[0m\u001b[0;34m[\u001b[0m\u001b[0mh1\u001b[0m\u001b[0;34m/\u001b[0m\u001b[0;36m2\u001b[0m\u001b[0;34m,\u001b[0m\u001b[0;36m0\u001b[0m\u001b[0;34m]\u001b[0m\u001b[0;34m,\u001b[0m\u001b[0;34m[\u001b[0m\u001b[0;36m0\u001b[0m\u001b[0;34m,\u001b[0m\u001b[0;34m-\u001b[0m\u001b[0mh1\u001b[0m\u001b[0;34m/\u001b[0m\u001b[0;36m2\u001b[0m\u001b[0;34m]\u001b[0m\u001b[0;34m]\u001b[0m\u001b[0;34m)\u001b[0m\u001b[0;34m)\u001b[0m\u001b[0;34m\u001b[0m\u001b[0;34m\u001b[0m\u001b[0m\n\u001b[0;32m--> 227\u001b[0;31m     \u001b[0meX\u001b[0m \u001b[0;34m=\u001b[0m \u001b[0mlinalg\u001b[0m\u001b[0;34m.\u001b[0m\u001b[0mexpm\u001b[0m\u001b[0;34m(\u001b[0m\u001b[0mnp\u001b[0m\u001b[0;34m.\u001b[0m\u001b[0marray\u001b[0m\u001b[0;34m(\u001b[0m\u001b[0;34m[\u001b[0m\u001b[0;34m[\u001b[0m\u001b[0;36m0\u001b[0m\u001b[0;34m,\u001b[0m\u001b[0mh2\u001b[0m\u001b[0;34m/\u001b[0m\u001b[0;36m2\u001b[0m\u001b[0;34m]\u001b[0m\u001b[0;34m,\u001b[0m\u001b[0;34m[\u001b[0m\u001b[0mh2\u001b[0m\u001b[0;34m/\u001b[0m\u001b[0;36m2\u001b[0m\u001b[0;34m,\u001b[0m\u001b[0;36m0\u001b[0m\u001b[0;34m]\u001b[0m\u001b[0;34m]\u001b[0m\u001b[0;34m)\u001b[0m\u001b[0;34m)\u001b[0m\u001b[0;34m\u001b[0m\u001b[0;34m\u001b[0m\u001b[0m\n\u001b[0m\u001b[1;32m    228\u001b[0m \u001b[0;34m\u001b[0m\u001b[0m\n\u001b[1;32m    229\u001b[0m     \u001b[0mP\u001b[0m \u001b[0;34m=\u001b[0m \u001b[0mnp\u001b[0m\u001b[0;34m.\u001b[0m\u001b[0mtensordot\u001b[0m\u001b[0;34m(\u001b[0m\u001b[0mP\u001b[0m\u001b[0;34m,\u001b[0m\u001b[0meZ\u001b[0m\u001b[0;34m,\u001b[0m\u001b[0;34m(\u001b[0m\u001b[0;34m[\u001b[0m\u001b[0;36m2\u001b[0m\u001b[0;34m]\u001b[0m\u001b[0;34m,\u001b[0m\u001b[0;34m[\u001b[0m\u001b[0;36m0\u001b[0m\u001b[0;34m]\u001b[0m\u001b[0;34m)\u001b[0m\u001b[0;34m)\u001b[0m\u001b[0;34m\u001b[0m\u001b[0;34m\u001b[0m\u001b[0m\n",
      "\u001b[0;31mKeyError\u001b[0m: 0.0"
     ]
    }
   ],
   "source": [
    "eigs=[]\n",
    "lam1s=[]\n",
    "lam2s=[]\n",
    "lam3s=[]\n",
    "lam4s=[]\n",
    "dims=[]\n",
    "X = np.array([[0,1],[1,0]])\n",
    "for h in np.arange(0.,1,0.01):   \n",
    "    \n",
    "    h1 = 0\n",
    "    h2 = h\n",
    "    \n",
    "    B = np.zeros([1,1,4])\n",
    "    B[0,0] =(linalg.expm(h*X)).reshape([4,])\n",
    "    #B[0,0] =(np.array([[0,0],[0,1]])).reshape([4,])\n",
    "    #B[0,0] =(np.random.rand(2,2)).reshape([4,])\n",
    "    MPS = iMPS.iMPS()\n",
    "    MPS.construct_from_tensor_list([B])\n",
    "    MPS.svd_threshold =1e-11\n",
    "        \n",
    "\n",
    "    trans = funcs.single_trans(h1=0,h2=h,u1=\"I\",u2=\"I\")\n",
    "    \n",
    "    MPO = iMPS.iMPO()\n",
    "    MPO.construct_from_tensor_list([trans])\n",
    "    MPS_power = iMPS.MPS_power_method(MPS,MPO,30)\n",
    "    MPS_power.update(0,400)\n",
    "    #print(MPS.chi[0])\n",
    "    eigs.append(MPS_power.E_history[-1])\n",
    "\n",
    "\n",
    "    \n",
    "    T1 = funcs.single_T(h1,h2)\n",
    "    MPO3 = iMPS.iMPO()\n",
    "    MPO3.construct_from_tensor_list([T1])\n",
    "    \n",
    "    \n",
    "    strap1 = iMPS.strap(MPS,MPO3,MPS)\n",
    "    lam1= strap1.calculate_eig()\n",
    "    \n",
    "    T2 = funcs.single_T(h1,h2,\"I\",\"X\")\n",
    "    MPO4 = iMPS.iMPO()\n",
    "    MPO4.construct_from_tensor_list([T2])\n",
    "    \n",
    "    \n",
    "    strap2 = iMPS.strap(MPS,MPO4,MPS)\n",
    "    lam2 = strap2.calculate_eig()\n",
    "    \n",
    "    \n",
    "    T3 = funcs.single_T(h1,h2,\"X\",\"I\")\n",
    "    MPO4 = iMPS.iMPO()\n",
    "    MPO4.construct_from_tensor_list([T3])\n",
    "    \n",
    "    \n",
    "    strap3 = iMPS.strap(MPS,MPO4,MPS)\n",
    "    lam3 = strap3.calculate_eig()\n",
    "    \n",
    "    T3 = funcs.single_T(h1,h2,\"X\",\"X\")\n",
    "    MPO4 = iMPS.iMPO()\n",
    "    MPO4.construct_from_tensor_list([T3])\n",
    "    \n",
    "    \n",
    "    strap4 = iMPS.strap(MPS,MPO4,MPS)\n",
    "    lam4 = strap4.calculate_eig()\n",
    "    \n",
    "    dims.append(MPS.chi[0])\n",
    "   \n",
    "    lam1s.append(lam1)\n",
    "    lam2s.append(lam2)\n",
    "    lam3s.append(lam3)\n",
    "    lam4s.append(lam4)"
   ]
  },
  {
   "cell_type": "code",
   "execution_count": 60,
   "metadata": {},
   "outputs": [
    {
     "name": "stdout",
     "output_type": "stream",
     "text": [
      "[[1. 0.]\n",
      " [0. 1.]]\n"
     ]
    }
   ],
   "source": []
  },
  {
   "cell_type": "code",
   "execution_count": 48,
   "metadata": {},
   "outputs": [],
   "source": [
    "lam1s = np.array(lam1s)\n",
    "lam2s = np.array(lam2s)\n",
    "lam3s = np.array(lam3s)\n",
    "lam4s = np.array(lam4s)"
   ]
  },
  {
   "cell_type": "code",
   "execution_count": 57,
   "metadata": {},
   "outputs": [
    {
     "name": "stderr",
     "output_type": "stream",
     "text": [
      "/Users/lizhuan/opt/anaconda3/lib/python3.9/site-packages/numpy/core/_asarray.py:102: ComplexWarning: Casting complex values to real discards the imaginary part\n",
      "  return array(a, dtype, copy=False, order=order)\n"
     ]
    },
    {
     "data": {
      "text/plain": [
       "[<matplotlib.lines.Line2D at 0x7fe157f04b80>]"
      ]
     },
     "execution_count": 57,
     "metadata": {},
     "output_type": "execute_result"
    },
    {
     "data": {
      "image/png": "[encoded data removed]",
      "text/plain": [
       "<Figure size 432x288 with 1 Axes>"
      ]
     },
     "metadata": {
      "needs_background": "light"
     },
     "output_type": "display_data"
    }
   ],
   "source": [
    "L=1\n",
    "pyplot.plot([0.5*np.log(np.sqrt(2)+1)]*2,[0,1])\n",
    "pyplot.plot(np.arange(0.,1,0.01),(lam1s**L+lam3s**L-lam4s**L-lam2s**L)/(lam1s**L+lam3s**L+lam4s**L+lam2s**L),'.-')\n"
   ]
  },
  {
   "cell_type": "code",
   "execution_count": 50,
   "metadata": {},
   "outputs": [
    {
     "name": "stderr",
     "output_type": "stream",
     "text": [
      "/Users/lizhuan/opt/anaconda3/lib/python3.9/site-packages/numpy/core/_asarray.py:102: ComplexWarning: Casting complex values to real discards the imaginary part\n",
      "  return array(a, dtype, copy=False, order=order)\n",
      "/Users/lizhuan/opt/anaconda3/lib/python3.9/site-packages/numpy/core/_asarray.py:102: ComplexWarning: Casting complex values to real discards the imaginary part\n",
      "  return array(a, dtype, copy=False, order=order)\n",
      "/Users/lizhuan/opt/anaconda3/lib/python3.9/site-packages/numpy/core/_asarray.py:102: ComplexWarning: Casting complex values to real discards the imaginary part\n",
      "  return array(a, dtype, copy=False, order=order)\n",
      "/Users/lizhuan/opt/anaconda3/lib/python3.9/site-packages/numpy/core/_asarray.py:102: ComplexWarning: Casting complex values to real discards the imaginary part\n",
      "  return array(a, dtype, copy=False, order=order)\n"
     ]
    },
    {
     "data": {
      "text/plain": [
       "[<matplotlib.lines.Line2D at 0x7fe157795bb0>]"
      ]
     },
     "execution_count": 50,
     "metadata": {},
     "output_type": "execute_result"
    },
    {
     "data": {
      "image/png": "[encoded data removed]",
      "text/plain": [
       "<Figure size 432x288 with 1 Axes>"
      ]
     },
     "metadata": {
      "needs_background": "light"
     },
     "output_type": "display_data"
    }
   ],
   "source": [
    "pyplot.plot([0.5*np.log(np.sqrt(2)+1)]*2,[0.5,2])\n",
    "pyplot.plot(np.arange(0,1,0.01),lam1s)\n",
    "#pyplot.plot(np.arange(0.4,0.5,0.002),lam2s)\n",
    "#pyplot.plot(np.arange(0.4,0.5,0.002),lam3s)\n",
    "pyplot.plot(np.arange(0,1,0.01),lam2s)\n",
    "pyplot.plot(np.arange(0,1,0.01),lam3s)\n",
    "#pyplot.plot(np.arange(0.4,0.5,0.002),lam2s)\n",
    "#pyplot.plot(np.arange(0.4,0.5,0.002),lam3s)\n",
    "pyplot.plot(np.arange(0,1,0.01),lam4s)\n"
   ]
  },
  {
   "cell_type": "code",
   "execution_count": 45,
   "metadata": {},
   "outputs": [
    {
     "data": {
      "text/plain": [
       "[4.690406111235953,\n",
       " 7.198794730543421,\n",
       " 7.2437997877295714,\n",
       " 7.245421985633077,\n",
       " 7.245478418352164,\n",
       " 7.245480350395132,\n",
       " 7.245480415962588,\n",
       " 7.245480418176051,\n",
       " 7.245480418250495,\n",
       " 7.245480418253036,\n",
       " 7.245480418253038,\n",
       " 7.245480418253241,\n",
       " 7.245480418253087,\n",
       " 7.245480418253093]"
      ]
     },
     "execution_count": 45,
     "metadata": {},
     "output_type": "execute_result"
    }
   ],
   "source": [
    "MPS_power.E_history"
   ]
  },
  {
   "cell_type": "code",
   "execution_count": 42,
   "metadata": {},
   "outputs": [
    {
     "data": {
      "text/plain": [
       "[<matplotlib.lines.Line2D at 0x7fe1575149a0>]"
      ]
     },
     "execution_count": 42,
     "metadata": {},
     "output_type": "execute_result"
    },
    {
     "data": {
      "image/png": "[encoded data removed]",
      "text/plain": [
       "<Figure size 432x288 with 1 Axes>"
      ]
     },
     "metadata": {
      "needs_background": "light"
     },
     "output_type": "display_data"
    }
   ],
   "source": [
    "pyplot.plot([0.5*np.log(np.sqrt(2)+1)]*2,[0,30])\n",
    "pyplot.plot(np.arange(0.,1,0.01),dims,'.-')"
   ]
  },
  {
   "attachments": {},
   "cell_type": "markdown",
   "metadata": {},
   "source": [
    "correlation function\n"
   ]
  },
  {
   "cell_type": "code",
   "execution_count": 9,
   "metadata": {},
   "outputs": [
    {
     "name": "stdout",
     "output_type": "stream",
     "text": [
      "(0.5449094050399506+1.567530647289416e-17j)\n"
     ]
    }
   ],
   "source": [
    "np.random.seed(0)\n",
    "\n",
    "A = np.zeros([3,3,2],dtype = 'complex')\n",
    "\n",
    "B = np.zeros([3,3,2],dtype = 'complex')\n",
    "\n",
    "A = A+np.random.random([3,3,2])\n",
    "\n",
    "A = A+np.random.random([3,3,2])*1j\n",
    "\n",
    "\n",
    "B = B+np.random.random([3,3,2])\n",
    "\n",
    "B = B+np.random.random([3,3,2])*1j\n",
    "\n",
    "x = np.array([[0,1],[1,0]])\n",
    "\n",
    "x = x.reshape([1,1,2,2])\n",
    "\n",
    "trans1 = funcs.col_contract343(A,x,A)@funcs.col_contract343(B,x,B)\n",
    "\n",
    "trans2 = funcs.col_contract343(A,x,A)@funcs.col_contract343(B,x,B)\n",
    "\n",
    "trans = funcs.col_contract33(A,A)@funcs.col_contract33(B,B)\n",
    "\n",
    "lam,v = np.linalg.eig(trans.transpose()) \n",
    "index = lam.argsort()[::-1]\n",
    "Gl = v[:,index[0]]\n",
    "\n",
    "lam,v = np.linalg.eig(trans) \n",
    "index = lam.argsort()[::-1]\n",
    "Gr = v[:,index[0]]\n",
    "\n",
    "cor = Gl@trans1@trans@trans@trans2@Gr/(Gl@trans@trans@trans@trans@Gr)\n",
    "print(cor)"
   ]
  },
  {
   "cell_type": "code",
   "execution_count": 10,
   "metadata": {},
   "outputs": [
    {
     "name": "stdout",
     "output_type": "stream",
     "text": [
      "(0.5449094050399486+2.622467922638606e-19j)\n"
     ]
    }
   ],
   "source": [
    "MPS = iMPS.iMPS()\n",
    "MPS.construct_from_tensor_list([A,B])\n",
    "\n",
    "\n",
    "trans1 = funcs.col_contract343(MPS.B[0],x,MPS.B[0])@funcs.col_contract343(MPS.B[1],x,MPS.B[1])\n",
    "\n",
    "trans2 = funcs.col_contract343(MPS.B[0],x,MPS.B[0])@funcs.col_contract343(MPS.B[1],x,MPS.B[1])\n",
    "\n",
    "trans = funcs.col_contract33(MPS.B[0],MPS.B[0])@funcs.col_contract33(MPS.B[1],MPS.B[1])\n",
    "\n",
    "lam,v = np.linalg.eig(trans.transpose()) \n",
    "index = lam.argsort()[::-1]\n",
    "Gl = v[:,index[0]]\n",
    "\n",
    "lam,v = np.linalg.eig(trans) \n",
    "index = lam.argsort()[::-1]\n",
    "Gr = v[:,index[0]]\n",
    "\n",
    "cor = Gl@trans1@trans@trans@trans2@Gr/(Gl@trans@trans@trans@trans@Gr)\n",
    "print(cor)"
   ]
  },
  {
   "cell_type": "code",
   "execution_count": 11,
   "metadata": {},
   "outputs": [
    {
     "data": {
      "text/plain": [
       "True"
      ]
     },
     "execution_count": 11,
     "metadata": {},
     "output_type": "execute_result"
    }
   ],
   "source": [
    "M = np.zeros([9,9],dtype='complex')\n",
    "M += np.random.random([9,9])\n",
    "M = M+M.transpose()\n",
    "\n",
    "M += np.random.random([9,9])*1j\n",
    "M = M+M.transpose().conj()\n",
    "\n",
    "\n",
    "funcs.is_hermitian_upto_a_phase(M)"
   ]
  },
  {
   "cell_type": "code",
   "execution_count": 12,
   "metadata": {},
   "outputs": [],
   "source": [
    "np.random.seed(0)\n",
    "A = np.random.normal(0,1,[9,9])\n",
    "A = A@A.transpose()\n",
    "X = funcs.sqrthm(A,1e-10)\n",
    "assert (np.linalg.norm(X@X.transpose().conj()-A))<1e-5"
   ]
  },
  {
   "cell_type": "code",
   "execution_count": 13,
   "metadata": {},
   "outputs": [],
   "source": [
    "np.random.seed(0)\n",
    "A = np.random.random([3,3,4])\n",
    "A = A+np.transpose(A,[1,0,2])\n",
    "B = np.random.random([3,3,4])\n",
    "B = B+np.transpose(B,[1,0,2])\n",
    "\n",
    "C = np.random.random([3,3,4])\n",
    "MPS = iMPS.iMPS()\n",
    "MPS.construct_from_tensor_list([A,B,C])"
   ]
  },
  {
   "cell_type": "code",
   "execution_count": 14,
   "metadata": {},
   "outputs": [
    {
     "data": {
      "text/plain": [
       "True"
      ]
     },
     "execution_count": 14,
     "metadata": {},
     "output_type": "execute_result"
    }
   ],
   "source": [
    "trans = MPS.transfer_matrix()\n",
    "isinstance(trans,linalg.LinearOperator)\n",
    "#isinstance(trans,np.ndarray)"
   ]
  },
  {
   "cell_type": "code",
   "execution_count": 15,
   "metadata": {},
   "outputs": [],
   "source": [
    "\n",
    "trans = MPS.transfer_matrix()\n",
    "vr = np.eye(MPS.chi[0])\n",
    "vr = np.reshape(vr,[MPS.chi[0]**2,])\n",
    "V = trans.dot(vr)\n",
    "assert np.linalg.norm(V-vr*V[0]) <=1e-12, f'not right canonical, error = {np.linalg.norm(V-vr)}'\n",
    "\n",
    "\n",
    "vl = MPS.s[0]@MPS.s[0].conj().transpose()\n",
    "vl = np.reshape(vl,[MPS.chi[0]**2,])\n",
    "V = trans.rmatvec(vl)\n",
    "  \n",
    "assert np.linalg.norm(V-vl*V[0]/vl[0]) <=1e-12, f'not left canonical, error = {np.linalg.norm(V-vl)}'\n",
    "            "
   ]
  },
  {
   "cell_type": "code",
   "execution_count": 16,
   "metadata": {},
   "outputs": [],
   "source": [
    "gammaB = MPS.B[1]\n",
    "transB = funcs.col_contract33(gammaB,gammaB)\n",
    "vr = np.eye(MPS.chi[0])\n",
    "vr = np.reshape(vr,[MPS.chi[0]**2,])\n",
    "V = transB.dot(vr)\n",
    "assert np.linalg.norm(V-vr*V[0]) <=1e-12, f'not right canonical, error = {np.linalg.norm(V-vr)}'\n",
    "\n",
    "gammaA = MPS.B[0]\n",
    "transA = funcs.col_contract33(gammaA,gammaA)\n",
    "vl = MPS.s[0]@MPS.s[0].conj().transpose()\n",
    "vl = np.reshape(vl,[MPS.chi[0]**2,])\n",
    "V = vl@transA\n",
    "  \n",
    "vl2 = MPS.s[1]@MPS.s[1].conj().transpose()\n",
    "vl2 = np.reshape(vl2,[MPS.chi[1]**2,])\n",
    "assert np.linalg.norm(V-vl2*V[0]/vl2[0]) <=1e-12, f'not left canonical, error = {np.linalg.norm(V-vr)}'"
   ]
  },
  {
   "attachments": {},
   "cell_type": "markdown",
   "metadata": {},
   "source": [
    "Test on Toric code"
   ]
  },
  {
   "cell_type": "code",
   "execution_count": 17,
   "metadata": {},
   "outputs": [
    {
     "ename": "TypeError",
     "evalue": "unsupported operand type(s) for /: 'str' and 'int'",
     "output_type": "error",
     "traceback": [
      "\u001b[0;31m---------------------------------------------------------------------------\u001b[0m",
      "\u001b[0;31mTypeError\u001b[0m                                 Traceback (most recent call last)",
      "\u001b[0;32m/var/folders/rt/_3xs3p494rzgxflmk081k97m0000gn/T/ipykernel_3442/935110233.py\u001b[0m in \u001b[0;36m<module>\u001b[0;34m\u001b[0m\n\u001b[1;32m     12\u001b[0m \u001b[0;34m\u001b[0m\u001b[0m\n\u001b[1;32m     13\u001b[0m \u001b[0;34m\u001b[0m\u001b[0m\n\u001b[0;32m---> 14\u001b[0;31m     \u001b[0mtrans\u001b[0m \u001b[0;34m=\u001b[0m \u001b[0mfuncs\u001b[0m\u001b[0;34m.\u001b[0m\u001b[0msingle_trans\u001b[0m\u001b[0;34m(\u001b[0m\u001b[0mh\u001b[0m\u001b[0;34m,\u001b[0m\u001b[0;34m\"I\"\u001b[0m\u001b[0;34m,\u001b[0m\u001b[0;34m\"I\"\u001b[0m\u001b[0;34m)\u001b[0m\u001b[0;34m\u001b[0m\u001b[0;34m\u001b[0m\u001b[0m\n\u001b[0m\u001b[1;32m     15\u001b[0m \u001b[0;34m\u001b[0m\u001b[0m\n\u001b[1;32m     16\u001b[0m     \u001b[0mMPO\u001b[0m \u001b[0;34m=\u001b[0m \u001b[0miMPS\u001b[0m\u001b[0;34m.\u001b[0m\u001b[0miMPO\u001b[0m\u001b[0;34m(\u001b[0m\u001b[0;34m)\u001b[0m\u001b[0;34m\u001b[0m\u001b[0;34m\u001b[0m\u001b[0m\n",
      "\u001b[0;32m~/Desktop/Mixed state topological order/Toric_Code/funcs.py\u001b[0m in \u001b[0;36msingle_trans\u001b[0;34m(h1, h2, u1, u2)\u001b[0m\n\u001b[1;32m    189\u001b[0m \u001b[0;34m\u001b[0m\u001b[0m\n\u001b[1;32m    190\u001b[0m     \u001b[0meZ\u001b[0m \u001b[0;34m=\u001b[0m \u001b[0mlinalg\u001b[0m\u001b[0;34m.\u001b[0m\u001b[0mexpm\u001b[0m\u001b[0;34m(\u001b[0m\u001b[0mnp\u001b[0m\u001b[0;34m.\u001b[0m\u001b[0marray\u001b[0m\u001b[0;34m(\u001b[0m\u001b[0;34m[\u001b[0m\u001b[0;34m[\u001b[0m\u001b[0mh1\u001b[0m\u001b[0;34m/\u001b[0m\u001b[0;36m2\u001b[0m\u001b[0;34m,\u001b[0m\u001b[0;36m0\u001b[0m\u001b[0;34m]\u001b[0m\u001b[0;34m,\u001b[0m\u001b[0;34m[\u001b[0m\u001b[0;36m0\u001b[0m\u001b[0;34m,\u001b[0m\u001b[0;34m-\u001b[0m\u001b[0mh1\u001b[0m\u001b[0;34m/\u001b[0m\u001b[0;36m2\u001b[0m\u001b[0;34m]\u001b[0m\u001b[0;34m]\u001b[0m\u001b[0;34m)\u001b[0m\u001b[0;34m)\u001b[0m\u001b[0;34m\u001b[0m\u001b[0;34m\u001b[0m\u001b[0m\n\u001b[0;32m--> 191\u001b[0;31m     \u001b[0meX\u001b[0m \u001b[0;34m=\u001b[0m \u001b[0mlinalg\u001b[0m\u001b[0;34m.\u001b[0m\u001b[0mexpm\u001b[0m\u001b[0;34m(\u001b[0m\u001b[0mnp\u001b[0m\u001b[0;34m.\u001b[0m\u001b[0marray\u001b[0m\u001b[0;34m(\u001b[0m\u001b[0;34m[\u001b[0m\u001b[0;34m[\u001b[0m\u001b[0;36m0\u001b[0m\u001b[0;34m,\u001b[0m\u001b[0mh2\u001b[0m\u001b[0;34m/\u001b[0m\u001b[0;36m2\u001b[0m\u001b[0;34m]\u001b[0m\u001b[0;34m,\u001b[0m\u001b[0;34m[\u001b[0m\u001b[0mh2\u001b[0m\u001b[0;34m/\u001b[0m\u001b[0;36m2\u001b[0m\u001b[0;34m,\u001b[0m\u001b[0;36m0\u001b[0m\u001b[0;34m]\u001b[0m\u001b[0;34m]\u001b[0m\u001b[0;34m)\u001b[0m\u001b[0;34m)\u001b[0m\u001b[0;34m\u001b[0m\u001b[0;34m\u001b[0m\u001b[0m\n\u001b[0m\u001b[1;32m    192\u001b[0m \u001b[0;34m\u001b[0m\u001b[0m\n\u001b[1;32m    193\u001b[0m     \u001b[0mP\u001b[0m \u001b[0;34m=\u001b[0m \u001b[0mnp\u001b[0m\u001b[0;34m.\u001b[0m\u001b[0mtensordot\u001b[0m\u001b[0;34m(\u001b[0m\u001b[0mP\u001b[0m\u001b[0;34m,\u001b[0m\u001b[0meZ\u001b[0m\u001b[0;34m,\u001b[0m\u001b[0;34m(\u001b[0m\u001b[0;34m[\u001b[0m\u001b[0;36m2\u001b[0m\u001b[0;34m]\u001b[0m\u001b[0;34m,\u001b[0m\u001b[0;34m[\u001b[0m\u001b[0;36m0\u001b[0m\u001b[0;34m]\u001b[0m\u001b[0;34m)\u001b[0m\u001b[0;34m)\u001b[0m\u001b[0;34m\u001b[0m\u001b[0;34m\u001b[0m\u001b[0m\n",
      "\u001b[0;31mTypeError\u001b[0m: unsupported operand type(s) for /: 'str' and 'int'"
     ]
    }
   ],
   "source": [
    "eigs1=[]\n",
    "X = np.array([[0,1],[1,0]])\n",
    "for h in np.arange(0.7,0.71,0.02):   \n",
    "    \n",
    "    B = np.zeros([1,1,4])\n",
    "    B[0,0] =(np.array([[np.exp(h),0],[0,np.exp(-h)]])).reshape([4,])\n",
    "    #B[0,0] =(np.array([[0,0],[0,1]])).reshape([4,])\n",
    "    #B[0,0] =(np.random.rand(2,2)).reshape([4,])\n",
    "    MPS = iMPS.iMPS()\n",
    "    MPS.construct_from_tensor_list([B])\n",
    "    MPS.svd_threshold =1e-10\n",
    "        \n",
    "\n",
    "    trans = funcs.single_trans(h,\"I\",\"I\")\n",
    "    \n",
    "    MPO = iMPS.iMPO()\n",
    "    MPO.construct_from_tensor_list([trans])\n",
    "    MPS_power = iMPS.MPS_power_method(MPS,MPO,20)\n",
    "    MPS_power.update(0,200)\n",
    "    #print(MPS.chi[0])\n",
    "    #eigs1.append(MPS_power.E_history[-1])\n",
    "    \n",
    "eigs2=[]\n",
    "\n",
    "for h in np.arange(0.7,0.71,0.02):   \n",
    "    \n",
    "    B = np.zeros([1,1,4])\n",
    "    B[0,0] =(X@np.array([[np.exp(h),0],[0,np.exp(-h)]])@X).reshape([4,])\n",
    "    #B[0,0] =(np.array([[0,1],[0,0]])).reshape([4,])\n",
    "    #B[0,0] =(np.random.rand(2,2)).reshape([4,])\n",
    "    MPS2 = iMPS.iMPS()\n",
    "    MPS2.construct_from_tensor_list([B])\n",
    "    MPS2.svd_threshold =1e-10\n",
    "        \n",
    "     \n",
    "    trans = funcs.single_trans(h,\"I\",\"I\")\n",
    "    MPO2 = iMPS.iMPO()\n",
    "    MPO2.construct_from_tensor_list([trans])\n",
    "    MPS_power2 = iMPS.MPS_power_method(MPS2,MPO2,20)\n",
    "    MPS_power2.update(0,200)\n",
    "    #print(MPS.chi[0])\n",
    "    #eigs2.append(MPS_power2.E_history[-1])"
   ]
  },
  {
   "cell_type": "code",
   "execution_count": null,
   "metadata": {},
   "outputs": [
    {
     "data": {
      "text/plain": [
       "[4.08743804075024,\n",
       " 4.073755374389336,\n",
       " 4.072503597133328,\n",
       " 4.072372632351526,\n",
       " 4.072357435708314,\n",
       " 4.07235554441345,\n",
       " 4.07235529740761,\n",
       " 4.072355264009026,\n",
       " 4.072355259373853,\n",
       " 4.072355258717455,\n",
       " 4.072355258623007,\n",
       " 4.072355258609147,\n",
       " 4.072355258607166]"
      ]
     },
     "execution_count": 36,
     "metadata": {},
     "output_type": "execute_result"
    }
   ],
   "source": [
    "MPS_power2.E_history"
   ]
  },
  {
   "cell_type": "code",
   "execution_count": null,
   "metadata": {},
   "outputs": [
    {
     "name": "stdout",
     "output_type": "stream",
     "text": [
      "[[[0. 1. 1. 0.]]]\n"
     ]
    }
   ],
   "source": [
    "eigs1=[]\n",
    "X = np.array([[0,1],[1,0]])\n",
    "B = np.zeros([1,1,4])\n",
    "h=0.5\n",
    "B[0,0] =(np.array([[np.exp(h),0],[0,np.exp(-h)]])).reshape([4,])\n",
    "#B[0,0] =(np.array([[0,1],[1,0]])).reshape([4,])\n",
    "#B[0,0] =(np.random.rand(2,2)).reshape([4,])\n",
    "print(B)\n",
    "MPS = iMPS.iMPS()\n",
    "MPS.construct_from_tensor_list([B])\n",
    "MPS.svd_threshold =1e-10\n",
    "        \n",
    "\n",
    "trans = funcs.single_trans(h,\"I\",\"I\")\n",
    "    \n",
    "MPO = iMPS.iMPO()\n",
    "MPO.construct_from_tensor_list([trans])\n",
    "MPS_power = iMPS.MPS_power_method(MPS,MPO,20)\n",
    "MPS_power.update(0,200)"
   ]
  },
  {
   "cell_type": "code",
   "execution_count": null,
   "metadata": {},
   "outputs": [
    {
     "data": {
      "text/plain": [
       "array([[[0.        +0.00000000e+00j, 0.70710678+2.47930871e-16j,\n",
       "         0.70710678+2.47930871e-16j, 0.        +0.00000000e+00j]]])"
      ]
     },
     "execution_count": 24,
     "metadata": {},
     "output_type": "execute_result"
    }
   ],
   "source": [
    "MPS.B[0]"
   ]
  },
  {
   "cell_type": "code",
   "execution_count": null,
   "metadata": {},
   "outputs": [
    {
     "data": {
      "text/plain": [
       "[<matplotlib.lines.Line2D at 0x7fb1e6aac430>]"
      ]
     },
     "execution_count": 13,
     "metadata": {},
     "output_type": "execute_result"
    },
    {
     "data": {
      "image/png": "[encoded data removed]",
      "text/plain": [
       "<Figure size 432x288 with 1 Axes>"
      ]
     },
     "metadata": {
      "needs_background": "light"
     },
     "output_type": "display_data"
    }
   ],
   "source": [
    "pyplot.plot(MPS_power.E_history)"
   ]
  },
  {
   "cell_type": "code",
   "execution_count": null,
   "metadata": {},
   "outputs": [
    {
     "data": {
      "text/plain": [
       "1.0"
      ]
     },
     "execution_count": 14,
     "metadata": {},
     "output_type": "execute_result"
    }
   ],
   "source": [
    "MPS.init_norm"
   ]
  },
  {
   "cell_type": "code",
   "execution_count": null,
   "metadata": {},
   "outputs": [],
   "source": [
    "T1 = funcs.single_T(h)\n",
    "#T1  =np.zeros([1,1,4,4])\n",
    "#T1[0,0] = np.eye(4)\n",
    "#T1[0,0] = np.kron(X,X)\n",
    "MPO3 = iMPS.iMPO()\n",
    "MPO3.construct_from_tensor_list([T1])\n",
    "\n",
    "ez = np.array([[np.exp(h),0],[0,np.exp(-h)]])"
   ]
  },
  {
   "cell_type": "code",
   "execution_count": null,
   "metadata": {},
   "outputs": [
    {
     "name": "stdout",
     "output_type": "stream",
     "text": [
      "[[4.48168907 0.         0.         0.22313016]\n",
      " [0.         0.         0.         0.        ]\n",
      " [0.         0.         0.         0.        ]\n",
      " [1.64872127 0.         0.         0.60653066]]\n"
     ]
    }
   ],
   "source": [
    "T1 = funcs.single_T(h)\n",
    "T1 = T1.reshape([4,4,4,2,2])\n",
    "\n",
    "T1 = np.tensordot(T1,ez,([4],[0]))\n",
    "T1 = np.trace(T1,axis1=3,axis2=4)\n",
    "T1 = T1.reshape([4,4,2,2])\n",
    "T1 = np.tensordot(T1,ez,([3],[0]))\n",
    "\n",
    "T1 = np.trace(T1,axis1=2,axis2=3)\n",
    "print(T1)"
   ]
  },
  {
   "cell_type": "code",
   "execution_count": null,
   "metadata": {},
   "outputs": [
    {
     "name": "stdout",
     "output_type": "stream",
     "text": [
      "[[0.60653066 0.         0.         1.64872127]\n",
      " [0.         0.         0.         0.        ]\n",
      " [0.         0.         0.         0.        ]\n",
      " [0.22313016 0.         0.         4.48168907]]\n"
     ]
    }
   ],
   "source": [
    "T1 = funcs.single_T(h)\n",
    "\n",
    "ez = np.array([[np.exp(-h),0],[0,np.exp(h)]])\n",
    "\n",
    "T1 = T1.reshape([4,4,4,2,2])\n",
    "\n",
    "T1 = np.tensordot(T1,ez,([4],[0]))\n",
    "T1 = np.trace(T1,axis1=3,axis2=4)\n",
    "T1 = T1.reshape([4,4,2,2])\n",
    "T1 = np.tensordot(T1,ez,([3],[0]))\n",
    "\n",
    "T1 = np.trace(T1,axis1=2,axis2=3)\n",
    "print(T1)"
   ]
  },
  {
   "cell_type": "code",
   "execution_count": null,
   "metadata": {},
   "outputs": [
    {
     "data": {
      "text/plain": [
       "(1.8902059444102965+9.974659986866641e-17j)"
      ]
     },
     "execution_count": 33,
     "metadata": {},
     "output_type": "execute_result"
    }
   ],
   "source": [
    "strap1 = iMPS.strap(MPS,MPO3,MPS)\n",
    "strap1.calculate_eig()"
   ]
  },
  {
   "cell_type": "code",
   "execution_count": null,
   "metadata": {},
   "outputs": [
    {
     "data": {
      "text/plain": [
       "(0.7547606263117412+5.199400257106832e-07j)"
      ]
     },
     "execution_count": 34,
     "metadata": {},
     "output_type": "execute_result"
    }
   ],
   "source": [
    "strap2 = iMPS.strap(MPS2,MPO3,MPS)\n",
    "strap2.calculate_eig()"
   ]
  },
  {
   "cell_type": "code",
   "execution_count": null,
   "metadata": {},
   "outputs": [
    {
     "data": {
      "text/plain": [
       "0.7841914663017806"
      ]
     },
     "execution_count": 26,
     "metadata": {},
     "output_type": "execute_result"
    }
   ],
   "source": [
    "1.1063538946996045/1.4108211351969062"
   ]
  },
  {
   "cell_type": "code",
   "execution_count": null,
   "metadata": {},
   "outputs": [
    {
     "data": {
      "text/plain": [
       "[<matplotlib.lines.Line2D at 0x7ff102c00b80>]"
      ]
     },
     "execution_count": 49,
     "metadata": {},
     "output_type": "execute_result"
    },
    {
     "data": {
      "image/png": "[encoded data removed]",
      "text/plain": [
       "<Figure size 432x288 with 1 Axes>"
      ]
     },
     "metadata": {
      "needs_background": "light"
     },
     "output_type": "display_data"
    }
   ],
   "source": [
    "pyplot.plot(np.arange(0.48,0.5,0.02),np.array(eigs1)-np.array(eigs2))\n",
    "#pyplot.plot(np.arange(0.,0.5,0.02),np.array(eigs2))\n",
    "#pyplot.plot(np.arange(0.,0.3,0.01),np.array(eigs2))\n",
    "#pyplot.plot(np.arange(0.,0.5,0.05),eigs2)"
   ]
  },
  {
   "cell_type": "code",
   "execution_count": null,
   "metadata": {},
   "outputs": [
    {
     "data": {
      "text/plain": [
       "9"
      ]
     },
     "execution_count": 50,
     "metadata": {},
     "output_type": "execute_result"
    }
   ],
   "source": [
    "MPS.chi[0]"
   ]
  },
  {
   "cell_type": "code",
   "execution_count": null,
   "metadata": {},
   "outputs": [
    {
     "data": {
      "text/plain": [
       "[<matplotlib.lines.Line2D at 0x7ff102d0b2b0>]"
      ]
     },
     "execution_count": 51,
     "metadata": {},
     "output_type": "execute_result"
    },
    {
     "data": {
      "image/png": "[encoded data removed]",
      "text/plain": [
       "<Figure size 432x288 with 1 Axes>"
      ]
     },
     "metadata": {
      "needs_background": "light"
     },
     "output_type": "display_data"
    }
   ],
   "source": [
    "pyplot.plot(np.array(MPS_power.E_history))\n",
    "pyplot.plot(MPS_power2.E_history)"
   ]
  },
  {
   "cell_type": "code",
   "execution_count": null,
   "metadata": {},
   "outputs": [],
   "source": [
    "h=0.1\n",
    "X = np.array([[0,1],[1,0]])\n",
    "B = np.zeros([1,1,4])\n",
    "B[0,0] =(np.array([[np.exp(h),0],[0,np.exp(-h)]])).reshape([4,])\n",
    "MPS1 = iMPS.iMPS()\n",
    "MPS1.construct_from_tensor_list([B])\n",
    "MPS1.svd_threshold =1e-30\n",
    "        \n",
    "     \n",
    "trans = funcs.single_trans(h)\n",
    "MPO1 = iMPS.iMPO()\n",
    "MPO1.construct_from_tensor_list([trans])\n",
    "MPS_power1 = iMPS.MPS_power_method(MPS1,MPO1,20)\n",
    "MPS_power1.update(0,1)\n"
   ]
  },
  {
   "cell_type": "code",
   "execution_count": null,
   "metadata": {},
   "outputs": [],
   "source": [
    "h=0.1\n",
    "B = np.zeros([1,1,4])\n",
    "B[0,0] =(np.array([[np.exp(h),0],[0,np.exp(-h)]])@X).reshape([4,])\n",
    "MPS2 = iMPS.iMPS()\n",
    "MPS2.construct_from_tensor_list([B])\n",
    "MPS2.svd_threshold =1e-30\n",
    "        \n",
    "     \n",
    "trans = funcs.single_trans(h)\n",
    "MPO2 = iMPS.iMPO()\n",
    "MPO2.construct_from_tensor_list([trans])\n",
    "MPS_power2 = iMPS.MPS_power_method(MPS2,MPO2,20)\n",
    "MPS_power2.update(0,1)"
   ]
  },
  {
   "cell_type": "code",
   "execution_count": null,
   "metadata": {},
   "outputs": [],
   "source": [
    "MPS_power1.update(0,1)\n",
    "MPS_power2.update(0,1)"
   ]
  },
  {
   "cell_type": "code",
   "execution_count": null,
   "metadata": {},
   "outputs": [
    {
     "data": {
      "text/plain": [
       "array([[0.        , 0.        , 0.        , 0.        ],\n",
       "       [0.        , 0.        , 0.        , 0.        ],\n",
       "       [0.        , 0.        , 0.        , 0.        ],\n",
       "       [0.36787944, 0.        , 0.        , 1.        ]])"
      ]
     },
     "execution_count": 69,
     "metadata": {},
     "output_type": "execute_result"
    }
   ],
   "source": [
    "T1"
   ]
  },
  {
   "cell_type": "code",
   "execution_count": null,
   "metadata": {},
   "outputs": [
    {
     "name": "stdout",
     "output_type": "stream",
     "text": [
      "(array([1., 0., 0., 0.]), array([[ 0.        ,  0.9385079 ,  0.        ,  0.        ],\n",
      "       [ 0.        ,  0.        ,  1.        ,  0.        ],\n",
      "       [ 0.        ,  0.        ,  0.        ,  1.        ],\n",
      "       [ 1.        , -0.34525776,  0.        ,  0.        ]]))\n"
     ]
    }
   ],
   "source": [
    "T1 = trans[0,3,:,:]\n",
    "print(np.linalg.eig(T1))"
   ]
  },
  {
   "cell_type": "code",
   "execution_count": null,
   "metadata": {},
   "outputs": [
    {
     "data": {
      "text/plain": [
       "2.02894544937153"
      ]
     },
     "execution_count": 93,
     "metadata": {},
     "output_type": "execute_result"
    }
   ],
   "source": [
    "np.linalg.norm(np.tensordot(MPS2.B[0].reshape([MPS2.chi[0],MPS2.chi[0],2,2]),X,([3],[0])).reshape([MPS2.chi[0],MPS2.chi[0],4])-MPS1.B[0])"
   ]
  },
  {
   "cell_type": "code",
   "execution_count": null,
   "metadata": {},
   "outputs": [
    {
     "data": {
      "text/plain": [
       "array([[ 7.08149802e-01+1.06303855e-14j,  0.00000000e+00+0.00000000e+00j,\n",
       "         0.00000000e+00+0.00000000e+00j,  7.06061505e-01-1.02973186e-14j],\n",
       "       [-7.09260923e-04-3.22441726e-16j,  0.00000000e+00+0.00000000e+00j,\n",
       "         0.00000000e+00+0.00000000e+00j,  7.11358247e-04+3.33066907e-16j],\n",
       "       [-6.61557824e-09+9.39146217e-16j,  0.00000000e+00+0.00000000e+00j,\n",
       "         0.00000000e+00+0.00000000e+00j,  6.63569339e-09-9.42914334e-16j],\n",
       "       [-7.02344145e-01+1.04611875e-10j,  0.00000000e+00+0.00000000e+00j,\n",
       "         0.00000000e+00+0.00000000e+00j,  7.04421570e-01+1.01985309e-10j],\n",
       "       [ 7.17151405e-02+9.52201512e-12j,  0.00000000e+00+0.00000000e+00j,\n",
       "         0.00000000e+00+0.00000000e+00j,  7.19329340e-02-1.18255510e-11j],\n",
       "       [-6.40842743e-05+8.04378555e-12j,  0.00000000e+00+0.00000000e+00j,\n",
       "         0.00000000e+00+0.00000000e+00j, -6.44344388e-05+1.01319633e-11j],\n",
       "       [-1.40885941e-01-1.19407118e-07j,  0.00000000e+00+0.00000000e+00j,\n",
       "         0.00000000e+00+0.00000000e+00j,  1.40740912e-01-7.78347356e-08j],\n",
       "       [-6.98337706e-01-1.06434211e-07j,  0.00000000e+00+0.00000000e+00j,\n",
       "         0.00000000e+00+0.00000000e+00j, -7.01986093e-01-8.67381293e-08j],\n",
       "       [ 6.80628602e-02+8.46710209e-10j,  0.00000000e+00+0.00000000e+00j,\n",
       "         0.00000000e+00+0.00000000e+00j,  6.84332303e-02-1.08135068e-09j]])"
      ]
     },
     "execution_count": 107,
     "metadata": {},
     "output_type": "execute_result"
    }
   ],
   "source": [
    "(((np.tensordot(MPS2.B[0].reshape([MPS2.chi[0],MPS2.chi[0],2,2]),X,([3],[0])).reshape([MPS2.chi[0],MPS2.chi[0],4])).reshape([9,4])))"
   ]
  },
  {
   "cell_type": "code",
   "execution_count": null,
   "metadata": {},
   "outputs": [
    {
     "data": {
      "text/plain": [
       "array([[ 7.08149802e-01-8.69065481e-16j,  0.00000000e+00+0.00000000e+00j,\n",
       "         0.00000000e+00+0.00000000e+00j,  7.06061505e-01+8.72294009e-16j],\n",
       "       [ 7.09260923e-04-1.08319773e-17j,  0.00000000e+00+0.00000000e+00j,\n",
       "         0.00000000e+00+0.00000000e+00j, -7.11358247e-04+1.32273586e-17j],\n",
       "       [ 6.61557836e-09+7.65249898e-17j,  0.00000000e+00+0.00000000e+00j,\n",
       "         0.00000000e+00+0.00000000e+00j, -6.63569351e-09-7.70123843e-17j],\n",
       "       [ 7.02344145e-01+8.56093819e-12j,  0.00000000e+00+0.00000000e+00j,\n",
       "         0.00000000e+00+0.00000000e+00j, -7.04421570e-01+8.37535634e-12j],\n",
       "       [ 7.17151405e-02-7.81424038e-13j,  0.00000000e+00+0.00000000e+00j,\n",
       "         0.00000000e+00+0.00000000e+00j,  7.19329339e-02+9.69379906e-13j],\n",
       "       [-6.40842751e-05-6.59687375e-13j,  0.00000000e+00+0.00000000e+00j,\n",
       "         0.00000000e+00+0.00000000e+00j, -6.44344382e-05-8.30947280e-13j],\n",
       "       [ 1.40885873e-01-9.79316514e-09j,  0.00000000e+00+0.00000000e+00j,\n",
       "         0.00000000e+00+0.00000000e+00j, -1.40740983e-01-6.38324631e-09j],\n",
       "       [-6.98337715e-01+8.72892444e-09j,  0.00000000e+00+0.00000000e+00j,\n",
       "         0.00000000e+00+0.00000000e+00j, -7.01986085e-01+7.11359601e-09j],\n",
       "       [ 6.80628611e-02-6.94404996e-11j,  0.00000000e+00+0.00000000e+00j,\n",
       "         0.00000000e+00+0.00000000e+00j,  6.84332296e-02+8.86849256e-11j]])"
      ]
     },
     "execution_count": 100,
     "metadata": {},
     "output_type": "execute_result"
    }
   ],
   "source": [
    "MPS1.B[0].reshape([9,4])"
   ]
  },
  {
   "cell_type": "code",
   "execution_count": null,
   "metadata": {},
   "outputs": [
    {
     "name": "stdout",
     "output_type": "stream",
     "text": [
      "6.815651392668103e-13\n",
      "2.0\n"
     ]
    }
   ],
   "source": [
    "print(np.linalg.norm(MPS2.gram_matrix('right')-MPS1.gram_matrix('right')))\n",
    "print(np.linalg.norm(MPS2.gram_matrix('right')+MPS1.gram_matrix('right')))"
   ]
  },
  {
   "cell_type": "code",
   "execution_count": null,
   "metadata": {},
   "outputs": [
    {
     "data": {
      "text/plain": [
       "array([[ 4.81614748e-13+0.00000000e+00j, -2.14256300e-14+8.83446109e-17j],\n",
       "       [-2.14256300e-14-8.83446109e-17j, -4.81503726e-13+0.00000000e+00j]])"
      ]
     },
     "execution_count": 90,
     "metadata": {},
     "output_type": "execute_result"
    }
   ],
   "source": [
    "MPS2.gram_matrix('right')-MPS1.gram_matrix('right')"
   ]
  },
  {
   "cell_type": "code",
   "execution_count": null,
   "metadata": {},
   "outputs": [
    {
     "data": {
      "text/plain": [
       "array([[ 1.11022302e-16+0.00000000e+00j, -3.61467409e-17-2.73920309e-17j],\n",
       "       [-3.61467409e-17+2.73920309e-17j, -1.68649448e-16+0.00000000e+00j]])"
      ]
     },
     "execution_count": 91,
     "metadata": {},
     "output_type": "execute_result"
    }
   ],
   "source": [
    "MPS2.gram_matrix('left')-MPS1.gram_matrix('left')"
   ]
  },
  {
   "cell_type": "code",
   "execution_count": null,
   "metadata": {},
   "outputs": [
    {
     "data": {
      "text/plain": [
       "array([[ 9.99999063e-01+0.j,  2.27062772e-09+0.j,  2.27062772e-09+0.j,\n",
       "         9.37066145e-07+0.j],\n",
       "       [ 2.33423914e-06+0.j,  9.84323447e-02+0.j,  9.63317975e-04+0.j,\n",
       "        -2.33423917e-06+0.j],\n",
       "       [ 2.33423914e-06+0.j,  9.63317975e-04+0.j,  9.84323447e-02+0.j,\n",
       "        -2.33423917e-06+0.j],\n",
       "       [ 9.90305249e-01+0.j, -2.39963269e-03+0.j, -2.39963269e-03+0.j,\n",
       "         9.69475128e-03+0.j]])"
      ]
     },
     "execution_count": 31,
     "metadata": {},
     "output_type": "execute_result"
    }
   ],
   "source": [
    "MPS1.transfer_matrix().dot(np.eye(4))"
   ]
  },
  {
   "cell_type": "code",
   "execution_count": null,
   "metadata": {},
   "outputs": [
    {
     "data": {
      "text/plain": [
       "array([[ 9.99999063e-01+0.j, -2.27062772e-09+0.j, -2.27062772e-09+0.j,\n",
       "         9.37066145e-07+0.j],\n",
       "       [-2.33423914e-06+0.j,  9.84323447e-02+0.j,  9.63317975e-04+0.j,\n",
       "         2.33423917e-06+0.j],\n",
       "       [-2.33423914e-06+0.j,  9.63317975e-04+0.j,  9.84323447e-02+0.j,\n",
       "         2.33423917e-06+0.j],\n",
       "       [ 9.90305249e-01+0.j,  2.39963269e-03+0.j,  2.39963269e-03+0.j,\n",
       "         9.69475128e-03+0.j]])"
      ]
     },
     "execution_count": 32,
     "metadata": {},
     "output_type": "execute_result"
    }
   ],
   "source": [
    "MPS2.transfer_matrix().dot(np.eye(4))"
   ]
  },
  {
   "cell_type": "code",
   "execution_count": null,
   "metadata": {},
   "outputs": [],
   "source": [
    "trans = MPS1.transfer_matrix()\n",
    "vr = np.eye(MPS1.chi[0])\n",
    "vr = np.reshape(vr,[MPS1.chi[0]**2,])\n",
    "V = trans.dot(vr)\n",
    "assert np.linalg.norm(V-vr*V[0]) "
   ]
  },
  {
   "cell_type": "code",
   "execution_count": null,
   "metadata": {},
   "outputs": [
    {
     "data": {
      "text/plain": [
       "array([[[ 0.00000000e+00+0.j, -1.11022302e-16+0.j,  0.00000000e+00+0.j,\n",
       "          0.00000000e+00+0.j],\n",
       "        [ 0.00000000e+00+0.j, -1.38548952e-03+0.j,  1.35228820e-03+0.j,\n",
       "          0.00000000e+00+0.j],\n",
       "        [ 0.00000000e+00+0.j,  2.28839875e-25+0.j, -2.73777924e-25+0.j,\n",
       "          0.00000000e+00+0.j],\n",
       "        [ 0.00000000e+00+0.j,  2.92928029e-24+0.j, -2.98363658e-24+0.j,\n",
       "          0.00000000e+00+0.j]],\n",
       "\n",
       "       [[ 0.00000000e+00+0.j, -1.42430389e+00+0.j,  1.39017244e+00+0.j,\n",
       "          0.00000000e+00+0.j],\n",
       "        [ 0.00000000e+00+0.j, -5.55111512e-17+0.j,  6.93889390e-17+0.j,\n",
       "          0.00000000e+00+0.j],\n",
       "        [ 0.00000000e+00+0.j,  2.58202570e-23+0.j,  2.52395833e-23+0.j,\n",
       "          0.00000000e+00+0.j],\n",
       "        [ 0.00000000e+00+0.j,  3.04290710e-22+0.j,  2.96980357e-22+0.j,\n",
       "          0.00000000e+00+0.j]],\n",
       "\n",
       "       [[ 0.00000000e+00+0.j, -2.15091133e-07+0.j,  1.29621593e-07+0.j,\n",
       "          0.00000000e+00+0.j],\n",
       "        [ 0.00000000e+00+0.j,  1.35158808e-08+0.j,  1.32707704e-08+0.j,\n",
       "          0.00000000e+00+0.j],\n",
       "        [ 0.00000000e+00+0.j,  7.01452926e-31+0.j,  6.55724636e-31+0.j,\n",
       "          0.00000000e+00+0.j],\n",
       "        [ 0.00000000e+00+0.j,  8.28058879e-30+0.j,  7.72986844e-30+0.j,\n",
       "          0.00000000e+00+0.j]],\n",
       "\n",
       "       [[ 0.00000000e+00+0.j,  2.04055462e-08+0.j, -1.01838821e-07+0.j,\n",
       "          0.00000000e+00+0.j],\n",
       "        [ 0.00000000e+00+0.j, -1.61568071e-07+0.j, -1.57591537e-07+0.j,\n",
       "          0.00000000e+00+0.j],\n",
       "        [ 0.00000000e+00+0.j,  2.84898479e-29+0.j,  2.78291816e-29+0.j,\n",
       "          0.00000000e+00+0.j],\n",
       "        [ 0.00000000e+00+0.j,  3.35761057e-28+0.j,  3.27460281e-28+0.j,\n",
       "          0.00000000e+00+0.j]]])"
      ]
     },
     "execution_count": 47,
     "metadata": {},
     "output_type": "execute_result"
    }
   ],
   "source": [
    "np.tensordot(MPS2.B[0].reshape([MPS2.chi[0],MPS2.chi[0],2,2]),X,([3],[0])).reshape([MPS2.chi[0],MPS2.chi[0],4])-MPS1.B[0]"
   ]
  },
  {
   "cell_type": "code",
   "execution_count": null,
   "metadata": {},
   "outputs": [
    {
     "data": {
      "text/plain": [
       "array([[[ 0.00000000e+00+0.j,  6.98478258e-01+0.j,  7.15630621e-01+0.j,\n",
       "          0.00000000e+00+0.j],\n",
       "        [ 0.00000000e+00+0.j,  6.92744758e-04+0.j, -6.76144101e-04+0.j,\n",
       "          0.00000000e+00+0.j],\n",
       "        [ 0.00000000e+00+0.j, -2.28839875e-25+0.j,  2.73777924e-25+0.j,\n",
       "          0.00000000e+00+0.j],\n",
       "        [ 0.00000000e+00+0.j, -2.92928029e-24+0.j,  2.98363658e-24+0.j,\n",
       "          0.00000000e+00+0.j]],\n",
       "\n",
       "       [[ 0.00000000e+00+0.j,  7.12151945e-01+0.j, -6.95086222e-01+0.j,\n",
       "          0.00000000e+00+0.j],\n",
       "        [ 0.00000000e+00+0.j,  7.04787189e-02+0.j,  6.87568284e-02+0.j,\n",
       "          0.00000000e+00+0.j],\n",
       "        [ 0.00000000e+00+0.j, -2.58202570e-23+0.j, -2.52395833e-23+0.j,\n",
       "          0.00000000e+00+0.j],\n",
       "        [ 0.00000000e+00+0.j, -3.04290710e-22+0.j, -2.96980357e-22+0.j,\n",
       "          0.00000000e+00+0.j]],\n",
       "\n",
       "       [[ 0.00000000e+00+0.j,  6.10229250e-08+0.j,  2.45765302e-08+0.j,\n",
       "          0.00000000e+00+0.j],\n",
       "        [ 0.00000000e+00+0.j,  1.91877971e-09+0.j,  1.79049817e-09+0.j,\n",
       "          0.00000000e+00+0.j],\n",
       "        [ 0.00000000e+00+0.j, -7.01452926e-31+0.j, -6.55724636e-31+0.j,\n",
       "          0.00000000e+00+0.j],\n",
       "        [ 0.00000000e+00+0.j, -8.28058879e-30+0.j, -7.72986844e-30+0.j,\n",
       "          0.00000000e+00+0.j]],\n",
       "\n",
       "       [[ 0.00000000e+00+0.j,  8.13548328e-07+0.j, -7.37997702e-07+0.j,\n",
       "          0.00000000e+00+0.j],\n",
       "        [ 0.00000000e+00+0.j,  7.77683401e-08+0.j,  7.58141206e-08+0.j,\n",
       "          0.00000000e+00+0.j],\n",
       "        [ 0.00000000e+00+0.j, -2.84898479e-29+0.j, -2.78291816e-29+0.j,\n",
       "          0.00000000e+00+0.j],\n",
       "        [ 0.00000000e+00+0.j, -3.35761057e-28+0.j, -3.27460281e-28+0.j,\n",
       "          0.00000000e+00+0.j]]])"
      ]
     },
     "execution_count": 46,
     "metadata": {},
     "output_type": "execute_result"
    }
   ],
   "source": [
    "MPS1.B[0]"
   ]
  },
  {
   "cell_type": "code",
   "execution_count": null,
   "metadata": {},
   "outputs": [],
   "source": [
    "B1 = np.zeros([1,1,4])\n",
    "B1[0,0] =(X@np.array([[np.exp(h),0],[0,np.exp(-h)]])).reshape([4,])\n",
    "B2 = np.zeros([1,1,4])\n",
    "B2[0,0] =(np.array([[np.exp(h),0],[0,np.exp(-h)]])).reshape([4,])"
   ]
  },
  {
   "cell_type": "code",
   "execution_count": null,
   "metadata": {},
   "outputs": [],
   "source": []
  }
 ],
 "metadata": {
  "kernelspec": {
   "display_name": "base",
   "language": "python",
   "name": "python3"
  },
  "language_info": {
   "codemirror_mode": {
    "name": "ipython",
    "version": 3
   },
   "file_extension": ".py",
   "mimetype": "text/x-python",
   "name": "python",
   "nbconvert_exporter": "python",
   "pygments_lexer": "ipython3",
   "version": "3.9.7"
  },
  "orig_nbformat": 4,
  "vscode": {
   "interpreter": {
    "hash": "a477bac5059954408e464007e59c6ff8c80bc3de84912130ad7e386887dbf516"
   }
  }
 },
 "nbformat": 4,
 "nbformat_minor": 2
}
