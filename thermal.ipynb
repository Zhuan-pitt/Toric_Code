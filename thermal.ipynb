{
 "cells": [
  {
   "cell_type": "code",
   "execution_count": 1,
   "metadata": {},
   "outputs": [],
   "source": [
    "import numpy as np\n",
    "from matplotlib import pyplot\n",
    "from scipy import linalg\n",
    "import copy\n",
    "import iMPS\n",
    "from scipy.sparse import linalg\n",
    "import funcs\n",
    "from scipy.optimize import bisect\n",
    "import sympy \n",
    "np.set_printoptions(linewidth=110)"
   ]
  },
  {
   "cell_type": "code",
   "execution_count": 24,
   "metadata": {},
   "outputs": [],
   "source": [
    "def one_svd(A):\n",
    "    #   |                    |\n",
    "    #---A---     --->   -u0--A1-- \n",
    "    #   |                    |\n",
    "    \n",
    "    shape = np.array(A.shape)\n",
    "    A0 = A.reshape([shape[0],-1])\n",
    "    u0,s,v = np.linalg.svd(A0)\n",
    "    d = len(s>1e-10)\n",
    "    A1 = np.diag(s[:d])@v[:d,:]      \n",
    "    shape[0] = d\n",
    "    A1 = A1.reshape(shape) \n",
    "    return u0[:,:d],A1,A1.shape\n",
    "                    \n",
    "def four_svd(A):\n",
    "    #   |                    |\n",
    "    #---A---     --->        u2\n",
    "    #   |               -u0--s--u1-- \n",
    "    #                        u3\n",
    "    #                        |\n",
    "    #for real A\n",
    "    u0,A1,_ = one_svd(A)\n",
    "    A1 = A1.transpose([1,2,3,0])\n",
    "    u1,A2,_ = one_svd(A1)\n",
    "    A2 = A2.transpose([1,2,3,0])\n",
    "    u2,A3,_ = one_svd(A2)\n",
    "    A3 = A3.transpose([1,2,3,0])\n",
    "    u3,A4,_ = one_svd(A3)\n",
    "    s = A4.transpose([1,2,3,0])\n",
    "    \n",
    "    return s,u0,u1,u2,u3"
   ]
  },
  {
   "cell_type": "code",
   "execution_count": 25,
   "metadata": {},
   "outputs": [],
   "source": [
    "X = np.array([[0,1],[1,0]])\n",
    "Z = np.array([[1,0],[0,-1]])\n",
    "Id = np.array([[1,0],[0,1]])\n",
    "beta = 0\n",
    "la=1\n",
    "lb=10\n",
    "HA = -la*np.kron(X,np.kron(X,np.kron(X,X)))\n",
    "HB = -lb*np.kron(Z,np.kron(Z,np.kron(Z,Z)))\n",
    "\n",
    "ZA = linalg.expm(-beta*HA)\n",
    "ZB = linalg.expm(-beta*HB)\n",
    "ZA = ZA/np.linalg.norm(ZA)\n",
    "ZB = ZB/np.linalg.norm(ZB)\n"
   ]
  },
  {
   "cell_type": "code",
   "execution_count": 7,
   "metadata": {},
   "outputs": [],
   "source": [
    "ZA = ZA.reshape([2]*8)\n",
    "ZA = np.transpose(ZA,[0,4,1,5,2,6,3,7])\n",
    "ZA = ZA.reshape([4]*4)\n",
    "\n",
    "ZB = ZB.reshape([2]*8)\n",
    "ZB = np.transpose(ZB,[0,4,1,5,2,6,3,7])\n",
    "ZB = ZB.reshape([4]*4)\n",
    "\n"
   ]
  },
  {
   "cell_type": "code",
   "execution_count": 8,
   "metadata": {},
   "outputs": [],
   "source": [
    "dZ = np.kron(Z,Z)\n",
    "IdZ = np.kron(Id,Z)\n",
    "IdX = np.kron(Id,X)\n",
    "dX = np.kron(X,X)\n",
    "dId = np.kron(Id,Id)\n",
    "ZA1 = np.tensordot(IdX,ZA,([1],[0]))\n",
    "ZA1 = np.tensordot(IdX,ZA1,([1],[0]))\n",
    "ZA1 = np.tensordot(dId,ZA1,([1],[0]))\n",
    "ZA1 = np.tensordot(dId,ZA1,([1],[0]))\n",
    "\n",
    "ZB1 = np.tensordot(IdZ,ZB,([1],[0]))\n",
    "ZB1 = np.tensordot(IdZ,ZB1,([1],[0]))\n",
    "ZB1 = np.tensordot(IdZ,ZB1,([1],[0]))\n",
    "ZB1 = np.tensordot(IdZ,ZB1,([1],[0]))\n",
    "\n",
    "ZB2 = np.tensordot(dX,ZB,([1],[0]))\n",
    "ZB2 = np.tensordot(dX,ZB2,([1],[0]))\n",
    "ZB2 = np.tensordot(dX,ZB2,([1],[0]))\n",
    "ZB2 = np.tensordot(dId,ZB2,([1],[0]))"
   ]
  },
  {
   "cell_type": "code",
   "execution_count": 9,
   "metadata": {},
   "outputs": [],
   "source": [
    "u = np.kron(Id,Id).reshape([2,2,4])\n",
    "\n",
    "T1 = np.tensordot(u,u,([1],[0]))\n",
    "T1 = np.tensordot(T1,u,([2],[0]))\n",
    "T1 = np.tensordot(T1,u,([3],[0]))\n",
    "T1 = T1.transpose([5,2,1,3,4,0])\n",
    "\n"
   ]
  },
  {
   "cell_type": "code",
   "execution_count": 10,
   "metadata": {},
   "outputs": [],
   "source": [
    "M1 = np.tensordot(ZA,T1,([3],[2]))\n",
    "M1 = M1.transpose([0,3,1,4,2,5,6,7])\n",
    "M1 = M1.reshape([16,16,4,4,2,2]) \n",
    "\n",
    "M2 = np.tensordot(T1,ZB,([3],[2]))\n",
    "M2 = M2.transpose([0,5,1,6,2,7,3,4])\n",
    "M2 = M2.reshape([16,16,4,4,2,2]) "
   ]
  },
  {
   "cell_type": "code",
   "execution_count": 11,
   "metadata": {},
   "outputs": [],
   "source": [
    "trans1 = np.trace(M1,axis1= 4, axis2=5)\n",
    "trans2 = np.trace(M2,axis1= 4, axis2=5)"
   ]
  },
  {
   "cell_type": "code",
   "execution_count": 26,
   "metadata": {},
   "outputs": [],
   "source": [
    "MHA = np.zeros([2,2,2,2,16,16])\n",
    "MHA[0,0,0,0] = np.kron(dId,dId)\n",
    "MHA[1,1,1,1] = np.kron(dId,dId)\n",
    "MHA[0,1,1,0] = HA\n",
    "\n",
    "\n",
    "MHB = np.zeros([2,2,2,2,16,16])\n",
    "MHB[0,0,0,0] = np.kron(dId,dId)\n",
    "MHB[1,1,1,1] = np.kron(dId,dId)\n",
    "MHB[0,1,1,0] = HB"
   ]
  },
  {
   "cell_type": "code",
   "execution_count": 27,
   "metadata": {},
   "outputs": [],
   "source": [
    "MHA = MHA.reshape([2]*12)\n",
    "MHA = MHA.transpose([4,0,8,5,1,9,6,2,10,7,3,11])\n",
    "MHA = MHA.reshape([8]*4)\n",
    "\n",
    "MHB = MHB.reshape([2]*12)\n",
    "MHB = MHB.transpose([4,0,8,5,1,9,6,2,10,7,3,11])\n",
    "MHB = MHB.reshape([8]*4)"
   ]
  },
  {
   "cell_type": "code",
   "execution_count": 18,
   "metadata": {},
   "outputs": [],
   "source": [
    "T2 = np.kron(T1,dId).reshape([2]*14)\n",
    "T2 = T2.transpose([0,10,1,2,12,3,4,13,5,6,11,7,8,9])\n",
    "T2 = T2.reshape([8,8,8,8,2,2])"
   ]
  },
  {
   "cell_type": "code",
   "execution_count": 21,
   "metadata": {},
   "outputs": [],
   "source": [
    "MH1 = np.tensordot(MHA,T2,([3],[2]))\n",
    "MH1 = MH1.transpose([0,3,1,4,2,5,6,7])\n",
    "MH1 = MH1.reshape([64,64,8,8,2,2]) \n",
    "\n",
    "MH2 = np.tensordot(T2,MHB,([3],[2]))\n",
    "MH2 = MH2.transpose([0,5,1,6,2,7,3,4])\n",
    "MH2 = MH2.reshape([64,64,8,8,2,2]) "
   ]
  },
  {
   "cell_type": "code",
   "execution_count": null,
   "metadata": {},
   "outputs": [],
   "source": []
  },
  {
   "cell_type": "code",
   "execution_count": 695,
   "metadata": {},
   "outputs": [],
   "source": [
    "X = np.array([[0,1],[1,0]])\n",
    "Id = np.eye(2)\n",
    "\n",
    "X12 = np.zeros([1,1,4,4])\n",
    "X12[0,0,:,:] = np.kron(X,X)\n",
    "\n",
    "Z12 = np.zeros([1,1,4,4])\n",
    "Z12[0,0,:,:] = np.kron(Z,Z)\n",
    "\n",
    "\n",
    "X1 = np.zeros([1,1,4,4])\n",
    "X1[0,0,:,:] = np.kron(X,Id)\n",
    "\n",
    "Z1 = np.zeros([1,1,4,4])\n",
    "Z1[0,0,:,:] = np.kron(Z,Id)\n",
    "\n",
    "\n",
    "XZ12 = np.zeros([1,1,4,4])\n",
    "XZ12[0,0,:,:] = np.kron(X@Z,X@Z)\n",
    "\n",
    "\n",
    "MPOdX = iMPS.iMPO()\n",
    "MPOdX.construct_from_tensor_list([X12,X12])\n",
    "\n",
    "MPOX = iMPS.iMPO()\n",
    "MPOX.construct_from_tensor_list([X1,X1])\n",
    "\n",
    "MPOZ = iMPS.iMPO()\n",
    "MPOZ.construct_from_tensor_list([Z1,Z1])\n",
    "\n",
    "\n",
    "MPOdZ = iMPS.iMPO()\n",
    "MPOdZ.construct_from_tensor_list([Z12,Z12])\n",
    "\n",
    "\n",
    "MPOdXZ = iMPS.iMPO()\n",
    "MPOdXZ.construct_from_tensor_list([XZ12,XZ12])\n",
    "\n"
   ]
  },
  {
   "cell_type": "code",
   "execution_count": 724,
   "metadata": {},
   "outputs": [
    {
     "name": "stdout",
     "output_type": "stream",
     "text": [
      "0.0\n"
     ]
    }
   ],
   "source": [
    "lam1ss=[]\n",
    "lam2ss=[]\n",
    "lam12ss=[]\n",
    "\n",
    "dims=[]\n",
    "\n",
    "\n",
    "Z = np.array([[1,0],[0,-1]])\n",
    "B = np.zeros([1,1,4])\n",
    "A = np.array([[0.4,0.1],[0.2,0.3]])\n",
    "#B[0,0] =(linalg.expm(0.1*np.kron(Z,Z))).reshape([16,])\n",
    "B[0,0] =(linalg.expm(0.1*A)).reshape([4,])\n",
    "MPS = iMPS.iMPS()\n",
    "MPS.svd_threshold =1e-10\n",
    "MPS.max_bond = 15\n",
    "MPS.construct_from_tensor_list([B,B])\n",
    "\n",
    "rng = np.arange(0.,.01,0.05)\n",
    "for p1 in np.arange(0.,.01,0.05): \n",
    "    lamdXs=[]\n",
    "    lamdZs=[]\n",
    "    lamdXZs=[]\n",
    "\n",
    "    \n",
    "    for p2 in rng:\n",
    "        #trans = funcs.single_trans_qc2(p1=p1,channel1='x_flip',p2=p2,channel2='z_flip')\n",
    "        #trans = funcs.single_trans_2layers(p1=0,channel1='x_flip',p2=p2,channel2='x_flip')\n",
    "        #trans = funcs.single_trans_2layers_swap(p1=p1,p2=p2,channel='x_flip')\n",
    "        MPO = iMPS.iMPO()\n",
    "        MPO.construct_from_tensor_list([trans1,trans2])\n",
    "\n",
    "        MPS_power2 = iMPS.MPS_power_method_twosite(MPS,MPO,max_bond=15)\n",
    "        MPS_power2.update(40,1e-6,1e-6)  \n",
    "        \n",
    "        dims.append(MPS_power2.MPS2.chi[0])\n",
    "        \n",
    "        strap = iMPS.strap(MPS_power2.MPS2,MPOdX,MPS_power2.MPS2)\n",
    "        lamdX = strap.calculate_eig()\n",
    "        \n",
    "        strap = iMPS.strap(MPS_power2.MPS2,MPOX,MPS_power2.MPS2)\n",
    "        lamX = strap.calculate_eig()\n",
    "        strap = iMPS.strap(MPS_power2.MPS2,MPOZ,MPS_power2.MPS2)\n",
    "        lamZ = strap.calculate_eig()\n",
    "        \n",
    "        strap = iMPS.strap(MPS_power2.MPS2,MPOdZ,MPS_power2.MPS2)\n",
    "        lamdZ = strap.calculate_eig()\n",
    "        \n",
    "        strap = iMPS.strap(MPS_power2.MPS2,MPOdXZ,MPS_power2.MPS2)\n",
    "        lamdXZ = strap.calculate_eig()\n",
    "        \n",
    "        \n",
    "    \n",
    "\n",
    "        lamdXs.append(lamdX)\n",
    "        lamdZs.append(lamdZ)\n",
    "        lamdXZs.append(lamdXZ)\n",
    "\n",
    "        print(p2)\n",
    "\n"
   ]
  },
  {
   "cell_type": "code",
   "execution_count": 725,
   "metadata": {},
   "outputs": [
    {
     "data": {
      "text/plain": [
       "[array([[[-0.70710678+0.j,  0.        +0.j,  0.        +0.j, -0.70710678+0.j]]]),\n",
       " array([[[-0.70710678+0.j,  0.        +0.j,  0.        +0.j, -0.70710678+0.j]]])]"
      ]
     },
     "execution_count": 725,
     "metadata": {},
     "output_type": "execute_result"
    }
   ],
   "source": [
    "MPS_power2.MPS2.B"
   ]
  },
  {
   "cell_type": "code",
   "execution_count": 726,
   "metadata": {},
   "outputs": [
    {
     "name": "stdout",
     "output_type": "stream",
     "text": [
      "(0.9999999999999999+0j) (0.9999999999999999+0j) (0.9999999999999999+0j)\n"
     ]
    }
   ],
   "source": [
    "print(lamdX,lamdZ, lamdXZ)"
   ]
  },
  {
   "cell_type": "code",
   "execution_count": 727,
   "metadata": {},
   "outputs": [
    {
     "name": "stdout",
     "output_type": "stream",
     "text": [
      "0j 0j\n"
     ]
    }
   ],
   "source": [
    "print(lamX,lamZ)"
   ]
  },
  {
   "cell_type": "code",
   "execution_count": null,
   "metadata": {},
   "outputs": [],
   "source": []
  }
 ],
 "metadata": {
  "kernelspec": {
   "display_name": "base",
   "language": "python",
   "name": "python3"
  },
  "language_info": {
   "codemirror_mode": {
    "name": "ipython",
    "version": 3
   },
   "file_extension": ".py",
   "mimetype": "text/x-python",
   "name": "python",
   "nbconvert_exporter": "python",
   "pygments_lexer": "ipython3",
   "version": "3.9.16"
  },
  "orig_nbformat": 4
 },
 "nbformat": 4,
 "nbformat_minor": 2
}
