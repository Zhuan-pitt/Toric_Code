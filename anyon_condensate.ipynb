{
 "cells": [
  {
   "cell_type": "code",
   "execution_count": 153,
   "metadata": {},
   "outputs": [],
   "source": [
    "import numpy as np\n",
    "from matplotlib import pyplot\n",
    "from scipy import linalg\n",
    "import copy\n",
    "import iMPS\n",
    "from scipy.sparse import linalg\n",
    "import funcs\n",
    "from scipy.optimize import bisect\n",
    "import sympy \n",
    "np.set_printoptions(linewidth=150)"
   ]
  },
  {
   "cell_type": "code",
   "execution_count": 2,
   "metadata": {},
   "outputs": [],
   "source": [
    "rho1 = np.diag([1,0,0,0])\n",
    "rho2 = np.diag([0,1,0,0])\n",
    "\n",
    "A = np.random.random([4,4])\n",
    "A = A+A.transpose()\n",
    "s,u = np.linalg.eig(A)\n",
    "S = np.array([[1,1,1,1],[1,1,-1,-1],[1,-1,1,-1],[1,-1,-1,1]])/2"
   ]
  },
  {
   "cell_type": "code",
   "execution_count": 32,
   "metadata": {},
   "outputs": [
    {
     "data": {
      "text/plain": [
       "array([[0.40513528, 0.        , 0.        , 0.        ],\n",
       "       [0.        , 0.06092554, 0.        , 0.        ],\n",
       "       [0.        , 0.        , 0.34154031, 0.        ],\n",
       "       [0.        , 0.        , 0.        , 0.19239887]])"
      ]
     },
     "execution_count": 32,
     "metadata": {},
     "output_type": "execute_result"
    }
   ],
   "source": [
    "np.diag(np.diag(u@rho1@u.transpose()))"
   ]
  },
  {
   "cell_type": "code",
   "execution_count": 31,
   "metadata": {},
   "outputs": [
    {
     "data": {
      "text/plain": [
       "array([[0.07383335, 0.        , 0.        , 0.        ],\n",
       "       [0.        , 0.15286552, 0.        , 0.        ],\n",
       "       [0.        , 0.        , 0.03396147, 0.        ],\n",
       "       [0.        , 0.        , 0.        , 0.73933967]])"
      ]
     },
     "execution_count": 31,
     "metadata": {},
     "output_type": "execute_result"
    }
   ],
   "source": [
    "np.diag(np.diag(u@rho2@u.transpose()))"
   ]
  },
  {
   "cell_type": "code",
   "execution_count": 27,
   "metadata": {},
   "outputs": [
    {
     "data": {
      "text/plain": [
       "array([[3.07219796e-02, 0.00000000e+00, 0.00000000e+00, 0.00000000e+00],\n",
       "       [0.00000000e+00, 2.58383138e-04, 0.00000000e+00, 0.00000000e+00],\n",
       "       [0.00000000e+00, 0.00000000e+00, 3.44104771e-01, 0.00000000e+00],\n",
       "       [0.00000000e+00, 0.00000000e+00, 0.00000000e+00, 6.24914866e-01]])"
      ]
     },
     "execution_count": 27,
     "metadata": {},
     "output_type": "execute_result"
    }
   ],
   "source": [
    "np.diag(np.diag(S@u@rho2@u.transpose()@S))"
   ]
  },
  {
   "cell_type": "code",
   "execution_count": null,
   "metadata": {},
   "outputs": [],
   "source": [
    "Q00,Q01,Q02,Q03 = sympy.symbols('Q00 Q01 Q02 Q03')\n",
    "Q10,Q11,Q12,Q13 = sympy.symbols('Q10 Q11 Q12 Q13')\n",
    "Q20,Q21,Q22,Q23 = sympy.symbols('Q20 Q21 Q22 Q23')\n",
    "Q30,Q31,Q32,Q33 = sympy.symbols('Q30 Q31 Q32 Q33')\n",
    "\n",
    "rho_ini = np.array([[Q00,Q01,Q02,Q03],[Q10,Q11,Q12,Q13],[Q20,Q21,Q22,Q23],[Q30,Q31,Q32,Q33]])\n",
    "rho_ini = sympy.Array(rho_ini)"
   ]
  },
  {
   "attachments": {},
   "cell_type": "markdown",
   "metadata": {},
   "source": [
    "direct overlap"
   ]
  },
  {
   "cell_type": "code",
   "execution_count": 27,
   "metadata": {},
   "outputs": [
    {
     "name": "stdout",
     "output_type": "stream",
     "text": [
      "0\n",
      "1\n",
      "2\n"
     ]
    }
   ],
   "source": [
    "for i in range(0,3,1):\n",
    "    print(i)"
   ]
  },
  {
   "cell_type": "code",
   "execution_count": 272,
   "metadata": {},
   "outputs": [],
   "source": [
    "vs = np.array([[1/np.sqrt(2),1/np.sqrt(2),0,0],\n",
    "    [1/np.sqrt(2),-1/np.sqrt(2),0,0],\n",
    "    [0,0,1/np.sqrt(2),1/np.sqrt(2)],\n",
    "    [0,0,1/np.sqrt(2),-1/np.sqrt(2)]])\n",
    "\n",
    "HH = 1/np.sqrt(2)*np.array([[1,1,0,0],[1,-1,0,0],[0,0,1,1],[0,0,1,-1]])\n",
    "\n",
    "S = 1/2*np.array([[1,1,1,1],[1,1,-1,-1],[1,-1,1,-1],[1,-1,-1,1]])\n",
    "T = [1,1,1,-1]\n",
    "N = np.array([[0,1,2,3],[1,0,3,2],[2,3,0,1],[3,2,1,0]])\n",
    "\n",
    "\n",
    "def if_boson(a):\n",
    "    #check whether anyon a is boson\n",
    "    theta = 1\n",
    "    for i in range(len(a)):\n",
    "        theta = theta*T[a[i]]\n",
    "    if theta == 1:\n",
    "        return True\n",
    "    else: \n",
    "        return False\n",
    "    \n",
    "def if_trivial_mutual(a,b):\n",
    "    #check if anyon a and b have trivial mutual braiding statistics\n",
    "    \n",
    "    Sab = 1\n",
    "    for i in range(len(a)):\n",
    "        Sab = Sab*S[a[i],b[i]]*2\n",
    "    if Sab == 1:\n",
    "        return True\n",
    "    else: \n",
    "        return False\n",
    "    \n",
    "def index2anyon(i,l = 2):\n",
    "    b = [int(j) for j in f'{i:0{2*l}b}']\n",
    "    anyon = []\n",
    "    for k in range(0,2*l,2):\n",
    "        anyon.append(b[k]*2+b[k+1])\n",
    "    return anyon\n",
    "\n",
    "\n",
    "def overlap(b,c,a):\n",
    "    [a1,a2] = a\n",
    "    \n",
    "    if if_trivial_mutual(a1,b) and if_trivial_mutual(a2,b) and \\\n",
    "        if_trivial_mutual(a1,c) and if_trivial_mutual(a2,c) :\n",
    "            if b==c: \n",
    "                return 1\n",
    "            elif N[b[0],c[0]] == a1[0] and N[b[1],c[1]] == a1[1]:\n",
    "                return 1\n",
    "            elif N[b[0],c[0]] == a2[0] and N[b[1],c[1]] == a2[1]:\n",
    "                return 1\n",
    "            elif N[b[0],c[0]] == N[a1[0],a2[0]] and N[b[1],c[1]] == N[a1[1],a2[1]]:\n",
    "                return 1\n",
    "            else: \n",
    "                return 0\n",
    "    else: \n",
    "        return 0\n",
    "    \n",
    "    \n",
    "def overlap2(b,c,a):\n",
    "    \n",
    "            \n",
    "            \n",
    "    for i in range(len(a)):\n",
    "        if not if_trivial_mutual(a[i],b):\n",
    "            return 0\n",
    "        if not if_trivial_mutual(a[i],c):\n",
    "            return 0\n",
    "        \n",
    "    if b==c: \n",
    "            return 1\n",
    "        \n",
    "    k = [(N[b[i]][c[i]]) for i in range(len(b)) ]\n",
    "    for i in range(len(a)):\n",
    "        if k == a[i]:\n",
    "            return 1\n",
    "    if len(a)==2:\n",
    "        for i in range(len(a)):\n",
    "            for j in range(i,len(a)):\n",
    "                k1 = [(N[a[i][m]][a[j][m]]) for m in range(len(a[0])) ]\n",
    "                if k == k1:\n",
    "                    return 1   \n",
    "    if len(a)==3:        \n",
    "        for i in range(len(a)):\n",
    "            for j in range(i,len(a)):\n",
    "                for l in range(j,len(a)):\n",
    "                    k1 = [(N[a[i][m]][a[j][m]]) for m in range(len(a[0])) ]\n",
    "                    k2 = [ (N[k1[m]][a[l][m]]) for m in range(len(a[0])) ]\n",
    "                    if k == k2:\n",
    "                        return 1    \n",
    "    \n",
    "    return 0\n",
    "        \n",
    "    \n",
    "    \n",
    "\n",
    "    \n",
    "def symmetry_matrix(a= [[0,0],[0,0]],direction= None):\n",
    "    \n",
    "    \n",
    "    #a anyon condensation type\n",
    "    for i in range(len(a)):\n",
    "        if not if_boson(a[i]):\n",
    "            return (f'{a[i]} is not a boson')\n",
    "\n",
    "    \n",
    "    \n",
    "    \n",
    "    n = len(a[0])\n",
    "        \n",
    "    M = np.zeros([4**n,4**n,4**n,4**n])\n",
    "    over = np.zeros([16,16])\n",
    "    if if_boson(a[0]) and if_boson(a[1]):\n",
    "        for i in range(16):\n",
    "            b = index2anyon(i)\n",
    "            for j in range(16):\n",
    "                c = index2anyon(j)    \n",
    "                #overlap of b and c should be : 1 if ab = c\n",
    "                #                               0 if b or c is confined\n",
    "                v1 = (np.kron(vs[b[0],:],vs[b[1],:])).reshape([16,1])\n",
    "                v2 = (np.kron(vs[c[0],:],vs[c[1],:])).reshape([16,1])\n",
    "                \n",
    "                #print(v1.shape)\n",
    "                M[i,j,:,:] = v1.dot(v2.transpose())\n",
    "                \n",
    "                \n",
    "                over[i,j]=overlap(b,c,a)\n",
    "                \n",
    "    X = M.reshape([16**2,16**2])\n",
    "    Sym = np.linalg.inv(X).dot(over.reshape([16**2,])).reshape([16,16])\n",
    "\n",
    "    Sym = Sym/Sym[0,0]\n",
    "    \n",
    "    if direction == None:\n",
    "        return Sym\n",
    "    if direction =='h':\n",
    "        return Sym[[0,1,4,5],:][:,[0,1,4,5]]\n",
    "    if direction =='v':\n",
    "        return Sym[[0,2,8,10],:][:,[0,2,8,10]]\n",
    "    if direction =='hv':\n",
    "        return Sym[[0,3,12,15],:][:,[0,3,12,15]]\n",
    "    \n",
    "    \n",
    "def symmetry_matrix2(a= [[0,0],[0,0]],direction= None):\n",
    "    \n",
    "    \n",
    "    #a anyon condensation type\n",
    "    for i in range(len(a)):\n",
    "        if not if_boson(a[i]):\n",
    "            return (f'{a[i]} is not a boson')\n",
    "\n",
    "    for i in range(len(a)):\n",
    "        for j in range(i,len(a)):\n",
    "            if not if_trivial_mutual(a[i],a[j]):\n",
    "                \n",
    "                print(f'This anyon condensation is not valid.')\n",
    "                break\n",
    "    \n",
    "    \n",
    "    n = len(a[0])\n",
    "        \n",
    "    M = np.zeros([4**n,4**n])\n",
    "    for i in range(len(a)):\n",
    "        if_boson(a[i])\n",
    "    for i in range(4**n):\n",
    "        b = index2anyon(i,n)\n",
    "        for j in range(4**n):\n",
    "            c = index2anyon(j,n)    \n",
    "            #overlap of b and c should be : 1 if ab = c\n",
    "            #                               0 if b or c is confined\n",
    "            M[i,j] = overlap2(b,c,a)\n",
    "                \n",
    "                \n",
    "               \n",
    "                \n",
    "    X = M.reshape([4]*2*n)\n",
    "\n",
    "    for _ in range(2*n):\n",
    "        X = np.tensordot(X,HH,([0],[0]))\n",
    "    \n",
    "    #swap = [(i+1)%n for i in range(n)]\n",
    "    #X = X.transpose(swap+list(range(n,2*n)))\n",
    "    \n",
    "    \n",
    "    Sym = X.reshape([4**n]*2)\n",
    "    Sym = Sym/Sym[0,0]\n",
    "    \n",
    "    \n",
    "    \n",
    "    if direction == None:\n",
    "        return Sym\n",
    "    if direction =='h':\n",
    "        idx_list = [(int(f'{i:00b}',base =4)) for i in range(2**len(a[0]))]\n",
    "        return Sym[idx_list,:][:,idx_list]\n",
    "        "
   ]
  },
  {
   "cell_type": "code",
   "execution_count": 202,
   "metadata": {},
   "outputs": [
    {
     "name": "stdout",
     "output_type": "stream",
     "text": [
      "[[1. 0. 0. ... 0. 0. 0.]\n",
      " [0. 1. 0. ... 0. 0. 0.]\n",
      " [0. 0. 1. ... 0. 0. 0.]\n",
      " ...\n",
      " [0. 0. 0. ... 1. 0. 0.]\n",
      " [0. 0. 0. ... 0. 1. 0.]\n",
      " [0. 0. 0. ... 0. 0. 1.]]\n"
     ]
    }
   ],
   "source": [
    "a = [[0,0,0]]\n",
    "print(symmetry_matrix2(a))\n"
   ]
  },
  {
   "cell_type": "code",
   "execution_count": 194,
   "metadata": {},
   "outputs": [
    {
     "name": "stdout",
     "output_type": "stream",
     "text": [
      "[1, 2, 0]\n"
     ]
    },
    {
     "data": {
      "text/plain": [
       "[1, 2, 0, 3, 4, 5]"
      ]
     },
     "execution_count": 194,
     "metadata": {},
     "output_type": "execute_result"
    }
   ],
   "source": [
    "n = 3\n",
    "swap = [(i+1)%n for i in range(n)]\n",
    "print(swap)\n",
    "swap+list(range(n,2*n))"
   ]
  },
  {
   "cell_type": "code",
   "execution_count": 206,
   "metadata": {},
   "outputs": [
    {
     "name": "stdout",
     "output_type": "stream",
     "text": [
      "[[1. 0. 0. 0. 0. 0. 1. 0.]\n",
      " [0. 1. 0. 0. 0. 0. 0. 1.]\n",
      " [0. 0. 0. 0. 0. 0. 0. 0.]\n",
      " [0. 0. 0. 0. 0. 0. 0. 0.]\n",
      " [0. 0. 0. 0. 0. 0. 0. 0.]\n",
      " [0. 0. 0. 0. 0. 0. 0. 0.]\n",
      " [1. 0. 0. 0. 0. 0. 1. 0.]\n",
      " [0. 1. 0. 0. 0. 0. 0. 1.]]\n",
      "[[1. 0. 0. 1. 0. 1. 1. 0.]\n",
      " [0. 1. 1. 0. 1. 0. 0. 1.]\n",
      " [0. 1. 1. 0. 1. 0. 0. 1.]\n",
      " [1. 0. 0. 1. 0. 1. 1. 0.]\n",
      " [0. 1. 1. 0. 1. 0. 0. 1.]\n",
      " [1. 0. 0. 1. 0. 1. 1. 0.]\n",
      " [1. 0. 0. 1. 0. 1. 1. 0.]\n",
      " [0. 1. 1. 0. 1. 0. 0. 1.]]\n",
      "[[1. 0. 0. 1. 0. 1. 1. 0.]\n",
      " [0. 1. 1. 0. 1. 0. 0. 1.]\n",
      " [0. 1. 1. 0. 1. 0. 0. 1.]\n",
      " [1. 0. 0. 1. 0. 1. 1. 0.]\n",
      " [0. 1. 1. 0. 1. 0. 0. 1.]\n",
      " [1. 0. 0. 1. 0. 1. 1. 0.]\n",
      " [1. 0. 0. 1. 0. 1. 1. 0.]\n",
      " [0. 1. 1. 0. 1. 0. 0. 1.]]\n"
     ]
    },
    {
     "data": {
      "text/plain": [
       "<matplotlib.image.AxesImage at 0x7fe8110965e0>"
      ]
     },
     "execution_count": 206,
     "metadata": {},
     "output_type": "execute_result"
    },
    {
     "data": {
      "image/png": "[encoded data removed]",
      "text/plain": [
       "<Figure size 640x480 with 1 Axes>"
      ]
     },
     "metadata": {},
     "output_type": "display_data"
    }
   ],
   "source": [
    "a1 = [[1,1,0],[2,2,0]]\n",
    "a2 = [[2,2,0],[0,2,2]]\n",
    "\n",
    "a3 = [[1,1,0],[2,2,0],[0,2,2]]\n",
    "\n",
    "print(symmetry_matrix2(a1,direction = 'h'))\n",
    "print(symmetry_matrix2(a2,direction = 'h'))\n",
    "print(symmetry_matrix2(a3,direction = 'h'))\n",
    "pyplot.imshow(symmetry_matrix2(a2)-symmetry_matrix2(a1))\n"
   ]
  },
  {
   "cell_type": "code",
   "execution_count": 274,
   "metadata": {},
   "outputs": [],
   "source": [
    "H = [[1,1],[1,-1]]\n",
    "\n",
    "Sym = [[1,0,0,0,0,0,1,0],\n",
    "        [0,0,1,0,1,0,0,0],\n",
    "        [0,1,0,0,0,0,0,1],\n",
    "        [0,0,0,1,0,1,0,0],\n",
    "        [0,0,1,0,1,0,0,0],\n",
    "        [1,0,0,0,0,0,1,0],\n",
    "        [0,0,0,1,0,1,0,0],\n",
    "        [0,1,0,0,0,0,0,1]]\n",
    "\n",
    "\n",
    "Sym = [[1,0,0,0,0,0,0,0],\n",
    "        [0,0,0,0,1,0,0,0],\n",
    "        [0,1,0,0,0,0,0,0],\n",
    "        [0,0,0,0,0,1,0,0],\n",
    "        [0,0,1,0,0,0,0,0],\n",
    "        [0,0,0,0,0,0,1,0],\n",
    "        [0,0,0,1,0,0,0,0],\n",
    "        [0,0,0,0,0,0,0,1]]\n",
    "a1=[[0,0,0],[2,2,0],[2,0,2]]\n",
    "Sym = symmetry_matrix2(a1,direction = 'h')"
   ]
  },
  {
   "cell_type": "code",
   "execution_count": 275,
   "metadata": {},
   "outputs": [
    {
     "data": {
      "text/plain": [
       "array([[1., 0., 0., 1., 0., 1., 1., 0.],\n",
       "       [0., 1., 1., 0., 1., 0., 0., 1.],\n",
       "       [0., 1., 1., 0., 1., 0., 0., 1.],\n",
       "       [1., 0., 0., 1., 0., 1., 1., 0.],\n",
       "       [0., 1., 1., 0., 1., 0., 0., 1.],\n",
       "       [1., 0., 0., 1., 0., 1., 1., 0.],\n",
       "       [1., 0., 0., 1., 0., 1., 1., 0.],\n",
       "       [0., 1., 1., 0., 1., 0., 0., 1.]])"
      ]
     },
     "execution_count": 275,
     "metadata": {},
     "output_type": "execute_result"
    }
   ],
   "source": [
    "Sym"
   ]
  },
  {
   "cell_type": "code",
   "execution_count": 269,
   "metadata": {},
   "outputs": [],
   "source": [
    "Sym = np.array(Sym).reshape([2,2,2,2,2,2])\n",
    "for i in range(6):\n",
    "    Sym = np.tensordot(Sym,H,([0],[0]))\n",
    "Sym = Sym.reshape(8,8)"
   ]
  },
  {
   "cell_type": "code",
   "execution_count": 266,
   "metadata": {},
   "outputs": [
    {
     "name": "stdout",
     "output_type": "stream",
     "text": [
      "[[32.  0.  0.  0.  0.  0.  0.  0.]\n",
      " [ 0.  0.  0.  0.  0.  0.  0.  0.]\n",
      " [ 0.  0.  0.  0.  0.  0.  0.  0.]\n",
      " [ 0.  0.  0.  0.  0.  0.  0.  0.]\n",
      " [ 0.  0.  0.  0.  0.  0.  0.  0.]\n",
      " [ 0.  0.  0.  0.  0.  0.  0.  0.]\n",
      " [ 0.  0.  0.  0.  0.  0.  0.  0.]\n",
      " [ 0.  0.  0.  0.  0.  0.  0. 32.]]\n"
     ]
    }
   ],
   "source": [
    "print(Sym)"
   ]
  },
  {
   "cell_type": "code",
   "execution_count": 177,
   "metadata": {},
   "outputs": [
    {
     "name": "stdout",
     "output_type": "stream",
     "text": [
      "[3, 1, 2]\n",
      "[3, 2, 0]\n"
     ]
    }
   ],
   "source": [
    "i=0\n",
    "j=2\n",
    "b=[0,3,2]\n",
    "k1 = [(N[a2[i][m]][a2[j][m]]) for m in range(len(a[0])) ]\n",
    "k2 = [(N[k1[m]][b[m]]) for m in range(len(a[0])) ]\n",
    "print(k1)\n",
    "print(k2)"
   ]
  },
  {
   "cell_type": "code",
   "execution_count": 5,
   "metadata": {},
   "outputs": [
    {
     "data": {
      "text/latex": [
       "$\\displaystyle \\left[\\begin{matrix}\\left[\\begin{matrix}1.0 & 0.0 & 0.0 & 0.0\\\\0.0 & 1.0 & 0.0 & 0.0\\\\0.0 & 0.0 & 1.0 & 0.0\\\\0.0 & 0.0 & 0.0 & 1.0\\end{matrix}\\right] & \\left[\\begin{matrix}0.0 & 1.0 & 0.0 & 0.0\\\\1.0 & 0.0 & 0.0 & 0.0\\\\0.0 & 0.0 & 0.0 & -1.0\\\\0.0 & 0.0 & -1.0 & 0.0\\end{matrix}\\right] & \\left[\\begin{matrix}0.0 & 0.0 & 1.0 & 0.0\\\\0.0 & 0.0 & 0.0 & -1.0\\\\1.0 & 0.0 & 0.0 & 0.0\\\\0.0 & -1.0 & 0.0 & 0.0\\end{matrix}\\right] & \\left[\\begin{matrix}0.0 & 0.0 & 0.0 & 1.0\\\\0.0 & 0.0 & -1.0 & 0.0\\\\0.0 & -1.0 & 0.0 & 0.0\\\\1.0 & 0.0 & 0.0 & 0.0\\end{matrix}\\right]\\\\\\left[\\begin{matrix}0.0 & 1.0 & 0.0 & 0.0\\\\1.0 & 0.0 & 0.0 & 0.0\\\\0.0 & 0.0 & 0.0 & -1.0\\\\0.0 & 0.0 & -1.0 & 0.0\\end{matrix}\\right] & \\left[\\begin{matrix}1.0 & 0.0 & 0.0 & 0.0\\\\0.0 & 1.0 & 0.0 & 0.0\\\\0.0 & 0.0 & 1.0 & 0.0\\\\0.0 & 0.0 & 0.0 & 1.0\\end{matrix}\\right] & \\left[\\begin{matrix}0.0 & 0.0 & 0.0 & -1.0\\\\0.0 & 0.0 & 1.0 & 0.0\\\\0.0 & 1.0 & 0.0 & 0.0\\\\-1.0 & 0.0 & 0.0 & 0.0\\end{matrix}\\right] & \\left[\\begin{matrix}0.0 & 0.0 & -1.0 & 0.0\\\\0.0 & 0.0 & 0.0 & 1.0\\\\-1.0 & 0.0 & 0.0 & 0.0\\\\0.0 & 1.0 & 0.0 & 0.0\\end{matrix}\\right]\\\\\\left[\\begin{matrix}0.0 & 0.0 & 1.0 & 0.0\\\\0.0 & 0.0 & 0.0 & -1.0\\\\1.0 & 0.0 & 0.0 & 0.0\\\\0.0 & -1.0 & 0.0 & 0.0\\end{matrix}\\right] & \\left[\\begin{matrix}0.0 & 0.0 & 0.0 & -1.0\\\\0.0 & 0.0 & 1.0 & 0.0\\\\0.0 & 1.0 & 0.0 & 0.0\\\\-1.0 & 0.0 & 0.0 & 0.0\\end{matrix}\\right] & \\left[\\begin{matrix}1.0 & 0.0 & 0.0 & 0.0\\\\0.0 & 1.0 & 0.0 & 0.0\\\\0.0 & 0.0 & 1.0 & 0.0\\\\0.0 & 0.0 & 0.0 & 1.0\\end{matrix}\\right] & \\left[\\begin{matrix}0.0 & -1.0 & 0.0 & 0.0\\\\-1.0 & 0.0 & 0.0 & 0.0\\\\0.0 & 0.0 & 0.0 & 1.0\\\\0.0 & 0.0 & 1.0 & 0.0\\end{matrix}\\right]\\\\\\left[\\begin{matrix}0.0 & 0.0 & 0.0 & 1.0\\\\0.0 & 0.0 & -1.0 & 0.0\\\\0.0 & -1.0 & 0.0 & 0.0\\\\1.0 & 0.0 & 0.0 & 0.0\\end{matrix}\\right] & \\left[\\begin{matrix}0.0 & 0.0 & -1.0 & 0.0\\\\0.0 & 0.0 & 0.0 & 1.0\\\\-1.0 & 0.0 & 0.0 & 0.0\\\\0.0 & 1.0 & 0.0 & 0.0\\end{matrix}\\right] & \\left[\\begin{matrix}0.0 & -1.0 & 0.0 & 0.0\\\\-1.0 & 0.0 & 0.0 & 0.0\\\\0.0 & 0.0 & 0.0 & 1.0\\\\0.0 & 0.0 & 1.0 & 0.0\\end{matrix}\\right] & \\left[\\begin{matrix}1.0 & 0.0 & 0.0 & 0.0\\\\0.0 & 1.0 & 0.0 & 0.0\\\\0.0 & 0.0 & 1.0 & 0.0\\\\0.0 & 0.0 & 0.0 & 1.0\\end{matrix}\\right]\\end{matrix}\\right]$"
      ],
      "text/plain": [
       "[[[[1.0, 0.0, 0.0, 0.0], [0.0, 1.0, 0.0, 0.0], [0.0, 0.0, 1.0, 0.0], [0.0, 0.0, 0.0, 1.0]], [[0.0, 1.0, 0.0, 0.0], [1.0, 0.0, 0.0, 0.0], [0.0, 0.0, 0.0, -1.0], [0.0, 0.0, -1.0, 0.0]], [[0.0, 0.0, 1.0, 0.0], [0.0, 0.0, 0.0, -1.0], [1.0, 0.0, 0.0, 0.0], [0.0, -1.0, 0.0, 0.0]], [[0.0, 0.0, 0.0, 1.0], [0.0, 0.0, -1.0, 0.0], [0.0, -1.0, 0.0, 0.0], [1.0, 0.0, 0.0, 0.0]]], [[[0.0, 1.0, 0.0, 0.0], [1.0, 0.0, 0.0, 0.0], [0.0, 0.0, 0.0, -1.0], [0.0, 0.0, -1.0, 0.0]], [[1.0, 0.0, 0.0, 0.0], [0.0, 1.0, 0.0, 0.0], [0.0, 0.0, 1.0, 0.0], [0.0, 0.0, 0.0, 1.0]], [[0.0, 0.0, 0.0, -1.0], [0.0, 0.0, 1.0, 0.0], [0.0, 1.0, 0.0, 0.0], [-1.0, 0.0, 0.0, 0.0]], [[0.0, 0.0, -1.0, 0.0], [0.0, 0.0, 0.0, 1.0], [-1.0, 0.0, 0.0, 0.0], [0.0, 1.0, 0.0, 0.0]]], [[[0.0, 0.0, 1.0, 0.0], [0.0, 0.0, 0.0, -1.0], [1.0, 0.0, 0.0, 0.0], [0.0, -1.0, 0.0, 0.0]], [[0.0, 0.0, 0.0, -1.0], [0.0, 0.0, 1.0, 0.0], [0.0, 1.0, 0.0, 0.0], [-1.0, 0.0, 0.0, 0.0]], [[1.0, 0.0, 0.0, 0.0], [0.0, 1.0, 0.0, 0.0], [0.0, 0.0, 1.0, 0.0], [0.0, 0.0, 0.0, 1.0]], [[0.0, -1.0, 0.0, 0.0], [-1.0, 0.0, 0.0, 0.0], [0.0, 0.0, 0.0, 1.0], [0.0, 0.0, 1.0, 0.0]]], [[[0.0, 0.0, 0.0, 1.0], [0.0, 0.0, -1.0, 0.0], [0.0, -1.0, 0.0, 0.0], [1.0, 0.0, 0.0, 0.0]], [[0.0, 0.0, -1.0, 0.0], [0.0, 0.0, 0.0, 1.0], [-1.0, 0.0, 0.0, 0.0], [0.0, 1.0, 0.0, 0.0]], [[0.0, -1.0, 0.0, 0.0], [-1.0, 0.0, 0.0, 0.0], [0.0, 0.0, 0.0, 1.0], [0.0, 0.0, 1.0, 0.0]], [[1.0, 0.0, 0.0, 0.0], [0.0, 1.0, 0.0, 0.0], [0.0, 0.0, 1.0, 0.0], [0.0, 0.0, 0.0, 1.0]]]]"
      ]
     },
     "execution_count": 5,
     "metadata": {},
     "output_type": "execute_result"
    }
   ],
   "source": [
    "a = [[3,3],[0,0]]\n",
    "Pme = symmetry_matrix(a).reshape([4,4,4,4])\n",
    "Pme = Pme.transpose([0,2,1,3])\n",
    "Pme = sympy.Array(Pme)\n",
    "Pme"
   ]
  },
  {
   "cell_type": "code",
   "execution_count": null,
   "metadata": {},
   "outputs": [],
   "source": []
  },
  {
   "cell_type": "code",
   "execution_count": null,
   "metadata": {},
   "outputs": [],
   "source": [
    "\"\"\"Pme = symmetry_matrix(a).reshape([4,4,4,4]) #s,t,w,u\n",
    "\n",
    "Pme = Pme.transpose([0,1,3,2])#s,t,u,w\n",
    "\n",
    "Pme = Pme.reshape([16,16])\n",
    "\n",
    "lam,U = np.linalg.eigh(Pme)\n",
    "\n",
    "\n",
    "tP = U@np.diag(np.sqrt(lam+1e-10))@U.transpose()\n",
    "tP = np.round(tP).reshape([4,4,4,4])\n",
    "tP = sympy.Array(tP)\n",
    "\n",
    "tP\"\"\"\n",
    "\n",
    "\n"
   ]
  },
  {
   "cell_type": "code",
   "execution_count": null,
   "metadata": {},
   "outputs": [],
   "source": [
    "\"\"\"rho_f = sympy.tensorcontraction(sympy.tensorproduct(tP,rho_ini),(0,4))\n",
    "rho_f = sympy.tensorcontraction(rho_f,(0,3))\n",
    "\n",
    "((rho_f))\"\"\""
   ]
  },
  {
   "attachments": {},
   "cell_type": "markdown",
   "metadata": {},
   "source": [
    "Two boundary symmetries"
   ]
  },
  {
   "cell_type": "code",
   "execution_count": 3,
   "metadata": {},
   "outputs": [],
   "source": [
    "X = np.array([[0,1],[1,0]])\n",
    "Id = np.eye(2)\n",
    "X1234 = np.zeros([1,1,16,16])\n",
    "X1234[0,0,:,:] = np.kron(X,np.kron(X,np.kron(X,X)))\n",
    "X12 = np.zeros([1,1,16,16])\n",
    "X12[0,0,:,:] = np.kron(X,np.kron(X,np.kron(Id,Id)))\n",
    "\n",
    "X14= np.zeros([1,1,16,16])\n",
    "X14[0,0,:,:] = np.kron(X,np.kron(Id,np.kron(Id,X)))\n",
    "\n",
    "X13= np.zeros([1,1,16,16])\n",
    "X13[0,0,:,:] = np.kron(X,np.kron(Id,np.kron(X,Id)))\n",
    "\n",
    "X24= np.zeros([1,1,16,16])\n",
    "X24[0,0,:,:] = np.kron(Id,np.kron(X,np.kron(Id,X)))\n",
    "\n",
    "X23= np.zeros([1,1,16,16])\n",
    "X23[0,0,:,:] = np.kron(Id,np.kron(X,np.kron(X,Id)))\n",
    "\n",
    "X34= np.zeros([1,1,16,16])\n",
    "X34[0,0,:,:] = np.kron(Id,np.kron(Id,np.kron(X,X)))\n",
    "\n",
    "\n",
    "X1 = np.zeros([1,1,16,16])\n",
    "X1[0,0,:,:] = np.kron(X,np.kron(Id,np.kron(Id,Id)))\n",
    "\n",
    "\n",
    "X4 = np.zeros([1,1,16,16])\n",
    "X4[0,0,:,:] = np.kron(Id,np.kron(Id,np.kron(Id,X)))\n",
    "\n",
    "\n",
    "MPO1234 = iMPS.iMPO()\n",
    "MPO1234.construct_from_tensor_list([X1234,X1234])\n",
    "\n",
    "MPO14 = iMPS.iMPO()\n",
    "MPO14.construct_from_tensor_list([X14,X14])\n",
    "\n",
    "MPO13 = iMPS.iMPO()\n",
    "MPO13.construct_from_tensor_list([X13,X13])\n",
    "\n",
    "MPO12 = iMPS.iMPO()\n",
    "MPO12.construct_from_tensor_list([X12,X12])\n",
    "\n",
    "MPO1 = iMPS.iMPO()\n",
    "MPO1.construct_from_tensor_list([X1,X1])\n",
    "\n",
    "MPO4 = iMPS.iMPO()\n",
    "MPO4.construct_from_tensor_list([X4,X4])\n",
    "\n",
    "\n",
    "MPO23 = iMPS.iMPO()\n",
    "MPO23.construct_from_tensor_list([X23,X23])\n",
    "\n",
    "MPO24 = iMPS.iMPO()\n",
    "MPO24.construct_from_tensor_list([X24,X24])\n",
    "\n",
    "MPO34 = iMPS.iMPO()\n",
    "MPO34.construct_from_tensor_list([X34,X34])\n",
    "\n",
    "X123 = np.zeros([1,1,16,16])\n",
    "X123[0,0,:,:] = np.kron(X,np.kron(X,np.kron(X,Id)))\n",
    "MPO123 = iMPS.iMPO()\n",
    "MPO123.construct_from_tensor_list([X123,X123])\n",
    "\n",
    "\n",
    "\n"
   ]
  },
  {
   "cell_type": "code",
   "execution_count": 4,
   "metadata": {},
   "outputs": [
    {
     "name": "stdout",
     "output_type": "stream",
     "text": [
      "0.0\n",
      "0.05\n",
      "0.1\n",
      "0.15000000000000002\n",
      "0.2\n",
      "0.25\n",
      "0.30000000000000004\n",
      "0.35000000000000003\n",
      "0.4\n",
      "0.45\n",
      "0.5\n",
      "0.55\n",
      "0.6000000000000001\n",
      "0.65\n",
      "0.7000000000000001\n",
      "0.75\n"
     ]
    }
   ],
   "source": [
    "lam1ss=[]\n",
    "lam4ss=[]\n",
    "lam12ss=[]\n",
    "lam13ss=[]\n",
    "lam14ss=[]\n",
    "lam34ss=[]\n",
    "lam24ss=[]\n",
    "lam23ss=[]\n",
    "lam1234ss=[]\n",
    "dims=[]\n",
    "\n",
    "A = np.array([[0.5,0.1],[0.2,-0.3]])\n",
    "B = np.zeros([1,1,16])\n",
    "B[0,0] =(linalg.expm(0.1*np.kron(A,A))).reshape([16,])\n",
    "MPS = iMPS.iMPS()\n",
    "MPS.svd_threshold =1e-10\n",
    "MPS.max_bond = 15\n",
    "MPS.construct_from_tensor_list([B,B])\n",
    "\n",
    "rng = np.arange(0.,.8,0.05)\n",
    "for p1 in np.arange(0.,.01,0.05): \n",
    "    lam1s=[]\n",
    "    lam12s=[]\n",
    "    lam13s=[]\n",
    "    lam14s=[]\n",
    "    lam1234s=[]\n",
    "    lam34s=[]\n",
    "    lam24s=[]\n",
    "    lam23s=[]\n",
    "    lam4s=[]\n",
    "    \n",
    "    \n",
    "    for p2 in rng:\n",
    "        #trans = funcs.single_trans_qc2(p1=p1,channel1='x_flip',p2=p2,channel2='z_flip')\n",
    "        trans = funcs.single_trans_2layers(p1=p2,channel1='xzf_flip',p2=p2,channel2='xzf_flip')\n",
    "        #trans = funcs.single_trans_2layers_swap(p1=p1,p2=p2,channel='x_flip')\n",
    "        MPO = iMPS.iMPO()\n",
    "        MPO.construct_from_tensor_list([trans,trans])\n",
    "\n",
    "        MPS_power2 = iMPS.MPS_power_method_twosite(MPS,MPO,max_bond=15)\n",
    "        MPS_power2.update(100,1e-6,1e-8)  \n",
    "        \n",
    "        dims.append(MPS_power2.MPS2.chi[0])\n",
    "        \n",
    "        strap = iMPS.strap(MPS_power2.MPS2,MPO12,MPS_power2.MPS2)\n",
    "        lam12 = strap.calculate_eig()\n",
    "        \n",
    "        strap = iMPS.strap(MPS_power2.MPS2,MPO13,MPS_power2.MPS2)\n",
    "        lam13 = strap.calculate_eig()\n",
    "        \n",
    "        strap = iMPS.strap(MPS_power2.MPS2,MPO14,MPS_power2.MPS2)\n",
    "        lam14 = strap.calculate_eig()\n",
    "        \n",
    "        strap = iMPS.strap(MPS_power2.MPS2,MPO1234,MPS_power2.MPS2)\n",
    "        lam1234 = strap.calculate_eig()\n",
    "        \n",
    "        strap = iMPS.strap(MPS_power2.MPS2,MPO1,MPS_power2.MPS2)\n",
    "        lam1 = strap.calculate_eig()\n",
    "        \n",
    "        strap = iMPS.strap(MPS_power2.MPS2,MPO4,MPS_power2.MPS2)\n",
    "        lam4 = strap.calculate_eig()\n",
    "        \n",
    "        \n",
    "        strap = iMPS.strap(MPS_power2.MPS2,MPO24,MPS_power2.MPS2)\n",
    "        lam24 = strap.calculate_eig()\n",
    "        \n",
    "        strap = iMPS.strap(MPS_power2.MPS2,MPO34,MPS_power2.MPS2)\n",
    "        lam34 = strap.calculate_eig()\n",
    "        \n",
    "        strap = iMPS.strap(MPS_power2.MPS2,MPO23,MPS_power2.MPS2)\n",
    "        lam23 = strap.calculate_eig()\n",
    "    \n",
    "        lam12s.append(lam12)\n",
    "        lam13s.append(lam13)\n",
    "        lam14s.append(lam14)\n",
    "        lam1234s.append(lam1234)\n",
    "        lam1s.append(lam1)\n",
    "        lam4s.append(lam4)\n",
    "        lam34s.append(lam34)\n",
    "        lam24s.append(lam24)\n",
    "        lam23s.append(lam23)\n",
    "        print(p2)\n",
    "\n",
    "    lam12ss.append(lam12s)\n",
    "    lam13ss.append(lam13s)\n",
    "    lam14ss.append(lam14s)\n",
    "    lam1234ss.append(lam1234s)\n",
    "    lam1ss.append(lam1s)\n",
    "    lam4ss.append(lam4s)\n",
    "    lam34ss.append(lam34s)\n",
    "    lam24ss.append(lam24s)\n",
    "    lam23ss.append(lam23s)\n",
    "  "
   ]
  },
  {
   "cell_type": "code",
   "execution_count": 7,
   "metadata": {},
   "outputs": [],
   "source": [
    "p=0.3\n",
    "M = np.zeros([4,4,2],dtype='complex')\n",
    "M[:,:,0] =  np.sqrt(1-p)*np.array(np.kron(np.eye(2),np.eye(2)),dtype='complex')\n",
    "M[:,:,1] =  np.sqrt(p)*np.array(np.kron(np.array([[0,1],[1,0]],dtype='complex'),np.array([[1,0],[0,-1]],dtype='complex')))"
   ]
  },
  {
   "cell_type": "code",
   "execution_count": null,
   "metadata": {},
   "outputs": [],
   "source": [
    "dM = np.tensordot(M,M.conj(),([2],[2])).reshape([4,4,4,4])\n",
    "#np.eye(2,dtype=complex)\n",
    "M2 = funcs.qc(p,'x_flip')\n",
    "dM2 = np.tensordot(M2,M2.conj(),([2],[2]))\n",
    "dM2 = np.kron(dM2,dM2)\n",
    "print(dM)"
   ]
  },
  {
   "cell_type": "code",
   "execution_count": 5,
   "metadata": {},
   "outputs": [
    {
     "name": "stderr",
     "output_type": "stream",
     "text": [
      "/Users/lizhuan/opt/anaconda3/lib/python3.9/site-packages/matplotlib/cbook/__init__.py:1335: ComplexWarning: Casting complex values to real discards the imaginary part\n",
      "  return np.asarray(x, float)\n"
     ]
    },
    {
     "data": {
      "image/png": "[encoded data removed]",
      "text/plain": [
       "<Figure size 900x900 with 1 Axes>"
      ]
     },
     "metadata": {},
     "output_type": "display_data"
    }
   ],
   "source": [
    "pyplot.figure(figsize=(9,9),dpi=100)\n",
    "#pyplot.plot(rng,lam1234s,'.',label='$\\langle X_1X_2X_3X_4 \\\\rangle$')\n",
    "\n",
    "pyplot.plot(lam12s,'.-',label='$\\langle X_1X_2 \\\\rangle$')\n",
    "pyplot.plot(lam13s,'.-',label='$\\langle X_1X_3 \\\\rangle$')\n",
    "pyplot.plot(lam14s,'.-',label='$\\langle X_1X_4 \\\\rangle$')\n",
    "#pyplot.plot(dims,'.-',label='dim')\n",
    "#pyplot.plot(rng,[1]*len(rng))\n",
    "#pyplot.plot(rng[-25:],k*np.array(rng[-25:])+d,label='3.3399*p - 0.68003')\n",
    "pyplot.legend(prop={'size':20})\n",
    "pyplot.show()"
   ]
  },
  {
   "cell_type": "code",
   "execution_count": null,
   "metadata": {},
   "outputs": [],
   "source": [
    "pyplot.figure(figsize=(18,9),dpi=120)\n",
    "pyplot.imshow(np.real(lam13ss), origin='lower', extent=[ 0, 0.18,0.17, 0.31,],aspect=1)\n",
    "x = np.arange(0.,0.18,0.001)\n",
    "y = (1-np.sqrt(2)/2-x)/(1-x*2)\n",
    "pyplot.plot(x,y,color='red')\n",
    "pyplot.show()"
   ]
  },
  {
   "cell_type": "code",
   "execution_count": null,
   "metadata": {},
   "outputs": [],
   "source": [
    "#rng = np.arange(0.06,0.09,0.002)\n",
    "pyplot.figure(figsize=(9,9),dpi=100)\n",
    "#pyplot.plot(rng,lam1234s,'.',label='$\\langle X_1X_2X_3X_4 \\\\rangle$')\n",
    "\n",
    "pyplot.plot(rng,lam12s,'.-',label='$\\langle X_1X_2 \\\\rangle$')\n",
    "pyplot.plot(rng,lam13s,'.-',label='$\\langle X_1X_3 \\\\rangle$')\n",
    "pyplot.plot(rng,lam14s,'.-',label='$\\langle X_1X_4 \\\\rangle$')\n",
    "pyplot.plot(rng,dims,'.-',label='dim')\n",
    "#pyplot.plot(rng,[1]*len(rng))\n",
    "#pyplot.plot(rng[-25:],k*np.array(rng[-25:])+d,label='3.3399*p - 0.68003')\n",
    "pyplot.legend(prop={'size':20})\n",
    "pyplot.show()"
   ]
  },
  {
   "cell_type": "code",
   "execution_count": 5,
   "metadata": {},
   "outputs": [],
   "source": [
    "trans1 = funcs.single_trans_2layers(p1=0.6,channel1='test',p2=0.6,channel2='test')\n",
    "#trans2 = funcs.single_trans_2layers(p1=0.6,channel1='test',p2=0.6,channel2='test')\n",
    "trans2 = funcs.single_trans_2layers(p1=0.6,channel1='xzf_flip',p2=0.6,channel2='xzf_flip')"
   ]
  },
  {
   "cell_type": "code",
   "execution_count": 17,
   "metadata": {},
   "outputs": [],
   "source": [
    "A = funcs.delta_tensor(4,2)\n",
    "    \n",
    "P = np.zeros([2,2,2])\n",
    "P[0,0,0],P[1,1,0],P[0,1,1],P[1,0,1]=1,1,1,1\n",
    "A3 = np.tensordot(np.tensordot(P,A,([1],[0])),P,([4],[0]))\n",
    "A3 = np.transpose(A3,[0,2,3,4,1,5])\n",
    "    \n",
    "M1 = funcs.qc(0,'x_flip')\n",
    "dM1 = np.tensordot(M1,M1.conj(),([2],[2]))\n",
    "A3dM1 = np.tensordot(A3,dM1,([5],[1]))\n",
    "dA3dM1 = np.tensordot(A3dM1,A3,([7],[5]))\n",
    "M1 = funcs.qc(0.6,'x_flip')\n",
    "dM1 = np.tensordot(M1,M1.conj(),([2],[2]))\n",
    "dA3ddM1 = np.tensordot(dA3dM1,dM1,([4,11],[1,3]))\n",
    "ddA3ddM = np.tensordot(dA3ddM1,dA3ddM1,([10,4,11,5],[11,5,10,4]))\n",
    "ddA3ddM = np.transpose(ddA3ddM,[0,4,8,12,1,5,9,13,2,6,10,14,3,7,11,15])\n",
    "ddA3ddM = ddA3ddM.reshape([16,16,16,16])"
   ]
  },
  {
   "cell_type": "code",
   "execution_count": 19,
   "metadata": {},
   "outputs": [],
   "source": [
    "A = funcs.delta_tensor(4,2)\n",
    "    \n",
    "P = np.zeros([2,2,2])\n",
    "P[0,0,0],P[1,1,0],P[0,1,1],P[1,0,1]=1,1,1,1\n",
    "A3 = np.tensordot(np.tensordot(P,A,([1],[0])),P,([4],[0]))\n",
    "A3 = np.transpose(A3,[0,2,3,4,1,5])\n",
    "    \n",
    "M1 = funcs.qc(0.6,'x_flip')\n",
    "dM1 = np.tensordot(M1,M1.conj(),([2],[2]))\n",
    "A3dM1 = np.tensordot(A3,dM1,([5],[1]))\n",
    "dA3dM1 = np.tensordot(A3dM1,A3,([7],[5]))\n",
    "M1 = funcs.qc(0,'x_flip')\n",
    "dM1 = np.tensordot(M1,M1.conj(),([2],[2]))\n",
    "dA3ddM1 = np.tensordot(dA3dM1,dM1,([4,11],[1,3]))\n",
    "ddA3ddM2 = np.tensordot(dA3ddM1,dA3ddM1,([10,4,11,5],[11,5,10,4]))\n",
    "ddA3ddM2 = np.transpose(ddA3ddM2,[0,4,8,12,1,5,9,13,2,6,10,14,3,7,11,15])\n",
    "ddA3ddM2 = ddA3ddM2.reshape([16,16,16,16])"
   ]
  },
  {
   "cell_type": "code",
   "execution_count": 22,
   "metadata": {},
   "outputs": [
    {
     "data": {
      "text/plain": [
       "0.0"
      ]
     },
     "execution_count": 22,
     "metadata": {},
     "output_type": "execute_result"
    }
   ],
   "source": [
    "np.linalg.norm(ddA3ddM-ddA3ddM2.transpose([3,1,2,0]))"
   ]
  },
  {
   "cell_type": "code",
   "execution_count": null,
   "metadata": {},
   "outputs": [],
   "source": [
    "x = np.arange(1,20)\n",
    "y = 1 - 2**(-(x-1)/2)"
   ]
  },
  {
   "cell_type": "code",
   "execution_count": null,
   "metadata": {},
   "outputs": [],
   "source": [
    "pyplot.plot(x,y,'.')\n",
    "pyplot.plot(x,1-y,'.')\n"
   ]
  },
  {
   "cell_type": "code",
   "execution_count": null,
   "metadata": {},
   "outputs": [],
   "source": [
    "(1-d)/k"
   ]
  },
  {
   "cell_type": "code",
   "execution_count": null,
   "metadata": {},
   "outputs": [],
   "source": [
    "x = np.arange(.011,6,0.01)\n",
    "y = []\n",
    "def renyi2(x,n):\n",
    "    return np.log2(x**n+(1-x)**n)/(1-n)\n",
    "\n",
    "for i in x:\n",
    "    def Hn(x):\n",
    "        return renyi2(x,i)-0.5\n",
    "    \n",
    "    y.append( bisect(Hn,0,.3))"
   ]
  },
  {
   "cell_type": "code",
   "execution_count": null,
   "metadata": {},
   "outputs": [],
   "source": [
    "pyplot.figure(figsize=(18,9),dpi=100)\n",
    "pyplot.plot(x,y,'-')\n",
    "\n",
    "pyplot.xticks(size=30)\n",
    "pyplot.yticks(size=30)"
   ]
  },
  {
   "cell_type": "code",
   "execution_count": null,
   "metadata": {},
   "outputs": [],
   "source": [
    "0.583627816"
   ]
  },
  {
   "cell_type": "code",
   "execution_count": null,
   "metadata": {},
   "outputs": [],
   "source": [
    "0.5*(1-np.sqrt(3)/3)"
   ]
  },
  {
   "cell_type": "code",
   "execution_count": null,
   "metadata": {},
   "outputs": [],
   "source": []
  }
 ],
 "metadata": {
  "kernelspec": {
   "display_name": "base",
   "language": "python",
   "name": "python3"
  },
  "language_info": {
   "codemirror_mode": {
    "name": "ipython",
    "version": 3
   },
   "file_extension": ".py",
   "mimetype": "text/x-python",
   "name": "python",
   "nbconvert_exporter": "python",
   "pygments_lexer": "ipython3",
   "version": "3.9.16"
  },
  "orig_nbformat": 4
 },
 "nbformat": 4,
 "nbformat_minor": 2
}
