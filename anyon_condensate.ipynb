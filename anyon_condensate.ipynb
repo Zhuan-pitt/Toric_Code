{
 "cells": [
  {
   "cell_type": "code",
   "execution_count": 1,
   "metadata": {},
   "outputs": [],
   "source": [
    "import numpy as np\n",
    "from matplotlib import pyplot\n",
    "from scipy import linalg\n",
    "import copy\n",
    "import iMPS\n",
    "from scipy.sparse import linalg\n",
    "import funcs\n",
    "from scipy.optimize import bisect"
   ]
  },
  {
   "cell_type": "code",
   "execution_count": 12,
   "metadata": {},
   "outputs": [],
   "source": [
    "oe_list=[[1,1],[1,-1]]\n",
    "\n",
    "single_row = np.zeros([8,8])\n",
    "\n",
    "for i in range(2):\n",
    "    for j in range(2):\n",
    "        for k in range(2):\n",
    "            single_row[i*4+j*2+k,:] = np.kron(np.kron(oe_list[i],oe_list[j]),oe_list[k])"
   ]
  },
  {
   "cell_type": "code",
   "execution_count": 13,
   "metadata": {},
   "outputs": [
    {
     "data": {
      "text/plain": [
       "array([[ 1.,  1.,  1.,  1.,  1.,  1.,  1.,  1.],\n",
       "       [ 1., -1.,  1., -1.,  1., -1.,  1., -1.],\n",
       "       [ 1.,  1., -1., -1.,  1.,  1., -1., -1.],\n",
       "       [ 1., -1., -1.,  1.,  1., -1., -1.,  1.],\n",
       "       [ 1.,  1.,  1.,  1., -1., -1., -1., -1.],\n",
       "       [ 1., -1.,  1., -1., -1.,  1., -1.,  1.],\n",
       "       [ 1.,  1., -1., -1., -1., -1.,  1.,  1.],\n",
       "       [ 1., -1., -1.,  1., -1.,  1.,  1., -1.]])"
      ]
     },
     "execution_count": 13,
     "metadata": {},
     "output_type": "execute_result"
    }
   ],
   "source": [
    "single_row"
   ]
  },
  {
   "cell_type": "code",
   "execution_count": 6,
   "metadata": {},
   "outputs": [],
   "source": [
    "M2 = np.zeros([64,64])\n",
    "for i in range(8):\n",
    "    for j in range(8):\n",
    "        M2[i*8+j,:] = np.kron(single_row[i],single_row[j]).reshape([64,])"
   ]
  },
  {
   "cell_type": "code",
   "execution_count": 15,
   "metadata": {},
   "outputs": [
    {
     "data": {
      "text/plain": [
       "[[1, 0, 0, 1, 0, 1, 1, 0],\n",
       " [0, 1, 1, 0, 1, 0, 0, 1],\n",
       " [0, 1, 1, 0, 1, 0, 0, 1],\n",
       " [1, 0, 0, 1, 0, 1, 1, 0],\n",
       " [0, 1, 1, 0, 1, 0, 0, 1],\n",
       " [1, 0, 0, 1, 0, 1, 1, 0],\n",
       " [1, 0, 0, 1, 0, 1, 1, 0],\n",
       " [0, 1, 1, 0, 1, 0, 0, 1]]"
      ]
     },
     "execution_count": 15,
     "metadata": {},
     "output_type": "execute_result"
    }
   ],
   "source": [
    "damp = [[1,0,0,1,0,1,1,0],[0,1,1,0,1,0,0,1],[0,1,1,0,1,0,0,1],[1,0,0,1,0,1,1,0],[0,1,1,0,1,0,0,1],[1,0,0,1,0,1,1,0],[1,0,0,1,0,1,1,0],[0,1,1,0,1,0,0,1]]\n",
    "damp"
   ]
  },
  {
   "cell_type": "code",
   "execution_count": 17,
   "metadata": {},
   "outputs": [
    {
     "data": {
      "text/plain": [
       "array([32.,  0.,  0.,  0.,  0.,  0.,  0.,  0.,  0.,  0.,  0.,  0.,  0.,\n",
       "        0.,  0.,  0.,  0.,  0.,  0.,  0.,  0.,  0.,  0.,  0.,  0.,  0.,\n",
       "        0.,  0.,  0.,  0.,  0.,  0.,  0.,  0.,  0.,  0.,  0.,  0.,  0.,\n",
       "        0.,  0.,  0.,  0.,  0.,  0.,  0.,  0.,  0.,  0.,  0.,  0.,  0.,\n",
       "        0.,  0.,  0.,  0.,  0.,  0.,  0.,  0.,  0.,  0.,  0., 32.])"
      ]
     },
     "execution_count": 17,
     "metadata": {},
     "output_type": "execute_result"
    }
   ],
   "source": [
    "M2@np.array(damp).reshape([64,])"
   ]
  },
  {
   "cell_type": "code",
   "execution_count": 18,
   "metadata": {},
   "outputs": [
    {
     "data": {
      "text/plain": [
       "array([[ 2,  0],\n",
       "       [ 0, -2]])"
      ]
     },
     "execution_count": 18,
     "metadata": {},
     "output_type": "execute_result"
    }
   ],
   "source": [
    "np.array([[1,1],[1,-1]])@np.array([[0,1],[1,0]])@np.array([[1,1],[1,-1]])"
   ]
  },
  {
   "cell_type": "code",
   "execution_count": 103,
   "metadata": {},
   "outputs": [
    {
     "data": {
      "text/plain": [
       "array([[ 0.5,  0. ,  0.5,  0. ],\n",
       "       [ 0. , -0.5,  0. , -0.5],\n",
       "       [ 0.5,  0. ,  0.5,  0. ],\n",
       "       [ 0. , -0.5,  0. , -0.5]])"
      ]
     },
     "execution_count": 103,
     "metadata": {},
     "output_type": "execute_result"
    }
   ],
   "source": [
    "(np.linalg.inv(M2)@v).reshape([4,4])"
   ]
  },
  {
   "cell_type": "code",
   "execution_count": 97,
   "metadata": {},
   "outputs": [
    {
     "data": {
      "text/plain": [
       "array([[ 0,  0,  1,  0],\n",
       "       [ 0,  0,  0,  0],\n",
       "       [-1,  0,  0,  0],\n",
       "       [ 0,  0,  0,  0]])"
      ]
     },
     "execution_count": 97,
     "metadata": {},
     "output_type": "execute_result"
    }
   ],
   "source": [
    "np.array(v).reshape([4,4])"
   ]
  },
  {
   "attachments": {},
   "cell_type": "markdown",
   "metadata": {},
   "source": [
    "Two boundary symmetries"
   ]
  },
  {
   "cell_type": "code",
   "execution_count": 2,
   "metadata": {},
   "outputs": [],
   "source": [
    "X = np.array([[0,1],[1,0]])\n",
    "Id = np.eye(2)\n",
    "X1234 = np.zeros([1,1,16,16])\n",
    "X1234[0,0,:,:] = np.kron(X,np.kron(X,np.kron(X,X)))\n",
    "X12 = np.zeros([1,1,16,16])\n",
    "X12[0,0,:,:] = np.kron(X,np.kron(X,np.kron(Id,Id)))\n",
    "\n",
    "X14= np.zeros([1,1,16,16])\n",
    "X14[0,0,:,:] = np.kron(X,np.kron(Id,np.kron(Id,X)))\n",
    "\n",
    "X13= np.zeros([1,1,16,16])\n",
    "X13[0,0,:,:] = np.kron(X,np.kron(Id,np.kron(X,Id)))\n",
    "\n",
    "X24= np.zeros([1,1,16,16])\n",
    "X24[0,0,:,:] = np.kron(Id,np.kron(X,np.kron(Id,X)))\n",
    "\n",
    "X23= np.zeros([1,1,16,16])\n",
    "X23[0,0,:,:] = np.kron(Id,np.kron(X,np.kron(X,Id)))\n",
    "\n",
    "X34= np.zeros([1,1,16,16])\n",
    "X34[0,0,:,:] = np.kron(Id,np.kron(Id,np.kron(X,X)))\n",
    "\n",
    "\n",
    "X1 = np.zeros([1,1,16,16])\n",
    "X1[0,0,:,:] = np.kron(X,np.kron(Id,np.kron(Id,Id)))\n",
    "\n",
    "\n",
    "X4 = np.zeros([1,1,16,16])\n",
    "X4[0,0,:,:] = np.kron(Id,np.kron(Id,np.kron(Id,X)))\n",
    "\n",
    "\n",
    "MPO1234 = iMPS.iMPO()\n",
    "MPO1234.construct_from_tensor_list([X1234,X1234])\n",
    "\n",
    "MPO14 = iMPS.iMPO()\n",
    "MPO14.construct_from_tensor_list([X14,X14])\n",
    "\n",
    "MPO13 = iMPS.iMPO()\n",
    "MPO13.construct_from_tensor_list([X13,X13])\n",
    "\n",
    "MPO12 = iMPS.iMPO()\n",
    "MPO12.construct_from_tensor_list([X12,X12])\n",
    "\n",
    "MPO1 = iMPS.iMPO()\n",
    "MPO1.construct_from_tensor_list([X1,X1])\n",
    "\n",
    "MPO4 = iMPS.iMPO()\n",
    "MPO4.construct_from_tensor_list([X4,X4])\n",
    "\n",
    "\n",
    "MPO23 = iMPS.iMPO()\n",
    "MPO23.construct_from_tensor_list([X23,X23])\n",
    "\n",
    "MPO24 = iMPS.iMPO()\n",
    "MPO24.construct_from_tensor_list([X24,X24])\n",
    "\n",
    "MPO34 = iMPS.iMPO()\n",
    "MPO34.construct_from_tensor_list([X34,X34])\n",
    "\n",
    "X123 = np.zeros([1,1,16,16])\n",
    "X123[0,0,:,:] = np.kron(X,np.kron(X,np.kron(X,Id)))\n",
    "MPO123 = iMPS.iMPO()\n",
    "MPO123.construct_from_tensor_list([X123,X123])\n",
    "\n",
    "\n",
    "\n"
   ]
  },
  {
   "cell_type": "code",
   "execution_count": 20,
   "metadata": {},
   "outputs": [
    {
     "name": "stdout",
     "output_type": "stream",
     "text": [
      "0.0\n",
      "0.05\n",
      "0.1\n",
      "0.15000000000000002\n",
      "0.2\n",
      "0.25\n",
      "0.30000000000000004\n",
      "0.35000000000000003\n",
      "0.4\n",
      "0.45\n",
      "0.5\n",
      "0.55\n",
      "0.6000000000000001\n",
      "0.65\n",
      "0.7000000000000001\n",
      "0.75\n",
      "0.8\n",
      "0.8500000000000001\n",
      "0.9\n",
      "0.9500000000000001\n"
     ]
    },
    {
     "ename": "AssertionError",
     "evalue": "nondegenerate state expected",
     "output_type": "error",
     "traceback": [
      "\u001b[0;31m---------------------------------------------------------------------------\u001b[0m",
      "\u001b[0;31mAssertionError\u001b[0m                            Traceback (most recent call last)",
      "\u001b[0;32m/var/folders/rt/_3xs3p494rzgxflmk081k97m0000gn/T/ipykernel_6020/2345954983.py\u001b[0m in \u001b[0;36m<module>\u001b[0;34m\u001b[0m\n\u001b[1;32m     39\u001b[0m \u001b[0;34m\u001b[0m\u001b[0m\n\u001b[1;32m     40\u001b[0m         \u001b[0mMPS_power2\u001b[0m \u001b[0;34m=\u001b[0m \u001b[0miMPS\u001b[0m\u001b[0;34m.\u001b[0m\u001b[0mMPS_power_method_twosite\u001b[0m\u001b[0;34m(\u001b[0m\u001b[0mMPS\u001b[0m\u001b[0;34m,\u001b[0m\u001b[0mMPO\u001b[0m\u001b[0;34m,\u001b[0m\u001b[0mmax_bond\u001b[0m\u001b[0;34m=\u001b[0m\u001b[0;36m15\u001b[0m\u001b[0;34m)\u001b[0m\u001b[0;34m\u001b[0m\u001b[0;34m\u001b[0m\u001b[0m\n\u001b[0;32m---> 41\u001b[0;31m         \u001b[0mMPS_power2\u001b[0m\u001b[0;34m.\u001b[0m\u001b[0mupdate\u001b[0m\u001b[0;34m(\u001b[0m\u001b[0;36m100\u001b[0m\u001b[0;34m,\u001b[0m\u001b[0;36m1e-6\u001b[0m\u001b[0;34m,\u001b[0m\u001b[0;36m1e-8\u001b[0m\u001b[0;34m)\u001b[0m\u001b[0;34m\u001b[0m\u001b[0;34m\u001b[0m\u001b[0m\n\u001b[0m\u001b[1;32m     42\u001b[0m \u001b[0;34m\u001b[0m\u001b[0m\n\u001b[1;32m     43\u001b[0m         \u001b[0mdims\u001b[0m\u001b[0;34m.\u001b[0m\u001b[0mappend\u001b[0m\u001b[0;34m(\u001b[0m\u001b[0mMPS_power2\u001b[0m\u001b[0;34m.\u001b[0m\u001b[0mMPS2\u001b[0m\u001b[0;34m.\u001b[0m\u001b[0mchi\u001b[0m\u001b[0;34m[\u001b[0m\u001b[0;36m0\u001b[0m\u001b[0;34m]\u001b[0m\u001b[0;34m)\u001b[0m\u001b[0;34m\u001b[0m\u001b[0;34m\u001b[0m\u001b[0m\n",
      "\u001b[0;32m~/Desktop/Mixed state topological order/Toric_Code/iMPS.py\u001b[0m in \u001b[0;36mupdate\u001b[0;34m(self, loops, threshold, stack_threshold)\u001b[0m\n\u001b[1;32m    665\u001b[0m         \u001b[0;32mfor\u001b[0m \u001b[0mi\u001b[0m \u001b[0;32min\u001b[0m \u001b[0mrange\u001b[0m\u001b[0;34m(\u001b[0m\u001b[0mloops\u001b[0m\u001b[0;34m)\u001b[0m\u001b[0;34m:\u001b[0m\u001b[0;34m\u001b[0m\u001b[0;34m\u001b[0m\u001b[0m\n\u001b[1;32m    666\u001b[0m \u001b[0;34m\u001b[0m\u001b[0m\n\u001b[0;32m--> 667\u001b[0;31m             \u001b[0mself\u001b[0m\u001b[0;34m.\u001b[0m\u001b[0mnew_MPS_twosite\u001b[0m\u001b[0;34m(\u001b[0m\u001b[0mloops\u001b[0m\u001b[0;34m,\u001b[0m\u001b[0mi\u001b[0m\u001b[0;34m,\u001b[0m\u001b[0mstack_threshold\u001b[0m\u001b[0;34m)\u001b[0m\u001b[0;34m\u001b[0m\u001b[0;34m\u001b[0m\u001b[0m\n\u001b[0m\u001b[1;32m    668\u001b[0m \u001b[0;34m\u001b[0m\u001b[0m\n\u001b[1;32m    669\u001b[0m             \u001b[0mself\u001b[0m\u001b[0;34m.\u001b[0m\u001b[0mMPS2\u001b[0m\u001b[0;34m.\u001b[0m\u001b[0msite_canonical\u001b[0m\u001b[0;34m(\u001b[0m\u001b[0mself\u001b[0m\u001b[0;34m.\u001b[0m\u001b[0mMPS2\u001b[0m\u001b[0;34m.\u001b[0m\u001b[0msvd_threshold\u001b[0m\u001b[0;34m)\u001b[0m\u001b[0;34m\u001b[0m\u001b[0;34m\u001b[0m\u001b[0m\n",
      "\u001b[0;32m~/Desktop/Mixed state topological order/Toric_Code/iMPS.py\u001b[0m in \u001b[0;36mnew_MPS_twosite\u001b[0;34m(self, loop, step, stack_threshold)\u001b[0m\n\u001b[1;32m    655\u001b[0m         \u001b[0mMPS_two_site\u001b[0m\u001b[0;34m.\u001b[0m\u001b[0mMPS2r\u001b[0m \u001b[0;34m=\u001b[0m \u001b[0mcopy\u001b[0m\u001b[0;34m.\u001b[0m\u001b[0mdeepcopy\u001b[0m\u001b[0;34m(\u001b[0m\u001b[0mself\u001b[0m\u001b[0;34m.\u001b[0m\u001b[0mMPS2\u001b[0m\u001b[0;34m)\u001b[0m\u001b[0;34m\u001b[0m\u001b[0;34m\u001b[0m\u001b[0m\n\u001b[1;32m    656\u001b[0m         \u001b[0mMPS_two_site\u001b[0m\u001b[0;34m.\u001b[0m\u001b[0minit_MPS2\u001b[0m\u001b[0;34m(\u001b[0m\u001b[0;34m)\u001b[0m\u001b[0;34m\u001b[0m\u001b[0;34m\u001b[0m\u001b[0m\n\u001b[0;32m--> 657\u001b[0;31m         \u001b[0mMPS_two_site\u001b[0m\u001b[0;34m.\u001b[0m\u001b[0minit_env\u001b[0m\u001b[0;34m(\u001b[0m\u001b[0;34m)\u001b[0m\u001b[0;34m\u001b[0m\u001b[0;34m\u001b[0m\u001b[0m\n\u001b[0m\u001b[1;32m    658\u001b[0m         \u001b[0;32mif\u001b[0m \u001b[0mstep\u001b[0m\u001b[0;34m<=\u001b[0m\u001b[0;36m15\u001b[0m\u001b[0;34m:\u001b[0m\u001b[0;34m\u001b[0m\u001b[0;34m\u001b[0m\u001b[0m\n\u001b[1;32m    659\u001b[0m             \u001b[0mMPS_two_site\u001b[0m\u001b[0;34m.\u001b[0m\u001b[0mupdate_MPS2\u001b[0m\u001b[0;34m(\u001b[0m\u001b[0mloop\u001b[0m\u001b[0;34m,\u001b[0m\u001b[0mthreshold\u001b[0m\u001b[0;34m=\u001b[0m\u001b[0mstack_threshold\u001b[0m\u001b[0;34m**\u001b[0m\u001b[0;36m0.5\u001b[0m\u001b[0;34m,\u001b[0m\u001b[0mthreshold2\u001b[0m\u001b[0;34m=\u001b[0m\u001b[0;36m0.1\u001b[0m\u001b[0;34m)\u001b[0m\u001b[0;34m\u001b[0m\u001b[0;34m\u001b[0m\u001b[0m\n",
      "\u001b[0;32m~/Desktop/Mixed state topological order/Toric_Code/iMPS.py\u001b[0m in \u001b[0;36minit_env\u001b[0;34m(self)\u001b[0m\n\u001b[1;32m    998\u001b[0m \u001b[0;34m\u001b[0m\u001b[0m\n\u001b[1;32m    999\u001b[0m         \u001b[0;32mif\u001b[0m \u001b[0mlen\u001b[0m\u001b[0;34m(\u001b[0m\u001b[0midx\u001b[0m\u001b[0;34m)\u001b[0m\u001b[0;34m>=\u001b[0m\u001b[0;36m2\u001b[0m\u001b[0;34m:\u001b[0m\u001b[0;34m\u001b[0m\u001b[0;34m\u001b[0m\u001b[0m\n\u001b[0;32m-> 1000\u001b[0;31m             \u001b[0;32massert\u001b[0m \u001b[0mlam\u001b[0m\u001b[0;34m[\u001b[0m\u001b[0midx\u001b[0m\u001b[0;34m[\u001b[0m\u001b[0;36m0\u001b[0m\u001b[0;34m]\u001b[0m\u001b[0;34m]\u001b[0m \u001b[0;34m!=\u001b[0m \u001b[0mlam\u001b[0m\u001b[0;34m[\u001b[0m\u001b[0midx\u001b[0m\u001b[0;34m[\u001b[0m\u001b[0;36m1\u001b[0m\u001b[0;34m]\u001b[0m\u001b[0;34m]\u001b[0m\u001b[0;34m,\u001b[0m \u001b[0;34m'nondegenerate state expected'\u001b[0m\u001b[0;34m\u001b[0m\u001b[0;34m\u001b[0m\u001b[0m\n\u001b[0m\u001b[1;32m   1001\u001b[0m         \u001b[0mv\u001b[0m \u001b[0;34m=\u001b[0m \u001b[0mv\u001b[0m\u001b[0;34m[\u001b[0m\u001b[0;34m:\u001b[0m\u001b[0;34m,\u001b[0m\u001b[0midx\u001b[0m\u001b[0;34m[\u001b[0m\u001b[0;36m0\u001b[0m\u001b[0;34m]\u001b[0m\u001b[0;34m]\u001b[0m\u001b[0;34m\u001b[0m\u001b[0;34m\u001b[0m\u001b[0m\n\u001b[1;32m   1002\u001b[0m         \u001b[0mv\u001b[0m\u001b[0;34m=\u001b[0m\u001b[0mv\u001b[0m\u001b[0;34m/\u001b[0m\u001b[0mv\u001b[0m\u001b[0;34m[\u001b[0m\u001b[0;36m0\u001b[0m\u001b[0;34m]\u001b[0m\u001b[0;34m\u001b[0m\u001b[0;34m\u001b[0m\u001b[0m\n",
      "\u001b[0;31mAssertionError\u001b[0m: nondegenerate state expected"
     ]
    }
   ],
   "source": [
    "lam1ss=[]\n",
    "lam4ss=[]\n",
    "lam12ss=[]\n",
    "lam13ss=[]\n",
    "lam14ss=[]\n",
    "lam34ss=[]\n",
    "lam24ss=[]\n",
    "lam23ss=[]\n",
    "lam1234ss=[]\n",
    "dims=[]\n",
    "\n",
    "Z = np.array([[1,0],[0,-1]])\n",
    "B = np.zeros([1,1,16])\n",
    "B[0,0] =(linalg.expm(0.1*np.kron(Z,Z))).reshape([16,])\n",
    "MPS = iMPS.iMPS()\n",
    "MPS.svd_threshold =1e-10\n",
    "MPS.max_bond = 15\n",
    "MPS.construct_from_tensor_list([B,B])\n",
    "\n",
    "rng = np.arange(0.,1.01,0.05)\n",
    "for p1 in np.arange(0.,.01,0.05): \n",
    "    lam1s=[]\n",
    "    lam12s=[]\n",
    "    lam13s=[]\n",
    "    lam14s=[]\n",
    "    lam1234s=[]\n",
    "    lam34s=[]\n",
    "    lam24s=[]\n",
    "    lam23s=[]\n",
    "    lam4s=[]\n",
    "    \n",
    "    \n",
    "    for p2 in rng:\n",
    "        #trans = funcs.single_trans_qc2(p1=p1,channel1='x_flip',p2=p2,channel2='z_flip')\n",
    "        trans = funcs.single_trans_2layers(p1=0,channel1='x_flip',p2=p2,channel2='x_flip')\n",
    "        #trans = funcs.single_trans_2layers_swap(p1=p1,p2=p2,channel='x_flip')\n",
    "        MPO = iMPS.iMPO()\n",
    "        MPO.construct_from_tensor_list([trans,trans])\n",
    "\n",
    "        MPS_power2 = iMPS.MPS_power_method_twosite(MPS,MPO,max_bond=15)\n",
    "        MPS_power2.update(100,1e-6,1e-8)  \n",
    "        \n",
    "        dims.append(MPS_power2.MPS2.chi[0])\n",
    "        \n",
    "        strap = iMPS.strap(MPS_power2.MPS2,MPO12,MPS_power2.MPS2)\n",
    "        lam12 = strap.calculate_eig()\n",
    "        \n",
    "        strap = iMPS.strap(MPS_power2.MPS2,MPO13,MPS_power2.MPS2)\n",
    "        lam13 = strap.calculate_eig()\n",
    "        \n",
    "    \n",
    "        strap = iMPS.strap(MPS_power2.MPS2,MPO14,MPS_power2.MPS2)\n",
    "        lam14 = strap.calculate_eig()\n",
    "        \n",
    "        strap = iMPS.strap(MPS_power2.MPS2,MPO1234,MPS_power2.MPS2)\n",
    "        lam1234 = strap.calculate_eig()\n",
    "        \n",
    "        strap = iMPS.strap(MPS_power2.MPS2,MPO1,MPS_power2.MPS2)\n",
    "        lam1 = strap.calculate_eig()\n",
    "        \n",
    "        strap = iMPS.strap(MPS_power2.MPS2,MPO4,MPS_power2.MPS2)\n",
    "        lam4 = strap.calculate_eig()\n",
    "        \n",
    "        \n",
    "        strap = iMPS.strap(MPS_power2.MPS2,MPO24,MPS_power2.MPS2)\n",
    "        lam24 = strap.calculate_eig()\n",
    "        \n",
    "        strap = iMPS.strap(MPS_power2.MPS2,MPO34,MPS_power2.MPS2)\n",
    "        lam34 = strap.calculate_eig()\n",
    "        \n",
    "        strap = iMPS.strap(MPS_power2.MPS2,MPO23,MPS_power2.MPS2)\n",
    "        lam23 = strap.calculate_eig()\n",
    "    \n",
    "        lam12s.append(lam12)\n",
    "        lam13s.append(lam13)\n",
    "        lam14s.append(lam14)\n",
    "        lam1234s.append(lam1234)\n",
    "        lam1s.append(lam1)\n",
    "        lam4s.append(lam4)\n",
    "        lam34s.append(lam34)\n",
    "        lam24s.append(lam24)\n",
    "        lam23s.append(lam23)\n",
    "        print(p2)\n",
    "\n",
    "    lam12ss.append(lam12s)\n",
    "    lam13ss.append(lam13s)\n",
    "    lam14ss.append(lam14s)\n",
    "    lam1234ss.append(lam1234s)\n",
    "    lam1ss.append(lam1s)\n",
    "    lam4ss.append(lam4s)\n",
    "    lam34ss.append(lam34s)\n",
    "    lam24ss.append(lam24s)\n",
    "    lam23ss.append(lam23s)\n",
    "  "
   ]
  },
  {
   "cell_type": "code",
   "execution_count": null,
   "metadata": {},
   "outputs": [],
   "source": [
    "pyplot.figure(figsize=(18,9),dpi=120)\n",
    "pyplot.imshow(np.real(lam13ss), origin='lower', extent=[ 0, 0.18,0.17, 0.31,],aspect=1)\n",
    "x = np.arange(0.,0.18,0.001)\n",
    "y = (1-np.sqrt(2)/2-x)/(1-x*2)\n",
    "pyplot.plot(x,y,color='red')\n",
    "pyplot.show()"
   ]
  },
  {
   "cell_type": "code",
   "execution_count": 60,
   "metadata": {},
   "outputs": [
    {
     "data": {
      "text/plain": [
       "[<matplotlib.lines.Line2D at 0x7f7a42e38700>]"
      ]
     },
     "execution_count": 60,
     "metadata": {},
     "output_type": "execute_result"
    },
    {
     "data": {
      "image/png": "[encoded data removed]",
      "text/plain": [
       "<Figure size 432x288 with 1 Axes>"
      ]
     },
     "metadata": {
      "needs_background": "light"
     },
     "output_type": "display_data"
    }
   ],
   "source": [
    "x = [1,2,3,4,5,6]\n",
    "y = [0.1948,0.2928,1/3,0.355278,0.368928,0.377982]\n",
    "pyplot.plot(x,2/(np.array(y)-np.sqrt(2)+1)**2,'.-')"
   ]
  },
  {
   "cell_type": "code",
   "execution_count": 22,
   "metadata": {},
   "outputs": [
    {
     "name": "stderr",
     "output_type": "stream",
     "text": [
      "/Users/lizhuan/opt/anaconda3/lib/python3.9/site-packages/numpy/core/_asarray.py:102: ComplexWarning: Casting complex values to real discards the imaginary part\n",
      "  return array(a, dtype, copy=False, order=order)\n",
      "/Users/lizhuan/opt/anaconda3/lib/python3.9/site-packages/numpy/core/_asarray.py:102: ComplexWarning: Casting complex values to real discards the imaginary part\n",
      "  return array(a, dtype, copy=False, order=order)\n",
      "/Users/lizhuan/opt/anaconda3/lib/python3.9/site-packages/numpy/core/_asarray.py:102: ComplexWarning: Casting complex values to real discards the imaginary part\n",
      "  return array(a, dtype, copy=False, order=order)\n"
     ]
    },
    {
     "data": {
      "image/png": "[encoded data removed]",
      "text/plain": [
       "<Figure size 900x900 with 1 Axes>"
      ]
     },
     "metadata": {
      "needs_background": "light"
     },
     "output_type": "display_data"
    }
   ],
   "source": [
    "#rng = np.arange(0.06,0.09,0.002)\n",
    "pyplot.figure(figsize=(9,9),dpi=100)\n",
    "#pyplot.plot(rng,lam1234s,'.',label='$\\langle X_1X_2X_3X_4 \\\\rangle$')\n",
    "\n",
    "pyplot.plot(rng[1:-1],lam12s[1:],'.',label='$\\langle X_1X_2 \\\\rangle$')\n",
    "pyplot.plot(rng[1:-1],lam13s[1:],'.',label='$\\langle X_1X_3 \\\\rangle$')\n",
    "pyplot.plot(rng[1:-1],lam14s[1:],'.',label='$\\langle X_1X_4 \\\\rangle$')\n",
    "#pyplot.plot(rng,[1]*len(rng))\n",
    "#pyplot.plot(rng[-25:],k*np.array(rng[-25:])+d,label='3.3399*p - 0.68003')\n",
    "pyplot.legend(prop={'size':20})\n",
    "pyplot.show()"
   ]
  },
  {
   "cell_type": "code",
   "execution_count": 121,
   "metadata": {},
   "outputs": [],
   "source": [
    "k,d = np.polyfit(rng[-22:-18],lam14s[-22:-18],1)"
   ]
  },
  {
   "cell_type": "code",
   "execution_count": 32,
   "metadata": {},
   "outputs": [],
   "source": [
    "x = np.arange(1,20)\n",
    "y = 1 - 2**(-(x-1)/2)"
   ]
  },
  {
   "cell_type": "code",
   "execution_count": 35,
   "metadata": {},
   "outputs": [
    {
     "data": {
      "text/plain": [
       "[<matplotlib.lines.Line2D at 0x7f86bfc7e040>]"
      ]
     },
     "execution_count": 35,
     "metadata": {},
     "output_type": "execute_result"
    },
    {
     "data": {
      "image/png": "[encoded data removed]",
      "text/plain": [
       "<Figure size 432x288 with 1 Axes>"
      ]
     },
     "metadata": {
      "needs_background": "light"
     },
     "output_type": "display_data"
    }
   ],
   "source": [
    "pyplot.plot(x,y,'.')\n",
    "pyplot.plot(x,1-y,'.')\n"
   ]
  },
  {
   "cell_type": "code",
   "execution_count": 123,
   "metadata": {},
   "outputs": [
    {
     "data": {
      "text/plain": [
       "(0.3542866509950173+7.842496560370235e-18j)"
      ]
     },
     "execution_count": 123,
     "metadata": {},
     "output_type": "execute_result"
    }
   ],
   "source": [
    "(1-d)/k"
   ]
  },
  {
   "cell_type": "code",
   "execution_count": 12,
   "metadata": {},
   "outputs": [],
   "source": [
    "x = np.arange(.011,6,0.01)\n",
    "y = []\n",
    "def renyi2(x,n):\n",
    "    return np.log2(x**n+(1-x)**n)/(1-n)\n",
    "\n",
    "for i in x:\n",
    "    def Hn(x):\n",
    "        return renyi2(x,i)-0.5\n",
    "    \n",
    "    y.append( bisect(Hn,0,.3))"
   ]
  },
  {
   "cell_type": "code",
   "execution_count": 13,
   "metadata": {},
   "outputs": [
    {
     "data": {
      "text/plain": [
       "(array([-0.05,  0.  ,  0.05,  0.1 ,  0.15,  0.2 ,  0.25,  0.3 ]),\n",
       " [Text(0, 0, ''),\n",
       "  Text(0, 0, ''),\n",
       "  Text(0, 0, ''),\n",
       "  Text(0, 0, ''),\n",
       "  Text(0, 0, ''),\n",
       "  Text(0, 0, ''),\n",
       "  Text(0, 0, ''),\n",
       "  Text(0, 0, '')])"
      ]
     },
     "execution_count": 13,
     "metadata": {},
     "output_type": "execute_result"
    },
    {
     "data": {
      "image/png": "[encoded data removed]",
      "text/plain": [
       "<Figure size 1800x900 with 1 Axes>"
      ]
     },
     "metadata": {
      "needs_background": "light"
     },
     "output_type": "display_data"
    }
   ],
   "source": [
    "pyplot.figure(figsize=(18,9),dpi=100)\n",
    "pyplot.plot(x,y,'-')\n",
    "\n",
    "pyplot.xticks(size=30)\n",
    "pyplot.yticks(size=30)"
   ]
  },
  {
   "cell_type": "code",
   "execution_count": 86,
   "metadata": {},
   "outputs": [
    {
     "data": {
      "text/plain": [
       "1.4922080697222415"
      ]
     },
     "execution_count": 86,
     "metadata": {},
     "output_type": "execute_result"
    }
   ],
   "source": [
    "0.583627816"
   ]
  },
  {
   "cell_type": "code",
   "execution_count": 73,
   "metadata": {},
   "outputs": [
    {
     "data": {
      "text/plain": [
       "0.21132486540518713"
      ]
     },
     "execution_count": 73,
     "metadata": {},
     "output_type": "execute_result"
    }
   ],
   "source": [
    "0.5*(1-np.sqrt(3)/3)"
   ]
  },
  {
   "cell_type": "code",
   "execution_count": null,
   "metadata": {},
   "outputs": [],
   "source": []
  }
 ],
 "metadata": {
  "kernelspec": {
   "display_name": "base",
   "language": "python",
   "name": "python3"
  },
  "language_info": {
   "codemirror_mode": {
    "name": "ipython",
    "version": 3
   },
   "file_extension": ".py",
   "mimetype": "text/x-python",
   "name": "python",
   "nbconvert_exporter": "python",
   "pygments_lexer": "ipython3",
   "version": "3.9.7"
  },
  "orig_nbformat": 4
 },
 "nbformat": 4,
 "nbformat_minor": 2
}
