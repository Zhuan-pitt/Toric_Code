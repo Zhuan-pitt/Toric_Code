{
 "cells": [
  {
   "cell_type": "code",
   "execution_count": 1,
   "metadata": {},
   "outputs": [],
   "source": [
    "import numpy as np\n",
    "from matplotlib import pyplot\n",
    "from scipy import linalg\n",
    "import copy\n",
    "import iMPS\n",
    "from scipy.sparse import linalg\n",
    "import funcs"
   ]
  },
  {
   "cell_type": "code",
   "execution_count": 10,
   "metadata": {},
   "outputs": [
    {
     "name": "stdout",
     "output_type": "stream",
     "text": [
      "[4 4]\n",
      "[4 6]\n",
      "[4 6]\n",
      "[4 6]\n",
      "[4 6]\n",
      "[4 6]\n",
      "[4 6]\n",
      "[3 5]\n",
      "[4 6]\n",
      "[3 5]\n",
      "[4 5]\n",
      "[4 5]\n",
      "[4 6]\n",
      "[5 6]\n",
      "[5 5]\n",
      "[5 5]\n",
      "[5 5]\n",
      "[5 5]\n",
      "[5 5]\n",
      "[5 5]\n"
     ]
    }
   ],
   "source": [
    "eigs=[]\n",
    "lam1s=[]\n",
    "lam2s=[]\n",
    "lam3s=[]\n",
    "lam4s=[]\n",
    "dims=[]\n",
    "X = np.array([[0,1],[1,0]])\n",
    "Z = np.array([[1,0],[0,-1]])\n",
    "for h in np.arange(0.4,0.6,0.01):   \n",
    "    \n",
    "    h1 = h\n",
    "    h2 = 0\n",
    "    \n",
    "    B = np.zeros([1,1,4])\n",
    "    B[0,0] =(linalg.expm(h*Z)).reshape([4,])\n",
    "    MPS = iMPS.iMPS()\n",
    "    MPS.construct_from_tensor_list([B,B])\n",
    "    MPS.svd_threshold =1e-10\n",
    "    trans = funcs.single_trans(h1=h1,h2=h2)\n",
    "    \n",
    "    MPO = iMPS.iMPO()\n",
    "    MPO.construct_from_tensor_list([trans,trans])\n",
    "    MPS_power = iMPS.MPS_power_method(MPS,MPO,max_bond=20)\n",
    "    MPS_power.update(100)\n",
    "    \n",
    "    \n",
    "    \"\"\"trans = funcs.single_trans(h1=h1,h2=h2)\n",
    "    trans = np.transpose(trans,[0,1,3,2])\n",
    "    MPO1 = iMPS.iMPO()\n",
    "    MPO1.construct_from_tensor_list([trans,trans])\"\"\"\n",
    "    \n",
    "    \n",
    "    \"\"\"MPS1 = iMPS.iMPS()\n",
    "    MPS1.construct_from_tensor_list([MPS.B[0],MPS.B[0]])\n",
    "    \n",
    "    MPO = iMPS.iMPO()\n",
    "    MPO.construct_from_tensor_list([trans,trans])\"\"\"\n",
    "    \n",
    "    MPS_two_site = iMPS.MPS_power_method_twosite_update(MPS,MPO,20)\n",
    "    MPS_two_site.init_MPS2()\n",
    "    MPS_two_site.MPS2.svd_threshold=1e-6\n",
    "    MPS_two_site.MPS2 = copy.deepcopy(MPS)\n",
    "    \n",
    "    \n",
    "    \n",
    "    MPS_two_site.init_env()\n",
    "    MPS_two_site.update_MPS2(loop=600)\n",
    "    \n",
    "    \n",
    "    print(MPS_two_site.MPS2.chi)\n",
    "    \"\"\"MPS_two_site = iMPS.MPS_power_method_twosite_update(MPS_two_site.MPS2,MPO,10)\n",
    "    MPS_two_site.init_MPS2()\n",
    "    MPS_two_site.MPS2.svd_threshold=1e-6\n",
    "    MPS_two_site.MPS2 = copy.deepcopy(MPS_two_site.MPS2)\n",
    "    \n",
    "    \n",
    "    \n",
    "    MPS_two_site.init_env()\n",
    "    MPS_two_site.update_MPS2(loop=100)\"\"\"\n",
    "    \n",
    "    \n",
    "    T3 = np.zeros([1,1,4,4])\n",
    "    T3[0,0,:,:] = np.kron(X,X)\n",
    "    MPO4 = iMPS.iMPO()\n",
    "    MPO4.construct_from_tensor_list([T3,T3])\n",
    "    strap4 = iMPS.strap(MPS,MPO4,MPS)\n",
    "    lam4 = strap4.calculate_eig()\n",
    "    lam4s.append(lam4)\n",
    "    \n",
    "    \n",
    "    strap4 = iMPS.strap(MPS_two_site.MPS2,MPO4,MPS_two_site.MPS2)\n",
    "    lam4 = strap4.calculate_eig()\n",
    "    lam1s.append(lam4)\n",
    "    \"\"\"\n",
    "    \n",
    "    MPS6 = iMPS.iMPS()\n",
    "    MPS.construct_from_tensor_list([MPS_two_site.MPS2.B[0],MPS_two_site.MPS2.B[1]])\n",
    "    MPS.svd_threshold =1e-10\n",
    "    \n",
    "    \n",
    "\n",
    "    MPO4 = iMPS.iMPO()\n",
    "    MPO4.construct_from_tensor_list([T3,T3])\n",
    "\n",
    "    \n",
    "    strap4 = iMPS.strap(MPS6,MPO4,MPS6)\n",
    "    lam4 = strap4.calculate_eig()\n",
    "    lam3s.append(lam4)\"\"\"\n",
    "    \n",
    "    \n",
    "    #dims.append(MPS_two_site.MPS2.chi[1])\n",
    "    \n",
    "   \n",
    "lam4s = np.abs(lam4s)\n",
    "lam1s = np.abs(lam1s)\n",
    "lam2s = np.abs(lam2s)\n",
    "lam3s = np.abs(lam3s)"
   ]
  },
  {
   "cell_type": "code",
   "execution_count": 8,
   "metadata": {},
   "outputs": [
    {
     "name": "stdout",
     "output_type": "stream",
     "text": [
      "[0.9987422  0.99755007 0.99578547 0.99237665 0.98455487 0.96590621\n",
      " 0.94158205 0.91632958 0.89277532 0.86984464 0.84767037 0.82618968\n",
      " 0.80605571 0.78580467 0.76626363 0.7473928  0.72914776 0.71149463\n",
      " 0.69440238 0.67784544]\n"
     ]
    }
   ],
   "source": [
    "print(lam4s)"
   ]
  },
  {
   "cell_type": "code",
   "execution_count": 11,
   "metadata": {},
   "outputs": [
    {
     "name": "stdout",
     "output_type": "stream",
     "text": [
      "[0.96580905 0.99201935 0.98838258 0.78447555 0.85087091 0.88781819\n",
      " 0.97451444 0.80678087 0.76902636 0.76986269 0.73919221 0.72555549\n",
      " 0.71033612 0.78664954 0.76704395 0.7481073  0.7297984  0.71208428\n",
      " 0.69493412 0.67832373]\n",
      "[0.9987422  0.99755007 0.99578547 0.99237665 0.98455487 0.96590621\n",
      " 0.94158205 0.91632958 0.89277532 0.86984464 0.84767037 0.82618968\n",
      " 0.80605571 0.78580467 0.76626363 0.7473928  0.72914776 0.71149463\n",
      " 0.69440238 0.67784544]\n"
     ]
    }
   ],
   "source": [
    "print(lam1s)\n",
    "print(lam4s)"
   ]
  },
  {
   "cell_type": "code",
   "execution_count": 12,
   "metadata": {},
   "outputs": [
    {
     "data": {
      "text/plain": [
       "[<matplotlib.lines.Line2D at 0x7fe9ec1996a0>]"
      ]
     },
     "execution_count": 12,
     "metadata": {},
     "output_type": "execute_result"
    },
    {
     "data": {
      "image/png": "[encoded data removed]",
      "text/plain": [
       "<Figure size 432x288 with 1 Axes>"
      ]
     },
     "metadata": {
      "needs_background": "light"
     },
     "output_type": "display_data"
    }
   ],
   "source": [
    "pyplot.plot(lam4s)\n",
    "pyplot.plot(lam1s)"
   ]
  },
  {
   "cell_type": "code",
   "execution_count": 9,
   "metadata": {},
   "outputs": [],
   "source": [
    "B = funcs.col_contract34(MPS.B[0],trans)"
   ]
  },
  {
   "cell_type": "code",
   "execution_count": 10,
   "metadata": {},
   "outputs": [
    {
     "name": "stdout",
     "output_type": "stream",
     "text": [
      "[9.99552678e-01 2.99051291e-02 3.56367876e-04 1.06619959e-05\n",
      " 6.08659749e-07 1.81905063e-08]\n"
     ]
    },
    {
     "ename": "AssertionError",
     "evalue": "not right canonical, error = array([[ 1.00000000e+00+0.00000000e+00j, -6.83886826e-10-1.52756911e-13j,\n        -5.85629866e-06+3.97947983e-11j,  6.91200989e-04+8.50766956e-10j,\n         7.06639904e-04-5.16833299e-09j, -8.23095810e-02-2.42913458e-08j],\n       [-6.83886826e-10+1.52756911e-13j,  1.00000000e+00+0.00000000e+00j,\n         5.91250571e-06-4.20414242e-11j,  6.77327039e-06-4.21581011e-11j,\n        -7.13197476e-04+5.52797248e-09j, -8.18026164e-04+6.43437790e-09j],\n       [-5.85629866e-06-3.97947983e-11j,  5.91250571e-06+4.20414242e-11j,\n         9.99995018e-01+0.00000000e+00j, -1.52567490e-05-2.07727308e-11j,\n         2.99489836e-04-2.14574254e-09j,  1.93436740e-03+1.50613527e-09j],\n       [ 6.91200989e-04-8.50766956e-10j,  6.77327039e-06+4.21581011e-11j,\n        -1.52567490e-05+2.07727308e-11j,  9.99778873e-01+0.00000000e+00j,\n        -8.91642753e-05+6.73251416e-10j,  1.33718596e-02-5.40910544e-09j],\n       [ 7.06639904e-04+5.16833299e-09j, -7.13197476e-04-5.52797248e-09j,\n         2.99489836e-04+2.14574254e-09j, -8.91642753e-05-6.73251416e-10j,\n         1.00022717e+00+0.00000000e+00j, -4.25543679e-03-2.67734634e-09j],\n       [-8.23095810e-02+2.42913458e-08j, -8.18026164e-04-6.43437790e-09j,\n         1.93436740e-03-1.50613527e-09j,  1.33718596e-02+5.40910544e-09j,\n        -4.25543679e-03+2.67734634e-09j,  9.53504236e-01+0.00000000e+00j]])",
     "output_type": "error",
     "traceback": [
      "\u001b[0;31m---------------------------------------------------------------------------\u001b[0m",
      "\u001b[0;31mAssertionError\u001b[0m                            Traceback (most recent call last)",
      "\u001b[0;32m/var/folders/rt/_3xs3p494rzgxflmk081k97m0000gn/T/ipykernel_4159/687622062.py\u001b[0m in \u001b[0;36m<module>\u001b[0;34m\u001b[0m\n\u001b[1;32m      1\u001b[0m \u001b[0mMPS6\u001b[0m \u001b[0;34m=\u001b[0m \u001b[0miMPS\u001b[0m\u001b[0;34m.\u001b[0m\u001b[0miMPS\u001b[0m\u001b[0;34m(\u001b[0m\u001b[0;34m)\u001b[0m\u001b[0;34m\u001b[0m\u001b[0;34m\u001b[0m\u001b[0m\n\u001b[0;32m----> 2\u001b[0;31m \u001b[0mMPS6\u001b[0m\u001b[0;34m.\u001b[0m\u001b[0mconstruct_from_tensor_list\u001b[0m\u001b[0;34m(\u001b[0m\u001b[0;34m[\u001b[0m\u001b[0mB\u001b[0m\u001b[0;34m]\u001b[0m\u001b[0;34m)\u001b[0m\u001b[0;34m\u001b[0m\u001b[0;34m\u001b[0m\u001b[0m\n\u001b[0m",
      "\u001b[0;32m~/Desktop/Mixed state topological order/Toric_Code/iMPS.py\u001b[0m in \u001b[0;36mconstruct_from_tensor_list\u001b[0;34m(self, tensor_list)\u001b[0m\n\u001b[1;32m    115\u001b[0m         \u001b[0mself\u001b[0m\u001b[0;34m.\u001b[0m\u001b[0mdtype\u001b[0m \u001b[0;34m=\u001b[0m \u001b[0mself\u001b[0m\u001b[0;34m.\u001b[0m\u001b[0mB\u001b[0m\u001b[0;34m[\u001b[0m\u001b[0;36m0\u001b[0m\u001b[0;34m]\u001b[0m\u001b[0;34m.\u001b[0m\u001b[0mdtype\u001b[0m\u001b[0;34m\u001b[0m\u001b[0;34m\u001b[0m\u001b[0m\n\u001b[1;32m    116\u001b[0m         \u001b[0mself\u001b[0m\u001b[0;34m.\u001b[0m\u001b[0mcheck_consistency\u001b[0m\u001b[0;34m(\u001b[0m\u001b[0;34m)\u001b[0m\u001b[0;34m\u001b[0m\u001b[0;34m\u001b[0m\u001b[0m\n\u001b[0;32m--> 117\u001b[0;31m         \u001b[0mself\u001b[0m\u001b[0;34m.\u001b[0m\u001b[0mcheck_canonical_unit_cell\u001b[0m\u001b[0;34m(\u001b[0m\u001b[0;34m)\u001b[0m\u001b[0;34m\u001b[0m\u001b[0;34m\u001b[0m\u001b[0m\n\u001b[0m\u001b[1;32m    118\u001b[0m         \u001b[0;31m#self.chcek_canonical_site()\u001b[0m\u001b[0;34m\u001b[0m\u001b[0;34m\u001b[0m\u001b[0m\n\u001b[1;32m    119\u001b[0m \u001b[0;34m\u001b[0m\u001b[0m\n",
      "\u001b[0;32m~/Desktop/Mixed state topological order/Toric_Code/iMPS.py\u001b[0m in \u001b[0;36mcheck_canonical_unit_cell\u001b[0;34m(self)\u001b[0m\n\u001b[1;32m     49\u001b[0m         \u001b[0mV\u001b[0m \u001b[0;34m=\u001b[0m \u001b[0mV\u001b[0m\u001b[0;34m.\u001b[0m\u001b[0mreshape\u001b[0m\u001b[0;34m(\u001b[0m\u001b[0;34m[\u001b[0m\u001b[0mself\u001b[0m\u001b[0;34m.\u001b[0m\u001b[0mchi\u001b[0m\u001b[0;34m[\u001b[0m\u001b[0;36m0\u001b[0m\u001b[0;34m]\u001b[0m\u001b[0;34m]\u001b[0m\u001b[0;34m*\u001b[0m\u001b[0;36m2\u001b[0m\u001b[0;34m)\u001b[0m\u001b[0;34m\u001b[0m\u001b[0;34m\u001b[0m\u001b[0m\n\u001b[1;32m     50\u001b[0m         \u001b[0mV\u001b[0m \u001b[0;34m=\u001b[0m \u001b[0mV\u001b[0m\u001b[0;34m\u001b[0m\u001b[0;34m\u001b[0m\u001b[0m\n\u001b[0;32m---> 51\u001b[0;31m         \u001b[0;32massert\u001b[0m \u001b[0mnp\u001b[0m\u001b[0;34m.\u001b[0m\u001b[0mlinalg\u001b[0m\u001b[0;34m.\u001b[0m\u001b[0mnorm\u001b[0m\u001b[0;34m(\u001b[0m\u001b[0mV\u001b[0m\u001b[0;34m-\u001b[0m\u001b[0mnp\u001b[0m\u001b[0;34m.\u001b[0m\u001b[0meye\u001b[0m\u001b[0;34m(\u001b[0m\u001b[0mself\u001b[0m\u001b[0;34m.\u001b[0m\u001b[0mchi\u001b[0m\u001b[0;34m[\u001b[0m\u001b[0;36m0\u001b[0m\u001b[0;34m]\u001b[0m\u001b[0;34m)\u001b[0m\u001b[0;34m)\u001b[0m\u001b[0;34m<=\u001b[0m\u001b[0;36m1e-3\u001b[0m\u001b[0;34m,\u001b[0m\u001b[0;31m \u001b[0m\u001b[0;31m\\\u001b[0m\u001b[0;34m\u001b[0m\u001b[0;34m\u001b[0m\u001b[0m\n\u001b[0m\u001b[1;32m     52\u001b[0m             \u001b[0;34mf'not right canonical, error = {repr(V)}'\u001b[0m\u001b[0;34m\u001b[0m\u001b[0;34m\u001b[0m\u001b[0m\n\u001b[1;32m     53\u001b[0m \u001b[0;34m\u001b[0m\u001b[0m\n",
      "\u001b[0;31mAssertionError\u001b[0m: not right canonical, error = array([[ 1.00000000e+00+0.00000000e+00j, -6.83886826e-10-1.52756911e-13j,\n        -5.85629866e-06+3.97947983e-11j,  6.91200989e-04+8.50766956e-10j,\n         7.06639904e-04-5.16833299e-09j, -8.23095810e-02-2.42913458e-08j],\n       [-6.83886826e-10+1.52756911e-13j,  1.00000000e+00+0.00000000e+00j,\n         5.91250571e-06-4.20414242e-11j,  6.77327039e-06-4.21581011e-11j,\n        -7.13197476e-04+5.52797248e-09j, -8.18026164e-04+6.43437790e-09j],\n       [-5.85629866e-06-3.97947983e-11j,  5.91250571e-06+4.20414242e-11j,\n         9.99995018e-01+0.00000000e+00j, -1.52567490e-05-2.07727308e-11j,\n         2.99489836e-04-2.14574254e-09j,  1.93436740e-03+1.50613527e-09j],\n       [ 6.91200989e-04-8.50766956e-10j,  6.77327039e-06+4.21581011e-11j,\n        -1.52567490e-05+2.07727308e-11j,  9.99778873e-01+0.00000000e+00j,\n        -8.91642753e-05+6.73251416e-10j,  1.33718596e-02-5.40910544e-09j],\n       [ 7.06639904e-04+5.16833299e-09j, -7.13197476e-04-5.52797248e-09j,\n         2.99489836e-04+2.14574254e-09j, -8.91642753e-05-6.73251416e-10j,\n         1.00022717e+00+0.00000000e+00j, -4.25543679e-03-2.67734634e-09j],\n       [-8.23095810e-02+2.42913458e-08j, -8.18026164e-04-6.43437790e-09j,\n         1.93436740e-03-1.50613527e-09j,  1.33718596e-02+5.40910544e-09j,\n        -4.25543679e-03+2.67734634e-09j,  9.53504236e-01+0.00000000e+00j]])"
     ]
    }
   ],
   "source": [
    "MPS6 = iMPS.iMPS()\n",
    "MPS6.construct_from_tensor_list([B])"
   ]
  },
  {
   "cell_type": "code",
   "execution_count": 20,
   "metadata": {},
   "outputs": [
    {
     "ename": "ValueError",
     "evalue": "operands could not be broadcast together with shapes (6,6,4) (16,16,4) ",
     "output_type": "error",
     "traceback": [
      "\u001b[0;31m---------------------------------------------------------------------------\u001b[0m",
      "\u001b[0;31mValueError\u001b[0m                                Traceback (most recent call last)",
      "\u001b[0;32m/var/folders/rt/_3xs3p494rzgxflmk081k97m0000gn/T/ipykernel_4159/2982642248.py\u001b[0m in \u001b[0;36m<module>\u001b[0;34m\u001b[0m\n\u001b[0;32m----> 1\u001b[0;31m \u001b[0mMPS6\u001b[0m\u001b[0;34m.\u001b[0m\u001b[0mB\u001b[0m\u001b[0;34m[\u001b[0m\u001b[0;36m0\u001b[0m\u001b[0;34m]\u001b[0m\u001b[0;34m-\u001b[0m\u001b[0mB\u001b[0m\u001b[0;34m\u001b[0m\u001b[0;34m\u001b[0m\u001b[0m\n\u001b[0m",
      "\u001b[0;31mValueError\u001b[0m: operands could not be broadcast together with shapes (6,6,4) (16,16,4) "
     ]
    }
   ],
   "source": [
    "MPS6.B[0]-B"
   ]
  },
  {
   "cell_type": "code",
   "execution_count": 7,
   "metadata": {},
   "outputs": [
    {
     "name": "stdout",
     "output_type": "stream",
     "text": [
      "[ 5.00000000e-01-0.j -4.20091231e-16+0.j  6.17872635e-16-0.j\n",
      "  8.42528079e-16-0.j -4.41031835e-16+0.j  5.00000000e-01-0.j\n",
      "  2.76042907e-15-0.j  2.47772603e-15-0.j  6.30751218e-16-0.j\n",
      "  2.85931520e-15-0.j  5.00000000e-01-0.j  5.61383285e-14-0.j\n",
      "  8.23043704e-16-0.j  2.48503346e-15-0.j  5.61415269e-14-0.j\n",
      "  5.00000000e-01+0.j]\n"
     ]
    }
   ],
   "source": [
    "trans = MPS.transfer_matrix('right')\n",
    "lam,v=(np.linalg.eig(trans.dot(np.eye(16))))\n",
    "print(v[:,0])"
   ]
  },
  {
   "cell_type": "code",
   "execution_count": 8,
   "metadata": {},
   "outputs": [
    {
     "name": "stdout",
     "output_type": "stream",
     "text": [
      "(4, 4, 4, 4)\n"
     ]
    },
    {
     "data": {
      "text/plain": [
       "<matplotlib.image.AxesImage at 0x7faa2dcafa00>"
      ]
     },
     "execution_count": 8,
     "metadata": {},
     "output_type": "execute_result"
    },
    {
     "data": {
      "image/png": "[encoded data removed]",
      "text/plain": [
       "<Figure size 288x288 with 1 Axes>"
      ]
     },
     "metadata": {
      "needs_background": "light"
     },
     "output_type": "display_data"
    }
   ],
   "source": [
    "B = funcs.row_contract33(MPS.B[0],MPS.B[1])\n",
    "\n",
    "trans = np.tensordot( B,B.conj(),([3,2],[3,2]) )\n",
    "print(trans.shape)\n",
    "M = np.trace(trans,axis1=1,axis2=3)\n",
    "\n",
    "pyplot.matshow(np.abs(M))"
   ]
  },
  {
   "cell_type": "code",
   "execution_count": 6,
   "metadata": {},
   "outputs": [
    {
     "data": {
      "text/plain": [
       "<matplotlib.image.AxesImage at 0x7fd48cf3aa30>"
      ]
     },
     "execution_count": 6,
     "metadata": {},
     "output_type": "execute_result"
    },
    {
     "data": {
      "image/png": "[encoded data removed]",
      "text/plain": [
       "<Figure size 288x288 with 1 Axes>"
      ]
     },
     "metadata": {
      "needs_background": "light"
     },
     "output_type": "display_data"
    }
   ],
   "source": [
    "B = MPS.B[0]\n",
    "s1= MPS.s[0]\n",
    "s2= MPS.s[1]\n",
    "\n",
    "B = funcs.row_contract32(funcs.row_contract23(np.diag(s1),B),np.linalg.inv(np.diag(s2)))\n",
    "\n",
    "B = MPS.B[1]\n",
    "\n",
    "pyplot.matshow(abs(np.tensordot(B,B.conj(),([1,2],[1,2]))))\n"
   ]
  },
  {
   "cell_type": "code",
   "execution_count": 5,
   "metadata": {},
   "outputs": [
    {
     "data": {
      "text/plain": [
       "array([[ 5.00397441e-01+0.00000000e+00j, -2.73631246e-16-2.43521972e-21j,\n",
       "         9.43476775e-17-2.96461532e-21j, -2.56949030e-17+1.58818678e-21j,\n",
       "         6.13690149e-17-1.39760436e-20j, -3.49280715e-17+1.06937910e-20j,\n",
       "         1.04068782e-18+2.11758237e-22j,  3.86527301e-18-1.68744845e-22j,\n",
       "         2.17844919e-18-1.58818678e-22j, -1.63676249e-18+1.05879118e-22j],\n",
       "       [-2.73631246e-16+2.43521972e-21j,  5.00397441e-01+0.00000000e+00j,\n",
       "        -1.13029435e-16+1.35525272e-20j, -7.45293119e-17-1.18584613e-20j,\n",
       "         1.68301249e-16-4.48927462e-20j, -6.80109214e-17+1.79994501e-20j,\n",
       "         6.57468897e-18+2.54109884e-21j,  4.20426740e-17-1.17459647e-21j,\n",
       "        -8.22384754e-17+3.16710913e-20j,  2.25886269e-17-8.47032947e-22j],\n",
       "       [ 9.43476775e-17+2.96461532e-21j, -1.13029435e-16-1.35525272e-20j,\n",
       "         5.00397441e-01+0.00000000e+00j, -1.16341568e-16-2.03287907e-20j,\n",
       "        -8.88128206e-17+1.29172524e-20j,  3.91773250e-17-3.22931311e-21j,\n",
       "        -1.84239847e-17-3.38813179e-21j, -3.18691311e-17+2.14405215e-21j,\n",
       "         1.49784100e-17+2.54109884e-21j,  2.50417102e-17-8.47032947e-22j],\n",
       "       [-2.56949030e-17-1.58818678e-21j, -7.45293119e-17+1.18584613e-20j,\n",
       "        -1.16341568e-16+2.03287907e-20j,  5.00397441e-01+0.00000000e+00j,\n",
       "        -6.24210545e-17-3.75870870e-21j, -2.20238713e-16+8.41209596e-20j,\n",
       "         3.68045638e-17-3.38813179e-21j,  8.95694411e-17-5.34689548e-21j,\n",
       "         8.52505102e-17-2.09640654e-20j, -4.09292131e-18-5.08219768e-21j],\n",
       "       [ 6.13690149e-17+1.39760436e-20j,  1.68301249e-16+4.48927462e-20j,\n",
       "        -8.88128206e-17-1.29172524e-20j, -6.24210545e-17+3.75870870e-21j,\n",
       "         5.00397441e-01+0.00000000e+00j,  3.58992293e-16+0.00000000e+00j,\n",
       "         4.31002551e-17+7.45124296e-21j,  3.01881861e-17-1.69406589e-21j,\n",
       "         3.06753619e-17+5.08219768e-21j,  4.82826034e-17+1.23349173e-20j],\n",
       "       [-3.49280715e-17-1.06937910e-20j, -6.80109214e-17-1.79994501e-20j,\n",
       "         3.91773250e-17+3.22931311e-21j, -2.20238713e-16-8.41209596e-20j,\n",
       "         3.58992293e-16+0.00000000e+00j,  5.00397441e-01+0.00000000e+00j,\n",
       "        -3.20613720e-17-5.47924438e-21j, -1.28307210e-16-2.96461532e-20j,\n",
       "        -7.33996500e-17+1.01643954e-20j,  3.54180061e-17-4.02340650e-21j],\n",
       "       [ 1.04068782e-18-2.11758237e-22j,  6.57468897e-18-2.54109884e-21j,\n",
       "        -1.84239847e-17+3.38813179e-21j,  3.68045638e-17+3.38813179e-21j,\n",
       "         4.31002551e-17-7.45124296e-21j, -3.20613720e-17+5.47924438e-21j,\n",
       "         5.00397441e-01+0.00000000e+00j, -9.19532740e-17+4.35427874e-21j,\n",
       "         2.14621965e-16-3.99164276e-20j,  6.11281516e-17+3.38813179e-21j],\n",
       "       [ 3.86527301e-18+1.68744845e-22j,  4.20426740e-17+1.17459647e-21j,\n",
       "        -3.18691311e-17-2.14405215e-21j,  8.95694411e-17+5.34689548e-21j,\n",
       "         3.01881861e-17+1.69406589e-21j, -1.28307210e-16+2.96461532e-20j,\n",
       "        -9.19532740e-17-4.35427874e-21j,  5.00397441e-01+0.00000000e+00j,\n",
       "         1.31325309e-16-1.52465931e-20j, -7.50912762e-18-1.58818678e-21j],\n",
       "       [ 2.17844919e-18+1.58818678e-22j, -8.22384754e-17-3.16710913e-20j,\n",
       "         1.49784100e-17-2.54109884e-21j,  8.52505102e-17+2.09640654e-20j,\n",
       "         3.06753619e-17-5.08219768e-21j, -7.33996500e-17-1.01643954e-20j,\n",
       "         2.14621965e-16+3.99164276e-20j,  1.31325309e-16+1.52465931e-20j,\n",
       "         5.00397441e-01+0.00000000e+00j, -2.42392595e-16-3.51518673e-20j],\n",
       "       [-1.63676249e-18-1.05879118e-22j,  2.25886269e-17+8.47032947e-22j,\n",
       "         2.50417102e-17+8.47032947e-22j, -4.09292131e-18+5.08219768e-21j,\n",
       "         4.82826034e-17-1.23349173e-20j,  3.54180061e-17+4.02340650e-21j,\n",
       "         6.11281516e-17-3.38813179e-21j, -7.50912762e-18+1.58818678e-21j,\n",
       "        -2.42392595e-16+3.51518673e-20j,  5.00397441e-01+0.00000000e+00j]])"
      ]
     },
     "execution_count": 5,
     "metadata": {},
     "output_type": "execute_result"
    }
   ],
   "source": [
    "np.tensordot( B,B.conj(),([1,2],[1,2]) )"
   ]
  },
  {
   "cell_type": "code",
   "execution_count": 4,
   "metadata": {},
   "outputs": [
    {
     "data": {
      "text/plain": [
       "array([ 0.7476109 +0.00000000e+00j, -0.25773052+1.20639415e-04j,\n",
       "        0.87429134+4.25153141e-04j,  0.43274873-2.75540872e-04j,\n",
       "       -0.10858434+3.95716740e-04j, -0.24933855-4.28033191e-05j,\n",
       "        0.08284082-3.76970154e-05j,  0.3478034 -1.89164053e-04j,\n",
       "       -0.25773052-1.20639415e-04j,  0.59505814+0.00000000e+00j,\n",
       "        0.02145115+1.65872327e-04j, -0.79376431+5.99782540e-05j,\n",
       "        0.08054059+2.68279204e-04j, -0.20175774+5.41698535e-05j,\n",
       "       -0.53610498-4.31395535e-05j,  0.17372996+1.68590452e-05j,\n",
       "        0.87429134-4.25153141e-04j,  0.02145115-1.65872327e-04j,\n",
       "        1.22834977-2.71050543e-20j,  0.09497234+3.13696228e-05j,\n",
       "       -0.09948978+7.32835316e-04j, -0.47508885+3.48982732e-04j,\n",
       "       -0.22682882+3.36248077e-04j,  0.59401188-6.77120162e-04j,\n",
       "        0.43274873+2.75540872e-04j, -0.79376431-5.99782540e-05j,\n",
       "        0.09497234-3.13696228e-05j,  1.07126604+0.00000000e+00j,\n",
       "       -0.11774385-3.06937394e-04j,  0.22203265-9.58370244e-05j,\n",
       "        0.69423463+9.80809741e-05j, -0.17257124-1.14014276e-05j,\n",
       "       -0.10858434-3.95716740e-04j,  0.08054059-2.68279204e-04j,\n",
       "       -0.09948978-7.32835316e-04j, -0.11774385+3.06937394e-04j,\n",
       "        0.01944238+5.42101086e-20j,  0.0117134 +3.58183853e-04j,\n",
       "       -0.05525324+3.46184607e-04j, -0.02551086-3.80544543e-04j,\n",
       "       -0.24933855+4.28033191e-05j, -0.20175774-5.41698535e-05j,\n",
       "       -0.47508885-3.48982732e-04j,  0.22203265+9.58370244e-05j,\n",
       "        0.0117134 -3.58183853e-04j,  0.24668653+8.47032947e-22j,\n",
       "        0.26084642+4.07999989e-05j, -0.28288891+7.90613767e-05j,\n",
       "        0.08284082+3.76970154e-05j, -0.53610498+4.31395535e-05j,\n",
       "       -0.22682882-3.36248077e-04j,  0.69423463-9.80809741e-05j,\n",
       "       -0.05525324-3.46184607e-04j,  0.26084642-4.07999989e-05j,\n",
       "        0.51806756+0.00000000e+00j, -0.25586833+1.35930759e-05j,\n",
       "        0.3478034 +1.89164053e-04j,  0.17372996-1.68590452e-05j,\n",
       "        0.59401188+6.77120162e-04j, -0.17257124+1.14014276e-05j,\n",
       "       -0.02551086+3.80544543e-04j, -0.28288891-7.90613767e-05j,\n",
       "       -0.25586833-1.35930759e-05j,  0.33212893-1.35525272e-20j])"
      ]
     },
     "execution_count": 4,
     "metadata": {},
     "output_type": "execute_result"
    }
   ],
   "source": [
    "transB.dot(np.ones([4,4]).reshape([16,]))"
   ]
  },
  {
   "cell_type": "code",
   "execution_count": 7,
   "metadata": {},
   "outputs": [
    {
     "ename": "ValueError",
     "evalue": "operands could not be broadcast together with shapes (64,) (16,) ",
     "output_type": "error",
     "traceback": [
      "\u001b[0;31m---------------------------------------------------------------------------\u001b[0m",
      "\u001b[0;31mValueError\u001b[0m                                Traceback (most recent call last)",
      "\u001b[0;32m/var/folders/rt/_3xs3p494rzgxflmk081k97m0000gn/T/ipykernel_99233/889899617.py\u001b[0m in \u001b[0;36m<module>\u001b[0;34m\u001b[0m\n\u001b[0;32m----> 1\u001b[0;31m \u001b[0mMPS1\u001b[0m\u001b[0;34m.\u001b[0m\u001b[0mchcek_canonical_site\u001b[0m\u001b[0;34m(\u001b[0m\u001b[0;34m)\u001b[0m\u001b[0;34m\u001b[0m\u001b[0;34m\u001b[0m\u001b[0m\n\u001b[0m",
      "\u001b[0;32m~/Desktop/Mixed state topological order/Toric_Code/iMPS.py\u001b[0m in \u001b[0;36mchcek_canonical_site\u001b[0;34m(self)\u001b[0m\n\u001b[1;32m     64\u001b[0m             \u001b[0mvr\u001b[0m \u001b[0;34m=\u001b[0m \u001b[0mnp\u001b[0m\u001b[0;34m.\u001b[0m\u001b[0mreshape\u001b[0m\u001b[0;34m(\u001b[0m\u001b[0mvr\u001b[0m\u001b[0;34m,\u001b[0m\u001b[0;34m[\u001b[0m\u001b[0mself\u001b[0m\u001b[0;34m.\u001b[0m\u001b[0mchi\u001b[0m\u001b[0;34m[\u001b[0m\u001b[0;34m(\u001b[0m\u001b[0mi\u001b[0m\u001b[0;34m+\u001b[0m\u001b[0;36m1\u001b[0m\u001b[0;34m)\u001b[0m\u001b[0;34m%\u001b[0m\u001b[0mself\u001b[0m\u001b[0;34m.\u001b[0m\u001b[0mL\u001b[0m\u001b[0;34m]\u001b[0m\u001b[0;34m**\u001b[0m\u001b[0;36m2\u001b[0m\u001b[0;34m,\u001b[0m\u001b[0;34m]\u001b[0m\u001b[0;34m)\u001b[0m\u001b[0;34m\u001b[0m\u001b[0;34m\u001b[0m\u001b[0m\n\u001b[1;32m     65\u001b[0m             \u001b[0mV\u001b[0m \u001b[0;34m=\u001b[0m \u001b[0mtransB\u001b[0m\u001b[0;34m.\u001b[0m\u001b[0mdot\u001b[0m\u001b[0;34m(\u001b[0m\u001b[0mvr\u001b[0m\u001b[0;34m)\u001b[0m\u001b[0;34m\u001b[0m\u001b[0;34m\u001b[0m\u001b[0m\n\u001b[0;32m---> 66\u001b[0;31m             \u001b[0;32massert\u001b[0m \u001b[0mnp\u001b[0m\u001b[0;34m.\u001b[0m\u001b[0mlinalg\u001b[0m\u001b[0;34m.\u001b[0m\u001b[0mnorm\u001b[0m\u001b[0;34m(\u001b[0m\u001b[0mV\u001b[0m\u001b[0;34m-\u001b[0m\u001b[0mvr\u001b[0m\u001b[0;34m*\u001b[0m\u001b[0mV\u001b[0m\u001b[0;34m[\u001b[0m\u001b[0;36m0\u001b[0m\u001b[0;34m]\u001b[0m\u001b[0;34m)\u001b[0m \u001b[0;34m<=\u001b[0m\u001b[0;36m1e-3\u001b[0m\u001b[0;34m*\u001b[0m\u001b[0mnp\u001b[0m\u001b[0;34m.\u001b[0m\u001b[0mlinalg\u001b[0m\u001b[0;34m.\u001b[0m\u001b[0mnorm\u001b[0m\u001b[0;34m(\u001b[0m\u001b[0mV\u001b[0m\u001b[0;34m)\u001b[0m\u001b[0;34m,\u001b[0m \u001b[0;34mf'not right canonical, error = {np.linalg.norm(V-vr)/np.linalg.norm(V)}, site = {i}'\u001b[0m\u001b[0;34m\u001b[0m\u001b[0;34m\u001b[0m\u001b[0m\n\u001b[0m\u001b[1;32m     67\u001b[0m         \u001b[0;32mfor\u001b[0m \u001b[0mi\u001b[0m \u001b[0;32min\u001b[0m \u001b[0mrange\u001b[0m\u001b[0;34m(\u001b[0m\u001b[0;36m0\u001b[0m\u001b[0;34m,\u001b[0m\u001b[0mself\u001b[0m\u001b[0;34m.\u001b[0m\u001b[0mL\u001b[0m\u001b[0;34m)\u001b[0m\u001b[0;34m:\u001b[0m\u001b[0;34m\u001b[0m\u001b[0;34m\u001b[0m\u001b[0m\n\u001b[1;32m     68\u001b[0m             \u001b[0mgammaA\u001b[0m \u001b[0;34m=\u001b[0m \u001b[0mself\u001b[0m\u001b[0;34m.\u001b[0m\u001b[0mB\u001b[0m\u001b[0;34m[\u001b[0m\u001b[0mi\u001b[0m\u001b[0;34m]\u001b[0m\u001b[0;34m\u001b[0m\u001b[0;34m\u001b[0m\u001b[0m\n",
      "\u001b[0;31mValueError\u001b[0m: operands could not be broadcast together with shapes (64,) (16,) "
     ]
    }
   ],
   "source": [
    "MPS1.chcek_canonical_site()"
   ]
  },
  {
   "cell_type": "code",
   "execution_count": 3,
   "metadata": {},
   "outputs": [
    {
     "data": {
      "text/plain": [
       "[2.832485671168152,\n",
       " 2.802357416643858,\n",
       " 2.7943204492516944,\n",
       " 2.7915104975645697,\n",
       " 2.790354246224722]"
      ]
     },
     "execution_count": 3,
     "metadata": {},
     "output_type": "execute_result"
    }
   ],
   "source": [
    "MPS_power.E_history"
   ]
  },
  {
   "cell_type": "code",
   "execution_count": 3,
   "metadata": {},
   "outputs": [
    {
     "ename": "AssertionError",
     "evalue": "not right canonical, error = 1.4372759706370866",
     "output_type": "error",
     "traceback": [
      "\u001b[0;31m---------------------------------------------------------------------------\u001b[0m",
      "\u001b[0;31mAssertionError\u001b[0m                            Traceback (most recent call last)",
      "\u001b[0;32m/var/folders/rt/_3xs3p494rzgxflmk081k97m0000gn/T/ipykernel_98960/2037675651.py\u001b[0m in \u001b[0;36m<module>\u001b[0;34m\u001b[0m\n\u001b[0;32m----> 1\u001b[0;31m \u001b[0mMPS\u001b[0m\u001b[0;34m.\u001b[0m\u001b[0mcheck_canonical_unit_cell\u001b[0m\u001b[0;34m(\u001b[0m\u001b[0;34m)\u001b[0m\u001b[0;34m\u001b[0m\u001b[0;34m\u001b[0m\u001b[0m\n\u001b[0m",
      "\u001b[0;32m~/Desktop/Mixed state topological order/Toric_Code/iMPS.py\u001b[0m in \u001b[0;36mcheck_canonical_unit_cell\u001b[0;34m(self)\u001b[0m\n\u001b[1;32m     47\u001b[0m         \u001b[0mvr\u001b[0m \u001b[0;34m=\u001b[0m \u001b[0mnp\u001b[0m\u001b[0;34m.\u001b[0m\u001b[0mreshape\u001b[0m\u001b[0;34m(\u001b[0m\u001b[0mvr\u001b[0m\u001b[0;34m,\u001b[0m\u001b[0;34m[\u001b[0m\u001b[0mself\u001b[0m\u001b[0;34m.\u001b[0m\u001b[0mchi\u001b[0m\u001b[0;34m[\u001b[0m\u001b[0;36m0\u001b[0m\u001b[0;34m]\u001b[0m\u001b[0;34m**\u001b[0m\u001b[0;36m2\u001b[0m\u001b[0;34m,\u001b[0m\u001b[0;34m]\u001b[0m\u001b[0;34m)\u001b[0m\u001b[0;34m\u001b[0m\u001b[0;34m\u001b[0m\u001b[0m\n\u001b[1;32m     48\u001b[0m         \u001b[0mV\u001b[0m \u001b[0;34m=\u001b[0m \u001b[0mtrans\u001b[0m\u001b[0;34m.\u001b[0m\u001b[0mdot\u001b[0m\u001b[0;34m(\u001b[0m\u001b[0mvr\u001b[0m\u001b[0;34m)\u001b[0m\u001b[0;34m\u001b[0m\u001b[0;34m\u001b[0m\u001b[0m\n\u001b[0;32m---> 49\u001b[0;31m         \u001b[0;32massert\u001b[0m \u001b[0mnp\u001b[0m\u001b[0;34m.\u001b[0m\u001b[0mlinalg\u001b[0m\u001b[0;34m.\u001b[0m\u001b[0mnorm\u001b[0m\u001b[0;34m(\u001b[0m\u001b[0mV\u001b[0m\u001b[0;34m-\u001b[0m\u001b[0mvr\u001b[0m\u001b[0;34m*\u001b[0m\u001b[0mV\u001b[0m\u001b[0;34m[\u001b[0m\u001b[0;36m0\u001b[0m\u001b[0;34m]\u001b[0m\u001b[0;34m)\u001b[0m \u001b[0;34m<=\u001b[0m\u001b[0;36m1e-3\u001b[0m\u001b[0;34m*\u001b[0m\u001b[0mnp\u001b[0m\u001b[0;34m.\u001b[0m\u001b[0mlinalg\u001b[0m\u001b[0;34m.\u001b[0m\u001b[0mnorm\u001b[0m\u001b[0;34m(\u001b[0m\u001b[0mV\u001b[0m\u001b[0;34m)\u001b[0m\u001b[0;34m,\u001b[0m \u001b[0;34mf'not right canonical, error = {np.linalg.norm(V-vr)/np.linalg.norm(V)}'\u001b[0m\u001b[0;34m\u001b[0m\u001b[0;34m\u001b[0m\u001b[0m\n\u001b[0m\u001b[1;32m     50\u001b[0m \u001b[0;34m\u001b[0m\u001b[0m\n\u001b[1;32m     51\u001b[0m \u001b[0;34m\u001b[0m\u001b[0m\n",
      "\u001b[0;31mAssertionError\u001b[0m: not right canonical, error = 1.4372759706370866"
     ]
    }
   ],
   "source": [
    "MPS.check_canonical_unit_cell()"
   ]
  },
  {
   "cell_type": "code",
   "execution_count": 6,
   "metadata": {},
   "outputs": [
    {
     "data": {
      "text/plain": [
       "array([[ 1.00000000e+00+0.00000000e+00j,  4.92382291e-16-3.57623499e-18j,\n",
       "         2.54259785e-14-1.82104720e-17j, -1.94603288e-13+8.64902363e-18j,\n",
       "         8.09622617e-13+9.35060041e-17j, -6.90219146e-12-5.29790843e-17j,\n",
       "        -4.18977691e-11-1.89523581e-18j,  3.65203994e-12+5.22496198e-17j],\n",
       "       [ 4.92382291e-16+3.57623499e-18j,  1.00000000e+00+0.00000000e+00j,\n",
       "         5.28975574e-14+9.78145431e-18j,  6.36069110e-14-2.47010487e-18j,\n",
       "        -2.87506275e-13-6.01127055e-17j,  4.14378723e-12+7.93417288e-18j,\n",
       "         3.38743441e-11+2.55561233e-16j,  1.40404542e-11+7.13969019e-18j],\n",
       "       [ 2.54259785e-14+1.82104720e-17j,  5.28975574e-14-9.78145431e-18j,\n",
       "         1.00000000e+00+0.00000000e+00j, -1.20747195e-13+4.96721905e-18j,\n",
       "        -4.75099579e-13-2.91311841e-17j, -6.53754203e-12-5.32822909e-18j,\n",
       "        -7.02385372e-11+9.02357396e-16j,  7.95268142e-11-7.89500682e-16j],\n",
       "       [-1.94603288e-13-8.64902363e-18j,  6.36069110e-14+2.47010487e-18j,\n",
       "        -1.20747195e-13-4.96721905e-18j,  1.00000000e+00+0.00000000e+00j,\n",
       "        -2.56285436e-13+1.22511607e-16j,  3.78162201e-12+1.69798410e-16j,\n",
       "         6.06235317e-11-1.79266105e-15j,  7.34901653e-11-3.07287921e-15j],\n",
       "       [ 8.09622617e-13-9.35060041e-17j, -2.87506275e-13+6.01127055e-17j,\n",
       "        -4.75099579e-13+2.91311841e-17j, -2.56285436e-13-1.22511607e-16j,\n",
       "         1.00000000e+00+0.00000000e+00j,  3.04881866e-12+4.54536552e-16j,\n",
       "         3.17880167e-11-4.07500631e-15j,  2.44397041e-11+2.55276861e-15j],\n",
       "       [-6.90219146e-12+5.29790843e-17j,  4.14378723e-12-7.93417288e-18j,\n",
       "        -6.53754203e-12+5.32822909e-18j,  3.78162201e-12-1.69798410e-16j,\n",
       "         3.04881866e-12-4.54536552e-16j,  1.00000000e+00+0.00000000e+00j,\n",
       "        -4.86780762e-11+1.07198635e-14j, -3.15824589e-11+1.63165492e-14j],\n",
       "       [-4.18977691e-11+1.89523581e-18j,  3.38743441e-11-2.55561233e-16j,\n",
       "        -7.02385260e-11-9.02357396e-16j,  6.06235291e-11+1.79266105e-15j,\n",
       "         3.17880007e-11+4.07500631e-15j, -4.86780816e-11-1.07198635e-14j,\n",
       "         1.00000000e+00+0.00000000e+00j,  7.60941310e-12+2.32000518e-15j],\n",
       "       [ 3.65203994e-12-5.22496198e-17j,  1.40404542e-11-7.13969019e-18j,\n",
       "         7.95268141e-11+7.89500682e-16j,  7.34901797e-11+3.07287921e-15j,\n",
       "         2.44397063e-11-2.55276861e-15j, -3.15824634e-11-1.63165492e-14j,\n",
       "         7.60941310e-12-2.32000518e-15j,  1.00000000e+00+0.00000000e+00j]])"
      ]
     },
     "execution_count": 6,
     "metadata": {},
     "output_type": "execute_result"
    }
   ],
   "source": [
    "np.tensordot(MPS.B[0],MPS.B[0].conj(),([1,2],[1,2]))"
   ]
  },
  {
   "cell_type": "code",
   "execution_count": 8,
   "metadata": {},
   "outputs": [
    {
     "data": {
      "text/plain": [
       "(8, 8, 4)"
      ]
     },
     "execution_count": 8,
     "metadata": {},
     "output_type": "execute_result"
    }
   ],
   "source": [
    "MPS.B[0].shape"
   ]
  },
  {
   "cell_type": "code",
   "execution_count": 19,
   "metadata": {},
   "outputs": [
    {
     "name": "stdout",
     "output_type": "stream",
     "text": [
      "[0.99876367 0.9976089  0.99586998 0.99249913 0.98482972 0.96662354\n",
      " 0.94374691 0.9197451  0.89613619 0.87294578 0.85053917 0.82871922\n",
      " 0.80768523 0.78723702 0.76757344 0.74857937 0.73011745 0.71236296\n",
      " 0.69517602 0.67853056 0.66240295]\n",
      "[0.98752689 0.88237965 0.95780566 0.9754273  0.79177094 0.83582892\n",
      " 0.79817979 0.83584257 0.83642434 0.75409041 0.76075792 0.68789944\n",
      " 0.69518961 0.78723657 0.76757468 0.74857796 0.73017856 0.71241467\n",
      " 0.69521978 0.67856772 0.66243424]\n"
     ]
    },
    {
     "data": {
      "text/plain": [
       "array([0.99876367, 0.9976089 , 0.99586998, 0.99249913, 0.98482972,\n",
       "       0.96662354, 0.94374691, 0.9197451 , 0.89613619, 0.87294578,\n",
       "       0.85053917, 0.82871922, 0.80768523, 0.78723702, 0.76757344,\n",
       "       0.74857937, 0.73011745, 0.71236296, 0.69517602, 0.67853056,\n",
       "       0.66240295])"
      ]
     },
     "execution_count": 19,
     "metadata": {},
     "output_type": "execute_result"
    }
   ],
   "source": [
    "print(np.abs(lam4s))\n",
    "print(np.abs(lam1s))\n",
    "np.abs(lam4s)"
   ]
  },
  {
   "cell_type": "code",
   "execution_count": 6,
   "metadata": {},
   "outputs": [
    {
     "data": {
      "text/plain": [
       "(0.0, 1.2)"
      ]
     },
     "execution_count": 6,
     "metadata": {},
     "output_type": "execute_result"
    },
    {
     "data": {
      "image/png": "[encoded data removed]",
      "text/plain": [
       "<Figure size 1800x900 with 1 Axes>"
      ]
     },
     "metadata": {
      "needs_background": "light"
     },
     "output_type": "display_data"
    }
   ],
   "source": [
    "pyplot.figure(figsize=(12,6),dpi = 150)\n",
    "#rng = np.arange(0.42,0.5,0.001)\n",
    "#pyplot.plot(rng,k*rng+d)\n",
    "#pyplot.plot(np.arange(0.4,0.5,0.001),lam1s,'.-',label = '$\\langle X \\\\rangle$')\n",
    "pyplot.plot(np.arange(0.4,0.61,0.01),lam4s,'.-',label = '$\\langle \\\\bar{X}\\\\rangle$')\n",
    "#pyplot.plot(np.arange(0.3,0.61,0.01),np.array(lam3s),'.-',label = '$\\langle \\\\bar{X}\\\\rangle$')\n",
    "pyplot.plot(np.arange(0.4,0.61,0.01),np.array(lam1s),'.-',label = '$\\langle \\\\bar{X}\\\\rangle$')\n",
    "pyplot.plot(np.arange(0.4,0.61,0.01),np.array(dims)/20,'.-',label = '$\\langle \\\\bar{X}\\\\rangle$')\n",
    "pyplot.ylim([0,1.2])"
   ]
  },
  {
   "cell_type": "code",
   "execution_count": 76,
   "metadata": {},
   "outputs": [],
   "source": [
    "eigs=[]\n",
    "lam1s=[]\n",
    "lam2s=[]\n",
    "lam3s=[]\n",
    "lam4s=[]\n",
    "dims=[]\n",
    "X = np.array([[0,1],[1,0]])\n",
    "Z = np.array([[1,0],[0,-1]])\n",
    "for h in np.arange(0.4,0.51,0.01):   \n",
    "    \n",
    "    h1 = h\n",
    "    h2 =0\n",
    "    \n",
    "    B = np.zeros([1,1,4])\n",
    "    B[0,0] =(linalg.expm(h*Z)).reshape([4,])\n",
    "    MPS = iMPS.iMPS()\n",
    "    MPS.construct_from_tensor_list([B,B])\n",
    "    MPS.svd_threshold =1e-10\n",
    "    trans = funcs.single_trans(h1=h1,h2=h2)\n",
    "    \n",
    "    MPO = iMPS.iMPO()\n",
    "    MPO.construct_from_tensor_list([trans,trans])\n",
    "    MPS_power = iMPS.MPS_power_method(MPS,MPO,max_bond=20)\n",
    "    MPS_power.update(200)\n",
    "    \n",
    "\n",
    "    \n",
    "    MPS_two_site = iMPS.MPS_power_method_twosite_update2(MPS,MPO,20)\n",
    "    \n",
    "    MPS_two_site.svd_threshold=1e-6\n",
    "    MPS_two_site.MPS2r = copy.deepcopy(MPS)\n",
    "    MPS_two_site.init_MPS2()\n",
    "    \n",
    "    \n",
    "    MPS_two_site.init_env()\n",
    "    MPS_two_site.update_MPS2(loop=100)\n",
    "    for _ in range(3):\n",
    "        B1 = MPS_two_site.MPS2l.B[0]\n",
    "        s0 = np.diag(MPS_two_site.MPS2l.s[0])\n",
    "        s1 = np.diag(MPS_two_site.MPS2l.s[1])\n",
    "        B1 = funcs.row_contract23(np.linalg.inv(s0),B1)\n",
    "        B1= funcs.row_contract32(B1,s1)\n",
    "        \n",
    "        MPS8 = iMPS.iMPS()\n",
    "        MPS8.construct_from_tensor_list([B1,MPS_two_site.MPS2r.B[1]])\n",
    "        \n",
    "        \n",
    "        \n",
    "        MPS_two_site = iMPS.MPS_power_method_twosite_update2(MPS,MPO,20)\n",
    "        \n",
    "        MPS_two_site.svd_threshold=1e-6\n",
    "        MPS_two_site.MPS2r = copy.deepcopy(MPS8)\n",
    "        MPS_two_site.init_MPS2()\n",
    "        \n",
    "        \n",
    "        MPS_two_site.init_env()\n",
    "        MPS_two_site.update_MPS2(loop=100)\n",
    "    \n",
    "    \"\"\"\n",
    "    \n",
    "    MPS_two_site = iMPS.MPS_power_method_twosite_update2(MPS8,MPO,20)\n",
    "    \n",
    "    MPS_two_site.svd_threshold=1e-10\n",
    "    MPS_two_site.MPS2r = copy.deepcopy(MPS8)\n",
    "    MPS_two_site.init_MPS2()\n",
    "    \n",
    "    \n",
    "    MPS_two_site.init_env()\n",
    "    MPS_two_site.update_MPS2(loop=400)\"\"\"\n",
    "    \n",
    "    \"\"\"T3 = np.zeros([1,1,4,4])\n",
    "    T3[0,0,:,:] = np.kron(X,X)\n",
    "    MPO3 = iMPS.iMPO()\n",
    "    MPO3.construct_from_tensor_list([T3])\n",
    "    strap4 = iMPS.strap(MPS,MPO3,MPS)\n",
    "    lam4 = strap4.calculate_eig()\n",
    "    lam4s.append(lam4)\"\"\"\n",
    "    \n",
    "    \n",
    "    T3 = np.zeros([1,1,4,4])\n",
    "    T3[0,0,:,:] = np.kron(X,X)\n",
    "    MPO4 = iMPS.iMPO()\n",
    "    MPO4.construct_from_tensor_list([T3,T3])\n",
    "    strap4 = iMPS.strap(MPS,MPO4,MPS)\n",
    "    lam4 = strap4.calculate_eig()\n",
    "    lam4s.append(lam4)\n",
    "    \n",
    "    \n",
    "    B1 = MPS_two_site.MPS2l.B[0]\n",
    "    s0 = np.diag(MPS_two_site.MPS2l.s[0])\n",
    "    s1 = np.diag(MPS_two_site.MPS2l.s[1])\n",
    "    B1 = funcs.row_contract23(np.linalg.inv(s0),B1)\n",
    "    B1= funcs.row_contract32(B1,s1)\n",
    "    \n",
    "    MPS8 = iMPS.iMPS()\n",
    "    MPS8.construct_from_tensor_list([B1,MPS_two_site.MPS2r.B[1]])\n",
    "    \n",
    "    strap4 = iMPS.strap(MPS8,MPO4,MPS8)\n",
    "    lam4 = strap4.calculate_eig()\n",
    "    lam1s.append(lam4)\n",
    "    \n",
    "    MPS9 = iMPS.iMPS()\n",
    "    MPS9.construct_from_tensor_list([MPS_two_site.MPS2l.B[0],MPS_two_site.MPS2l.B[1]])\n",
    "    \n",
    "    \n",
    "    strap4 = iMPS.strap(MPS8,MPO4,MPS9)\n",
    "    lam4 = strap4.calculate_eig()\n",
    "    lam2s.append(lam4)\n",
    "    \n",
    "    dims.append(MPS_two_site.MPS2r.chi[1])\n",
    "    \n",
    "    strap4 = iMPS.strap(MPS8,None,MPS9)\n",
    "    lam4 = strap4.calculate_eig()\n",
    "    lam3s.append(lam4)\n",
    "    \n",
    "    \n",
    "    \n",
    "    \n",
    "   \n",
    "lam4s = np.abs(lam4s)\n",
    "lam1s = np.abs(lam1s)\n",
    "lam2s = np.abs(lam2s)\n",
    "lam3s = np.abs(lam3s)"
   ]
  },
  {
   "cell_type": "code",
   "execution_count": 77,
   "metadata": {},
   "outputs": [
    {
     "name": "stdout",
     "output_type": "stream",
     "text": [
      "[0.88212515 0.9702152  0.91409249 0.97910211 0.88001019 0.90486999\n",
      " 0.95598625 0.78556646 0.8161162  0.76035653 0.73917232]\n",
      "[0.9987422  0.99755007 0.99578547 0.99237665 0.98455487 0.96590621\n",
      " 0.94158205 0.91632958 0.89277532 0.86984464 0.84767037]\n",
      "[0.79263477 0.6842746  0.91407038 0.92691419 0.93860618 0.96267331\n",
      " 0.9488971  0.99688575 0.71828158 0.99815708 0.99916039]\n",
      "[0.68160141 0.71114566 0.89240117 0.88009206 0.93751711 0.90332316\n",
      " 0.93862208 0.80471401 0.94003076 0.78363542 0.72232154]\n"
     ]
    }
   ],
   "source": [
    "print(np.abs(lam1s))\n",
    "print(lam4s)\n",
    "print(np.abs(lam3s))\n",
    "print(np.abs(lam2s))"
   ]
  },
  {
   "cell_type": "code",
   "execution_count": 61,
   "metadata": {},
   "outputs": [
    {
     "data": {
      "text/plain": [
       "(-0.1, 1.2)"
      ]
     },
     "execution_count": 61,
     "metadata": {},
     "output_type": "execute_result"
    },
    {
     "data": {
      "image/png": "[encoded data removed]",
      "text/plain": [
       "<Figure size 1800x900 with 1 Axes>"
      ]
     },
     "metadata": {
      "needs_background": "light"
     },
     "output_type": "display_data"
    }
   ],
   "source": [
    "pyplot.figure(figsize=(12,6),dpi = 150)\n",
    "#rng = np.arange(0.42,0.5,0.001)\n",
    "#pyplot.plot(rng,k*rng+d)\n",
    "#pyplot.plot(np.arange(0.4,0.5,0.001),lam1s,'.-',label = '$\\langle X \\\\rangle$')\n",
    "pyplot.plot(np.arange(0.3,0.61,0.01),lam4s,'.-',label = '$\\langle \\\\bar{X}\\\\rangle$')\n",
    "#pyplot.plot(np.arange(0.3,0.61,0.01),np.array(lam3s),'.-',label = '$\\langle \\\\bar{X}\\\\rangle$')\n",
    "pyplot.plot(np.arange(0.3,0.61,0.01),np.array(lam1s),'.-',label = '$\\langle \\\\bar{X}\\\\rangle$')\n",
    "pyplot.plot(np.arange(0.3,0.61,0.01),np.array(lam2s),'.-',label = '$\\langle \\\\bar{X}\\\\rangle$')\n",
    "pyplot.plot(np.arange(0.3,0.61,0.01),np.array(lam3s),'.-',label = '$\\langle \\\\bar{X}\\\\rangle$')\n",
    "pyplot.plot(np.arange(0.3,0.61,0.01),np.array(dims)/20,'.-',label = '$\\langle \\\\bar{X}\\\\rangle$')\n",
    "pyplot.ylim([-0.1,1.2])"
   ]
  },
  {
   "cell_type": "code",
   "execution_count": 23,
   "metadata": {},
   "outputs": [
    {
     "data": {
      "text/plain": [
       "array([4.88730425, 4.81796621, 4.81567645, 4.81560655, 4.81560328,\n",
       "       4.81557852, 4.81556489, 4.8155698 , 4.81559103, 4.81562546,\n",
       "       4.81567101, 4.81572665, 4.81579217, 4.81586796, 4.81595484,\n",
       "       4.81605401, 4.81616698, 4.81629555, 4.81644187, 4.81660841,\n",
       "       4.81679803, 4.81701402, 4.81726016, 4.81754077, 4.81786078,\n",
       "       4.81822581, 4.81864224, 4.81911726, 4.81965893, 4.82027623,\n",
       "       4.82097897, 4.82177779, 4.82268393, 4.82370896, 4.8248643 ,\n",
       "       4.82616056, 4.82760665, 4.82920864, 4.83096841, 4.83288213,\n",
       "       4.83493876, 4.83711887, 4.83939383, 4.84172604, 4.84407014,\n",
       "       4.84637555, 4.84859005, 4.85066413, 4.85255533, 4.85423192,\n",
       "       4.85567528, 4.85688055, 4.8578556 , 4.85861859, 4.85919487,\n",
       "       4.85961354, 4.8599045 , 4.86009605, 4.86021336, 4.86027759,\n",
       "       4.86030575, 4.86031088, 4.86030253, 4.8602874 , 4.86026989,\n",
       "       4.86025272, 4.86023739, 4.86022455, 4.86021435, 4.86020661,\n",
       "       4.860201  , 4.86019711, 4.86019457, 4.86019304, 4.86019221,\n",
       "       4.86019187, 4.86019182, 4.86019196, 4.86019217, 4.86019242,\n",
       "       4.86019266, 4.86019287, 4.86019304, 4.86019318, 4.86019328,\n",
       "       4.86019336, 4.86019341, 4.86019345, 4.86019347, 4.86019348,\n",
       "       4.86019348, 4.86019348])"
      ]
     },
     "execution_count": 23,
     "metadata": {},
     "output_type": "execute_result"
    }
   ],
   "source": [
    "np.abs(MPS_two_site.overs)"
   ]
  },
  {
   "cell_type": "code",
   "execution_count": 11,
   "metadata": {},
   "outputs": [
    {
     "name": "stdout",
     "output_type": "stream",
     "text": [
      "1.0000000000000002\n"
     ]
    }
   ],
   "source": [
    "strap4 = iMPS.strap(MPS_two_site.MPS2r,None,MPS_two_site.MPS2l)\n",
    "lam4 = strap4.calculate_eig()\n",
    "print(abs(lam4))"
   ]
  },
  {
   "cell_type": "code",
   "execution_count": 65,
   "metadata": {},
   "outputs": [
    {
     "name": "stdout",
     "output_type": "stream",
     "text": [
      "(6, 4, 4)\n",
      "(4, 6, 4)\n",
      "(6, 4, 4)\n",
      "(4, 6, 4)\n",
      "(4,)\n",
      "(4,)\n",
      "(4, 4, 4)\n",
      "(4, 4, 4)\n",
      "(4, 4, 4)\n",
      "(4, 4, 4)\n",
      "(4,)\n",
      "(4,)\n",
      "(96, 96)\n",
      "(64, 64)\n",
      "(96,)\n",
      "(64,)\n",
      "(96,)\n",
      "(64,)\n"
     ]
    }
   ],
   "source": [
    "print(MPS_two_site.MPS2l.B[0].shape)\n",
    "print(MPS_two_site.MPS2l.B[1].shape)\n",
    "print(MPS_two_site.MPS2r.B[0].shape)\n",
    "print(MPS_two_site.MPS2r.B[1].shape)\n",
    "print(MPS_two_site.MPS2l.s[1].shape)\n",
    "print(MPS_two_site.MPS2r.s[1].shape)\n",
    "\n",
    "print(MPS_two_site.MPS1l.B[0].shape)\n",
    "print(MPS_two_site.MPS1l.B[1].shape)\n",
    "print(MPS_two_site.MPS1r.B[0].shape)\n",
    "print(MPS_two_site.MPS1r.B[1].shape)\n",
    "print(MPS_two_site.MPS1l.s[1].shape)\n",
    "print(MPS_two_site.MPS1r.s[1].shape)\n",
    "\n",
    "print(MPS_two_site.transfer_matrix(0).shape)\n",
    "print(MPS_two_site.transfer_matrix(1).shape)\n",
    "\n",
    "\n",
    "print(MPS_two_site.El[0].shape)\n",
    "print(MPS_two_site.El[1].shape)\n",
    "\n",
    "\n",
    "\n",
    "print(MPS_two_site.Er[0].shape)\n",
    "print(MPS_two_site.Er[1].shape)"
   ]
  },
  {
   "cell_type": "code",
   "execution_count": 86,
   "metadata": {},
   "outputs": [
    {
     "name": "stdout",
     "output_type": "stream",
     "text": [
      "3.873536065552082\n",
      "0.00013216517113314168\n",
      "0.00013216517113297685\n"
     ]
    }
   ],
   "source": [
    "MPS_two_site = iMPS.MPS_power_method_twosite_update2(MPS,MPO,20)\n",
    "\n",
    "\n",
    "MPS_two_site.MPS2r = copy.deepcopy(MPS)\n",
    "MPS_two_site.MPS2r.svd_threshold = 1e-6\n",
    "MPS_two_site.init_MPS2()\n",
    "MPS_two_site.init_env()\n",
    "\n",
    "print(abs(MPS_two_site.overlap(0)))\n",
    "\n",
    "s0 =np.diag(MPS_two_site.MPS1r.s[0])\n",
    "s1 =np.diag(MPS_two_site.MPS1r.s[1])\n",
    "\n",
    "T1 = funcs.row_contract33(funcs.row_contract32(MPS_two_site.MPS1l.B[0],s1),MPS_two_site.MPS1r.B[1])\n",
    "T2 = funcs.row_contract33(MPS_two_site.MPS1r.B[0],MPS_two_site.MPS1r.B[1])\n",
    "\n",
    "#print(np.linalg.norm(T1-T2))\n",
    "#print(MPS_two_site.Er[0]/MPS_two_site.Er[0][0])\n",
    "T3 = MPS_two_site.new_tensor(0).conj()\n",
    "\n",
    "print(np.linalg.norm(T1-T3/T3[0,0,0,0]*T1[0,0,0,0]))\n",
    "\n",
    "#B1_new,lam,B2_new = MPS_two_site.two_site_svd(0)\n",
    "new_M = T3\n",
    "new_M = np.transpose(new_M,[0,2,1,3])\n",
    "w = np.shape(new_M)\n",
    "            \n",
    "new_M = new_M.reshape([w[0]*w[1],w[2]*w[3]])\n",
    "            \n",
    "U,lam,V = np.linalg.svd(new_M)\n",
    "dim = np.sum(lam>1e-10)\n",
    "\n",
    "U = U[:,:dim]\n",
    "lam = lam[:dim]\n",
    "V = V[:dim,:]\n",
    "lam = lam/np.linalg.norm(lam)\n",
    "            \n",
    "B_new_left = np.reshape(U@np.diag(lam),[-1,4,dim])\n",
    "B_new_left  = np.transpose(B_new_left ,[0,2,1])\n",
    "#B_new_left  = funcs.row_contract23(np.linalg.inv(s0),B_new_left)\n",
    "        \n",
    "B_new_right = np.reshape(V,[dim,-1,4])\n",
    "\n",
    "\n",
    "\n",
    "\n",
    "\n",
    "T4 = funcs.row_contract33(B_new_left,B_new_right)\n",
    "print(np.linalg.norm(T4*T1[0,0,0,0]/T4[0,0,0,0]-T1))\n"
   ]
  },
  {
   "cell_type": "code",
   "execution_count": 30,
   "metadata": {},
   "outputs": [
    {
     "data": {
      "text/plain": [
       "array([9.99548817e-01, 3.00183810e-02, 1.02900993e-03, 2.68688113e-05,\n",
       "       1.54483247e-05, 2.73025690e-07])"
      ]
     },
     "execution_count": 30,
     "metadata": {},
     "output_type": "execute_result"
    }
   ],
   "source": [
    "lam"
   ]
  },
  {
   "cell_type": "code",
   "execution_count": 31,
   "metadata": {},
   "outputs": [
    {
     "data": {
      "text/plain": [
       "array([9.99551128e-01, 2.99419135e-02, 1.01208811e-03, 8.70387501e-06])"
      ]
     },
     "execution_count": 31,
     "metadata": {},
     "output_type": "execute_result"
    }
   ],
   "source": [
    "np.diag(s1)/np.linalg.norm(s1)"
   ]
  },
  {
   "cell_type": "code",
   "execution_count": 33,
   "metadata": {},
   "outputs": [
    {
     "data": {
      "text/plain": [
       "(6, 3, 4)"
      ]
     },
     "execution_count": 33,
     "metadata": {},
     "output_type": "execute_result"
    }
   ],
   "source": [
    "B_new_right.shape"
   ]
  },
  {
   "cell_type": "code",
   "execution_count": 34,
   "metadata": {},
   "outputs": [
    {
     "data": {
      "text/plain": [
       "(4, 3, 4)"
      ]
     },
     "execution_count": 34,
     "metadata": {},
     "output_type": "execute_result"
    }
   ],
   "source": [
    "MPS_two_site.MPS1r.B[1].shape"
   ]
  },
  {
   "cell_type": "code",
   "execution_count": 35,
   "metadata": {},
   "outputs": [
    {
     "name": "stdout",
     "output_type": "stream",
     "text": [
      "0.9999999999999984\n",
      "0.9999999999999989\n",
      "0.9991697877893138\n"
     ]
    }
   ],
   "source": [
    "MPS1 = iMPS.iMPS()\n",
    "MPS1.construct_from_tensor_list([B_new_right[:3,:,:]])\n",
    "\n",
    "MPS2 = iMPS.iMPS()\n",
    "MPS2.construct_from_tensor_list([MPS_two_site.MPS1r.B[1][:3,:,:]])\n",
    "\n",
    "strap = iMPS.strap(MPS1,MPO = None,MPS2=MPS1)\n",
    "print(abs(strap.calculate_eig()))\n",
    "strap = iMPS.strap(MPS2,MPO = None,MPS2=MPS2)\n",
    "print(abs(strap.calculate_eig()))\n",
    "strap = iMPS.strap(MPS1,MPO = None,MPS2=MPS2)\n",
    "print(abs(strap.calculate_eig()))"
   ]
  },
  {
   "cell_type": "code",
   "execution_count": 44,
   "metadata": {},
   "outputs": [
    {
     "data": {
      "text/plain": [
       "array([[[ 1.00000000e+00-0.00000000e+00j,\n",
       "          2.82881131e-17+7.27131488e-30j,\n",
       "         -2.24672151e-18+3.33280627e-31j,\n",
       "          4.42404475e-01-3.21183455e-15j],\n",
       "        [ 1.19416556e-02-5.31076001e-04j,\n",
       "          1.56165288e-22-6.94507031e-24j,\n",
       "         -1.24031733e-23+5.51600881e-25j,\n",
       "         -2.62827187e-02+1.16885979e-03j],\n",
       "        [ 1.39267821e-04+1.13748832e-04j,\n",
       "         -1.73566643e-24-1.41762845e-24j,\n",
       "          1.37852475e-25+1.12592827e-25j,\n",
       "         -3.44950804e-04-2.81743125e-04j]],\n",
       "\n",
       "       [[ 3.37931977e-03+3.96578393e-01j,\n",
       "         -4.48820522e-17+3.07671538e-16j,\n",
       "         -6.10768280e-19-7.16764080e-17j,\n",
       "         -7.43504611e-03-8.72536142e-01j],\n",
       "        [ 1.02222539e-02+1.92822362e-01j,\n",
       "          9.86259122e-23+1.86038044e-21j,\n",
       "         -2.09699670e-23-3.95556455e-22j,\n",
       "          2.59239906e-02+4.89004199e-01j],\n",
       "        [ 6.24347628e-03-7.77852359e-03j,\n",
       "          1.67182013e-23-2.08286088e-23j,\n",
       "         -3.55464519e-24+4.42860528e-24j,\n",
       "          1.67370451e-02-2.08520853e-02j]],\n",
       "\n",
       "       [[-2.74194691e-02-1.82645365e-01j,\n",
       "          2.09585837e-16+2.57899912e-16j,\n",
       "          1.42284497e-16+2.86446153e-16j,\n",
       "          6.79234384e-02+4.52448629e-01j],\n",
       "        [ 5.89529077e-02+3.00926632e-01j,\n",
       "         -6.10531477e-23-3.11647365e-22j,\n",
       "          1.07708455e-22+5.49800571e-22j,\n",
       "          1.57369445e-01+8.03296376e-01j],\n",
       "        [ 7.82611061e-02-1.31791181e-01j,\n",
       "         -2.32458438e-24+3.91458418e-24j,\n",
       "          4.10097319e-24-6.90601205e-24j,\n",
       "          2.07744632e-01-3.49840576e-01j]]])"
      ]
     },
     "execution_count": 44,
     "metadata": {},
     "output_type": "execute_result"
    }
   ],
   "source": [
    "(MPS_two_site.MPS1r.B[1][:3,:,:]/MPS_two_site.MPS1r.B[1][0,0,0])"
   ]
  },
  {
   "cell_type": "code",
   "execution_count": 43,
   "metadata": {},
   "outputs": [
    {
     "data": {
      "text/plain": [
       "array([[[ 1.00000000e+00-0.00000000e+00j,\n",
       "         -0.00000000e+00+2.44136546e-22j,\n",
       "         -2.96476177e-20+5.87561925e-27j,\n",
       "          4.42238863e-01-1.49431037e-15j],\n",
       "        [ 1.21596247e-02-5.40769645e-04j,\n",
       "         -1.53804943e-86-6.51999201e-87j,\n",
       "         -1.92256178e-87-2.92563731e-88j,\n",
       "         -2.61224913e-02+1.16173407e-03j],\n",
       "        [ 6.48235243e-05+5.29454695e-05j,\n",
       "         -1.53804943e-86-6.51999201e-87j,\n",
       "         -1.92256178e-87-2.92563731e-88j,\n",
       "         -3.04629989e-04-2.48810566e-04j]],\n",
       "\n",
       "       [[-3.96724639e-01-0.00000000e+00j,\n",
       "         -0.00000000e+00+5.14489063e-19j,\n",
       "         -6.07183209e-17+1.75982100e-20j,\n",
       "          8.73793467e-01-1.08589468e-14j],\n",
       "        [-1.96343111e-01+8.73188088e-03j,\n",
       "         -4.77059340e-80-2.05023107e-44j,\n",
       "         -5.96319378e-81-9.07383276e-82j,\n",
       "         -4.85261462e-01+2.15808197e-02j],\n",
       "        [ 9.61954688e-03+7.85689196e-03j,\n",
       "         -4.77059340e-80-2.02226576e-80j,\n",
       "         -5.96319378e-81-9.07383276e-82j,\n",
       "          2.15783846e-02+1.76244306e-02j]],\n",
       "\n",
       "       [[-1.79854441e-01-0.00000000e+00j,\n",
       "         -1.39652138e-15-3.26530640e-17j,\n",
       "          2.42873284e-16-3.44543411e-17j,\n",
       "          4.42459767e-01+7.39609004e-14j],\n",
       "        [ 3.44351973e-01-1.53142139e-02j,\n",
       "          7.44071342e-77+2.37479132e-32j,\n",
       "          9.22553942e-78+1.30928920e-78j,\n",
       "          7.70957485e-01-3.42864533e-02j],\n",
       "        [-1.54763412e-01-1.26405060e-01j,\n",
       "          7.44170150e-77+3.07320482e-77j,\n",
       "          9.22553942e-78+1.30928920e-78j,\n",
       "         -3.58278659e-01-2.92628826e-01j]]])"
      ]
     },
     "execution_count": 43,
     "metadata": {},
     "output_type": "execute_result"
    }
   ],
   "source": [
    "(B_new_right[:3,:,:]/B_new_right[0,0,0])"
   ]
  },
  {
   "cell_type": "code",
   "execution_count": 11,
   "metadata": {},
   "outputs": [
    {
     "name": "stdout",
     "output_type": "stream",
     "text": [
      "(8.936012812153852-4.476419235288631e-13j)\n"
     ]
    }
   ],
   "source": [
    "\n",
    "MPS_two_site = iMPS.MPS_power_method_twosite_update(MPS,MPO,20)\n",
    "MPS_two_site.init_MPS2()\n",
    "MPS_two_site.MPS2 = copy.deepcopy(MPS)\n",
    "MPS_two_site.init_env()\n",
    "print(MPS_two_site.overlap())\n",
    "\n",
    "\n",
    "#MPS_two_site.update_MPS2(loop=40)"
   ]
  },
  {
   "cell_type": "code",
   "execution_count": null,
   "metadata": {},
   "outputs": [
    {
     "name": "stdout",
     "output_type": "stream",
     "text": [
      "1.9198604439159797\n"
     ]
    }
   ],
   "source": [
    "\n",
    "MPS_two_site.cell_svd_update(0)\n",
    "M0 = MPS_two_site.MPS2.B[0]/MPS_two_site.MPS2.B[0][0,0,0]\n",
    "M1 = MPS_two_site.MPS2.B[1]/MPS_two_site.MPS2.B[1][0,0,0]\n",
    "#M2 = MPS_two_site.MPS2.B[2]/MPS_two_site.MPS2.B[2][0,0,0]\n",
    "print(np.linalg.norm(M0-M1))\n",
    "#print(np.linalg.norm(M1-M2))\n",
    "#print(np.linalg.norm(M0-M2))\n",
    "\n",
    "#print(MPS_two_site.MPS2.B[1]/MPS_two_site.MPS2.B[1][0,0,0])\n",
    "\n",
    "#print(MPS_two_site.MPS2.B[2]/MPS_two_site.MPS2.B[2][0,0,0])"
   ]
  },
  {
   "cell_type": "code",
   "execution_count": null,
   "metadata": {},
   "outputs": [],
   "source": [
    "MPS6 = iMPS.iMPS()\n",
    "MPS6.construct_from_tensor_list([MPS_two_site.MPS2.B[0]])"
   ]
  },
  {
   "cell_type": "code",
   "execution_count": null,
   "metadata": {},
   "outputs": [
    {
     "data": {
      "text/plain": [
       "array([2.93668879, 2.77948307, 2.9964388 , 2.88521282, 3.35714752,\n",
       "       3.36698475, 3.93539356, 4.06398023, 4.62826467, 4.70382865,\n",
       "       5.10017941, 5.03324625, 5.2930392 , 5.14782506, 5.3554644 ,\n",
       "       5.18348292, 5.37549   , 5.19514153, 5.38241036, 5.19928663,\n",
       "       5.38497508, 5.20085331, 5.38596659, 5.20146537, 5.386358  ,\n",
       "       5.20170819, 5.38651397, 5.20180518, 5.38657638, 5.20184403,\n",
       "       5.38660139, 5.2018596 , 5.38661142, 5.20186585, 5.38661545,\n",
       "       5.20186836, 5.38661706, 5.20186937, 5.38661771, 5.20186977,\n",
       "       5.38661797, 5.20186994, 5.38661808, 5.20187   , 5.38661812,\n",
       "       5.20187003, 5.38661814, 5.20187004, 5.38661814, 5.20187004,\n",
       "       5.38661815, 5.20187004, 5.38661815, 5.20187005, 5.38661815,\n",
       "       5.20187005, 5.38661815, 5.20187005, 5.38661815, 5.20187005,\n",
       "       5.38661815, 5.20187005, 5.38661815, 5.20187005, 5.38661815,\n",
       "       5.20187005, 5.38661815, 5.20187005, 5.38661815, 5.20187005,\n",
       "       5.38661815, 5.20187005, 5.38661815, 5.20187005, 5.38661815,\n",
       "       5.20187005, 5.38661815, 5.20187005, 5.38661815, 5.20187005,\n",
       "       5.38661815, 5.20187005, 5.38661816, 5.20187006, 5.38661817,\n",
       "       5.20187007, 5.38661818, 5.20187009, 5.38661821, 5.20187012,\n",
       "       5.38661825, 5.20187018, 5.38661833, 5.20187028, 5.38661846,\n",
       "       5.20187045, 5.38661869, 5.20187074, 5.38661909, 5.20187124,\n",
       "       5.38661977])"
      ]
     },
     "execution_count": 10,
     "metadata": {},
     "output_type": "execute_result"
    }
   ],
   "source": [
    "np.abs(MPS_two_site.overs)"
   ]
  },
  {
   "cell_type": "code",
   "execution_count": null,
   "metadata": {},
   "outputs": [],
   "source": [
    "MPS3 = copy.deepcopy(MPS_two_site.MPS2)\n",
    "MPS_two_site = iMPS.MPS_power_method_twosite_update(MPS3,MPO,20)\n",
    "MPS_two_site.init_MPS2()\n",
    "MPS_two_site.init_env()\n",
    "MPS_two_site.update_MPS2(loop=40)\n",
    "\n"
   ]
  },
  {
   "cell_type": "code",
   "execution_count": null,
   "metadata": {},
   "outputs": [],
   "source": [
    "T3 = np.zeros([1,1,4,4])\n",
    "T3[0,0,:,:] = np.kron(np.eye(2),np.eye(2))\n",
    "#T3[0,0,:,:] = np.kron(X,X)\n",
    "MPO4 = iMPS.iMPO()\n",
    "MPO4.construct_from_tensor_list([T3,T3])"
   ]
  },
  {
   "cell_type": "code",
   "execution_count": null,
   "metadata": {},
   "outputs": [
    {
     "name": "stdout",
     "output_type": "stream",
     "text": [
      "(0.8504805663068825-4.315251405314014e-16j)\n",
      "6.3664101019588175\n",
      "(0.7862684200579264-9.315523185117489e-17j)\n",
      "6.3664101019588175\n",
      "(0.7862684200579264+4.0871156945111357e-17j)\n",
      "5.785151727248617\n",
      "(0.7847752290462757+2.196359958954315e-17j)\n",
      "6.366410101958815\n",
      "(0.7862684200579261-2.2186345171203587e-17j)\n",
      "5.7851517272704465\n",
      "(0.7847752290462761-3.40245404339912e-17j)\n",
      "6.366410101958817\n",
      "(0.7862684200579266+3.4068701277088236e-17j)\n",
      "5.7851517272707005\n",
      "(0.7847752290462758-4.973232661799453e-17j)\n"
     ]
    }
   ],
   "source": [
    "T3 = np.zeros([1,1,4,4])\n",
    "#T3[0,0,:,:] = np.kron(np.eye(2),np.eye(2))\n",
    "T3[0,0,:,:] = np.kron(X,X)\n",
    "MPO4 = iMPS.iMPO()\n",
    "MPO4.construct_from_tensor_list([T3,T3])\n",
    "strap4 = iMPS.strap(MPS,MPO4,MPS)\n",
    "lam4 = strap4.calculate_eig()\n",
    "print(lam4)\n",
    "\n",
    "print(abs(MPS_two_site.overlap(0)))\n",
    "\n",
    "strap4 = iMPS.strap(MPS_two_site.MPS2,MPO4,MPS_two_site.MPS2)\n",
    "lam4 = strap4.calculate_eig()\n",
    "print(lam4)\n",
    "\n",
    "for _ in range(3):\n",
    "    MPS_two_site.cell_svd_update(0)\n",
    "    print(abs(MPS_two_site.overlap(0)))\n",
    "    strap4 = iMPS.strap(MPS_two_site.MPS2,MPO4,MPS_two_site.MPS2)\n",
    "    lam4 = strap4.calculate_eig()\n",
    "    print(lam4)\n",
    "\n",
    "    MPS_two_site.cell_svd_update(1)\n",
    "    print(abs(MPS_two_site.overlap(1)))\n",
    "    strap4 = iMPS.strap(MPS_two_site.MPS2,MPO4,MPS_two_site.MPS2)\n",
    "    lam4 = strap4.calculate_eig()\n",
    "    print(lam4)"
   ]
  },
  {
   "cell_type": "code",
   "execution_count": null,
   "metadata": {},
   "outputs": [
    {
     "name": "stdout",
     "output_type": "stream",
     "text": [
      "(0.7847752290462756-7.785761955876542e-18j)\n"
     ]
    }
   ],
   "source": [
    "strap4 = iMPS.strap(MPS_two_site.MPS2,MPO4,MPS_two_site.MPS2)\n",
    "lam4 = strap4.calculate_eig()\n",
    "print(lam4)"
   ]
  },
  {
   "cell_type": "code",
   "execution_count": null,
   "metadata": {},
   "outputs": [
    {
     "data": {
      "text/plain": [
       "array([9.99609060e-01, 2.79593696e-02, 6.80560588e-13])"
      ]
     },
     "execution_count": 15,
     "metadata": {},
     "output_type": "execute_result"
    }
   ],
   "source": [
    "s1=np.abs(MPS_two_site.MPS2.s[1])\n",
    "s1"
   ]
  },
  {
   "cell_type": "code",
   "execution_count": null,
   "metadata": {},
   "outputs": [
    {
     "data": {
      "text/plain": [
       "1.0"
      ]
     },
     "execution_count": 16,
     "metadata": {},
     "output_type": "execute_result"
    }
   ],
   "source": [
    "np.linalg.norm(s1)"
   ]
  },
  {
   "cell_type": "code",
   "execution_count": null,
   "metadata": {},
   "outputs": [],
   "source": []
  }
 ],
 "metadata": {
  "kernelspec": {
   "display_name": "base",
   "language": "python",
   "name": "python3"
  },
  "language_info": {
   "codemirror_mode": {
    "name": "ipython",
    "version": 3
   },
   "file_extension": ".py",
   "mimetype": "text/x-python",
   "name": "python",
   "nbconvert_exporter": "python",
   "pygments_lexer": "ipython3",
   "version": "3.9.7"
  },
  "orig_nbformat": 4,
  "vscode": {
   "interpreter": {
    "hash": "a477bac5059954408e464007e59c6ff8c80bc3de84912130ad7e386887dbf516"
   }
  }
 },
 "nbformat": 4,
 "nbformat_minor": 2
}
