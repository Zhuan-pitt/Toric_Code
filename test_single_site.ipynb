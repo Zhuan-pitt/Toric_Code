{
 "cells": [
  {
   "cell_type": "code",
   "execution_count": 1,
   "metadata": {},
   "outputs": [],
   "source": [
    "import numpy as np\n",
    "from matplotlib import pyplot\n",
    "from scipy import sparse\n",
    "from scipy import linalg\n",
    "import copy\n",
    "import iMPS\n",
    "#from scipy.sparse import linalg\n",
    "import funcs"
   ]
  },
  {
   "cell_type": "code",
   "execution_count": 3,
   "metadata": {},
   "outputs": [
    {
     "name": "stdout",
     "output_type": "stream",
     "text": [
      "0\n"
     ]
    },
    {
     "ename": "AttributeError",
     "evalue": "'iMPS' object has no attribute 'max_bond'",
     "output_type": "error",
     "traceback": [
      "\u001b[0;31m---------------------------------------------------------------------------\u001b[0m",
      "\u001b[0;31mAttributeError\u001b[0m                            Traceback (most recent call last)",
      "\u001b[0;32m/var/folders/rt/_3xs3p494rzgxflmk081k97m0000gn/T/ipykernel_33951/288678374.py\u001b[0m in \u001b[0;36m<module>\u001b[0;34m\u001b[0m\n\u001b[1;32m     25\u001b[0m     \u001b[0mMPO\u001b[0m\u001b[0;34m.\u001b[0m\u001b[0mconstruct_from_tensor_list\u001b[0m\u001b[0;34m(\u001b[0m\u001b[0;34m[\u001b[0m\u001b[0mtrans\u001b[0m\u001b[0;34m]\u001b[0m\u001b[0;34m)\u001b[0m\u001b[0;34m\u001b[0m\u001b[0;34m\u001b[0m\u001b[0m\n\u001b[1;32m     26\u001b[0m     \u001b[0mMPS_power\u001b[0m \u001b[0;34m=\u001b[0m \u001b[0miMPS\u001b[0m\u001b[0;34m.\u001b[0m\u001b[0mMPS_power_method_single\u001b[0m\u001b[0;34m(\u001b[0m\u001b[0mMPS\u001b[0m\u001b[0;34m,\u001b[0m\u001b[0mMPO\u001b[0m\u001b[0;34m,\u001b[0m\u001b[0mmax_bond\u001b[0m\u001b[0;34m=\u001b[0m\u001b[0;36m20\u001b[0m\u001b[0;34m)\u001b[0m\u001b[0;34m\u001b[0m\u001b[0;34m\u001b[0m\u001b[0m\n\u001b[0;32m---> 27\u001b[0;31m     \u001b[0mMPS_power\u001b[0m\u001b[0;34m.\u001b[0m\u001b[0mupdate\u001b[0m\u001b[0;34m(\u001b[0m\u001b[0;36m100\u001b[0m\u001b[0;34m)\u001b[0m\u001b[0;34m\u001b[0m\u001b[0;34m\u001b[0m\u001b[0m\n\u001b[0m\u001b[1;32m     28\u001b[0m \u001b[0;34m\u001b[0m\u001b[0m\n\u001b[1;32m     29\u001b[0m \u001b[0;34m\u001b[0m\u001b[0m\n",
      "\u001b[0;32m~/Desktop/Mixed state topological order/Toric_Code/iMPS.py\u001b[0m in \u001b[0;36mupdate\u001b[0;34m(self, loops)\u001b[0m\n\u001b[1;32m    586\u001b[0m             \u001b[0mMPS_single_site\u001b[0m\u001b[0;34m.\u001b[0m\u001b[0msvd_threshold\u001b[0m\u001b[0;34m=\u001b[0m\u001b[0;36m1e-10\u001b[0m\u001b[0;34m\u001b[0m\u001b[0;34m\u001b[0m\u001b[0m\n\u001b[1;32m    587\u001b[0m             \u001b[0mMPS_single_site\u001b[0m\u001b[0;34m.\u001b[0m\u001b[0mMPS2\u001b[0m\u001b[0;34m.\u001b[0m\u001b[0msvd_threshold\u001b[0m\u001b[0;34m=\u001b[0m\u001b[0;36m1e-10\u001b[0m\u001b[0;34m\u001b[0m\u001b[0;34m\u001b[0m\u001b[0m\n\u001b[0;32m--> 588\u001b[0;31m             \u001b[0mMPS_single_site\u001b[0m\u001b[0;34m.\u001b[0m\u001b[0minit_MPS2\u001b[0m\u001b[0;34m(\u001b[0m\u001b[0mself\u001b[0m\u001b[0;34m.\u001b[0m\u001b[0mmax_bond\u001b[0m\u001b[0;34m)\u001b[0m\u001b[0;34m\u001b[0m\u001b[0;34m\u001b[0m\u001b[0m\n\u001b[0m\u001b[1;32m    589\u001b[0m \u001b[0;34m\u001b[0m\u001b[0m\n\u001b[1;32m    590\u001b[0m             \u001b[0;31m#MPS_two_site.MPS2 = copy.deepcopy(MPS)\u001b[0m\u001b[0;34m\u001b[0m\u001b[0;34m\u001b[0m\u001b[0m\n",
      "\u001b[0;32m~/Desktop/Mixed state topological order/Toric_Code/iMPS.py\u001b[0m in \u001b[0;36minit_MPS2\u001b[0;34m(self, dim)\u001b[0m\n\u001b[1;32m   1155\u001b[0m             \u001b[0mBs\u001b[0m\u001b[0;34m.\u001b[0m\u001b[0mappend\u001b[0m\u001b[0;34m(\u001b[0m\u001b[0mB\u001b[0m\u001b[0;34m)\u001b[0m\u001b[0;34m\u001b[0m\u001b[0;34m\u001b[0m\u001b[0m\n\u001b[1;32m   1156\u001b[0m \u001b[0;34m\u001b[0m\u001b[0m\n\u001b[0;32m-> 1157\u001b[0;31m         \u001b[0mself\u001b[0m\u001b[0;34m.\u001b[0m\u001b[0mMPS2\u001b[0m\u001b[0;34m.\u001b[0m\u001b[0mconstruct_from_tensor_list\u001b[0m\u001b[0;34m(\u001b[0m\u001b[0mBs\u001b[0m\u001b[0;34m)\u001b[0m\u001b[0;34m\u001b[0m\u001b[0;34m\u001b[0m\u001b[0m\n\u001b[0m\u001b[1;32m   1158\u001b[0m         \u001b[0mself\u001b[0m\u001b[0;34m.\u001b[0m\u001b[0mMPS2\u001b[0m\u001b[0;34m.\u001b[0m\u001b[0msvd_threshold\u001b[0m \u001b[0;34m=\u001b[0m\u001b[0;36m1e-10\u001b[0m\u001b[0;34m\u001b[0m\u001b[0;34m\u001b[0m\u001b[0m\n\u001b[1;32m   1159\u001b[0m         \u001b[0mself\u001b[0m\u001b[0;34m.\u001b[0m\u001b[0mMPS2\u001b[0m\u001b[0;34m.\u001b[0m\u001b[0mmax_bond\u001b[0m \u001b[0;34m=\u001b[0m \u001b[0mself\u001b[0m\u001b[0;34m.\u001b[0m\u001b[0mmax_bond\u001b[0m\u001b[0;34m\u001b[0m\u001b[0;34m\u001b[0m\u001b[0m\n",
      "\u001b[0;32m~/Desktop/Mixed state topological order/Toric_Code/iMPS.py\u001b[0m in \u001b[0;36mconstruct_from_tensor_list\u001b[0;34m(self, tensor_list)\u001b[0m\n\u001b[1;32m    120\u001b[0m         \u001b[0mself\u001b[0m\u001b[0;34m.\u001b[0m\u001b[0minit_norm\u001b[0m \u001b[0;34m=\u001b[0m \u001b[0mself\u001b[0m\u001b[0;34m.\u001b[0m\u001b[0mcalculate_norm\u001b[0m\u001b[0;34m(\u001b[0m\u001b[0;34m)\u001b[0m\u001b[0;34m\u001b[0m\u001b[0;34m\u001b[0m\u001b[0m\n\u001b[1;32m    121\u001b[0m \u001b[0;34m\u001b[0m\u001b[0m\n\u001b[0;32m--> 122\u001b[0;31m         \u001b[0mself\u001b[0m\u001b[0;34m.\u001b[0m\u001b[0msite_canonical\u001b[0m\u001b[0;34m(\u001b[0m\u001b[0mself\u001b[0m\u001b[0;34m.\u001b[0m\u001b[0msvd_threshold\u001b[0m\u001b[0;34m)\u001b[0m\u001b[0;34m\u001b[0m\u001b[0;34m\u001b[0m\u001b[0m\n\u001b[0m\u001b[1;32m    123\u001b[0m         \u001b[0mself\u001b[0m\u001b[0;34m.\u001b[0m\u001b[0mdtype\u001b[0m \u001b[0;34m=\u001b[0m \u001b[0mself\u001b[0m\u001b[0;34m.\u001b[0m\u001b[0mB\u001b[0m\u001b[0;34m[\u001b[0m\u001b[0;36m0\u001b[0m\u001b[0;34m]\u001b[0m\u001b[0;34m.\u001b[0m\u001b[0mdtype\u001b[0m\u001b[0;34m\u001b[0m\u001b[0;34m\u001b[0m\u001b[0m\n\u001b[1;32m    124\u001b[0m \u001b[0;34m\u001b[0m\u001b[0m\n",
      "\u001b[0;32m~/Desktop/Mixed state topological order/Toric_Code/iMPS.py\u001b[0m in \u001b[0;36msite_canonical\u001b[0;34m(self, threshold)\u001b[0m\n\u001b[1;32m    310\u001b[0m     \u001b[0;32mdef\u001b[0m \u001b[0msite_canonical\u001b[0m\u001b[0;34m(\u001b[0m\u001b[0mself\u001b[0m\u001b[0;34m,\u001b[0m\u001b[0mthreshold\u001b[0m \u001b[0;34m=\u001b[0m \u001b[0;36m1e-12\u001b[0m\u001b[0;34m)\u001b[0m\u001b[0;34m:\u001b[0m\u001b[0;34m\u001b[0m\u001b[0;34m\u001b[0m\u001b[0m\n\u001b[1;32m    311\u001b[0m         \u001b[0;34m\"\"\"generating the canonical form for each site\"\"\"\u001b[0m\u001b[0;34m\u001b[0m\u001b[0;34m\u001b[0m\u001b[0m\n\u001b[0;32m--> 312\u001b[0;31m         \u001b[0mself\u001b[0m\u001b[0;34m.\u001b[0m\u001b[0mcell_canonical\u001b[0m\u001b[0;34m(\u001b[0m\u001b[0mthreshold\u001b[0m\u001b[0;34m)\u001b[0m\u001b[0;34m\u001b[0m\u001b[0;34m\u001b[0m\u001b[0m\n\u001b[0m\u001b[1;32m    313\u001b[0m \u001b[0;34m\u001b[0m\u001b[0m\n\u001b[1;32m    314\u001b[0m         \u001b[0;32mif\u001b[0m \u001b[0mself\u001b[0m\u001b[0;34m.\u001b[0m\u001b[0mL\u001b[0m\u001b[0;34m>=\u001b[0m\u001b[0;36m2\u001b[0m\u001b[0;34m:\u001b[0m\u001b[0;34m\u001b[0m\u001b[0;34m\u001b[0m\u001b[0m\n",
      "\u001b[0;32m~/Desktop/Mixed state topological order/Toric_Code/iMPS.py\u001b[0m in \u001b[0;36mcell_canonical\u001b[0;34m(self, threshold)\u001b[0m\n\u001b[1;32m    279\u001b[0m \u001b[0;34m\u001b[0m\u001b[0m\n\u001b[1;32m    280\u001b[0m \u001b[0;34m\u001b[0m\u001b[0m\n\u001b[0;32m--> 281\u001b[0;31m         \u001b[0mX\u001b[0m \u001b[0;34m=\u001b[0m \u001b[0mfuncs\u001b[0m\u001b[0;34m.\u001b[0m\u001b[0msqrthm\u001b[0m\u001b[0;34m(\u001b[0m\u001b[0mMr\u001b[0m\u001b[0;34m,\u001b[0m\u001b[0mthreshold\u001b[0m\u001b[0;34m,\u001b[0m\u001b[0mself\u001b[0m\u001b[0;34m.\u001b[0m\u001b[0mmax_bond\u001b[0m\u001b[0;34m)\u001b[0m\u001b[0;34m\u001b[0m\u001b[0;34m\u001b[0m\u001b[0m\n\u001b[0m\u001b[1;32m    282\u001b[0m         \u001b[0mY\u001b[0m \u001b[0;34m=\u001b[0m \u001b[0mfuncs\u001b[0m\u001b[0;34m.\u001b[0m\u001b[0msqrthm\u001b[0m\u001b[0;34m(\u001b[0m\u001b[0mMl\u001b[0m\u001b[0;34m,\u001b[0m\u001b[0mthreshold\u001b[0m\u001b[0;34m,\u001b[0m\u001b[0mself\u001b[0m\u001b[0;34m.\u001b[0m\u001b[0mmax_bond\u001b[0m\u001b[0;34m)\u001b[0m\u001b[0;34m\u001b[0m\u001b[0;34m\u001b[0m\u001b[0m\n\u001b[1;32m    283\u001b[0m \u001b[0;34m\u001b[0m\u001b[0m\n",
      "\u001b[0;31mAttributeError\u001b[0m: 'iMPS' object has no attribute 'max_bond'"
     ]
    }
   ],
   "source": [
    "eigs=[]\n",
    "lam1s=[]\n",
    "lam2s=[]\n",
    "lam3s=[]\n",
    "lam4s=[]\n",
    "dim2s=[]\n",
    "dim1s=[]\n",
    "X = np.array([[0,1],[1,0]])\n",
    "Z = np.array([[1,0],[0,-1]])\n",
    "for h in np.arange(0.4,0.5,0.01):   \n",
    "    \n",
    "    h1 = h\n",
    "    h2 = 0\n",
    "    \n",
    "    B = np.zeros([1,1,4])\n",
    "    B[0,0] =(linalg.expm(h*Z)).reshape([4,])\n",
    "    MPS = iMPS.iMPS()\n",
    "    MPS.svd_threshold =1e-10\n",
    "    MPS.max_bond =20\n",
    "    MPS.construct_from_tensor_list([B])\n",
    "    \n",
    "    trans = funcs.single_trans(h1=h1,h2=h2)\n",
    "    \n",
    "    MPO = iMPS.iMPO()\n",
    "    MPO.construct_from_tensor_list([trans])\n",
    "    MPS_power = iMPS.MPS_power_method_single(MPS,MPO,max_bond=20)\n",
    "    MPS_power.update(100)\n",
    "    \n",
    "\n",
    "\n",
    "    \n",
    "    \n",
    "    T3 = np.zeros([1,1,4,4])\n",
    "    T3[0,0,:,:] = np.kron(X,X)\n",
    "    MPO4 = iMPS.iMPO()\n",
    "    MPO4.construct_from_tensor_list([T3])\n",
    "    strap4 = iMPS.strap(MPS,MPO4,MPS)\n",
    "    lam4 = strap4.calculate_eig()\n",
    "    lam4s.append(lam4)\n",
    "    \n",
    "\n",
    "    dim1s.append(MPS.chi[0])\n",
    "    \n",
    "    \n",
    "    \n",
    "   \n",
    "lam4s = np.abs(lam4s)\n",
    "lam1s = np.abs(lam1s)\n",
    "lam2s = np.abs(lam2s)\n",
    "lam3s = np.abs(lam3s)\n",
    "\n",
    "print(lam1s)\n",
    "print(lam4s)\n",
    "print(dim1s)\n",
    "print(dim2s)"
   ]
  },
  {
   "cell_type": "code",
   "execution_count": 7,
   "metadata": {},
   "outputs": [
    {
     "name": "stdout",
     "output_type": "stream",
     "text": [
      "[0.99826569 0.99690903 0.9940979  0.98846671 0.97828569 0.96158766\n",
      " 0.94020213 0.91816436 0.89495184 0.8723788 ]\n",
      "[]\n",
      "[9, 10, 10, 10, 10, 10, 10, 9, 7, 7]\n",
      "[7, 7, 9, 10, 19, 10, 7, 7, 7, 5]\n"
     ]
    }
   ],
   "source": [
    "eigs=[]\n",
    "lam1s=[]\n",
    "lam2s=[]\n",
    "lam3s=[]\n",
    "lam4s=[]\n",
    "dim2s=[]\n",
    "dim1s=[]\n",
    "dim3s=[]\n",
    "X = np.array([[0,1],[1,0]])\n",
    "Z = np.array([[1,0],[0,-1]])\n",
    "for h in np.arange(0.4,0.5,0.01):   \n",
    "    \n",
    "    h1 = h\n",
    "    h2 = 0\n",
    "    \n",
    "    B = np.zeros([1,1,4])\n",
    "    B[0,0] =(linalg.expm(h*Z)).reshape([4,])\n",
    "    MPS = iMPS.iMPS()\n",
    "    MPS.svd_threshold =1e-10\n",
    "    MPS.max_bond = 20\n",
    "    MPS.construct_from_tensor_list([B])\n",
    "    \n",
    "    trans = funcs.single_trans(h1=h1,h2=h2)\n",
    "    \n",
    "    MPO = iMPS.iMPO()\n",
    "    MPO.construct_from_tensor_list([trans])\n",
    "    \n",
    "    MPS_power = iMPS.MPS_power_method(MPS,MPO,max_bond=20)\n",
    "    MPS_power.update(50)\n",
    "    \n",
    "\n",
    "    \n",
    "    MPS_two_site = iMPS.MPS_singlesite_update(MPS,MPO,20)\n",
    "        \n",
    "    MPS_two_site.svd_threshold=1e-10\n",
    "    MPS_two_site.MPS2.svd_threshold=1e-10   \n",
    "    #MPS_two_site.init_MPS2(20)\n",
    "        \n",
    "    MPS_two_site.MPS2 = copy.deepcopy(MPS)\n",
    "    MPS_two_site.init_env()\n",
    "    MPS_two_site.update_MPS2(loop=10)\n",
    "    \n",
    "    \n",
    "    for i in range(20):\n",
    "        \n",
    "        MPS4 = copy.deepcopy(MPS_two_site.MPS2)\n",
    "        MPS4.svd_threshold =1e-10\n",
    "        MPS4.site_canonical()\n",
    "        \n",
    "        MPS_power = iMPS.MPS_power_method(MPS4,MPO,max_bond=20)\n",
    "        MPS_power.update(1)\n",
    "        \n",
    "        \n",
    "        MPS_two_site = iMPS.MPS_singlesite_update(MPS4,MPO,10)\n",
    "        \n",
    "        MPS_two_site.svd_threshold=1e-10\n",
    "        MPS_two_site.MPS2.svd_threshold=1e-10\n",
    "        MPS_two_site.MPS2.max_bond = 10\n",
    "        MPS_two_site.init_MPS2(15)\n",
    "        \n",
    "        MPS_two_site.MPS2 = copy.deepcopy(MPS4)\n",
    "        MPS_two_site.init_env()\n",
    "        MPS_two_site.update_MPS2(loop=10)\n",
    "        \n",
    "        \n",
    "        \n",
    "        \"\"\"MPS_two_site2 = iMPS.MPS_singlesite_update(MPS4,MPO,20)\n",
    "        \n",
    "        MPS_two_site2.svd_threshold=1e-10\n",
    "        MPS_two_site2.MPS2.svd_threshold=1e-10\n",
    "        MPS_two_site2.MPS2.max_bond = 20\n",
    "        MPS_two_site2.init_MPS2(15)\n",
    "        \n",
    "        MPS_two_site2.MPS2 = copy.deepcopy(MPS4)\n",
    "        MPS_two_site2.init_env()\n",
    "        MPS_two_site2.update_MPS2(loop=10)\"\"\"\n",
    "        \n",
    "\n",
    "    \n",
    "    \n",
    "    \n",
    "    T3 = np.zeros([1,1,4,4])\n",
    "    T3[0,0,:,:] = np.kron(X,X)\n",
    "    MPO4 = iMPS.iMPO()\n",
    "    MPO4.construct_from_tensor_list([T3])\n",
    "    strap4 = iMPS.strap(MPS,MPO4,MPS)\n",
    "    lam4 = strap4.calculate_eig()\n",
    "    lam1s.append(lam4)\n",
    "    \n",
    "\n",
    "    strap4 = iMPS.strap(MPS_two_site.MPS2,MPO4,MPS_two_site.MPS2)\n",
    "    lam4 = strap4.calculate_eig()\n",
    "    lam2s.append(lam4)\n",
    "    \n",
    "    \"\"\"strap4 = iMPS.strap(MPS_two_site2.MPS2,MPO4,MPS_two_site2.MPS2)\n",
    "    lam4 = strap4.calculate_eig()\n",
    "    lam3s.append(lam4)\n",
    "    \n",
    "    dim3s.append(MPS_two_site2.MPS2.chi[0])\"\"\"\n",
    "    dim2s.append(MPS_two_site.MPS2.chi[0])\n",
    "    dim1s.append(MPS.chi[0])\n",
    "    \n",
    "    \n",
    "    \n",
    "   \n",
    "lam4s = np.abs(lam4s)\n",
    "lam1s = np.abs(lam1s)\n",
    "\n",
    "\n",
    "print(lam1s)\n",
    "print(lam4s)\n",
    "print(dim1s)\n",
    "print(dim2s)"
   ]
  },
  {
   "cell_type": "code",
   "execution_count": 5,
   "metadata": {},
   "outputs": [
    {
     "data": {
      "text/plain": [
       "[7, 7]"
      ]
     },
     "execution_count": 5,
     "metadata": {},
     "output_type": "execute_result"
    }
   ],
   "source": [
    "dim3s"
   ]
  },
  {
   "cell_type": "code",
   "execution_count": 8,
   "metadata": {},
   "outputs": [
    {
     "name": "stderr",
     "output_type": "stream",
     "text": [
      "/Users/lizhuan/opt/anaconda3/lib/python3.9/site-packages/numpy/core/_asarray.py:102: ComplexWarning: Casting complex values to real discards the imaginary part\n",
      "  return array(a, dtype, copy=False, order=order)\n"
     ]
    },
    {
     "data": {
      "text/plain": [
       "[<matplotlib.lines.Line2D at 0x7fb725df8eb0>]"
      ]
     },
     "execution_count": 8,
     "metadata": {},
     "output_type": "execute_result"
    },
    {
     "data": {
      "image/png": "[encoded data removed]",
      "text/plain": [
       "<Figure size 432x288 with 1 Axes>"
      ]
     },
     "metadata": {
      "needs_background": "light"
     },
     "output_type": "display_data"
    }
   ],
   "source": [
    "pyplot.plot(lam1s)\n",
    "pyplot.plot(lam2s)\n",
    "pyplot.plot(lam4s)\n",
    "\n"
   ]
  },
  {
   "cell_type": "code",
   "execution_count": 5,
   "metadata": {},
   "outputs": [],
   "source": [
    "new_B,new_s = MPS_two_site.new_tensor(0)\n",
    "B = np.tensordot(np.linalg.inv(new_s),new_B,([1],[0]))"
   ]
  },
  {
   "cell_type": "code",
   "execution_count": null,
   "metadata": {},
   "outputs": [],
   "source": [
    "MPS9 = iMPS.iMPS()\n",
    "MPS9.svd_threshold=1e-10\n",
    "MPS9.construct_from_tensor_list([B])"
   ]
  },
  {
   "cell_type": "code",
   "execution_count": 7,
   "metadata": {},
   "outputs": [
    {
     "name": "stdout",
     "output_type": "stream",
     "text": [
      "(7.859351512462657-2.663326221979956e-05j)\n",
      "[ 0.99998516+5.98400307e-06j -0.59627935-5.15493613e-01j\n",
      "  0.53187329-6.04718265e-01j  0.80730061+2.08436898e-06j\n",
      "  0.53186747+6.04720192e-01j -0.59628436+5.15494892e-01j\n",
      " -0.73042687-1.97478040e-01j -0.73042736+1.97470785e-01j\n",
      "  0.34670045-6.65802520e-01j -0.2134121 -6.70225773e-01j\n",
      " -0.03652219-7.02650886e-01j  0.34669989+6.65810991e-01j\n",
      "  0.34877306-6.02008785e-01j -0.21341711+6.70227449e-01j\n",
      " -0.03652951+7.02652237e-01j  0.34876575+6.02010741e-01j\n",
      "  0.45185294-4.90621151e-01j  0.45184822+4.90622080e-01j\n",
      "  0.66656242+1.55650364e-06j  0.65697624-8.69878009e-02j\n",
      "  0.65697663+8.69935072e-02j  0.09639322-6.43546172e-01j\n",
      "  0.09640013+6.43538591e-01j -0.57301937-2.77016799e-01j\n",
      " -0.57302076+2.77007217e-01j -0.63314131+5.35254290e-02j\n",
      " -0.633148  -5.35306557e-02j -0.37513509+4.34288484e-01j\n",
      "  0.16353551+5.93269375e-01j  0.16354083-5.93266390e-01j\n",
      "  0.59452077+3.66957999e-02j  0.59451764-3.67037777e-02j\n",
      " -0.43662066+3.61675466e-01j -0.52329411+2.04466903e-01j\n",
      " -0.23891428+5.08285515e-01j -0.14480839+5.37552399e-01j\n",
      " -0.37511999-4.34285800e-01j -0.4366069 -3.61668253e-01j\n",
      " -0.52328182-2.04468574e-01j  0.32130266+4.60829292e-01j\n",
      "  0.45331186+3.12795439e-01j -0.23891049-5.08279807e-01j\n",
      " -0.14480179-5.37553316e-01j  0.32130272-4.60830817e-01j\n",
      "  0.45332135-3.12787050e-01j -0.14942313+4.87461874e-01j\n",
      "  0.50517129+3.41020912e-05j -0.14943014-4.87461517e-01j\n",
      "  0.09929923+4.45342156e-01j  0.44743923-2.41919143e-05j\n",
      "  0.09930081-4.45345787e-01j -0.22888752+3.84915198e-01j\n",
      " -0.43298635+1.32024208e-01j -0.43298445-1.32028082e-01j\n",
      " -0.22885024-3.84907526e-01j -0.37576471+2.26528884e-01j\n",
      " -0.37579574-2.26547240e-01j  0.20433026+3.77852011e-01j\n",
      " -0.14776815+4.02113570e-01j  0.20433368-3.77836789e-01j\n",
      " -0.08832724+3.91990662e-01j -0.03219538+3.92395818e-01j\n",
      " -0.14778329-4.02113095e-01j -0.08832036-3.91982438e-01j\n",
      " -0.03219114-3.92397279e-01j  0.371186  +1.22353204e-01j\n",
      "  0.40346657+4.93500899e-02j  0.40351305-4.93902786e-02j\n",
      "  0.37117493-1.22338159e-01j  0.35987367-5.64329815e-03j\n",
      "  0.24404916+2.53056312e-01j  0.24405982-2.53057391e-01j\n",
      "  0.36035114+5.69659970e-03j -0.33114077+1.12601051e-01j\n",
      " -0.33114146-1.12615054e-01j -0.27505486+2.17909007e-01j\n",
      " -0.27503351-2.17901610e-01j -0.27434763+1.94840477e-01j\n",
      " -0.27435115-1.94852980e-01j -0.11552994+2.99165049e-01j\n",
      " -0.11555263-2.99164346e-01j  0.27471417+1.56642320e-01j\n",
      "  0.22308016+2.13742779e-01j  0.27471864-1.56670823e-01j\n",
      "  0.23092867+1.89055125e-01j  0.22306616-2.13771710e-01j\n",
      "  0.23097517-1.89045570e-01j -0.28002351+4.61014956e-02j\n",
      " -0.28003605-4.60899104e-02j  0.02540288-2.75105217e-01j\n",
      " -0.01569664-2.73977856e-01j  0.08560785-2.54292681e-01j\n",
      " -0.1473716 -2.13300777e-01j  0.02539952+2.75091026e-01j\n",
      " -0.01571201+2.73982727e-01j  0.08562646+2.54301072e-01j\n",
      " -0.1473778 +2.13282724e-01j  0.25837437+1.85786713e-02j\n",
      "  0.25836553-1.85693464e-02j -0.07487262+2.36078560e-01j\n",
      "  0.16613756+1.69426580e-01j  0.16610026-1.69445571e-01j\n",
      " -0.10362974+2.14955000e-01j -0.19452783+1.47064744e-01j\n",
      " -0.23066157+8.73347827e-02j -0.20219303+1.23803198e-01j\n",
      " -0.07489321-2.36060222e-01j -0.10366847-2.15023327e-01j\n",
      " -0.23065927-8.73373546e-02j -0.19452063-1.47015194e-01j\n",
      " -0.20221038-1.23833949e-01j -0.06708548+2.03387372e-01j\n",
      "  0.19409795+1.09374528e-01j  0.19409065-1.09357611e-01j\n",
      "  0.2340602 +6.46754881e-06j  0.21896509+3.00886459e-02j\n",
      "  0.2189562 -3.00928201e-02j -0.20833573+9.56730910e-07j\n",
      " -0.00981558+2.07768869e-01j  0.05561897+1.97517657e-01j\n",
      " -0.14790539-1.35648352e-01j -0.06704781-2.03351307e-01j\n",
      " -0.00981599-2.07771250e-01j  0.05560699-1.97539649e-01j\n",
      "  0.11251069+1.63108412e-01j -0.14791552+1.35657060e-01j\n",
      " -0.19827094+6.55178162e-03j -0.19825999-6.57435198e-03j\n",
      "  0.16924837+1.10663344e-01j  0.11251375-1.63082863e-01j\n",
      "  0.1692511 -1.10663203e-01j  0.1307783 +1.39041125e-01j\n",
      "  0.13083215-1.39020293e-01j -0.17520108+5.03581749e-02j\n",
      " -0.17516916-5.03247910e-02j  0.17765616+6.23518342e-02j\n",
      "  0.17766887-6.23423502e-02j  0.19006798-1.05843252e-05j\n",
      "  0.03128508+1.67427102e-01j  0.03126584-1.67422031e-01j\n",
      "  0.14319076+9.66377985e-02j  0.14319748-9.66207644e-02j\n",
      " -0.13013567+8.17718872e-02j -0.02786568+1.59443135e-01j\n",
      "  0.18125268+1.84067691e-08j -0.04086992+1.53099347e-01j\n",
      " -0.13016142-8.17867138e-02j -0.02786843-1.59454995e-01j\n",
      " -0.04082088-1.53109261e-01j -0.07970939+1.31039843e-01j\n",
      " -0.09193186+1.19599844e-01j -0.07964737-1.31103089e-01j\n",
      "  0.06716254+1.23106121e-01j -0.12901259+5.48225347e-02j\n",
      " -0.09197081-1.19598520e-01j -0.13838641+1.83268130e-05j\n",
      " -0.12903359-5.48427350e-02j -0.04612077+1.28921239e-01j\n",
      "  0.12045585+6.61862186e-02j  0.06719345-1.23100341e-01j\n",
      "  0.12046351-6.62010881e-02j  0.05345893+1.16581416e-01j\n",
      " -0.04615416-1.28897324e-01j -0.08833905+9.26249021e-02j\n",
      "  0.05343784-1.16593584e-01j -0.08836826-9.26607596e-02j\n",
      " -0.0854817 +7.51856361e-02j -0.00880771+1.17347893e-01j\n",
      " -0.08548329-7.51715396e-02j  0.11986015+1.93951389e-02j\n",
      "  0.11983291-1.93758559e-02j -0.0088125 -1.17340552e-01j\n",
      " -0.05651482+9.72252894e-02j -0.06749109+8.90238964e-02j\n",
      "  0.03532353+1.02061409e-01j -0.05649153-9.72118590e-02j\n",
      " -0.06746361-8.89717041e-02j  0.0353262 -1.02066253e-01j\n",
      "  0.11262027-1.81701407e-05j -0.09834813+3.64704779e-07j\n",
      "  0.06029953-8.10883694e-02j  0.06031647+8.10493755e-02j\n",
      "  0.08891511-3.13529029e-02j  0.07853671-4.59197736e-02j\n",
      "  0.08893165+3.13351929e-02j  0.07852385+4.59443376e-02j\n",
      " -0.06199785+5.61104722e-02j -0.03559281+7.28525021e-02j\n",
      " -0.06199389-5.61054311e-02j -0.03559153-7.28608463e-02j\n",
      " -0.07184418+9.02628598e-03j -0.07183865-9.02586253e-03j\n",
      "  0.03861476-6.20759121e-02j  0.03861082+6.20782262e-02j\n",
      "  0.02812151+6.42048798e-02j  0.08140622+2.73950513e-05j\n",
      " -0.05447393+3.98383616e-02j  0.02809722-6.42197700e-02j\n",
      "  0.05464062+4.26041152e-02j  0.07107833-2.13267268e-02j\n",
      "  0.0546382 -4.26041983e-02j -0.04946854+4.34680138e-02j\n",
      " -0.05445936-3.98776043e-02j  0.07111408+2.13192826e-02j\n",
      "  0.07723103+1.77946562e-06j -0.04947763-4.34535744e-02j\n",
      " -0.04268514+3.32213802e-02j -0.04862683+8.19396580e-06j\n",
      " -0.04269064-3.32059096e-02j -0.0418718 -7.72441435e-06j\n",
      "  0.02476062+3.59350555e-02j  0.04648586+2.24274034e-02j\n",
      "  0.04680427+9.33760380e-06j  0.04648504-2.24185022e-02j\n",
      "  0.02475572-3.59184739e-02j  0.00640672+4.57578493e-02j\n",
      " -0.00894022+4.40943937e-02j  0.0083339 +4.14482330e-02j\n",
      " -0.02709678-1.59003375e-06j  0.00640734-4.57598394e-02j\n",
      " -0.00894327-4.40928041e-02j -0.0052376 -4.27673323e-02j\n",
      "  0.00833505-4.14407155e-02j -0.00523886+4.27633106e-02j\n",
      "  0.0221914 -6.63562753e-06j]\n"
     ]
    }
   ],
   "source": [
    "trans = funcs.col_contract33(B,B)\n",
    "lam,v = np.linalg.eig(trans)\n",
    "print(lam[0])\n",
    "lam,v = np.linalg.eig(trans/lam[0])\n",
    "print(lam)"
   ]
  },
  {
   "cell_type": "code",
   "execution_count": 8,
   "metadata": {},
   "outputs": [
    {
     "data": {
      "text/plain": [
       "True"
      ]
     },
     "execution_count": 8,
     "metadata": {},
     "output_type": "execute_result"
    }
   ],
   "source": [
    "M = v[:,0].reshape([15,15])\n",
    "funcs.is_hermitian_upto_a_phase(M)"
   ]
  },
  {
   "cell_type": "code",
   "execution_count": 6,
   "metadata": {},
   "outputs": [
    {
     "data": {
      "text/plain": [
       "(16,)"
      ]
     },
     "execution_count": 6,
     "metadata": {},
     "output_type": "execute_result"
    }
   ],
   "source": [
    "MPS_two_site.El[0].shape"
   ]
  },
  {
   "cell_type": "code",
   "execution_count": 7,
   "metadata": {},
   "outputs": [
    {
     "data": {
      "text/plain": [
       "(16,)"
      ]
     },
     "execution_count": 7,
     "metadata": {},
     "output_type": "execute_result"
    }
   ],
   "source": [
    "MPS_two_site.Er[0].shape"
   ]
  },
  {
   "cell_type": "code",
   "execution_count": 3,
   "metadata": {},
   "outputs": [
    {
     "data": {
      "text/plain": [
       "[<matplotlib.lines.Line2D at 0x7fa359edf220>]"
      ]
     },
     "execution_count": 3,
     "metadata": {},
     "output_type": "execute_result"
    },
    {
     "data": {
      "image/png": "[encoded data removed]",
      "text/plain": [
       "<Figure size 1800x900 with 1 Axes>"
      ]
     },
     "metadata": {
      "needs_background": "light"
     },
     "output_type": "display_data"
    }
   ],
   "source": [
    "pyplot.figure(figsize=(12,6),dpi = 150)\n",
    "#rng = np.arange(0.42,0.5,0.001)\n",
    "#pyplot.plot(rng,k*rng+d)\n",
    "#pyplot.plot(np.arange(0.4,0.5,0.001),lam1s,'.-',label = '$\\langle X \\\\rangle$')\n",
    "pyplot.plot(np.arange(0.4,0.5,0.002),lam4s,'.-',label = '$\\langle \\\\bar{X}\\\\rangle$')\n",
    "#pyplot.plot(np.arange(0.3,0.61,0.01),np.array(lam3s),'.-',label = '$\\langle \\\\bar{X}\\\\rangle$')\n",
    "#pyplot.plot(np.arange(0.2,0.7,0.01),np.array(lam1s),'.-',label = '$\\langle \\\\bar{X}\\\\rangle$')\n",
    "#pyplot.plot(np.arange(0.2,0.7,0.01),np.array(lam2s),'.-',label = '$\\langle \\\\bar{X}\\\\rangle$')\n",
    "#pyplot.plot(np.arange(0.2,0.7,0.01),np.array(lam3s),'.-',label = '$\\langle \\\\bar{X}\\\\rangle$')\n",
    "#pyplot.plot(np.arange(0.4,0.5,0.002),np.array(dims)/20,'.-',label = '$\\langle \\\\bar{X}\\\\rangle$')\n",
    "#pyplot.ylim([-0.1,1.2])"
   ]
  },
  {
   "cell_type": "code",
   "execution_count": 74,
   "metadata": {},
   "outputs": [
    {
     "name": "stdout",
     "output_type": "stream",
     "text": [
      "[0.84882294 0.67376402]\n",
      "[0.99830689 0.97211502]\n",
      "[0.77352441 0.76894655]\n",
      "[0.82158389 0.76319381]\n"
     ]
    }
   ],
   "source": [
    "print(np.abs(lam1s))\n",
    "print(np.abs(lam4s))\n",
    "\n",
    "print(np.abs(lam2s))\n",
    "\n",
    "print(np.abs(lam3s))"
   ]
  },
  {
   "cell_type": "code",
   "execution_count": 46,
   "metadata": {},
   "outputs": [
    {
     "name": "stdout",
     "output_type": "stream",
     "text": [
      "3.007313619285421e-13\n",
      "2.384481459025009e-15\n",
      "0.9999988243956888\n"
     ]
    }
   ],
   "source": [
    "MPO1 = iMPS.iMPO()\n",
    "T3 = np.zeros([1,1,4,4])\n",
    "T3[0,0,:,:] = np.kron( np.eye(2),np.eye(2) )\n",
    "MPO1.construct_from_tensor_list([T3,T3])\n",
    "MPS_two_site = iMPS.MPS_power_method_twosite_update2(MPS,MPO1,20)\n",
    "MPS_two_site.MPS2r = copy.deepcopy(MPS)\n",
    "MPS_two_site.svd_threshold = 1e-6\n",
    "MPS_two_site.init_MPS2()\n",
    "MPS_two_site.init_env()\n",
    "#MPS_two_site.update_MPS2(1)\n",
    "#MPS_two_site.cell_svd_update(0)\n",
    "s0 =np.diag(MPS_two_site.MPS1r.s[0])\n",
    "s1 =np.diag(MPS_two_site.MPS1r.s[1])\n",
    "\n",
    "T1 = funcs.row_contract33(funcs.row_contract32(MPS_two_site.MPS1l.B[0],s1),MPS_two_site.MPS1r.B[1])\n",
    "T2 = funcs.row_contract33(MPS_two_site.MPS1r.B[0],MPS_two_site.MPS1r.B[1])\n",
    "\n",
    "#print(np.linalg.norm(T1-T2))\n",
    "#print(MPS_two_site.Er[0]/MPS_two_site.Er[0][0])\n",
    "T3 = MPS_two_site.new_tensor(0).conj()\n",
    "\n",
    "print(np.linalg.norm(T1-T3/T3[0,0,0,0]*T1[0,0,0,0]))\n",
    "\n",
    "\n",
    "new_M = T1\n",
    "new_M = np.transpose(new_M,[0,2,1,3])\n",
    "w = np.shape(new_M)\n",
    "            \n",
    "new_M = new_M.reshape([w[0]*w[1],w[2]*w[3]])\n",
    "            \n",
    "U,lam,V = np.linalg.svd(new_M)\n",
    "dim = np.sum(lam>1e-10)\n",
    "\n",
    "U = U[:,:dim]\n",
    "lam = lam[:dim]\n",
    "V = V[:dim,:]\n",
    "lam = lam/np.linalg.norm(lam)\n",
    "            \n",
    "B_new_left = np.reshape(U@np.diag(lam),[-1,4,dim])\n",
    "B_new_left  = np.transpose(B_new_left ,[0,2,1])\n",
    "B_new_left  = funcs.row_contract23(np.linalg.inv(s0),B_new_left)\n",
    "        \n",
    "B_new_right = np.reshape(V,[dim,-1,4])\n",
    "\n",
    "\n",
    "\n",
    "\n",
    "\n",
    "T4 = funcs.row_contract33(B_new_left,B_new_right)\n",
    "print(np.linalg.norm(T4*T2[0,0,0,0]/T4[0,0,0,0]-T2))\n",
    "MPS1 = iMPS.iMPS()\n",
    "MPS1.construct_from_tensor_list([B_new_left,B_new_right])\n",
    "strap4 = iMPS.strap(MPS1,MPO4,MPS1)\n",
    "lam4 = strap4.calculate_eig()\n",
    "\n",
    "\n",
    "print(abs(lam4))\n"
   ]
  },
  {
   "cell_type": "code",
   "execution_count": 50,
   "metadata": {},
   "outputs": [
    {
     "data": {
      "text/plain": [
       "array([-5.55111512e-16,  3.88578059e-16,  2.22911967e-16,  2.17924637e-17])"
      ]
     },
     "execution_count": 50,
     "metadata": {},
     "output_type": "execute_result"
    }
   ],
   "source": [
    "np.diag(s1)-lam"
   ]
  },
  {
   "cell_type": "code",
   "execution_count": 52,
   "metadata": {},
   "outputs": [
    {
     "name": "stdout",
     "output_type": "stream",
     "text": [
      "[[ 1.00000000e+00+0.00000000e+00j  1.54532691e-16-2.02610281e-18j\n",
      "   7.93432702e-17+2.26327204e-18j -1.38777878e-17+0.00000000e+00j]\n",
      " [ 1.54532691e-16+2.02610281e-18j  1.00000000e+00+0.00000000e+00j\n",
      "   5.55111512e-17+2.77555756e-17j  3.87195701e-17+1.14518854e-18j]\n",
      " [ 7.93432702e-17-2.26327204e-18j  5.55111512e-17-2.77555756e-17j\n",
      "   1.00000000e+00+0.00000000e+00j -1.77897248e-16-6.33377357e-17j]\n",
      " [-1.38777878e-17+0.00000000e+00j  3.87195701e-17-1.14518854e-18j\n",
      "  -1.77897248e-16+6.33377357e-17j  1.00000000e+00+0.00000000e+00j]]\n"
     ]
    }
   ],
   "source": [
    "U1=np.reshape(U,[-1,4,dim])\n",
    "U1 = np.transpose(U1,[0,2,1])\n",
    "print(np.tensordot(U1,U1.conj(),([0,2],[0,2])))"
   ]
  },
  {
   "cell_type": "code",
   "execution_count": null,
   "metadata": {},
   "outputs": [],
   "source": [
    "U1/U1[0,0,0]-MPS_two_site.MPS1l.B[0] /MPS_two_site.MPS1l.B[0][0,0,0]"
   ]
  },
  {
   "cell_type": "code",
   "execution_count": 56,
   "metadata": {},
   "outputs": [],
   "source": [
    "M = MPS_two_site.MPS1l.B[0] \n",
    "\n",
    "M = np.transpose(M,[0,2,1])\n",
    "M = M.reshape([16,4])\n",
    "u1,s1,v1 = np.linalg.svd(M)\n",
    "\n",
    "\n",
    "\n",
    "u2,s2,v2 = np.linalg.svd(U)"
   ]
  },
  {
   "cell_type": "code",
   "execution_count": null,
   "metadata": {},
   "outputs": [],
   "source": [
    "u1/u1[0,0]-u2/u2[0,0]"
   ]
  },
  {
   "cell_type": "code",
   "execution_count": 16,
   "metadata": {},
   "outputs": [
    {
     "data": {
      "text/plain": [
       "(array([ 1.00000017+5.43107399e-07j,  0.68766854-6.79287784e-01j,\n",
       "        -0.99991887-1.27565723e-02j]),\n",
       " array([[ 9.99999616e-01+0.j        , -7.97209179e-04-0.00033529j,\n",
       "          1.80432680e-06+0.00013799j],\n",
       "        [ 1.29487888e-08+0.00012301j,  5.43416522e-03-0.0165351j ,\n",
       "          9.99848511e-01+0.j        ],\n",
       "        [ 8.48158562e-04-0.0001803j ,  9.99848145e-01+0.j        ,\n",
       "         -5.38530670e-03-0.01655096j]]))"
      ]
     },
     "execution_count": 16,
     "metadata": {},
     "output_type": "execute_result"
    }
   ],
   "source": [
    "np.linalg.eig((MPS_two_site.El[1]/(MPS_two_site.El[1][0])).reshape([3,3]))"
   ]
  },
  {
   "cell_type": "code",
   "execution_count": 75,
   "metadata": {},
   "outputs": [
    {
     "name": "stdout",
     "output_type": "stream",
     "text": [
      "[6 6]\n",
      "1.0000000000000013\n",
      "[6 6]\n",
      "0.7700955732573103\n",
      "[6 6]\n",
      "0.954301347637691\n",
      "[6 6]\n",
      "0.9192866351352722\n",
      "[6 6]\n",
      "0.691242588601658\n",
      "[6 6]\n",
      "0.9965024134113424\n",
      "[6 6]\n",
      "0.9267229540219823\n",
      "[6 6]\n",
      "0.9771898170193765\n",
      "[6 6]\n",
      "0.9087889768753858\n",
      "[6 6]\n",
      "0.9837784400384071\n",
      "[6 6]\n",
      "0.9823041159749556\n",
      "[6 6]\n",
      "0.8276055241335436\n",
      "[6 6]\n",
      "0.9389565045637933\n",
      "[6 6]\n",
      "0.9912773091024769\n",
      "[6 6]\n",
      "0.9864144651252351\n",
      "[6 6]\n",
      "0.8999036367266307\n",
      "[6 6]\n",
      "0.9903252203744939\n",
      "[6 6]\n",
      "0.9236775427376128\n",
      "[6 6]\n",
      "0.9182436640408345\n",
      "[6 6]\n",
      "0.8821811537101236\n",
      "[6 6]\n",
      "0.977238773176842\n",
      "[6 6]\n",
      "0.9382020077979748\n",
      "[6 6]\n",
      "0.8405132801233236\n",
      "[6 6]\n",
      "0.9954022301026809\n",
      "[6 6]\n",
      "0.8033232547695748\n",
      "[6 6]\n",
      "0.9473360047745644\n",
      "[6 6]\n",
      "0.9731516239706974\n",
      "[6 6]\n",
      "0.7922406770709424\n",
      "[6 6]\n",
      "0.7987995860468936\n",
      "[6 6]\n",
      "0.9747534418649874\n",
      "[6 6]\n"
     ]
    },
    {
     "data": {
      "text/plain": [
       "'#B1_new,lam,B2_new = MPS_two_site.two_site_svd(0)\\nnew_M = T3\\nnew_M = np.transpose(new_M,[0,2,1,3])\\nw = np.shape(new_M)\\n            \\nnew_M = new_M.reshape([w[0]*w[1],w[2]*w[3]])\\n            \\nU,lam,V = np.linalg.svd(new_M)\\ndim = np.sum(lam>1e-10)\\n\\nU = U[:,:dim]\\nlam = lam[:dim]\\nV = V[:dim,:]\\nlam = lam/np.linalg.norm(lam)\\n            \\nB_new_left = np.reshape(U@np.diag(lam),[-1,4,dim])\\nB_new_left  = np.transpose(B_new_left ,[0,2,1])\\nB_new_left  = funcs.row_contract23(np.linalg.inv(s0),B_new_left)\\n        \\nB_new_right = np.reshape(V,[dim,-1,4])\\n\\n\\n\\n\\n\\nT4 = funcs.row_contract33(B_new_left,B_new_right)\\nprint(np.linalg.norm(T4*T2[0,0,0,0]/T4[0,0,0,0]-T2))\\nMPS1 = iMPS.iMPS()\\nMPS1.construct_from_tensor_list([B_new_left,B_new_right])\\nstrap4 = iMPS.strap(MPS1,MPO4,MPS1)\\nlam4 = strap4.calculate_eig()\\nprint(abs(lam4))'"
      ]
     },
     "execution_count": 75,
     "metadata": {},
     "output_type": "execute_result"
    }
   ],
   "source": [
    "MPO1 = iMPS.iMPO()\n",
    "T3 = np.zeros([1,1,4,4])\n",
    "T3[0,0,:,:] = np.kron( np.eye(2),np.eye(2) )\n",
    "MPO1.construct_from_tensor_list([T3,T3])\n",
    "\n",
    "MPS_two_site = iMPS.MPS_power_method_twosite_update2(MPS,MPO1,20)\n",
    "print(MPS.chi)\n",
    "\n",
    "MPS_two_site.MPS2r = copy.deepcopy(MPS)\n",
    "MPS_two_site.svd_threshold = 1e-6\n",
    "MPS_two_site.init_MPS2()\n",
    "MPS_two_site.init_env()\n",
    "\n",
    "for _ in range(30):\n",
    "    s0 =np.diag(MPS_two_site.MPS1r.s[0])\n",
    "    s1 =np.diag(MPS_two_site.MPS1r.s[1])\n",
    "\n",
    "    T1 = funcs.row_contract33(funcs.row_contract32(MPS_two_site.MPS1l.B[0],s1),MPS_two_site.MPS1r.B[1])\n",
    "    T2 = funcs.row_contract33(MPS_two_site.MPS1r.B[0],MPS_two_site.MPS1r.B[1])\n",
    "\n",
    "    #print(np.linalg.norm(T1-T2))\n",
    "    #print(MPS_two_site.Er[0]/MPS_two_site.Er[0][0])\n",
    "    \"\"\"T3 = MPS_two_site.new_tensor(0).conj()\n",
    "\n",
    "    print(np.linalg.norm(T1-T3/T3[0,0,0,0]*T1[0,0,0,0]))\n",
    "    \"\"\"\n",
    "    MPS8 = iMPS.iMPS()\n",
    "    s0 = np.diag(MPS_two_site.MPS2l.s[0])\n",
    "    s1 = np.diag(MPS_two_site.MPS2l.s[1])\n",
    "    MPS8.construct_from_tensor_list([MPS_two_site.MPS2r.B[0],MPS_two_site.MPS2r.B[1]])\n",
    "    strap4 = iMPS.strap(MPS_two_site.MPS2l,None,MPS)\n",
    "    lam4 = strap4.calculate_eig()\n",
    "    print(abs(lam4))\n",
    "    print(MPS_two_site.MPS2r.chi)\n",
    "    MPS_two_site.update_MPS2(loop=30)\n",
    "\n",
    "\"\"\"#B1_new,lam,B2_new = MPS_two_site.two_site_svd(0)\n",
    "new_M = T3\n",
    "new_M = np.transpose(new_M,[0,2,1,3])\n",
    "w = np.shape(new_M)\n",
    "            \n",
    "new_M = new_M.reshape([w[0]*w[1],w[2]*w[3]])\n",
    "            \n",
    "U,lam,V = np.linalg.svd(new_M)\n",
    "dim = np.sum(lam>1e-10)\n",
    "\n",
    "U = U[:,:dim]\n",
    "lam = lam[:dim]\n",
    "V = V[:dim,:]\n",
    "lam = lam/np.linalg.norm(lam)\n",
    "            \n",
    "B_new_left = np.reshape(U@np.diag(lam),[-1,4,dim])\n",
    "B_new_left  = np.transpose(B_new_left ,[0,2,1])\n",
    "B_new_left  = funcs.row_contract23(np.linalg.inv(s0),B_new_left)\n",
    "        \n",
    "B_new_right = np.reshape(V,[dim,-1,4])\n",
    "\n",
    "\n",
    "\n",
    "\n",
    "\n",
    "T4 = funcs.row_contract33(B_new_left,B_new_right)\n",
    "print(np.linalg.norm(T4*T2[0,0,0,0]/T4[0,0,0,0]-T2))\n",
    "MPS1 = iMPS.iMPS()\n",
    "MPS1.construct_from_tensor_list([B_new_left,B_new_right])\n",
    "strap4 = iMPS.strap(MPS1,MPO4,MPS1)\n",
    "lam4 = strap4.calculate_eig()\n",
    "print(abs(lam4))\"\"\""
   ]
  },
  {
   "cell_type": "code",
   "execution_count": 10,
   "metadata": {},
   "outputs": [],
   "source": [
    "MPS_two_site.MPS2l.site_canonical()"
   ]
  },
  {
   "cell_type": "code",
   "execution_count": 12,
   "metadata": {},
   "outputs": [
    {
     "data": {
      "text/plain": [
       "<25x25 _ProductLinearOperator with dtype=complex128>"
      ]
     },
     "execution_count": 12,
     "metadata": {},
     "output_type": "execute_result"
    }
   ],
   "source": [
    "transl = MPS_two_site.MPS2r.transfer_matrix('left')\n",
    "transl"
   ]
  },
  {
   "cell_type": "code",
   "execution_count": 13,
   "metadata": {},
   "outputs": [
    {
     "data": {
      "text/plain": [
       "array([ 1.00000000e+00+3.48790256e-18j,  2.42731990e-01-4.71328633e-17j,\n",
       "        2.12357637e-01+1.34340304e-16j,  1.25989910e-01-1.42544870e-18j,\n",
       "        6.91156327e-02-2.61474730e-18j, -4.31006743e-02+1.61347764e-02j,\n",
       "       -4.31006743e-02-1.61347764e-02j,  4.78999509e-02-6.24714981e-18j,\n",
       "       -2.47056427e-02+1.02734740e-02j, -2.47056427e-02-1.02734740e-02j,\n",
       "        3.27125119e-02+1.32439902e-17j,  2.87745565e-02+6.26424752e-03j,\n",
       "        2.87745565e-02-6.26424752e-03j,  2.91114201e-02+1.75035209e-18j,\n",
       "       -6.16912097e-03+3.31924109e-03j, -6.16912097e-03-3.31924109e-03j,\n",
       "        9.03624276e-03+1.32851931e-17j,  6.25257729e-03-6.66434283e-04j,\n",
       "        6.25257729e-03+6.66434283e-04j,  6.18650838e-03-3.76386802e-18j,\n",
       "       -1.00998949e-03+7.42577847e-04j, -1.00998949e-03-7.42577847e-04j,\n",
       "        1.49845341e-03+6.81691429e-04j,  1.49845341e-03-6.81691429e-04j,\n",
       "        8.41380061e-04+9.38175964e-19j])"
      ]
     },
     "execution_count": 13,
     "metadata": {},
     "output_type": "execute_result"
    }
   ],
   "source": [
    "lam,v = np.linalg.eig(transl.adjoint().dot(np.eye(25)))\n",
    "lam"
   ]
  },
  {
   "cell_type": "code",
   "execution_count": 14,
   "metadata": {},
   "outputs": [
    {
     "data": {
      "text/plain": [
       "True"
      ]
     },
     "execution_count": 14,
     "metadata": {},
     "output_type": "execute_result"
    }
   ],
   "source": [
    "vl = v[:,0].reshape([5,5])\n",
    "funcs.is_hermitian_upto_a_phase(vl)"
   ]
  },
  {
   "cell_type": "code",
   "execution_count": 15,
   "metadata": {},
   "outputs": [],
   "source": [
    "np.random.seed(2)\n",
    "A = np.random.random([5,5])\n",
    "A =A+A.transpose()\n",
    "A = A/np.linalg.norm(A)"
   ]
  },
  {
   "cell_type": "code",
   "execution_count": 16,
   "metadata": {},
   "outputs": [
    {
     "data": {
      "text/plain": [
       "array([1.        +8.40301257e-19j, 0.24273199+1.20162326e-16j,\n",
       "       0.21235764-2.09818860e-16j])"
      ]
     },
     "execution_count": 16,
     "metadata": {},
     "output_type": "execute_result"
    }
   ],
   "source": [
    "lam,v = sparse.linalg.eigs(transl.adjoint(),3,v0 = A.reshape([25,]))\n",
    "lam"
   ]
  },
  {
   "cell_type": "code",
   "execution_count": 42,
   "metadata": {},
   "outputs": [
    {
     "data": {
      "text/plain": [
       "(4, 4, 4)"
      ]
     },
     "execution_count": 42,
     "metadata": {},
     "output_type": "execute_result"
    }
   ],
   "source": [
    "MPS_two_site.MPS2l.B[0].shape"
   ]
  },
  {
   "cell_type": "code",
   "execution_count": null,
   "metadata": {},
   "outputs": [],
   "source": [
    "MPS_two_site.MPS1l.B[0][:,:3,:]/MPS_two_site.MPS1l.B[0][0,0,0]"
   ]
  },
  {
   "cell_type": "code",
   "execution_count": null,
   "metadata": {},
   "outputs": [],
   "source": [
    "B_new_left[:,:3,:]/B_new_left[0,0,0]"
   ]
  },
  {
   "cell_type": "code",
   "execution_count": null,
   "metadata": {},
   "outputs": [],
   "source": [
    "MPS_two_site.MPS1l.B[0][:,:4,:]/MPS_two_site.MPS1l.B[0][0,0,0]-B_new_left[:,:4,:]/B_new_left[0,0,0]"
   ]
  },
  {
   "cell_type": "code",
   "execution_count": 15,
   "metadata": {},
   "outputs": [
    {
     "name": "stdout",
     "output_type": "stream",
     "text": [
      "1.0000000000000007\n",
      "1.0000000000000018\n",
      "0.9914887292385939\n"
     ]
    }
   ],
   "source": [
    "MPS1 = iMPS.iMPS()\n",
    "MPS1.construct_from_tensor_list([B_new_right[:4,:,:]])\n",
    "\n",
    "MPS2 = iMPS.iMPS()\n",
    "MPS2.construct_from_tensor_list([MPS_two_site.MPS1r.B[0][:4,:,:]])\n",
    "\n",
    "strap = iMPS.strap(MPS1,MPO = None,MPS2=MPS1)\n",
    "print(abs(strap.calculate_eig()))\n",
    "strap = iMPS.strap(MPS2,MPO = None,MPS2=MPS2)\n",
    "print(abs(strap.calculate_eig()))\n",
    "strap = iMPS.strap(MPS1,MPO = None,MPS2=MPS2)\n",
    "print(abs(strap.calculate_eig()))"
   ]
  },
  {
   "cell_type": "code",
   "execution_count": 14,
   "metadata": {},
   "outputs": [
    {
     "data": {
      "text/plain": [
       "(array([-0.93271333+0.56968439j,  0.01278519+0.06610382j,\n",
       "        -0.14762512+0.16472698j, -0.12835112+0.25992883j]),\n",
       " array([[ 1.72603339e-03+0.00239108j,  1.04616929e-02-0.03076372j,\n",
       "         -3.38982884e-03+0.00124647j,  1.88549543e-04+0.00132374j],\n",
       "        [ 3.14602086e-01+0.07521469j,  4.05671693e-02-0.01896337j,\n",
       "         -1.55039410e-03-0.00421524j,  2.62157777e-03-0.00260507j],\n",
       "        [-4.91407596e-01-0.14923381j,  3.93080640e-01+0.02250958j,\n",
       "          5.33147333e-02-0.13343362j, -5.19270603e-02-0.01798423j],\n",
       "        [ 7.94737332e-01+0.j        ,  9.17561862e-01+0.j        ,\n",
       "          9.89605877e-01+0.j        ,  9.98481197e-01+0.j        ]]))"
      ]
     },
     "execution_count": 14,
     "metadata": {},
     "output_type": "execute_result"
    }
   ],
   "source": [
    "np.linalg.eig((MPS1.B[0]/MPS1.B[0][0,0,0]-MPS2.B[0]/MPS2.B[0][0,0,0])[:,:,3])"
   ]
  },
  {
   "cell_type": "code",
   "execution_count": 13,
   "metadata": {},
   "outputs": [
    {
     "data": {
      "text/plain": [
       "(array([-0.93070313+0.5679463j ,  0.01268056+0.06598344j,\n",
       "        -0.14741288+0.1652505j , -0.1280139 +0.25979722j]),\n",
       " array([[ 1.71544601e-03+0.00241043j,  1.08305677e-02-0.03078749j,\n",
       "         -3.39698670e-03+0.00122712j,  1.59221333e-04+0.00133609j],\n",
       "        [-3.14994276e-01-0.07591464j, -4.09747019e-02+0.01872691j,\n",
       "          1.55305998e-03+0.00426109j, -2.58764284e-03+0.00260578j],\n",
       "        [ 4.91526884e-01+0.15223269j, -3.93002264e-01-0.02736462j,\n",
       "         -5.40585372e-02+0.13359993j,  5.19880760e-02+0.01948589j],\n",
       "        [ 7.93872377e-01+0.j        ,  9.17445151e-01+0.j        ,\n",
       "          9.89542884e-01+0.j        ,  9.98449920e-01+0.j        ]]))"
      ]
     },
     "execution_count": 13,
     "metadata": {},
     "output_type": "execute_result"
    }
   ],
   "source": [
    "np.linalg.eig((MPS1.B[0]/MPS1.B[0][0,0,0]-MPS2.B[0]/MPS2.B[0][0,0,0])[:,:,3])"
   ]
  },
  {
   "cell_type": "code",
   "execution_count": 55,
   "metadata": {},
   "outputs": [
    {
     "data": {
      "text/plain": [
       "array([[4.17022005e-01+0.4173048j , 7.20324493e-01+0.55868983j,\n",
       "        1.14374817e-04+0.14038694j, 3.02332573e-01+0.19810149j],\n",
       "       [1.46755891e-01+0.80074457j, 9.23385948e-02+0.96826158j,\n",
       "        1.86260211e-01+0.31342418j, 3.45560727e-01+0.69232262j],\n",
       "       [3.96767474e-01+0.87638915j, 5.38816734e-01+0.89460666j,\n",
       "        4.19194514e-01+0.08504421j, 6.85219500e-01+0.03905478j],\n",
       "       [2.04452250e-01+0.16983042j, 8.78117436e-01+0.8781425j ,\n",
       "        2.73875932e-02+0.09834683j, 6.70467510e-01+0.42110763j]])"
      ]
     },
     "execution_count": 55,
     "metadata": {},
     "output_type": "execute_result"
    }
   ],
   "source": [
    "np.random.seed(1)\n",
    "A = np.random.random([4,4])+ np.random.random([4,4])*1j\n",
    "A"
   ]
  },
  {
   "cell_type": "code",
   "execution_count": 56,
   "metadata": {},
   "outputs": [
    {
     "name": "stdout",
     "output_type": "stream",
     "text": [
      "[[ 0.        +0.417022j    0.12102737+0.43354019j  0.36800111+0.19844092j\n",
      "  -0.01413553+0.25339241j]\n",
      " [-0.12102737+0.43354019j  0.        +0.09233859j  0.29059124+0.36253847j\n",
      "   0.09290994+0.61183908j]\n",
      " [-0.36800111+0.19844092j -0.29059124+0.36253847j  0.        +0.41919451j\n",
      "   0.02964603+0.35630355j]\n",
      " [ 0.01413553+0.25339241j -0.09290994+0.61183908j -0.02964603+0.35630355j\n",
      "   0.        +0.67046751j]]\n"
     ]
    }
   ],
   "source": [
    "A = A+A.transpose().conj()\n",
    "A = A*0.5j\n",
    "print(A)"
   ]
  },
  {
   "cell_type": "code",
   "execution_count": 57,
   "metadata": {},
   "outputs": [],
   "source": [
    "theta=funcs.find_phase(A)"
   ]
  },
  {
   "cell_type": "code",
   "execution_count": 58,
   "metadata": {},
   "outputs": [
    {
     "data": {
      "text/plain": [
       "array([[0.5       +0.j        , 0.51980494-0.14510909j,\n",
       "        0.2379262 -0.44122505j, 0.3038118 +0.01694819j],\n",
       "       [0.51980494+0.14510909j, 0.1107119 +0.j        ,\n",
       "        0.43467547-0.34841236j, 0.73358129-0.11139693j],\n",
       "       [0.2379262 +0.44122505j, 0.43467547+0.34841236j,\n",
       "        0.50260479+0.j        , 0.42719994-0.03554492j],\n",
       "       [0.3038118 -0.01694819j, 0.73358129+0.11139693j,\n",
       "        0.42719994+0.03554492j, 0.80387546+0.j        ]])"
      ]
     },
     "execution_count": 58,
     "metadata": {},
     "output_type": "execute_result"
    }
   ],
   "source": [
    "A/theta"
   ]
  },
  {
   "cell_type": "code",
   "execution_count": null,
   "metadata": {},
   "outputs": [],
   "source": []
  }
 ],
 "metadata": {
  "kernelspec": {
   "display_name": "base",
   "language": "python",
   "name": "python3"
  },
  "language_info": {
   "codemirror_mode": {
    "name": "ipython",
    "version": 3
   },
   "file_extension": ".py",
   "mimetype": "text/x-python",
   "name": "python",
   "nbconvert_exporter": "python",
   "pygments_lexer": "ipython3",
   "version": "3.9.7"
  },
  "orig_nbformat": 4
 },
 "nbformat": 4,
 "nbformat_minor": 2
}
