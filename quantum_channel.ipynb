{
 "cells": [
  {
   "cell_type": "code",
   "execution_count": 1,
   "metadata": {},
   "outputs": [],
   "source": [
    "import numpy as np\n",
    "from matplotlib import pyplot\n",
    "from scipy import linalg\n",
    "import copy\n",
    "import iMPS\n",
    "from scipy.sparse import linalg\n",
    "import funcs"
   ]
  },
  {
   "attachments": {},
   "cell_type": "markdown",
   "metadata": {},
   "source": [
    "dephasing channel"
   ]
  },
  {
   "cell_type": "code",
   "execution_count": 7,
   "metadata": {},
   "outputs": [],
   "source": [
    "eigs=[]\n",
    "lam1s=[]\n",
    "lam2s=[]\n",
    "lam3s=[]\n",
    "lam4s=[]\n",
    "dims=[]\n",
    "X = np.array([[0,1],[1,0]])\n",
    "Z = np.array([[1,0],[0,-1]])\n",
    "for h in np.arange(0.,1,0.05):   \n",
    "    \n",
    "    p=h\n",
    "    \n",
    "    B = np.zeros([1,1,4])\n",
    "    \n",
    "    B[0,0] =(np.array([[0,1],[0,0]])).reshape([4,])\n",
    "    #B[0,0] =(np.random.rand(2,2)).reshape([4,])\n",
    "    MPS = iMPS.iMPS()\n",
    "    MPS.construct_from_tensor_list([B])\n",
    "    MPS.svd_threshold =1e-10\n",
    "        \n",
    "\n",
    "    trans = funcs.single_trans_dephasing(p)\n",
    "    \n",
    "    MPO = iMPS.iMPO()\n",
    "    MPO.construct_from_tensor_list([trans])\n",
    "    MPS_power = iMPS.MPS_power_method(MPS,MPO,30)\n",
    "    MPS_power.update(0,400)\n",
    "    #print(MPS.chi[0])\n",
    "    eigs.append(MPS_power.E_history[-1])\n",
    "\n",
    "\n",
    "    \n",
    "    T1 = funcs.single_T_dephasing(p)\n",
    "    MPO3 = iMPS.iMPO()\n",
    "    MPO3.construct_from_tensor_list([T1])\n",
    "    \n",
    "    \n",
    "    strap1 = iMPS.strap(MPS,MPO3,MPS)\n",
    "    lam1= strap1.calculate_eig()\n",
    "    \n",
    "    T2 = funcs.single_T_dephasing(p,\"I\",\"X\")\n",
    "    MPO4 = iMPS.iMPO()\n",
    "    MPO4.construct_from_tensor_list([T2])\n",
    "    \n",
    "    \n",
    "    strap2 = iMPS.strap(MPS,MPO4,MPS)\n",
    "    lam2 = strap2.calculate_eig()\n",
    "    \n",
    "    \n",
    "    T3 = funcs.single_T_dephasing(p,\"X\",\"I\")\n",
    "    MPO4 = iMPS.iMPO()\n",
    "    MPO4.construct_from_tensor_list([T3])\n",
    "    \n",
    "    \n",
    "    strap3 = iMPS.strap(MPS,MPO4,MPS)\n",
    "    lam3 = strap3.calculate_eig()\n",
    "    \n",
    "    T3 = funcs.single_T_dephasing(p,\"X\",\"X\")\n",
    "    MPO4 = iMPS.iMPO()\n",
    "    MPO4.construct_from_tensor_list([T3])\n",
    "    \n",
    "    \n",
    "    strap4 = iMPS.strap(MPS,MPO4,MPS)\n",
    "    lam4 = strap4.calculate_eig()\n",
    "    \n",
    "    dims.append(MPS.chi[0])\n",
    "   \n",
    "    lam1s.append(lam1)\n",
    "    lam2s.append(lam2)\n",
    "    lam3s.append(lam3)\n",
    "    lam4s.append(lam4)"
   ]
  },
  {
   "cell_type": "code",
   "execution_count": 8,
   "metadata": {},
   "outputs": [],
   "source": [
    "lam1s = np.real(lam1s)\n",
    "lam2s = np.real(lam2s)\n",
    "lam3s = np.real(lam3s)\n",
    "lam4s = np.real(lam4s)"
   ]
  },
  {
   "cell_type": "code",
   "execution_count": 9,
   "metadata": {},
   "outputs": [
    {
     "data": {
      "image/png": "[encoded data removed]",
      "text/plain": [
       "<Figure size 432x288 with 1 Axes>"
      ]
     },
     "metadata": {
      "needs_background": "light"
     },
     "output_type": "display_data"
    }
   ],
   "source": [
    "pyplot.plot([0.5*np.log(np.sqrt(2)+1)]*2,[0.,1])\n",
    "\n",
    "pyplot.plot(np.arange(0.,1,0.05),lam2s/lam1s,label = '$\\langle X \\\\rangle$')\n",
    "pyplot.plot(np.arange(0.,1,0.05),lam3s/lam1s,label = '$\\langle \\\\bar{X}\\\\rangle$')\n",
    "#pyplot.plot(np.arange(0.4,0.5,0.002),lam2s)\n",
    "#pyplot.plot(np.arange(0.4,0.5,0.002),lam3s)\n",
    "pyplot.plot(np.arange(0.,1,0.05),lam4s/lam1s,label = '$\\langle X\\\\bar{X} \\\\rangle$')\n",
    "pyplot.legend()\n",
    "pyplot.show()"
   ]
  },
  {
   "cell_type": "code",
   "execution_count": 10,
   "metadata": {},
   "outputs": [
    {
     "data": {
      "text/plain": [
       "Text(0, 0.5, '$\\\\chi$')"
      ]
     },
     "execution_count": 10,
     "metadata": {},
     "output_type": "execute_result"
    },
    {
     "data": {
      "image/png": "[encoded data removed]",
      "text/plain": [
       "<Figure size 432x288 with 1 Axes>"
      ]
     },
     "metadata": {
      "needs_background": "light"
     },
     "output_type": "display_data"
    }
   ],
   "source": [
    "pyplot.plot([0.5*np.log(np.sqrt(2)+1)]*2,[0,20])\n",
    "pyplot.plot(np.arange(0,1,0.05),dims,'.-')\n",
    "pyplot.xlabel('$h_z$')\n",
    "pyplot.ylabel('$\\chi$')"
   ]
  },
  {
   "cell_type": "code",
   "execution_count": 11,
   "metadata": {},
   "outputs": [],
   "source": [
    "M = np.zeros([2,2,3])\n",
    "M[:,:,0] = np.eye(2)*np.sqrt(1-p)\n",
    "M[:,:,1] = np.array([[np.sqrt(p),0],[0,0]])\n",
    "M[:,:,2] = np.array([[0,0],[0,np.sqrt(p)]])\n",
    "    \n",
    "dM = np.tensordot(M,M,([1,2],[1,2]))"
   ]
  },
  {
   "cell_type": "code",
   "execution_count": 12,
   "metadata": {},
   "outputs": [
    {
     "data": {
      "text/plain": [
       "array([[1., 0.],\n",
       "       [0., 1.]])"
      ]
     },
     "execution_count": 12,
     "metadata": {},
     "output_type": "execute_result"
    }
   ],
   "source": [
    "dM"
   ]
  },
  {
   "cell_type": "code",
   "execution_count": null,
   "metadata": {},
   "outputs": [],
   "source": []
  }
 ],
 "metadata": {
  "kernelspec": {
   "display_name": "base",
   "language": "python",
   "name": "python3"
  },
  "language_info": {
   "codemirror_mode": {
    "name": "ipython",
    "version": 3
   },
   "file_extension": ".py",
   "mimetype": "text/x-python",
   "name": "python",
   "nbconvert_exporter": "python",
   "pygments_lexer": "ipython3",
   "version": "3.9.7"
  },
  "orig_nbformat": 4,
  "vscode": {
   "interpreter": {
    "hash": "a477bac5059954408e464007e59c6ff8c80bc3de84912130ad7e386887dbf516"
   }
  }
 },
 "nbformat": 4,
 "nbformat_minor": 2
}
