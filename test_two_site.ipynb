{
 "cells": [
  {
   "cell_type": "code",
   "execution_count": 1,
   "metadata": {},
   "outputs": [],
   "source": [
    "import numpy as np\n",
    "from matplotlib import pyplot\n",
    "from scipy import linalg\n",
    "import copy\n",
    "import iMPS\n",
    "from scipy.sparse import linalg\n",
    "import funcs"
   ]
  },
  {
   "cell_type": "code",
   "execution_count": 2,
   "metadata": {},
   "outputs": [],
   "source": [
    "eigs=[]\n",
    "lam1s=[]\n",
    "lam2s=[]\n",
    "lam3s=[]\n",
    "lam4s=[]\n",
    "dims=[]\n",
    "X = np.array([[0,1],[1,0]])\n",
    "Z = np.array([[1,0],[0,-1]])\n",
    "for h in np.arange(0.40,0.41,0.01):   \n",
    "    \n",
    "    h1 = h\n",
    "    h2 =0\n",
    "    \n",
    "    B = np.zeros([1,1,4])\n",
    "    B[0,0] =(linalg.expm(h*Z)).reshape([4,])\n",
    "    MPS = iMPS.iMPS()\n",
    "    MPS.construct_from_tensor_list([B,B])\n",
    "    MPS.svd_threshold =1e-10\n",
    "    trans = funcs.single_trans(h1=h1,h2=h2)\n",
    "    \n",
    "    MPO = iMPS.iMPO()\n",
    "    MPO.construct_from_tensor_list([trans,trans])\n",
    "    MPS_power = iMPS.MPS_power_method(MPS,MPO,max_bond=20)\n",
    "    MPS_power.update(500)\n",
    "    \n",
    "\n",
    "    \n",
    "    MPS_two_site = iMPS.MPS_power_method_twosite_update2(MPS,MPO,20)\n",
    "    \n",
    "    MPS_two_site.svd_threshold=1e-10\n",
    "    MPS_two_site.MPS2r = copy.deepcopy(MPS)\n",
    "    MPS_two_site.init_MPS2()\n",
    "    \n",
    "    \n",
    "    MPS_two_site.init_env()\n",
    "    MPS_two_site.update_MPS2(loop=500)\n",
    "    for _ in range(0):\n",
    "        \n",
    "        MPS1r = iMPS.iMPS()\n",
    "        MPS1r.construct_from_tensor_list([MPS_two_site.MPS2r.B[0],MPS_two_site.MPS2r.B[1]])\n",
    "        \n",
    "        MPS1l = iMPS.iMPS()\n",
    "        MPS1l.construct_from_tensor_list([MPS_two_site.MPS2l.B[0],MPS_two_site.MPS2l.B[1]])\n",
    "        \n",
    "        \n",
    "        MPS_two_site = iMPS.MPS_power_method_twosite_update2(MPS1r,MPO,20)\n",
    "        MPS_two_site.MPS1l = copy.deepcopy(MPS1r)\n",
    "        MPS_two_site.svd_threshold=1e-10\n",
    "        MPS_two_site.MPS2l = copy.deepcopy(MPS1l)\n",
    "        MPS_two_site.MPS2r = copy.deepcopy(MPS1r)\n",
    "        #MPS_two_site.init_MPS2()\n",
    "        \n",
    "        \n",
    "        MPS_two_site.init_env()\n",
    "        MPS_two_site.update_MPS2(loop=100)\n",
    "    \n",
    "    \"\"\"\n",
    "    \n",
    "    MPS_two_site = iMPS.MPS_power_method_twosite_update2(MPS8,MPO,20)\n",
    "    \n",
    "    MPS_two_site.svd_threshold=1e-10\n",
    "    MPS_two_site.MPS2r = copy.deepcopy(MPS8)\n",
    "    MPS_two_site.init_MPS2()\n",
    "    \n",
    "    \n",
    "    MPS_two_site.init_env()\n",
    "    MPS_two_site.update_MPS2(loop=400)\"\"\"\n",
    "    \n",
    "    \"\"\"T3 = np.zeros([1,1,4,4])\n",
    "    T3[0,0,:,:] = np.kron(X,X)\n",
    "    MPO3 = iMPS.iMPO()\n",
    "    MPO3.construct_from_tensor_list([T3])\n",
    "    strap4 = iMPS.strap(MPS,MPO3,MPS)\n",
    "    lam4 = strap4.calculate_eig()\n",
    "    lam4s.append(lam4)\"\"\"\n",
    "    \n",
    "    \n",
    "    T3 = np.zeros([1,1,4,4])\n",
    "    T3[0,0,:,:] = np.kron(X,X)\n",
    "    MPO4 = iMPS.iMPO()\n",
    "    MPO4.construct_from_tensor_list([T3,T3])\n",
    "    strap4 = iMPS.strap(MPS,MPO4,MPS)\n",
    "    lam4 = strap4.calculate_eig()\n",
    "    lam4s.append(lam4)\n",
    "    \n",
    "    \n",
    "    B1 = MPS_two_site.MPS2l.B[0]\n",
    "    s0 = np.diag(MPS_two_site.MPS2l.s[0])\n",
    "    s1 = np.diag(MPS_two_site.MPS2l.s[1])\n",
    "    B1 = funcs.row_contract23(np.linalg.inv(s0),B1)\n",
    "    B1= funcs.row_contract32(B1,s1)\n",
    "    \n",
    "    MPS8 = iMPS.iMPS()\n",
    "    MPS8.construct_from_tensor_list([MPS_two_site.MPS2r.B[0],MPS_two_site.MPS2r.B[1]])\n",
    "    \n",
    "    strap4 = iMPS.strap(MPS8,MPO4,MPS8)\n",
    "    lam4 = strap4.calculate_eig()\n",
    "    lam1s.append(lam4)\n",
    "    \n",
    "    MPS9 = iMPS.iMPS()\n",
    "    MPS9.construct_from_tensor_list([MPS_two_site.MPS2l.B[0],MPS_two_site.MPS2l.B[1]])\n",
    "    \n",
    "    \n",
    "    strap4 = iMPS.strap(MPS8,None,MPS8)\n",
    "    lam4 = strap4.calculate_eig()\n",
    "    lam2s.append(lam4)\n",
    "    \n",
    "    dims.append(MPS_two_site.MPS2r.chi[1])\n",
    "    \n",
    "    strap4 = iMPS.strap(MPS8,None,MPS9)\n",
    "    lam4 = strap4.calculate_eig()\n",
    "    lam3s.append(lam4)\n",
    "    \n",
    "    \n",
    "    \n",
    "    \n",
    "   \n",
    "lam4s = np.abs(lam4s)\n",
    "lam1s = np.abs(lam1s)\n",
    "lam2s = np.abs(lam2s)\n",
    "lam3s = np.abs(lam3s)"
   ]
  },
  {
   "cell_type": "code",
   "execution_count": 3,
   "metadata": {},
   "outputs": [
    {
     "name": "stdout",
     "output_type": "stream",
     "text": [
      "(4, 8, 4)\n",
      "(4, 4, 4)\n",
      "(4, 4, 4)\n",
      "(8, 4, 4)\n",
      "(8,)\n",
      "(8,)\n",
      "(4, 4, 4)\n",
      "(4, 4, 4)\n",
      "(4, 4, 4)\n",
      "(4, 4, 4)\n",
      "(4,)\n",
      "(4,)\n",
      "(64, 64)\n",
      "(64, 64)\n",
      "(64,)\n",
      "(128,)\n",
      "(64,)\n",
      "(128,)\n"
     ]
    }
   ],
   "source": [
    "print(MPS_two_site.MPS2l.B[0].shape)\n",
    "print(MPS_two_site.MPS2l.B[1].shape)\n",
    "print(MPS_two_site.MPS2r.B[0].shape)\n",
    "print(MPS_two_site.MPS2r.B[1].shape)\n",
    "print(MPS_two_site.MPS2l.s[1].shape)\n",
    "print(MPS_two_site.MPS2r.s[1].shape)\n",
    "\n",
    "print(MPS_two_site.MPS1l.B[0].shape)\n",
    "print(MPS_two_site.MPS1l.B[1].shape)\n",
    "print(MPS_two_site.MPS1r.B[0].shape)\n",
    "print(MPS_two_site.MPS1r.B[1].shape)\n",
    "print(MPS_two_site.MPS1l.s[1].shape)\n",
    "print(MPS_two_site.MPS1r.s[1].shape)\n",
    "\n",
    "print(MPS_two_site.transfer_matrix(0).shape)\n",
    "print(MPS_two_site.transfer_matrix(1).shape)\n",
    "\n",
    "\n",
    "print(MPS_two_site.El[0].shape)\n",
    "print(MPS_two_site.El[1].shape)\n",
    "\n",
    "\n",
    "\n",
    "print(MPS_two_site.Er[0].shape)\n",
    "print(MPS_two_site.Er[1].shape)"
   ]
  },
  {
   "cell_type": "code",
   "execution_count": 3,
   "metadata": {},
   "outputs": [
    {
     "name": "stdout",
     "output_type": "stream",
     "text": [
      "[0.83543656]\n",
      "[0.99999882]\n",
      "[1.]\n",
      "[0.96292685]\n"
     ]
    }
   ],
   "source": [
    "print(np.abs(lam1s))\n",
    "print(lam4s)\n",
    "\n",
    "print(np.abs(lam2s))\n",
    "\n",
    "print(np.abs(lam3s))"
   ]
  },
  {
   "cell_type": "code",
   "execution_count": 52,
   "metadata": {},
   "outputs": [
    {
     "name": "stdout",
     "output_type": "stream",
     "text": [
      "1.0000000000000002\n",
      "0.8871249155224421\n",
      "0.9378530835736146\n",
      "0.8579569631017758\n"
     ]
    },
    {
     "ename": "ValueError",
     "evalue": "cannot multiply <49x36 _CustomLinearOperator with dtype=complex128> and <49x49 _CustomLinearOperator with dtype=complex128>: shape mismatch",
     "output_type": "error",
     "traceback": [
      "\u001b[0;31m---------------------------------------------------------------------------\u001b[0m",
      "\u001b[0;31mValueError\u001b[0m                                Traceback (most recent call last)",
      "\u001b[0;32m/var/folders/rt/_3xs3p494rzgxflmk081k97m0000gn/T/ipykernel_22828/1329869042.py\u001b[0m in \u001b[0;36m<module>\u001b[0;34m\u001b[0m\n\u001b[1;32m     23\u001b[0m     \u001b[0ms0\u001b[0m \u001b[0;34m=\u001b[0m \u001b[0mnp\u001b[0m\u001b[0;34m.\u001b[0m\u001b[0mdiag\u001b[0m\u001b[0;34m(\u001b[0m\u001b[0mMPS_two_site\u001b[0m\u001b[0;34m.\u001b[0m\u001b[0mMPS2l\u001b[0m\u001b[0;34m.\u001b[0m\u001b[0ms\u001b[0m\u001b[0;34m[\u001b[0m\u001b[0;36m0\u001b[0m\u001b[0;34m]\u001b[0m\u001b[0;34m)\u001b[0m\u001b[0;34m\u001b[0m\u001b[0;34m\u001b[0m\u001b[0m\n\u001b[1;32m     24\u001b[0m     \u001b[0ms1\u001b[0m \u001b[0;34m=\u001b[0m \u001b[0mnp\u001b[0m\u001b[0;34m.\u001b[0m\u001b[0mdiag\u001b[0m\u001b[0;34m(\u001b[0m\u001b[0mMPS_two_site\u001b[0m\u001b[0;34m.\u001b[0m\u001b[0mMPS2l\u001b[0m\u001b[0;34m.\u001b[0m\u001b[0ms\u001b[0m\u001b[0;34m[\u001b[0m\u001b[0;36m1\u001b[0m\u001b[0;34m]\u001b[0m\u001b[0;34m)\u001b[0m\u001b[0;34m\u001b[0m\u001b[0;34m\u001b[0m\u001b[0m\n\u001b[0;32m---> 25\u001b[0;31m     \u001b[0mMPS8\u001b[0m\u001b[0;34m.\u001b[0m\u001b[0mconstruct_from_tensor_list\u001b[0m\u001b[0;34m(\u001b[0m\u001b[0;34m[\u001b[0m\u001b[0mMPS_two_site\u001b[0m\u001b[0;34m.\u001b[0m\u001b[0mMPS2r\u001b[0m\u001b[0;34m.\u001b[0m\u001b[0mB\u001b[0m\u001b[0;34m[\u001b[0m\u001b[0;36m0\u001b[0m\u001b[0;34m]\u001b[0m\u001b[0;34m,\u001b[0m\u001b[0mMPS_two_site\u001b[0m\u001b[0;34m.\u001b[0m\u001b[0mMPS2r\u001b[0m\u001b[0;34m.\u001b[0m\u001b[0mB\u001b[0m\u001b[0;34m[\u001b[0m\u001b[0;36m1\u001b[0m\u001b[0;34m]\u001b[0m\u001b[0;34m]\u001b[0m\u001b[0;34m)\u001b[0m\u001b[0;34m\u001b[0m\u001b[0;34m\u001b[0m\u001b[0m\n\u001b[0m\u001b[1;32m     26\u001b[0m     \u001b[0mstrap4\u001b[0m \u001b[0;34m=\u001b[0m \u001b[0miMPS\u001b[0m\u001b[0;34m.\u001b[0m\u001b[0mstrap\u001b[0m\u001b[0;34m(\u001b[0m\u001b[0mMPS\u001b[0m\u001b[0;34m,\u001b[0m\u001b[0;32mNone\u001b[0m\u001b[0;34m,\u001b[0m\u001b[0mMPS8\u001b[0m\u001b[0;34m)\u001b[0m\u001b[0;34m\u001b[0m\u001b[0;34m\u001b[0m\u001b[0m\n\u001b[1;32m     27\u001b[0m     \u001b[0mlam4\u001b[0m \u001b[0;34m=\u001b[0m \u001b[0mstrap4\u001b[0m\u001b[0;34m.\u001b[0m\u001b[0mcalculate_eig\u001b[0m\u001b[0;34m(\u001b[0m\u001b[0;34m)\u001b[0m\u001b[0;34m\u001b[0m\u001b[0;34m\u001b[0m\u001b[0m\n",
      "\u001b[0;32m~/Desktop/Mixed state topological order/Toric_Code/iMPS.py\u001b[0m in \u001b[0;36mconstruct_from_tensor_list\u001b[0;34m(self, tensor_list)\u001b[0m\n\u001b[1;32m    120\u001b[0m             \u001b[0mself\u001b[0m\u001b[0;34m.\u001b[0m\u001b[0md\u001b[0m\u001b[0;34m[\u001b[0m\u001b[0mi\u001b[0m\u001b[0;34m]\u001b[0m \u001b[0;34m=\u001b[0m \u001b[0;34m(\u001b[0m\u001b[0mself\u001b[0m\u001b[0;34m.\u001b[0m\u001b[0mB\u001b[0m\u001b[0;34m[\u001b[0m\u001b[0mi\u001b[0m\u001b[0;34m]\u001b[0m\u001b[0;34m.\u001b[0m\u001b[0mshape\u001b[0m\u001b[0;34m)\u001b[0m\u001b[0;34m[\u001b[0m\u001b[0;36m2\u001b[0m\u001b[0;34m]\u001b[0m\u001b[0;34m\u001b[0m\u001b[0;34m\u001b[0m\u001b[0m\n\u001b[1;32m    121\u001b[0m             \u001b[0mself\u001b[0m\u001b[0;34m.\u001b[0m\u001b[0ms\u001b[0m\u001b[0;34m[\u001b[0m\u001b[0mi\u001b[0m\u001b[0;34m]\u001b[0m \u001b[0;34m=\u001b[0m \u001b[0mnp\u001b[0m\u001b[0;34m.\u001b[0m\u001b[0mones\u001b[0m\u001b[0;34m(\u001b[0m\u001b[0;34m[\u001b[0m\u001b[0mself\u001b[0m\u001b[0;34m.\u001b[0m\u001b[0mchi\u001b[0m\u001b[0;34m[\u001b[0m\u001b[0mi\u001b[0m\u001b[0;34m]\u001b[0m\u001b[0;34m,\u001b[0m\u001b[0;34m]\u001b[0m\u001b[0;34m)\u001b[0m\u001b[0;34m\u001b[0m\u001b[0;34m\u001b[0m\u001b[0m\n\u001b[0;32m--> 122\u001b[0;31m         \u001b[0mself\u001b[0m\u001b[0;34m.\u001b[0m\u001b[0minit_norm\u001b[0m \u001b[0;34m=\u001b[0m \u001b[0mself\u001b[0m\u001b[0;34m.\u001b[0m\u001b[0mcalculate_norm\u001b[0m\u001b[0;34m(\u001b[0m\u001b[0;34m)\u001b[0m\u001b[0;34m\u001b[0m\u001b[0;34m\u001b[0m\u001b[0m\n\u001b[0m\u001b[1;32m    123\u001b[0m         \u001b[0mself\u001b[0m\u001b[0;34m.\u001b[0m\u001b[0msite_canonical\u001b[0m\u001b[0;34m(\u001b[0m\u001b[0;34m)\u001b[0m\u001b[0;34m\u001b[0m\u001b[0;34m\u001b[0m\u001b[0m\n\u001b[1;32m    124\u001b[0m         \u001b[0mself\u001b[0m\u001b[0;34m.\u001b[0m\u001b[0msite_canonical\u001b[0m\u001b[0;34m(\u001b[0m\u001b[0;34m)\u001b[0m\u001b[0;34m\u001b[0m\u001b[0;34m\u001b[0m\u001b[0m\n",
      "\u001b[0;32m~/Desktop/Mixed state topological order/Toric_Code/iMPS.py\u001b[0m in \u001b[0;36mcalculate_norm\u001b[0;34m(self)\u001b[0m\n\u001b[1;32m    235\u001b[0m \u001b[0;34m\u001b[0m\u001b[0m\n\u001b[1;32m    236\u001b[0m     \u001b[0;32mdef\u001b[0m \u001b[0mcalculate_norm\u001b[0m\u001b[0;34m(\u001b[0m\u001b[0mself\u001b[0m\u001b[0;34m)\u001b[0m\u001b[0;34m:\u001b[0m\u001b[0;34m\u001b[0m\u001b[0;34m\u001b[0m\u001b[0m\n\u001b[0;32m--> 237\u001b[0;31m         \u001b[0mtrans\u001b[0m \u001b[0;34m=\u001b[0m \u001b[0mself\u001b[0m\u001b[0;34m.\u001b[0m\u001b[0mtransfer_matrix\u001b[0m\u001b[0;34m(\u001b[0m\u001b[0;34m)\u001b[0m\u001b[0;34m\u001b[0m\u001b[0;34m\u001b[0m\u001b[0m\n\u001b[0m\u001b[1;32m    238\u001b[0m \u001b[0;34m\u001b[0m\u001b[0m\n\u001b[1;32m    239\u001b[0m         \u001b[0;32massert\u001b[0m \u001b[0misinstance\u001b[0m\u001b[0;34m(\u001b[0m\u001b[0mtrans\u001b[0m\u001b[0;34m,\u001b[0m\u001b[0mlinalg\u001b[0m\u001b[0;34m.\u001b[0m\u001b[0mLinearOperator\u001b[0m\u001b[0;34m)\u001b[0m\u001b[0;34m,\u001b[0m \u001b[0;34m'wrong type'\u001b[0m\u001b[0;34m\u001b[0m\u001b[0;34m\u001b[0m\u001b[0m\n",
      "\u001b[0;32m~/Desktop/Mixed state topological order/Toric_Code/iMPS.py\u001b[0m in \u001b[0;36mtransfer_matrix\u001b[0;34m(self, direction)\u001b[0m\n\u001b[1;32m    165\u001b[0m             \u001b[0mmatrix\u001b[0m \u001b[0;34m=\u001b[0m \u001b[0mself\u001b[0m\u001b[0;34m.\u001b[0m\u001b[0msingle_matrix\u001b[0m\u001b[0;34m(\u001b[0m\u001b[0;36m0\u001b[0m\u001b[0;34m)\u001b[0m\u001b[0;34m\u001b[0m\u001b[0;34m\u001b[0m\u001b[0m\n\u001b[1;32m    166\u001b[0m             \u001b[0;32mfor\u001b[0m \u001b[0mi\u001b[0m \u001b[0;32min\u001b[0m \u001b[0mrange\u001b[0m\u001b[0;34m(\u001b[0m\u001b[0;36m1\u001b[0m\u001b[0;34m,\u001b[0m\u001b[0mself\u001b[0m\u001b[0;34m.\u001b[0m\u001b[0mL\u001b[0m\u001b[0;34m)\u001b[0m\u001b[0;34m:\u001b[0m\u001b[0;34m\u001b[0m\u001b[0;34m\u001b[0m\u001b[0m\n\u001b[0;32m--> 167\u001b[0;31m                 \u001b[0mmatrix\u001b[0m \u001b[0;34m=\u001b[0m \u001b[0mmatrix\u001b[0m\u001b[0;34m.\u001b[0m\u001b[0mdot\u001b[0m\u001b[0;34m(\u001b[0m\u001b[0mself\u001b[0m\u001b[0;34m.\u001b[0m\u001b[0msingle_matrix\u001b[0m\u001b[0;34m(\u001b[0m\u001b[0mi\u001b[0m\u001b[0;34m)\u001b[0m\u001b[0;34m)\u001b[0m\u001b[0;34m\u001b[0m\u001b[0;34m\u001b[0m\u001b[0m\n\u001b[0m\u001b[1;32m    168\u001b[0m         \u001b[0;32mif\u001b[0m \u001b[0mdirection\u001b[0m \u001b[0;34m==\u001b[0m \u001b[0;34m'left'\u001b[0m\u001b[0;34m:\u001b[0m\u001b[0;34m\u001b[0m\u001b[0;34m\u001b[0m\u001b[0m\n\u001b[1;32m    169\u001b[0m             \u001b[0;32mif\u001b[0m \u001b[0mself\u001b[0m\u001b[0;34m.\u001b[0m\u001b[0mL\u001b[0m\u001b[0;34m==\u001b[0m\u001b[0;36m1\u001b[0m\u001b[0;34m:\u001b[0m\u001b[0;34m\u001b[0m\u001b[0;34m\u001b[0m\u001b[0m\n",
      "\u001b[0;32m~/opt/anaconda3/lib/python3.9/site-packages/scipy/sparse/linalg/interface.py\u001b[0m in \u001b[0;36mdot\u001b[0;34m(self, x)\u001b[0m\n\u001b[1;32m    409\u001b[0m         \"\"\"\n\u001b[1;32m    410\u001b[0m         \u001b[0;32mif\u001b[0m \u001b[0misinstance\u001b[0m\u001b[0;34m(\u001b[0m\u001b[0mx\u001b[0m\u001b[0;34m,\u001b[0m \u001b[0mLinearOperator\u001b[0m\u001b[0;34m)\u001b[0m\u001b[0;34m:\u001b[0m\u001b[0;34m\u001b[0m\u001b[0;34m\u001b[0m\u001b[0m\n\u001b[0;32m--> 411\u001b[0;31m             \u001b[0;32mreturn\u001b[0m \u001b[0m_ProductLinearOperator\u001b[0m\u001b[0;34m(\u001b[0m\u001b[0mself\u001b[0m\u001b[0;34m,\u001b[0m \u001b[0mx\u001b[0m\u001b[0;34m)\u001b[0m\u001b[0;34m\u001b[0m\u001b[0;34m\u001b[0m\u001b[0m\n\u001b[0m\u001b[1;32m    412\u001b[0m         \u001b[0;32melif\u001b[0m \u001b[0mnp\u001b[0m\u001b[0;34m.\u001b[0m\u001b[0misscalar\u001b[0m\u001b[0;34m(\u001b[0m\u001b[0mx\u001b[0m\u001b[0;34m)\u001b[0m\u001b[0;34m:\u001b[0m\u001b[0;34m\u001b[0m\u001b[0;34m\u001b[0m\u001b[0m\n\u001b[1;32m    413\u001b[0m             \u001b[0;32mreturn\u001b[0m \u001b[0m_ScaledLinearOperator\u001b[0m\u001b[0;34m(\u001b[0m\u001b[0mself\u001b[0m\u001b[0;34m,\u001b[0m \u001b[0mx\u001b[0m\u001b[0;34m)\u001b[0m\u001b[0;34m\u001b[0m\u001b[0;34m\u001b[0m\u001b[0m\n",
      "\u001b[0;32m~/opt/anaconda3/lib/python3.9/site-packages/scipy/sparse/linalg/interface.py\u001b[0m in \u001b[0;36m__init__\u001b[0;34m(self, A, B)\u001b[0m\n\u001b[1;32m    636\u001b[0m             \u001b[0;32mraise\u001b[0m \u001b[0mValueError\u001b[0m\u001b[0;34m(\u001b[0m\u001b[0;34m'both operands have to be a LinearOperator'\u001b[0m\u001b[0;34m)\u001b[0m\u001b[0;34m\u001b[0m\u001b[0;34m\u001b[0m\u001b[0m\n\u001b[1;32m    637\u001b[0m         \u001b[0;32mif\u001b[0m \u001b[0mA\u001b[0m\u001b[0;34m.\u001b[0m\u001b[0mshape\u001b[0m\u001b[0;34m[\u001b[0m\u001b[0;36m1\u001b[0m\u001b[0;34m]\u001b[0m \u001b[0;34m!=\u001b[0m \u001b[0mB\u001b[0m\u001b[0;34m.\u001b[0m\u001b[0mshape\u001b[0m\u001b[0;34m[\u001b[0m\u001b[0;36m0\u001b[0m\u001b[0;34m]\u001b[0m\u001b[0;34m:\u001b[0m\u001b[0;34m\u001b[0m\u001b[0;34m\u001b[0m\u001b[0m\n\u001b[0;32m--> 638\u001b[0;31m             raise ValueError('cannot multiply %r and %r: shape mismatch'\n\u001b[0m\u001b[1;32m    639\u001b[0m                              % (A, B))\n\u001b[1;32m    640\u001b[0m         super().__init__(_get_dtype([A, B]),\n",
      "\u001b[0;31mValueError\u001b[0m: cannot multiply <49x36 _CustomLinearOperator with dtype=complex128> and <49x49 _CustomLinearOperator with dtype=complex128>: shape mismatch"
     ]
    }
   ],
   "source": [
    "MPS_two_site = iMPS.MPS_power_method_twosite_update2(MPS,MPO,20)\n",
    "\n",
    "\n",
    "MPS_two_site.MPS2r = copy.deepcopy(MPS)\n",
    "MPS_two_site.svd_threshold = 1e-6\n",
    "MPS_two_site.init_MPS2()\n",
    "MPS_two_site.init_env()\n",
    "\n",
    "for _ in range(30):\n",
    "    s0 =np.diag(MPS_two_site.MPS1r.s[0])\n",
    "    s1 =np.diag(MPS_two_site.MPS1r.s[1])\n",
    "\n",
    "    T1 = funcs.row_contract33(funcs.row_contract32(MPS_two_site.MPS1l.B[0],s1),MPS_two_site.MPS1r.B[1])\n",
    "    T2 = funcs.row_contract33(MPS_two_site.MPS1r.B[0],MPS_two_site.MPS1r.B[1])\n",
    "\n",
    "    #print(np.linalg.norm(T1-T2))\n",
    "    #print(MPS_two_site.Er[0]/MPS_two_site.Er[0][0])\n",
    "    \"\"\"T3 = MPS_two_site.new_tensor(0).conj()\n",
    "\n",
    "    print(np.linalg.norm(T1-T3/T3[0,0,0,0]*T1[0,0,0,0]))\n",
    "    \"\"\"\n",
    "    MPS8 = iMPS.iMPS()\n",
    "    s0 = np.diag(MPS_two_site.MPS2l.s[0])\n",
    "    s1 = np.diag(MPS_two_site.MPS2l.s[1])\n",
    "    MPS8.construct_from_tensor_list([MPS_two_site.MPS2r.B[0],MPS_two_site.MPS2r.B[1]])\n",
    "    strap4 = iMPS.strap(MPS,None,MPS8)\n",
    "    lam4 = strap4.calculate_eig()\n",
    "    print(abs(lam4))\n",
    "    \n",
    "    MPS_two_site.update_MPS2(loop=30)\n",
    "\n",
    "\"\"\"#B1_new,lam,B2_new = MPS_two_site.two_site_svd(0)\n",
    "new_M = T3\n",
    "new_M = np.transpose(new_M,[0,2,1,3])\n",
    "w = np.shape(new_M)\n",
    "            \n",
    "new_M = new_M.reshape([w[0]*w[1],w[2]*w[3]])\n",
    "            \n",
    "U,lam,V = np.linalg.svd(new_M)\n",
    "dim = np.sum(lam>1e-10)\n",
    "\n",
    "U = U[:,:dim]\n",
    "lam = lam[:dim]\n",
    "V = V[:dim,:]\n",
    "lam = lam/np.linalg.norm(lam)\n",
    "            \n",
    "B_new_left = np.reshape(U@np.diag(lam),[-1,4,dim])\n",
    "B_new_left  = np.transpose(B_new_left ,[0,2,1])\n",
    "B_new_left  = funcs.row_contract23(np.linalg.inv(s0),B_new_left)\n",
    "        \n",
    "B_new_right = np.reshape(V,[dim,-1,4])\n",
    "\n",
    "\n",
    "\n",
    "\n",
    "\n",
    "T4 = funcs.row_contract33(B_new_left,B_new_right)\n",
    "print(np.linalg.norm(T4*T2[0,0,0,0]/T4[0,0,0,0]-T2))\n",
    "MPS1 = iMPS.iMPS()\n",
    "MPS1.construct_from_tensor_list([B_new_left,B_new_right])\n",
    "strap4 = iMPS.strap(MPS1,MPO4,MPS1)\n",
    "lam4 = strap4.calculate_eig()\n",
    "print(abs(lam4))\"\"\""
   ]
  },
  {
   "cell_type": "code",
   "execution_count": 43,
   "metadata": {},
   "outputs": [
    {
     "data": {
      "text/plain": [
       "(4,)"
      ]
     },
     "execution_count": 43,
     "metadata": {},
     "output_type": "execute_result"
    }
   ],
   "source": [
    "MPS_two_site.MPS2l.s[1].shape"
   ]
  },
  {
   "cell_type": "code",
   "execution_count": 42,
   "metadata": {},
   "outputs": [
    {
     "data": {
      "text/plain": [
       "(4, 4, 4)"
      ]
     },
     "execution_count": 42,
     "metadata": {},
     "output_type": "execute_result"
    }
   ],
   "source": [
    "MPS_two_site.MPS2l.B[0].shape"
   ]
  },
  {
   "cell_type": "code",
   "execution_count": null,
   "metadata": {},
   "outputs": [],
   "source": [
    "MPS_two_site.MPS1l.B[0][:,:3,:]/MPS_two_site.MPS1l.B[0][0,0,0]"
   ]
  },
  {
   "cell_type": "code",
   "execution_count": null,
   "metadata": {},
   "outputs": [],
   "source": [
    "B_new_left[:,:3,:]/B_new_left[0,0,0]"
   ]
  },
  {
   "cell_type": "code",
   "execution_count": null,
   "metadata": {},
   "outputs": [],
   "source": [
    "MPS_two_site.MPS1l.B[0][:,:4,:]/MPS_two_site.MPS1l.B[0][0,0,0]-B_new_left[:,:4,:]/B_new_left[0,0,0]"
   ]
  },
  {
   "cell_type": "code",
   "execution_count": 15,
   "metadata": {},
   "outputs": [
    {
     "name": "stdout",
     "output_type": "stream",
     "text": [
      "1.0000000000000007\n",
      "1.0000000000000018\n",
      "0.9914887292385939\n"
     ]
    }
   ],
   "source": [
    "MPS1 = iMPS.iMPS()\n",
    "MPS1.construct_from_tensor_list([B_new_right[:4,:,:]])\n",
    "\n",
    "MPS2 = iMPS.iMPS()\n",
    "MPS2.construct_from_tensor_list([MPS_two_site.MPS1r.B[0][:4,:,:]])\n",
    "\n",
    "strap = iMPS.strap(MPS1,MPO = None,MPS2=MPS1)\n",
    "print(abs(strap.calculate_eig()))\n",
    "strap = iMPS.strap(MPS2,MPO = None,MPS2=MPS2)\n",
    "print(abs(strap.calculate_eig()))\n",
    "strap = iMPS.strap(MPS1,MPO = None,MPS2=MPS2)\n",
    "print(abs(strap.calculate_eig()))"
   ]
  },
  {
   "cell_type": "code",
   "execution_count": 14,
   "metadata": {},
   "outputs": [
    {
     "data": {
      "text/plain": [
       "(array([-0.93271333+0.56968439j,  0.01278519+0.06610382j,\n",
       "        -0.14762512+0.16472698j, -0.12835112+0.25992883j]),\n",
       " array([[ 1.72603339e-03+0.00239108j,  1.04616929e-02-0.03076372j,\n",
       "         -3.38982884e-03+0.00124647j,  1.88549543e-04+0.00132374j],\n",
       "        [ 3.14602086e-01+0.07521469j,  4.05671693e-02-0.01896337j,\n",
       "         -1.55039410e-03-0.00421524j,  2.62157777e-03-0.00260507j],\n",
       "        [-4.91407596e-01-0.14923381j,  3.93080640e-01+0.02250958j,\n",
       "          5.33147333e-02-0.13343362j, -5.19270603e-02-0.01798423j],\n",
       "        [ 7.94737332e-01+0.j        ,  9.17561862e-01+0.j        ,\n",
       "          9.89605877e-01+0.j        ,  9.98481197e-01+0.j        ]]))"
      ]
     },
     "execution_count": 14,
     "metadata": {},
     "output_type": "execute_result"
    }
   ],
   "source": [
    "np.linalg.eig((MPS1.B[0]/MPS1.B[0][0,0,0]-MPS2.B[0]/MPS2.B[0][0,0,0])[:,:,3])"
   ]
  },
  {
   "cell_type": "code",
   "execution_count": 13,
   "metadata": {},
   "outputs": [
    {
     "data": {
      "text/plain": [
       "(array([-0.93070313+0.5679463j ,  0.01268056+0.06598344j,\n",
       "        -0.14741288+0.1652505j , -0.1280139 +0.25979722j]),\n",
       " array([[ 1.71544601e-03+0.00241043j,  1.08305677e-02-0.03078749j,\n",
       "         -3.39698670e-03+0.00122712j,  1.59221333e-04+0.00133609j],\n",
       "        [-3.14994276e-01-0.07591464j, -4.09747019e-02+0.01872691j,\n",
       "          1.55305998e-03+0.00426109j, -2.58764284e-03+0.00260578j],\n",
       "        [ 4.91526884e-01+0.15223269j, -3.93002264e-01-0.02736462j,\n",
       "         -5.40585372e-02+0.13359993j,  5.19880760e-02+0.01948589j],\n",
       "        [ 7.93872377e-01+0.j        ,  9.17445151e-01+0.j        ,\n",
       "          9.89542884e-01+0.j        ,  9.98449920e-01+0.j        ]]))"
      ]
     },
     "execution_count": 13,
     "metadata": {},
     "output_type": "execute_result"
    }
   ],
   "source": [
    "np.linalg.eig((MPS1.B[0]/MPS1.B[0][0,0,0]-MPS2.B[0]/MPS2.B[0][0,0,0])[:,:,3])"
   ]
  },
  {
   "cell_type": "code",
   "execution_count": 55,
   "metadata": {},
   "outputs": [
    {
     "data": {
      "text/plain": [
       "array([[4.17022005e-01+0.4173048j , 7.20324493e-01+0.55868983j,\n",
       "        1.14374817e-04+0.14038694j, 3.02332573e-01+0.19810149j],\n",
       "       [1.46755891e-01+0.80074457j, 9.23385948e-02+0.96826158j,\n",
       "        1.86260211e-01+0.31342418j, 3.45560727e-01+0.69232262j],\n",
       "       [3.96767474e-01+0.87638915j, 5.38816734e-01+0.89460666j,\n",
       "        4.19194514e-01+0.08504421j, 6.85219500e-01+0.03905478j],\n",
       "       [2.04452250e-01+0.16983042j, 8.78117436e-01+0.8781425j ,\n",
       "        2.73875932e-02+0.09834683j, 6.70467510e-01+0.42110763j]])"
      ]
     },
     "execution_count": 55,
     "metadata": {},
     "output_type": "execute_result"
    }
   ],
   "source": [
    "np.random.seed(1)\n",
    "A = np.random.random([4,4])+ np.random.random([4,4])*1j\n",
    "A"
   ]
  },
  {
   "cell_type": "code",
   "execution_count": 56,
   "metadata": {},
   "outputs": [
    {
     "name": "stdout",
     "output_type": "stream",
     "text": [
      "[[ 0.        +0.417022j    0.12102737+0.43354019j  0.36800111+0.19844092j\n",
      "  -0.01413553+0.25339241j]\n",
      " [-0.12102737+0.43354019j  0.        +0.09233859j  0.29059124+0.36253847j\n",
      "   0.09290994+0.61183908j]\n",
      " [-0.36800111+0.19844092j -0.29059124+0.36253847j  0.        +0.41919451j\n",
      "   0.02964603+0.35630355j]\n",
      " [ 0.01413553+0.25339241j -0.09290994+0.61183908j -0.02964603+0.35630355j\n",
      "   0.        +0.67046751j]]\n"
     ]
    }
   ],
   "source": [
    "A = A+A.transpose().conj()\n",
    "A = A*0.5j\n",
    "print(A)"
   ]
  },
  {
   "cell_type": "code",
   "execution_count": 57,
   "metadata": {},
   "outputs": [],
   "source": [
    "theta=funcs.find_phase(A)"
   ]
  },
  {
   "cell_type": "code",
   "execution_count": 58,
   "metadata": {},
   "outputs": [
    {
     "data": {
      "text/plain": [
       "array([[0.5       +0.j        , 0.51980494-0.14510909j,\n",
       "        0.2379262 -0.44122505j, 0.3038118 +0.01694819j],\n",
       "       [0.51980494+0.14510909j, 0.1107119 +0.j        ,\n",
       "        0.43467547-0.34841236j, 0.73358129-0.11139693j],\n",
       "       [0.2379262 +0.44122505j, 0.43467547+0.34841236j,\n",
       "        0.50260479+0.j        , 0.42719994-0.03554492j],\n",
       "       [0.3038118 -0.01694819j, 0.73358129+0.11139693j,\n",
       "        0.42719994+0.03554492j, 0.80387546+0.j        ]])"
      ]
     },
     "execution_count": 58,
     "metadata": {},
     "output_type": "execute_result"
    }
   ],
   "source": [
    "A/theta"
   ]
  },
  {
   "cell_type": "code",
   "execution_count": null,
   "metadata": {},
   "outputs": [],
   "source": []
  }
 ],
 "metadata": {
  "kernelspec": {
   "display_name": "base",
   "language": "python",
   "name": "python3"
  },
  "language_info": {
   "codemirror_mode": {
    "name": "ipython",
    "version": 3
   },
   "file_extension": ".py",
   "mimetype": "text/x-python",
   "name": "python",
   "nbconvert_exporter": "python",
   "pygments_lexer": "ipython3",
   "version": "3.9.7"
  },
  "orig_nbformat": 4
 },
 "nbformat": 4,
 "nbformat_minor": 2
}
