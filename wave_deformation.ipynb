{
 "cells": [
  {
   "cell_type": "code",
   "execution_count": 1,
   "metadata": {},
   "outputs": [],
   "source": [
    "import numpy as np\n",
    "from matplotlib import pyplot\n",
    "from scipy import linalg\n",
    "import copy\n",
    "import iMPS\n",
    "from scipy.sparse import linalg\n",
    "import funcs"
   ]
  },
  {
   "cell_type": "code",
   "execution_count": 2,
   "metadata": {},
   "outputs": [
    {
     "name": "stdout",
     "output_type": "stream",
     "text": [
      "initial MPS\n",
      "[[[0.53224105 0.63692801 0.13807297 0.79297795]]]\n",
      "finial MPS\n",
      "[[[6.14421235e-06-4.84142609e-23j 0.00000000e+00+0.00000000e+00j\n",
      "   0.00000000e+00+0.00000000e+00j 1.00000000e+00-7.87960019e-18j]]]\n"
     ]
    }
   ],
   "source": [
    "eigs1=[]\n",
    "X = np.array([[0,1],[1,0]])\n",
    "B = np.zeros([1,1,4])\n",
    "B[0,0] =(np.random.rand(2,2)).reshape([4,])\n",
    "#B[0,0] =(np.array([1,0,0,0])).reshape([4,])\n",
    "\n",
    "print(\"initial MPS\")\n",
    "print(B)\n",
    "h1 = 6\n",
    "h2 = 0\n",
    "trans = funcs.single_trans(h1=h1,h2=h2)\n",
    "\n",
    "MPS = iMPS.iMPS()\n",
    "MPS.construct_from_tensor_list([B])\n",
    "\n",
    "        \n",
    "MPO = iMPS.iMPO()\n",
    "MPO.construct_from_tensor_list([trans])\n",
    "MPS_power = iMPS.MPS_power_method(MPS,MPO,20)\n",
    "MPS_power.update(0,200)\n",
    "print(\"finial MPS\")\n",
    "print(MPS.B[0])"
   ]
  },
  {
   "cell_type": "code",
   "execution_count": 3,
   "metadata": {},
   "outputs": [
    {
     "name": "stdout",
     "output_type": "stream",
     "text": [
      "initial MPS\n",
      "[[[0.21132267 0.82638938 0.80806216 0.93368752]]]\n",
      "finial MPS\n",
      "[[[0.5-1.66319219e-23j 0.5+5.76454948e-24j 0.5+5.76454948e-24j\n",
      "   0.5-1.66319219e-23j]]]\n"
     ]
    }
   ],
   "source": [
    "eigs1=[]\n",
    "X = np.array([[0,1],[1,0]])\n",
    "B = np.zeros([1,1,4])\n",
    "B[0,0] =(np.random.rand(2,2)).reshape([4,])\n",
    "#B[0,0] =(np.array([1,0,0,0])).reshape([4,])\n",
    "\n",
    "print(\"initial MPS\")\n",
    "print(B)\n",
    "h1 = 0\n",
    "h2 = 6\n",
    "trans = funcs.single_trans(h1=h1,h2=h2)\n",
    "\n",
    "MPS = iMPS.iMPS()\n",
    "MPS.construct_from_tensor_list([B])\n",
    "\n",
    "        \n",
    "MPO = iMPS.iMPO()\n",
    "MPO.construct_from_tensor_list([trans])\n",
    "MPS_power = iMPS.MPS_power_method(MPS,MPO,20)\n",
    "MPS_power.update(0,200)\n",
    "print(\"finial MPS\")\n",
    "print(MPS.B[0])"
   ]
  },
  {
   "attachments": {},
   "cell_type": "markdown",
   "metadata": {},
   "source": [
    "$h_z \\neq 0, h_x = 0$"
   ]
  },
  {
   "cell_type": "code",
   "execution_count": 4,
   "metadata": {},
   "outputs": [],
   "source": [
    "eigs=[]\n",
    "lam1s=[]\n",
    "lam2s=[]\n",
    "lam3s=[]\n",
    "lam4s=[]\n",
    "dims=[]\n",
    "X = np.array([[0,1],[1,0]])\n",
    "Z = np.array([[1,0],[0,-1]])\n",
    "for h in np.arange(0.,1,0.01):   \n",
    "    \n",
    "    h1 = h\n",
    "    h2 = 0\n",
    "    \n",
    "    B = np.zeros([1,1,4])\n",
    "    B[0,0] =(linalg.expm(h*Z)).reshape([4,])\n",
    "    #B[0,0] =(np.array([[0,0],[0,1]])).reshape([4,])\n",
    "    #B[0,0] =(np.random.rand(2,2)).reshape([4,])\n",
    "    MPS = iMPS.iMPS()\n",
    "    MPS.construct_from_tensor_list([B])\n",
    "    MPS.svd_threshold =1e-10\n",
    "        \n",
    "\n",
    "    trans = funcs.single_trans(h1=h1,h2=h2,u1=\"I\",u2=\"I\")\n",
    "    \n",
    "    MPO = iMPS.iMPO()\n",
    "    MPO.construct_from_tensor_list([trans])\n",
    "    MPS_power = iMPS.MPS_power_method(MPS,MPO,30)\n",
    "    MPS_power.update(0,400)\n",
    "    #print(MPS.chi[0])\n",
    "    eigs.append(MPS_power.E_history[-1])\n",
    "\n",
    "\n",
    "    \n",
    "    T1 = funcs.single_T(h1,h2)\n",
    "    MPO3 = iMPS.iMPO()\n",
    "    MPO3.construct_from_tensor_list([T1])\n",
    "    \n",
    "    \n",
    "    strap1 = iMPS.strap(MPS,MPO3,MPS)\n",
    "    lam1= strap1.calculate_eig()\n",
    "    \n",
    "    T2 = funcs.single_T(h1,h2,\"I\",\"X\")\n",
    "    MPO4 = iMPS.iMPO()\n",
    "    MPO4.construct_from_tensor_list([T2])\n",
    "    \n",
    "    \n",
    "    strap2 = iMPS.strap(MPS,MPO4,MPS)\n",
    "    lam2 = strap2.calculate_eig()\n",
    "    \n",
    "    \n",
    "    T3 = funcs.single_T(h1,h2,\"X\",\"I\")\n",
    "    MPO4 = iMPS.iMPO()\n",
    "    MPO4.construct_from_tensor_list([T3])\n",
    "    \n",
    "    \n",
    "    strap3 = iMPS.strap(MPS,MPO4,MPS)\n",
    "    lam3 = strap3.calculate_eig()\n",
    "    \n",
    "    T3 = funcs.single_T(h1,h2,\"X\",\"X\")\n",
    "    MPO4 = iMPS.iMPO()\n",
    "    MPO4.construct_from_tensor_list([T3])\n",
    "    \n",
    "    \n",
    "    strap4 = iMPS.strap(MPS,MPO4,MPS)\n",
    "    lam4 = strap4.calculate_eig()\n",
    "    \n",
    "    dims.append(MPS.chi[0])\n",
    "   \n",
    "    lam1s.append(lam1)\n",
    "    lam2s.append(lam2)\n",
    "    lam3s.append(lam3)\n",
    "    lam4s.append(lam4)"
   ]
  },
  {
   "cell_type": "code",
   "execution_count": 5,
   "metadata": {},
   "outputs": [],
   "source": [
    "lam1s = np.real(lam1s)\n",
    "lam2s = np.real(lam2s)\n",
    "lam3s = np.real(lam3s)\n",
    "lam4s = np.real(lam4s)"
   ]
  },
  {
   "cell_type": "code",
   "execution_count": 6,
   "metadata": {},
   "outputs": [
    {
     "data": {
      "text/plain": [
       "[<matplotlib.lines.Line2D at 0x7fa923ead670>]"
      ]
     },
     "execution_count": 6,
     "metadata": {},
     "output_type": "execute_result"
    },
    {
     "data": {
      "image/png": "[encoded data removed]",
      "text/plain": [
       "<Figure size 432x288 with 1 Axes>"
      ]
     },
     "metadata": {
      "needs_background": "light"
     },
     "output_type": "display_data"
    }
   ],
   "source": [
    "L=5\n",
    "pyplot.plot([0.5*np.log(np.sqrt(2)+1)]*2,[0,1])\n",
    "pyplot.plot(np.arange(0,1,0.01),(lam1s**L+lam2s**L-lam3s**L-lam4s**L)/(lam1s**L+lam2s**L+lam3s**L+lam4s**L),'.-')\n"
   ]
  },
  {
   "cell_type": "code",
   "execution_count": 7,
   "metadata": {},
   "outputs": [
    {
     "data": {
      "text/plain": [
       "[<matplotlib.lines.Line2D at 0x7fa920ae05e0>]"
      ]
     },
     "execution_count": 7,
     "metadata": {},
     "output_type": "execute_result"
    },
    {
     "data": {
      "image/png": "[encoded data removed]",
      "text/plain": [
       "<Figure size 432x288 with 1 Axes>"
      ]
     },
     "metadata": {
      "needs_background": "light"
     },
     "output_type": "display_data"
    }
   ],
   "source": [
    "pyplot.plot([0.5*np.log(np.sqrt(2)+1)]*2,[0.5,2])\n",
    "pyplot.plot(np.arange(0.,1,0.01),lam1s)\n",
    "#pyplot.plot(np.arange(0.4,0.5,0.002),lam2s)\n",
    "#pyplot.plot(np.arange(0.4,0.5,0.002),lam3s)\n",
    "pyplot.plot(np.arange(0.,1,0.01),lam2s)\n",
    "pyplot.plot(np.arange(0.,1,0.01),lam3s)\n",
    "#pyplot.plot(np.arange(0.4,0.5,0.002),lam2s)\n",
    "#pyplot.plot(np.arange(0.4,0.5,0.002),lam3s)\n",
    "pyplot.plot(np.arange(0.,1,0.01),lam4s)"
   ]
  },
  {
   "cell_type": "code",
   "execution_count": 8,
   "metadata": {},
   "outputs": [
    {
     "data": {
      "text/plain": [
       "Text(0, 0.5, '$\\\\chi$')"
      ]
     },
     "execution_count": 8,
     "metadata": {},
     "output_type": "execute_result"
    },
    {
     "data": {
      "image/png": "[encoded data removed]",
      "text/plain": [
       "<Figure size 432x288 with 1 Axes>"
      ]
     },
     "metadata": {
      "needs_background": "light"
     },
     "output_type": "display_data"
    }
   ],
   "source": [
    "pyplot.plot([0.5*np.log(np.sqrt(2)+1)]*2,[0,40])\n",
    "pyplot.plot(np.arange(0,1,0.01),dims,'.-')\n",
    "pyplot.xlabel('$h_z$')\n",
    "pyplot.ylabel('$\\chi$')"
   ]
  },
  {
   "attachments": {},
   "cell_type": "markdown",
   "metadata": {},
   "source": [
    "$h_z = 0, h_x \\neq 0$"
   ]
  },
  {
   "cell_type": "code",
   "execution_count": 9,
   "metadata": {},
   "outputs": [],
   "source": [
    "eigs=[]\n",
    "lam1s=[]\n",
    "lam2s=[]\n",
    "lam3s=[]\n",
    "lam4s=[]\n",
    "dims=[]\n",
    "X = np.array([[0,1],[1,0]])\n",
    "Z = np.array([[1,0],[0,-1]])\n",
    "for h in np.arange(0.,1,0.01):   \n",
    "    \n",
    "    h1 = 0\n",
    "    h2 = h\n",
    "    \n",
    "    B = np.zeros([1,1,4])\n",
    "    B[0,0] =(linalg.expm(h*Z)).reshape([4,])\n",
    "    #B[0,0] =(np.array([[0,0],[0,1]])).reshape([4,])\n",
    "    #B[0,0] =(np.random.rand(2,2)).reshape([4,])\n",
    "    MPS = iMPS.iMPS()\n",
    "    MPS.construct_from_tensor_list([B])\n",
    "    MPS.svd_threshold =1e-10\n",
    "        \n",
    "\n",
    "    trans = funcs.single_trans(h1=h1,h2=h2,u1=\"I\",u2=\"I\")\n",
    "    \n",
    "    MPO = iMPS.iMPO()\n",
    "    MPO.construct_from_tensor_list([trans])\n",
    "    MPS_power = iMPS.MPS_power_method(MPS,MPO,30)\n",
    "    MPS_power.update(0,400)\n",
    "    #print(MPS.chi[0])\n",
    "    eigs.append(MPS_power.E_history[-1])\n",
    "\n",
    "\n",
    "    \n",
    "    T1 = funcs.single_T(h1,h2)\n",
    "    MPO3 = iMPS.iMPO()\n",
    "    MPO3.construct_from_tensor_list([T1])\n",
    "    \n",
    "    \n",
    "    strap1 = iMPS.strap(MPS,MPO3,MPS)\n",
    "    lam1= strap1.calculate_eig()\n",
    "    \n",
    "    T2 = funcs.single_T(h1,h2,\"I\",\"X\")\n",
    "    MPO4 = iMPS.iMPO()\n",
    "    MPO4.construct_from_tensor_list([T2])\n",
    "    \n",
    "    \n",
    "    strap2 = iMPS.strap(MPS,MPO4,MPS)\n",
    "    lam2 = strap2.calculate_eig()\n",
    "    \n",
    "    \n",
    "    T3 = funcs.single_T(h1,h2,\"X\",\"I\")\n",
    "    MPO4 = iMPS.iMPO()\n",
    "    MPO4.construct_from_tensor_list([T3])\n",
    "    \n",
    "    \n",
    "    strap3 = iMPS.strap(MPS,MPO4,MPS)\n",
    "    lam3 = strap3.calculate_eig()\n",
    "    \n",
    "    T3 = funcs.single_T(h1,h2,\"X\",\"X\")\n",
    "    MPO4 = iMPS.iMPO()\n",
    "    MPO4.construct_from_tensor_list([T3])\n",
    "    \n",
    "    \n",
    "    strap4 = iMPS.strap(MPS,MPO4,MPS)\n",
    "    lam4 = strap4.calculate_eig()\n",
    "    \n",
    "    dims.append(MPS.chi[0])\n",
    "   \n",
    "    lam1s.append(lam1)\n",
    "    lam2s.append(lam2)\n",
    "    lam3s.append(lam3)\n",
    "    lam4s.append(lam4)\n",
    "    \n",
    "lam1s = np.real(lam1s)\n",
    "lam2s = np.real(lam2s)\n",
    "lam3s = np.real(lam3s)\n",
    "lam4s = np.real(lam4s)"
   ]
  },
  {
   "cell_type": "code",
   "execution_count": 10,
   "metadata": {},
   "outputs": [
    {
     "data": {
      "text/plain": [
       "[<matplotlib.lines.Line2D at 0x7fa925c15a60>]"
      ]
     },
     "execution_count": 10,
     "metadata": {},
     "output_type": "execute_result"
    },
    {
     "data": {
      "image/png": "[encoded data removed]",
      "text/plain": [
       "<Figure size 432x288 with 1 Axes>"
      ]
     },
     "metadata": {
      "needs_background": "light"
     },
     "output_type": "display_data"
    }
   ],
   "source": [
    "L=5\n",
    "pyplot.plot([0.5*np.log(np.sqrt(2)+1)]*2,[0,1])\n",
    "pyplot.plot(np.arange(0,1,0.01),(lam1s**L+lam2s**L-lam3s**L-lam4s**L)/(lam1s**L+lam2s**L+lam3s**L+lam4s**L),'.-')\n"
   ]
  },
  {
   "cell_type": "code",
   "execution_count": 11,
   "metadata": {},
   "outputs": [
    {
     "data": {
      "text/plain": [
       "[<matplotlib.lines.Line2D at 0x7fa925e39040>]"
      ]
     },
     "execution_count": 11,
     "metadata": {},
     "output_type": "execute_result"
    },
    {
     "data": {
      "image/png": "[encoded data removed]",
      "text/plain": [
       "<Figure size 432x288 with 1 Axes>"
      ]
     },
     "metadata": {
      "needs_background": "light"
     },
     "output_type": "display_data"
    }
   ],
   "source": [
    "L=5\n",
    "pyplot.plot([0.5*np.log(np.sqrt(2)+1)]*2,[0,1])\n",
    "pyplot.plot(np.arange(0,1,0.01),(lam1s**L-lam2s**L-lam3s**L+lam4s**L)/(lam1s**L+lam2s**L+lam3s**L+lam4s**L),'.-')\n"
   ]
  },
  {
   "cell_type": "code",
   "execution_count": 12,
   "metadata": {},
   "outputs": [
    {
     "data": {
      "text/plain": [
       "[<matplotlib.lines.Line2D at 0x7fa925f4b490>]"
      ]
     },
     "execution_count": 12,
     "metadata": {},
     "output_type": "execute_result"
    },
    {
     "data": {
      "image/png": "[encoded data removed]",
      "text/plain": [
       "<Figure size 432x288 with 1 Axes>"
      ]
     },
     "metadata": {
      "needs_background": "light"
     },
     "output_type": "display_data"
    }
   ],
   "source": [
    "pyplot.plot([0.5*np.log(np.sqrt(2)+1)]*2,[0.5,2])\n",
    "pyplot.plot(np.arange(0.,1,0.01),lam1s)\n",
    "#pyplot.plot(np.arange(0.4,0.5,0.002),lam2s)\n",
    "#pyplot.plot(np.arange(0.4,0.5,0.002),lam3s)\n",
    "pyplot.plot(np.arange(0.,1,0.01),lam2s)\n",
    "pyplot.plot(np.arange(0.,1,0.01),lam3s)\n",
    "#pyplot.plot(np.arange(0.4,0.5,0.002),lam2s)\n",
    "#pyplot.plot(np.arange(0.4,0.5,0.002),lam3s)\n",
    "pyplot.plot(np.arange(0.,1,0.01),lam4s)"
   ]
  },
  {
   "cell_type": "code",
   "execution_count": 13,
   "metadata": {},
   "outputs": [
    {
     "data": {
      "text/plain": [
       "Text(0, 0.5, '$\\\\chi$')"
      ]
     },
     "execution_count": 13,
     "metadata": {},
     "output_type": "execute_result"
    },
    {
     "data": {
      "image/png": "[encoded data removed]",
      "text/plain": [
       "<Figure size 432x288 with 1 Axes>"
      ]
     },
     "metadata": {
      "needs_background": "light"
     },
     "output_type": "display_data"
    }
   ],
   "source": [
    "pyplot.plot([0.5*np.log(np.sqrt(2)+1)]*2,[0,40])\n",
    "pyplot.plot(np.arange(0,1,0.01),dims,'.-')\n",
    "pyplot.xlabel('$h_x$')\n",
    "pyplot.ylabel('$\\chi$')"
   ]
  },
  {
   "attachments": {},
   "cell_type": "markdown",
   "metadata": {},
   "source": [
    "$h_z \\neq 0, h_x\\neq 0$"
   ]
  },
  {
   "cell_type": "code",
   "execution_count": 14,
   "metadata": {},
   "outputs": [],
   "source": [
    "eigs=[]\n",
    "lam1s=[]\n",
    "lam2s=[]\n",
    "lam3s=[]\n",
    "lam4s=[]\n",
    "dims=[]\n",
    "X = np.array([[0,1],[1,0]])\n",
    "Z = np.array([[1,0],[0,-1]])\n",
    "for h in np.arange(0.,1,0.01):   \n",
    "    \n",
    "    h1 = h\n",
    "    h2 = 0.4\n",
    "    \n",
    "    B = np.zeros([1,1,4])\n",
    "    B[0,0] =(linalg.expm(h*Z)).reshape([4,])\n",
    "    #B[0,0] =(np.array([[0,0],[0,1]])).reshape([4,])\n",
    "    #B[0,0] =(np.random.rand(2,2)).reshape([4,])\n",
    "    MPS = iMPS.iMPS()\n",
    "    MPS.construct_from_tensor_list([B])\n",
    "    MPS.svd_threshold =1e-10\n",
    "        \n",
    "\n",
    "    trans = funcs.single_trans(h1=h1,h2=h2,u1=\"I\",u2=\"I\")\n",
    "    \n",
    "    MPO = iMPS.iMPO()\n",
    "    MPO.construct_from_tensor_list([trans])\n",
    "    MPS_power = iMPS.MPS_power_method(MPS,MPO,30)\n",
    "    MPS_power.update(0,400)\n",
    "    #print(MPS.chi[0])\n",
    "    eigs.append(MPS_power.E_history[-1])\n",
    "\n",
    "\n",
    "    \n",
    "    T1 = funcs.single_T(h1,h2)\n",
    "    MPO3 = iMPS.iMPO()\n",
    "    MPO3.construct_from_tensor_list([T1])\n",
    "    \n",
    "    \n",
    "    strap1 = iMPS.strap(MPS,MPO3,MPS)\n",
    "    lam1= strap1.calculate_eig()\n",
    "    \n",
    "    T2 = funcs.single_T(h1,h2,\"I\",\"X\")\n",
    "    MPO4 = iMPS.iMPO()\n",
    "    MPO4.construct_from_tensor_list([T2])\n",
    "    \n",
    "    \n",
    "    strap2 = iMPS.strap(MPS,MPO4,MPS)\n",
    "    lam2 = strap2.calculate_eig()\n",
    "    \n",
    "    \n",
    "    T3 = funcs.single_T(h1,h2,\"X\",\"I\")\n",
    "    MPO4 = iMPS.iMPO()\n",
    "    MPO4.construct_from_tensor_list([T3])\n",
    "    \n",
    "    \n",
    "    strap3 = iMPS.strap(MPS,MPO4,MPS)\n",
    "    lam3 = strap3.calculate_eig()\n",
    "    \n",
    "    T3 = funcs.single_T(h1,h2,\"X\",\"X\")\n",
    "    MPO4 = iMPS.iMPO()\n",
    "    MPO4.construct_from_tensor_list([T3])\n",
    "    \n",
    "    \n",
    "    strap4 = iMPS.strap(MPS,MPO4,MPS)\n",
    "    lam4 = strap4.calculate_eig()\n",
    "    \n",
    "    dims.append(MPS.chi[0])\n",
    "   \n",
    "    lam1s.append(lam1)\n",
    "    lam2s.append(lam2)\n",
    "    lam3s.append(lam3)\n",
    "    lam4s.append(lam4)\n",
    "    \n",
    "lam1s = np.real(lam1s)\n",
    "lam2s = np.real(lam2s)\n",
    "lam3s = np.real(lam3s)\n",
    "lam4s = np.real(lam4s)"
   ]
  },
  {
   "cell_type": "code",
   "execution_count": 15,
   "metadata": {},
   "outputs": [
    {
     "data": {
      "text/plain": [
       "[<matplotlib.lines.Line2D at 0x7fa925cf8a00>]"
      ]
     },
     "execution_count": 15,
     "metadata": {},
     "output_type": "execute_result"
    },
    {
     "data": {
      "image/png": "[encoded data removed]",
      "text/plain": [
       "<Figure size 432x288 with 1 Axes>"
      ]
     },
     "metadata": {
      "needs_background": "light"
     },
     "output_type": "display_data"
    }
   ],
   "source": [
    "L=5\n",
    "pyplot.plot([0.5*np.log(np.sqrt(2)+1)]*2,[0,1])\n",
    "pyplot.plot(np.arange(0,1,0.01),(lam1s**L+lam2s**L-lam3s**L-lam4s**L)/(lam1s**L+lam2s**L+lam3s**L+lam4s**L),'.-')\n"
   ]
  },
  {
   "cell_type": "code",
   "execution_count": 19,
   "metadata": {},
   "outputs": [
    {
     "data": {
      "text/plain": [
       "[<matplotlib.lines.Line2D at 0x7fa928021bb0>]"
      ]
     },
     "execution_count": 19,
     "metadata": {},
     "output_type": "execute_result"
    },
    {
     "data": {
      "image/png": "[encoded data removed]",
      "text/plain": [
       "<Figure size 432x288 with 1 Axes>"
      ]
     },
     "metadata": {
      "needs_background": "light"
     },
     "output_type": "display_data"
    }
   ],
   "source": [
    "L=5\n",
    "pyplot.plot([0.5*np.log(np.sqrt(2)+1)]*2,[0.3,1])\n",
    "pyplot.plot(np.arange(0,1,0.01),(lam1s**L-lam2s**L-lam3s**L+lam4s**L)/(lam1s**L+lam2s**L+lam3s**L+lam4s**L),'.-')\n"
   ]
  },
  {
   "cell_type": "code",
   "execution_count": 17,
   "metadata": {},
   "outputs": [
    {
     "data": {
      "text/plain": [
       "[<matplotlib.lines.Line2D at 0x7fa924eb7a30>]"
      ]
     },
     "execution_count": 17,
     "metadata": {},
     "output_type": "execute_result"
    },
    {
     "data": {
      "image/png": "[encoded data removed]",
      "text/plain": [
       "<Figure size 432x288 with 1 Axes>"
      ]
     },
     "metadata": {
      "needs_background": "light"
     },
     "output_type": "display_data"
    }
   ],
   "source": [
    "pyplot.plot([0.5*np.log(np.sqrt(2)+1)]*2,[0.5,2])\n",
    "pyplot.plot(np.arange(0.,1,0.01),lam1s)\n",
    "#pyplot.plot(np.arange(0.4,0.5,0.002),lam2s)\n",
    "#pyplot.plot(np.arange(0.4,0.5,0.002),lam3s)\n",
    "pyplot.plot(np.arange(0.,1,0.01),lam2s)\n",
    "pyplot.plot(np.arange(0.,1,0.01),lam3s)\n",
    "#pyplot.plot(np.arange(0.4,0.5,0.002),lam2s)\n",
    "#pyplot.plot(np.arange(0.4,0.5,0.002),lam3s)\n",
    "pyplot.plot(np.arange(0.,1,0.01),lam4s)"
   ]
  },
  {
   "cell_type": "code",
   "execution_count": 18,
   "metadata": {},
   "outputs": [
    {
     "data": {
      "text/plain": [
       "Text(0, 0.5, '$\\\\chi$')"
      ]
     },
     "execution_count": 18,
     "metadata": {},
     "output_type": "execute_result"
    },
    {
     "data": {
      "image/png": "[encoded data removed]",
      "text/plain": [
       "<Figure size 432x288 with 1 Axes>"
      ]
     },
     "metadata": {
      "needs_background": "light"
     },
     "output_type": "display_data"
    }
   ],
   "source": [
    "pyplot.plot([0.5*np.log(np.sqrt(2)+1)]*2,[0,60])\n",
    "pyplot.plot(np.arange(0,1,0.01),dims,'.-')\n",
    "pyplot.xlabel('$h_x$')\n",
    "pyplot.ylabel('$\\chi$')"
   ]
  },
  {
   "cell_type": "code",
   "execution_count": null,
   "metadata": {},
   "outputs": [],
   "source": []
  }
 ],
 "metadata": {
  "kernelspec": {
   "display_name": "base",
   "language": "python",
   "name": "python3"
  },
  "language_info": {
   "codemirror_mode": {
    "name": "ipython",
    "version": 3
   },
   "file_extension": ".py",
   "mimetype": "text/x-python",
   "name": "python",
   "nbconvert_exporter": "python",
   "pygments_lexer": "ipython3",
   "version": "3.9.7"
  },
  "orig_nbformat": 4,
  "vscode": {
   "interpreter": {
    "hash": "a477bac5059954408e464007e59c6ff8c80bc3de84912130ad7e386887dbf516"
   }
  }
 },
 "nbformat": 4,
 "nbformat_minor": 2
}
